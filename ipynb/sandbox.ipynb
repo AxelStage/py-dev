{
 "cells": [
  {
   "cell_type": "markdown",
   "metadata": {},
   "source": [
    "## Circle class\n",
    "Circumferance = pi * 2 * radius  \n",
    "Area = pi * radius**2"
   ]
  },
  {
   "cell_type": "code",
   "execution_count": 45,
   "metadata": {},
   "outputs": [],
   "source": [
    "import math\n",
    "\n",
    "class Circle:\n",
    "\n",
    "    PI = math.pi\n",
    "    DIGITS = 2\n",
    "\n",
    "    num_instances = 0\n",
    "\n",
    "    def __init__(self, radius):\n",
    "        self.radius = radius\n",
    "        type(self).num_instances += 1\n",
    "\n",
    "    def calculate_circumferance(self):\n",
    "        result = self.PI * 2 * self.radius\n",
    "        return round(result, Circle.DIGITS)\n",
    "\n",
    "    def calculate_area(self):\n",
    "        result = self.PI * self.radius**2\n",
    "        return round(result, self.DIGITS)"
   ]
  },
  {
   "cell_type": "code",
   "execution_count": 46,
   "metadata": {},
   "outputs": [
    {
     "name": "stdout",
     "output_type": "stream",
     "text": [
      "18.85\n",
      "28.27\n"
     ]
    }
   ],
   "source": [
    "circle_1 = Circle(3)\n",
    "print(circle_1.calculate_circumferance())\n",
    "print(circle_1.calculate_area())"
   ]
  },
  {
   "cell_type": "code",
   "execution_count": 47,
   "metadata": {},
   "outputs": [
    {
     "name": "stdout",
     "output_type": "stream",
     "text": [
      "62.8319\n",
      "314.1593\n"
     ]
    }
   ],
   "source": [
    "Circle.DIGITS = 4\n",
    "circle_2 = Circle(10)\n",
    "print(circle_2.calculate_circumferance())\n",
    "print(circle_2.calculate_area())"
   ]
  },
  {
   "cell_type": "code",
   "execution_count": 5,
   "metadata": {},
   "outputs": [
    {
     "data": {
      "text/plain": [
       "['DIGITS', 'PI', 'area', 'circumferance']"
      ]
     },
     "execution_count": 5,
     "metadata": {},
     "output_type": "execute_result"
    }
   ],
   "source": [
    "[ attribute for attribute in dir(Circle) if not attribute.startswith(\"__\") ]"
   ]
  },
  {
   "cell_type": "code",
   "execution_count": 7,
   "metadata": {},
   "outputs": [
    {
     "data": {
      "text/plain": [
       "mappingproxy({'__module__': '__main__',\n",
       "              'PI': 3.141592653589793,\n",
       "              'DIGITS': 1,\n",
       "              '__init__': <function __main__.Circle.__init__(self, radius)>,\n",
       "              'circumferance': <function __main__.Circle.circumferance(self)>,\n",
       "              'area': <function __main__.Circle.area(self)>,\n",
       "              '__dict__': <attribute '__dict__' of 'Circle' objects>,\n",
       "              '__weakref__': <attribute '__weakref__' of 'Circle' objects>,\n",
       "              '__doc__': None})"
      ]
     },
     "execution_count": 7,
     "metadata": {},
     "output_type": "execute_result"
    }
   ],
   "source": [
    "vars(Circle)"
   ]
  },
  {
   "cell_type": "code",
   "execution_count": 8,
   "metadata": {},
   "outputs": [
    {
     "data": {
      "text/plain": [
       "mappingproxy({'__module__': '__main__',\n",
       "              'PI': 3.141592653589793,\n",
       "              'DIGITS': 1,\n",
       "              '__init__': <function __main__.Circle.__init__(self, radius)>,\n",
       "              'circumferance': <function __main__.Circle.circumferance(self)>,\n",
       "              'area': <function __main__.Circle.area(self)>,\n",
       "              '__dict__': <attribute '__dict__' of 'Circle' objects>,\n",
       "              '__weakref__': <attribute '__weakref__' of 'Circle' objects>,\n",
       "              '__doc__': None})"
      ]
     },
     "execution_count": 8,
     "metadata": {},
     "output_type": "execute_result"
    }
   ],
   "source": [
    "Circle.__dict__"
   ]
  },
  {
   "cell_type": "code",
   "execution_count": 34,
   "metadata": {},
   "outputs": [
    {
     "data": {
      "text/plain": [
       "{'radius': 3}"
      ]
     },
     "execution_count": 34,
     "metadata": {},
     "output_type": "execute_result"
    }
   ],
   "source": [
    "circle_1.__dict__"
   ]
  },
  {
   "cell_type": "markdown",
   "metadata": {},
   "source": [
    "Empty Class"
   ]
  },
  {
   "cell_type": "code",
   "execution_count": 51,
   "metadata": {},
   "outputs": [],
   "source": [
    "class Record:\n",
    "    ...\n",
    "\n",
    "john = {\n",
    "    \"name\": \"John Doe\",\n",
    "    \"position\": \"Python Developer\",\n",
    "    \"department\": \"Engineering\",\n",
    "    \"salary\": 80000,\n",
    "    \"hire_date\": \"2020-01-01\",\n",
    "    \"is_manager\": False,\n",
    "}"
   ]
  },
  {
   "cell_type": "code",
   "execution_count": 52,
   "metadata": {},
   "outputs": [],
   "source": [
    "john_record = Record()\n",
    "for key, value in john.items():\n",
    "    setattr(john_record, key, value)"
   ]
  },
  {
   "cell_type": "code",
   "execution_count": 56,
   "metadata": {},
   "outputs": [
    {
     "data": {
      "text/plain": [
       "('John Doe', 80000)"
      ]
     },
     "execution_count": 56,
     "metadata": {},
     "output_type": "execute_result"
    }
   ],
   "source": [
    "john_record.name, john_record.salary"
   ]
  },
  {
   "cell_type": "code",
   "execution_count": 74,
   "metadata": {},
   "outputs": [],
   "source": [
    "import math\n",
    "\n",
    "class Circle:\n",
    "\n",
    "    PI = math.pi\n",
    "    DIGITS = 2\n",
    "\n",
    "    num_instances = 0\n",
    "\n",
    "    def __init__(self, radius):\n",
    "        self.radius = radius\n",
    "        type(self).num_instances += 1\n",
    "\n",
    "    # use the @property decorator to write the getter method\n",
    "    # getter method must return the value of the attribute.\n",
    "    @property\n",
    "    def radius(self):\n",
    "        return self._radius\n",
    "\n",
    "    @radius.setter\n",
    "    def radius(self, value):\n",
    "        if not isinstance(value, int | float) or value <= 0:\n",
    "            raise ValueError(\"positive number expected\")\n",
    "        self._radius = value\n",
    "\n",
    "\n",
    "    def calculate_circumferance(self):\n",
    "        result = self.PI * 2 * self._radius\n",
    "        return round(result, self.DIGITS)\n",
    "\n",
    "    def calculate_area(self):\n",
    "        result = self.PI * self._radius**2\n",
    "        return round(result, self.DIGITS)"
   ]
  },
  {
   "cell_type": "code",
   "execution_count": 75,
   "metadata": {},
   "outputs": [
    {
     "data": {
      "text/plain": [
       "3.14"
      ]
     },
     "execution_count": 75,
     "metadata": {},
     "output_type": "execute_result"
    }
   ],
   "source": [
    "circle_3 = Circle(1)\n",
    "circle_3.calculate_area()"
   ]
  },
  {
   "cell_type": "code",
   "execution_count": 24,
   "metadata": {},
   "outputs": [],
   "source": [
    "class Car:\n",
    "    \"\"\"\n",
    "        Models a simple car\n",
    "    \"\"\"\n",
    "\n",
    "    def __init__(self, make, model, year, color):\n",
    "        \"\"\"\n",
    "            Initializer of the object\n",
    "        \"\"\"\n",
    "        self.make = make\n",
    "        self.model = model\n",
    "        self.year = year\n",
    "        self.color = color\n",
    "        self.started = False\n",
    "        self.speed = 0\n",
    "        self.max_speed = 200\n",
    "\n",
    "    def __str__(self):\n",
    "        \"\"\"\n",
    "            informal string representation of an object.\n",
    "            This method must return a string that represents the object in a user-friendly manner.\n",
    "        \"\"\"\n",
    "        return f\"{self.make}, {self.model}, {self.color}: ({self.year})\"\n",
    "\n",
    "    def __repr__(self):\n",
    "        \"\"\"\n",
    "            formal string representation of an object.\n",
    "            This string representation is intended to be useful for developers, useful to re-create the object\n",
    "        \"\"\"\n",
    "\n",
    "        return f'{type(self).__name__}(make=\"{self.make}\", model=\"{self.model}\", year={self.year}, color=\"{self.color}\")'\n",
    "\n",
    "    def start(self):\n",
    "        \"\"\"\n",
    "            Starts the car\n",
    "        \"\"\"\n",
    "        print(\"Starting the car...\")\n",
    "        self.started = True\n",
    "\n",
    "    def stop(self):\n",
    "        \"\"\"\n",
    "            Stops the car.\n",
    "        \"\"\"\n",
    "        if not self.speed:\n",
    "            print(\"Stopping the car...\")\n",
    "            self.started = False\n",
    "        else:\n",
    "            print(\"Park the car first\")\n",
    "\n",
    "    def accelerate(self, kmh):\n",
    "        \"\"\"\n",
    "            Accelerates the speed in km/h.\n",
    "        \"\"\"\n",
    "        if not self.started:\n",
    "            print(\"Car not started!\")\n",
    "            return None\n",
    "\n",
    "        self.speed += kmh\n",
    "\n",
    "        if self.speed > self.max_speed:\n",
    "            self.speed = self.max_speed\n",
    "\n",
    "        print(f\"Accelerating to {self.speed} km/h\")\n",
    "\n",
    "    def brake(self, kmh):\n",
    "        \"\"\"\n",
    "            Reduces the speed of the car in km/h.\n",
    "        \"\"\"\n",
    "        self.speed -= kmh\n",
    "\n",
    "        if self.speed < 0:\n",
    "            self.speed = 0\n",
    "\n",
    "        print(f\"Braking to {self.speed} km/h\")\n"
   ]
  },
  {
   "cell_type": "code",
   "execution_count": 29,
   "metadata": {},
   "outputs": [
    {
     "name": "stdout",
     "output_type": "stream",
     "text": [
      "Skoda, Fabia, yellow: (2010)\n"
     ]
    },
    {
     "data": {
      "text/plain": [
       "'Car(make=\"Skoda\", model=\"Fabia\", year=2010, color=\"yellow\")'"
      ]
     },
     "execution_count": 29,
     "metadata": {},
     "output_type": "execute_result"
    }
   ],
   "source": [
    "car = Car(\"Skoda\", \"Fabia\", \"2010\", \"yellow\")\n",
    "print(car)\n",
    "repr(car)"
   ]
  },
  {
   "cell_type": "code",
   "execution_count": null,
   "metadata": {},
   "outputs": [],
   "source": []
  },
  {
   "cell_type": "code",
   "execution_count": 10,
   "metadata": {},
   "outputs": [
    {
     "name": "stdout",
     "output_type": "stream",
     "text": [
      "Starting the car...\n",
      "Accelerating to 100 km/h\n",
      "Accelerating to 200 km/h\n",
      "Braking to 50 km/h\n",
      "Braking to 0 km/h\n",
      "Stopping the car...\n",
      "Car not started!\n"
     ]
    }
   ],
   "source": [
    "\n",
    "car.start()\n",
    "car.accelerate(100)\n",
    "car.accelerate(130)\n",
    "car.brake(150)\n",
    "car.brake(150)\n",
    "car.stop()\n",
    "car.accelerate(100)"
   ]
  },
  {
   "cell_type": "code",
   "execution_count": 22,
   "metadata": {},
   "outputs": [],
   "source": [
    "class TwoDimPoint:\n",
    "    \"\"\"\n",
    "        Models a two dimensional point\n",
    "    \"\"\"\n",
    "\n",
    "    # dunder method\n",
    "    def __init__(self, x, y):\n",
    "        self.x = x\n",
    "        self.y = y\n",
    "\n",
    "    def __str__(self):\n",
    "        return f\"x:{self.x}, y:{self.y}\"\n",
    "\n",
    "    def __repr__(self):\n",
    "        return f\"{type(self).__name__}(x={self.x}, y={self.y})\"\n",
    "\n",
    "    @classmethod\n",
    "    def from_sequence(cls, seq):\n",
    "        return cls(*seq)\n",
    "\n",
    "    @staticmethod\n",
    "    def show_intro_message(name):\n",
    "        print(f\"Hey {name}! This is the point!\")\n"
   ]
  },
  {
   "cell_type": "code",
   "execution_count": 33,
   "metadata": {},
   "outputs": [
    {
     "name": "stdout",
     "output_type": "stream",
     "text": [
      "x:3, y:5\n",
      "Hey Dude! This is the point!\n"
     ]
    }
   ],
   "source": [
    "point1 = TwoDimPoint(3,5)\n",
    "point2 = TwoDimPoint.from_sequence((1,2))\n",
    "print(point1)\n",
    "TwoDimPoint.show_intro_message(\"Dude\")"
   ]
  },
  {
   "cell_type": "code",
   "execution_count": 34,
   "metadata": {},
   "outputs": [],
   "source": [
    "class Vehicle:\n",
    "    def __init__(self, make, model, year):\n",
    "        self.make = make\n",
    "        self.model = model\n",
    "        self.year = year\n",
    "        self._started = False\n",
    "\n",
    "    def start(self):\n",
    "        print(\"Starting engine...\")\n",
    "        self._started = True\n",
    "\n",
    "    def stop(self):\n",
    "        print(\"Stopping engine...\")\n",
    "        self._started = False"
   ]
  },
  {
   "cell_type": "code",
   "execution_count": 37,
   "metadata": {},
   "outputs": [],
   "source": [
    "class Car(Vehicle):\n",
    "\n",
    "    def __init__(self, make, model, year, seats):\n",
    "        super().__init__(make, model, year)\n",
    "        self.seats = seats\n",
    "\n",
    "    def drive(self):\n",
    "        print(f'Driving my \"{self.make} - {self.model}\" on the road')\n",
    "\n",
    "    def __str__(self):\n",
    "        return f'\"{self.make} - {self.model}\" has {self.seats} seats'"
   ]
  },
  {
   "cell_type": "code",
   "execution_count": 45,
   "metadata": {},
   "outputs": [],
   "source": [
    "class Motorcycle(Vehicle):\n",
    "\n",
    "    def __init__(self, make, model, year, wheels):\n",
    "        super().__init__(make, model, year)\n",
    "        self.wheels = wheels\n",
    "\n",
    "    def ride(self):\n",
    "        print(f'Riding my \"{self.make} - {self.model}\" on the road')\n",
    "\n",
    "    def __str__(self):\n",
    "        return f'\"{self.make} - {self.model}\" has {self.wheels} wheels'"
   ]
  },
  {
   "cell_type": "code",
   "execution_count": 46,
   "metadata": {},
   "outputs": [
    {
     "name": "stdout",
     "output_type": "stream",
     "text": [
      "\"Tesla - Model S\" has 5 seats\n",
      "Start engine\n",
      "Driving my \"Tesla - Model S\" on the road\n",
      "Stop engine\n"
     ]
    }
   ],
   "source": [
    "tesla = Car(\"Tesla\", \"Model S\", 2022, 5)\n",
    "print(tesla)\n",
    "tesla.start()\n",
    "tesla.drive()\n",
    "tesla.stop()"
   ]
  },
  {
   "cell_type": "code",
   "execution_count": 47,
   "metadata": {},
   "outputs": [
    {
     "name": "stdout",
     "output_type": "stream",
     "text": [
      "\"Harley-Davidson - Iron 883\" has 2 wheels\n",
      "Start engine\n",
      "Riding my \"Harley-Davidson - Iron 883\" on the road\n",
      "Stop engine\n"
     ]
    }
   ],
   "source": [
    "harley = Motorcycle(\"Harley-Davidson\", \"Iron 883\", 2021, 2)\n",
    "print(harley)\n",
    "harley.start()\n",
    "harley.ride()\n",
    "harley.stop()"
   ]
  },
  {
   "cell_type": "code",
   "execution_count": 48,
   "metadata": {},
   "outputs": [],
   "source": [
    "class Animal:\n",
    "    def __init__(self, name, sex, habitat):\n",
    "        self.name = name\n",
    "        self.sex = sex\n",
    "        self.habitat = habitat\n",
    "\n",
    "class Mammal(Animal):\n",
    "    unique_feature = \"Mammary glands\"\n",
    "\n",
    "class Bird(Animal):\n",
    "    unique_feature = \"Feathers\"\n",
    "\n",
    "class Fish(Animal):\n",
    "    unique_feature = \"Gills\"\n",
    "\n",
    "class Dog(Mammal):\n",
    "    def walk(self):\n",
    "        print(\"The dog is walking\")\n",
    "\n",
    "class Cat(Mammal):\n",
    "    def walk(self):\n",
    "        print(\"The cat is walking\")\n",
    "\n",
    "class Eagle(Bird):\n",
    "    def fly(self):\n",
    "        print(\"The eagle is flying\")\n",
    "\n",
    "class Penguin(Bird):\n",
    "    def swim(self):\n",
    "        print(\"The penguin is swimming\")\n",
    "\n",
    "class Salmon(Fish):\n",
    "    def swim(self):\n",
    "        print(\"The salmon is swimming\")\n",
    "\n",
    "class Shark(Fish):\n",
    "    def swim(self):\n",
    "        print(\"The shark is swimming\")"
   ]
  },
  {
   "cell_type": "code",
   "execution_count": 3,
   "metadata": {},
   "outputs": [
    {
     "data": {
      "text/plain": [
       "range(1, 10, 2)"
      ]
     },
     "execution_count": 3,
     "metadata": {},
     "output_type": "execute_result"
    }
   ],
   "source": [
    "r = range(1,10,2)\n",
    "r"
   ]
  },
  {
   "cell_type": "code",
   "execution_count": 8,
   "metadata": {},
   "outputs": [
    {
     "data": {
      "text/plain": [
       "False"
      ]
     },
     "execution_count": 8,
     "metadata": {},
     "output_type": "execute_result"
    }
   ],
   "source": [
    "\"__next__\" in dir(r)"
   ]
  },
  {
   "cell_type": "code",
   "execution_count": 7,
   "metadata": {},
   "outputs": [
    {
     "data": {
      "text/plain": [
       "<range_iterator at 0x7fa3601a7060>"
      ]
     },
     "execution_count": 7,
     "metadata": {},
     "output_type": "execute_result"
    }
   ],
   "source": [
    "iter(r)"
   ]
  },
  {
   "cell_type": "code",
   "execution_count": 9,
   "metadata": {},
   "outputs": [
    {
     "name": "stdout",
     "output_type": "stream",
     "text": [
      "1\n",
      "3\n",
      "5\n",
      "7\n",
      "9\n"
     ]
    }
   ],
   "source": [
    "for item in r:\n",
    "    print(item)"
   ]
  },
  {
   "cell_type": "code",
   "execution_count": 26,
   "metadata": {},
   "outputs": [
    {
     "data": {
      "text/plain": [
       "[1, 3, 5, 7, 9]"
      ]
     },
     "execution_count": 26,
     "metadata": {},
     "output_type": "execute_result"
    }
   ],
   "source": [
    "list(r)"
   ]
  },
  {
   "cell_type": "code",
   "execution_count": 27,
   "metadata": {},
   "outputs": [
    {
     "data": {
      "text/plain": [
       "[1, 3, 5, 7, 9]"
      ]
     },
     "execution_count": 27,
     "metadata": {},
     "output_type": "execute_result"
    }
   ],
   "source": [
    "list(r)"
   ]
  },
  {
   "cell_type": "code",
   "execution_count": 21,
   "metadata": {},
   "outputs": [],
   "source": [
    "z = zip([1,2,3], \"abc\")"
   ]
  },
  {
   "cell_type": "code",
   "execution_count": 22,
   "metadata": {},
   "outputs": [
    {
     "data": {
      "text/plain": [
       "True"
      ]
     },
     "execution_count": 22,
     "metadata": {},
     "output_type": "execute_result"
    }
   ],
   "source": [
    "\"__iter__\" in dir(z)"
   ]
  },
  {
   "cell_type": "code",
   "execution_count": 23,
   "metadata": {},
   "outputs": [
    {
     "data": {
      "text/plain": [
       "True"
      ]
     },
     "execution_count": 23,
     "metadata": {},
     "output_type": "execute_result"
    }
   ],
   "source": [
    "\"__next__\" in dir(z)"
   ]
  },
  {
   "cell_type": "code",
   "execution_count": 24,
   "metadata": {},
   "outputs": [
    {
     "data": {
      "text/plain": [
       "[(1, 'a'), (2, 'b'), (3, 'c')]"
      ]
     },
     "execution_count": 24,
     "metadata": {},
     "output_type": "execute_result"
    }
   ],
   "source": [
    "list(z)"
   ]
  },
  {
   "cell_type": "code",
   "execution_count": 25,
   "metadata": {},
   "outputs": [
    {
     "data": {
      "text/plain": [
       "[]"
      ]
     },
     "execution_count": 25,
     "metadata": {},
     "output_type": "execute_result"
    }
   ],
   "source": [
    "list(z)"
   ]
  },
  {
   "cell_type": "code",
   "execution_count": 32,
   "metadata": {},
   "outputs": [
    {
     "name": "stdout",
     "output_type": "stream",
     "text": [
      "total_bill,tip,sex,smoker,day,time,size,price_per_person,Payer Name,CC Number,Payment ID\n",
      "\n",
      "16.99,1.01,Female,No,Sun,Dinner,2,8.49,Christy Cunningham,3560325168603410,Sun2959\n",
      "\n",
      "10.34,1.66,Male,No,Sun,Dinner,3,3.45,Douglas Tucker,4478071379779230,Sun4608\n",
      "\n"
     ]
    }
   ],
   "source": [
    "f = open(\"../ml/DATA/tips.csv\")\n",
    "print(next(f))\n",
    "print(f.__next__())\n",
    "print(f.readline())\n",
    "f.close()"
   ]
  },
  {
   "cell_type": "code",
   "execution_count": 34,
   "metadata": {},
   "outputs": [
    {
     "name": "stdout",
     "output_type": "stream",
     "text": [
      "True\n"
     ]
    }
   ],
   "source": [
    "with open(\"../ml/DATA/tips.csv\") as f:\n",
    "    print(iter(f) is f)"
   ]
  },
  {
   "cell_type": "code",
   "execution_count": 37,
   "metadata": {},
   "outputs": [
    {
     "data": {
      "text/plain": [
       "['total_bill,tip,sex,smoker,day,time,size,price_per_person,Payer Name,CC Number,Payment ID\\n',\n",
       " '16.99,1.01,Female,No,Sun,Dinner,2,8.49,Christy Cunningham,3560325168603410,Sun2959\\n',\n",
       " '10.34,1.66,Male,No,Sun,Dinner,3,3.45,Douglas Tucker,4478071379779230,Sun4608\\n',\n",
       " '21.01,3.5,Male,No,Sun,Dinner,3,7.0,Travis Walters,6011812112971322,Sun4458\\n']"
      ]
     },
     "execution_count": 37,
     "metadata": {},
     "output_type": "execute_result"
    }
   ],
   "source": [
    "with open(\"../ml/DATA/tips.csv\") as f:\n",
    "    l = f.readlines()\n",
    "l[:4]"
   ]
  },
  {
   "cell_type": "code",
   "execution_count": 45,
   "metadata": {},
   "outputs": [
    {
     "name": "stdout",
     "output_type": "stream",
     "text": [
      "{'Hardin', 'Andrews', 'Moody', 'Fisher', 'Oneal', 'Perkins', 'Boyd', 'Bradshaw', 'Boyer', 'Garcia', 'Newton', 'Cox', 'Abbott', 'Frederick', 'Williamson', 'Sexton', 'Riley', 'Martin', 'Ortiz', 'Gonzalez', 'Simon', 'Reilly', 'Osborne', 'Rodriguez', 'Dudley', 'Brown', 'Thomas', 'Reynolds', 'Gray', 'House', 'Lopez', 'Gardner', 'Taylor', 'Santiago', 'Edwards', 'Crane', 'Obrien', 'Grant', 'Mendoza', 'Ross', 'Hahn', 'Hawkins', 'Lane', 'Sanchez', 'Barnett', 'Douglas', 'Dixon', 'Mason', 'Burgess', 'Murphy', 'Ibarra', 'Orr', 'Owens', 'Hayes', 'Castillo', 'Goodman', 'Blake', 'Barrett', 'Walters', 'Ramirez', 'Joyce', 'Meyer', 'Tucker', 'Cook', 'Lewis', 'Hamilton', 'Zhang', 'Barber', 'Herrera', 'Patterson', 'Fitzgerald', 'Horn', 'Brock', 'Lawson', 'Neal', 'Francis', 'Nguyen', 'Pittman', 'Stone', 'Mcdonald', 'Vaughn', 'Torres', 'Lawrence', 'Hebert', 'Price', 'Hart', 'Reyes', 'Hernandez', 'Avery', 'Bradley', 'Lang', 'Shelton', 'Shaw', 'Carter', 'Andersen', 'Li', 'Guerrero', 'Hall', 'Perez', 'Rivera', 'Travis', 'Mullen', 'Weiss', 'Estrada', 'Colon', 'Johnson', 'Buck', 'Owen', 'Gonzales', 'Hill', 'Davis', 'Cunningham', 'Brooks', 'Bentley', 'Miles', 'Young', 'Robbins', 'Harris', 'Wolf', 'Jordan', 'Stewart', 'Mclean', 'Wiggins', 'Burke', 'Harrington', 'Myers', 'Carlson', 'Rios', 'Caroline', 'Daniel', 'Parsons', 'Roth', 'Morris', 'Barnes', 'Sullivan', 'Williams', 'Atkinson', 'Gilmore', 'Anderson', 'Hansen', 'Stevens', 'Lynch', 'Soto', 'Jimenez', 'Cohen', 'Jackson', 'Wong', 'Griffin', 'Oconnor', 'Michael', 'Macias', 'Simmons', 'Kim', 'Diaz', 'Christensen', 'Conrad', 'Kaufman', 'Mullins', 'Holmes', 'Jones', 'Martinez', 'Smith', 'Ford', 'White', 'Robles', 'Russell', 'Archer', 'Cooper', 'Garza', 'Bailey', 'Weber', 'Wilson', 'Mcdaniel', 'Arnold', 'Novak', 'Avila', 'Collier', 'Clark', 'Kelly', 'Foster', 'Bond', 'Howell', 'Jeffrey', 'Parks', 'Rice', 'Baird', 'Spears', 'Sanders', 'Peterson', 'Brandon', 'Morgan'}\n"
     ]
    }
   ],
   "source": [
    "origins = set()\n",
    "with open(\"../ml/DATA/tips.csv\") as f:\n",
    "    next(f),\n",
    "    for row in f:\n",
    "        origin = row.split(\",\")[8].split(\" \")[1]\n",
    "        origins.add(origin)\n",
    "\n",
    "print(origins)"
   ]
  },
  {
   "cell_type": "markdown",
   "metadata": {},
   "source": [
    "### Closure"
   ]
  },
  {
   "cell_type": "code",
   "execution_count": 152,
   "metadata": {},
   "outputs": [],
   "source": [
    "def countdown(start):\n",
    "\n",
    "    def dec():\n",
    "        nonlocal start\n",
    "        start -= 1\n",
    "\n",
    "        if start >= 0:\n",
    "            return start\n",
    "        else:\n",
    "            return 0\n",
    "\n",
    "    return dec"
   ]
  },
  {
   "cell_type": "code",
   "execution_count": 153,
   "metadata": {},
   "outputs": [],
   "source": [
    "c = countdown(6)"
   ]
  },
  {
   "cell_type": "code",
   "execution_count": 154,
   "metadata": {},
   "outputs": [
    {
     "data": {
      "text/plain": [
       "5"
      ]
     },
     "execution_count": 154,
     "metadata": {},
     "output_type": "execute_result"
    }
   ],
   "source": [
    "c()"
   ]
  }
 ],
 "metadata": {
  "kernelspec": {
   "display_name": ".venv",
   "language": "python",
   "name": "python3"
  },
  "language_info": {
   "codemirror_mode": {
    "name": "ipython",
    "version": 3
   },
   "file_extension": ".py",
   "mimetype": "text/x-python",
   "name": "python",
   "nbconvert_exporter": "python",
   "pygments_lexer": "ipython3",
   "version": "3.11.4"
  },
  "orig_nbformat": 4
 },
 "nbformat": 4,
 "nbformat_minor": 2
}
