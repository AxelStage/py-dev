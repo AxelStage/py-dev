{
 "cells": [
  {
   "cell_type": "markdown",
   "metadata": {},
   "source": [
    "<h1>Dictionaries</h1>\n",
    "<h3>Main properties</h3>\n",
    "<ul>\n",
    "    <li>Unordered collections of arbitrary objects, keys provide the symbolic location of the items</li>\n",
    "    <li>Map by nature keys to values unidirectionaly</li>\n",
    "    <li>Accessed by key, not offset position: fetch an item out of the dictionary by key</li>\n",
    "    <li>Mutable mapping: Can be changed in place, but they don't support sequence operations.</li>\n",
    "    <li>Variable-length: Can shrink and grow (without new copies being made)</li>\n",
    "    <li>Heterogeneous: Can contain any type of object</li>\n",
    "    <li>Arbitraribly nestable: Each key can have just one associative value, but that value can be a collection of multiple objects</li>\n",
    "    <li>Tables of object references (hash tables): Dictionaries are implemented as hash tables and store object references</li>\n",
    "    <li>One value per key, but there may be many keys per value</li>\n",
    "</ul>"
   ]
  },
  {
   "cell_type": "markdown",
   "metadata": {},
   "source": [
    "<h3>Dictionary assignments</h3>"
   ]
  },
  {
   "cell_type": "code",
   "execution_count": 193,
   "metadata": {},
   "outputs": [
    {
     "name": "stdout",
     "output_type": "stream",
     "text": [
      "{'player': 'Michael', 'number': 23}\n",
      "{'players': {'sport': 'basketball', 'games played': 789}}\n",
      "{'player': 'Michael', 'number': 23}\n",
      "{'player': 'Michael', 'number': 23}\n",
      "{'blue': 2, 'yellow': 2, 'green': 2}\n"
     ]
    }
   ],
   "source": [
    "# assignment\n",
    "d1 = {'player': 'Michael', 'number': 23} # dictionary\n",
    "d2 = {'players' : {'sport' : 'basketball', 'games played': 789 }} # nested dictionary\n",
    "d3 = dict(player='Michael', number=23) # keyword construction\n",
    "d4 = dict([('player', 'Michael'),('number', 23)]) # key/value pairs\n",
    "d5 = dict.fromkeys([\"blue\", \"yellow\", \"green\"], 2) # fix value\n",
    "print(d1, d2, d3, d4, d5, sep=\"\\n\")\n",
    "del d1, d2, d3, d4, d5"
   ]
  },
  {
   "cell_type": "code",
   "execution_count": 194,
   "metadata": {},
   "outputs": [
    {
     "data": {
      "text/plain": [
       "{'str': 'string',\n",
       " 100: 'integer',\n",
       " 1.2: 'float',\n",
       " True: 'bool',\n",
       " (1, 2, 3): 'tuple',\n",
       " frozenset({1, 2, 3}): 'frozenset',\n",
       " <function __main__.hello_func()>: 'function',\n",
       " __main__.PassClass: 'class object',\n",
       " <__main__.PassClass at 0x7505f9f7df50>: 'instance object'}"
      ]
     },
     "execution_count": 194,
     "metadata": {},
     "output_type": "execute_result"
    }
   ],
   "source": [
    "# key can be any immutable type\n",
    "\n",
    "class PassClass:\n",
    "    pass\n",
    "\n",
    "def hello_func():\n",
    "    print(\"Hello!\")\n",
    "\n",
    "{\n",
    "    \"str\": \"string\",\n",
    "    100: \"integer\",\n",
    "    1.2: \"float\",\n",
    "    True: \"bool\",\n",
    "    (1,2,3): \"tuple\",\n",
    "    frozenset([1,2,3]): \"frozenset\",\n",
    "    hello_func: \"function\",\n",
    "    PassClass: \"class object\",\n",
    "    PassClass(): \"instance object\"\n",
    "}"
   ]
  },
  {
   "cell_type": "markdown",
   "metadata": {},
   "source": [
    "<h3>Basic operations</h3>"
   ]
  },
  {
   "cell_type": "code",
   "execution_count": 195,
   "metadata": {},
   "outputs": [],
   "source": [
    "breakfast = {'toast': 2, 'ham': 2, 'egg': 1}"
   ]
  },
  {
   "cell_type": "code",
   "execution_count": 196,
   "metadata": {},
   "outputs": [
    {
     "data": {
      "text/plain": [
       "3"
      ]
     },
     "execution_count": 196,
     "metadata": {},
     "output_type": "execute_result"
    }
   ],
   "source": [
    "# length\n",
    "len(breakfast)"
   ]
  },
  {
   "cell_type": "code",
   "execution_count": 197,
   "metadata": {},
   "outputs": [
    {
     "data": {
      "text/plain": [
       "True"
      ]
     },
     "execution_count": 197,
     "metadata": {},
     "output_type": "execute_result"
    }
   ],
   "source": [
    "# key membership test\n",
    "'ham' in breakfast"
   ]
  },
  {
   "cell_type": "code",
   "execution_count": 198,
   "metadata": {},
   "outputs": [
    {
     "data": {
      "text/plain": [
       "True"
      ]
     },
     "execution_count": 198,
     "metadata": {},
     "output_type": "execute_result"
    }
   ],
   "source": [
    "\"hamm\" not in breakfast"
   ]
  },
  {
   "cell_type": "markdown",
   "metadata": {},
   "source": [
    "<h3>Iterations</h3>"
   ]
  },
  {
   "cell_type": "code",
   "execution_count": 199,
   "metadata": {},
   "outputs": [],
   "source": [
    "breakfast = dict([(\"toast\", 2),  (\"ham\", 4), (\"cheese\", 3)])"
   ]
  },
  {
   "cell_type": "code",
   "execution_count": 200,
   "metadata": {},
   "outputs": [
    {
     "name": "stdout",
     "output_type": "stream",
     "text": [
      "toast : 2\n",
      "ham : 4\n",
      "cheese : 3\n"
     ]
    }
   ],
   "source": [
    "# for loop iterates over the keys\n",
    "for key in breakfast:\n",
    "    print(key, \":\", breakfast[key])"
   ]
  },
  {
   "cell_type": "code",
   "execution_count": 201,
   "metadata": {},
   "outputs": [
    {
     "name": "stdout",
     "output_type": "stream",
     "text": [
      "toast : 2\n",
      "ham : 4\n",
      "cheese : 3\n"
     ]
    }
   ],
   "source": [
    "# for loop iterates over items method\n",
    "for key, value in breakfast.items():\n",
    "    print(key, \":\", value)"
   ]
  },
  {
   "cell_type": "code",
   "execution_count": 202,
   "metadata": {},
   "outputs": [
    {
     "name": "stdout",
     "output_type": "stream",
     "text": [
      "bacon\t1\n",
      "ham\t2\n",
      "sausage\t3\n"
     ]
    }
   ],
   "source": [
    "d = {'bacon': 1, 'ham': 2, 'sausage': 3}\n",
    "for key in d:\n",
    "    print(key + '\\t' + str(d[key]))"
   ]
  },
  {
   "cell_type": "markdown",
   "metadata": {},
   "source": [
    "<h3>Changing Dictionaries in place</h3>"
   ]
  },
  {
   "cell_type": "code",
   "execution_count": 203,
   "metadata": {},
   "outputs": [
    {
     "data": {
      "text/plain": [
       "{'bacon': 1, 'ham': ['grill', 'bake', 'fry'], 'sausage': 3}"
      ]
     },
     "execution_count": 203,
     "metadata": {},
     "output_type": "execute_result"
    }
   ],
   "source": [
    "d = {'bacon': 1, 'ham': 2, 'sausage': 3}\n",
    "# change an entry\n",
    "d['ham'] = ['grill', 'bake', 'fry']\n",
    "d"
   ]
  },
  {
   "cell_type": "code",
   "execution_count": 204,
   "metadata": {},
   "outputs": [
    {
     "data": {
      "text/plain": [
       "{'ham': 2}"
      ]
     },
     "execution_count": 204,
     "metadata": {},
     "output_type": "execute_result"
    }
   ],
   "source": [
    "d = {'bacon': 1, 'ham': 2, 'sausage': 3}\n",
    "# delete entries\n",
    "del d['sausage'], d['bacon']\n",
    "d"
   ]
  },
  {
   "cell_type": "code",
   "execution_count": 205,
   "metadata": {},
   "outputs": [
    {
     "data": {
      "text/plain": [
       "{'bacon': 1, 'ham': 2, 'sausage': 3, 'steak': 4}"
      ]
     },
     "execution_count": 205,
     "metadata": {},
     "output_type": "execute_result"
    }
   ],
   "source": [
    "d = {'bacon': 1, 'ham': 2, 'sausage': 3}\n",
    "# add new entry\n",
    "d['steak'] = 4\n",
    "d"
   ]
  },
  {
   "cell_type": "markdown",
   "metadata": {},
   "source": [
    "<h3>Dictionaries comprehension</h3>"
   ]
  },
  {
   "cell_type": "code",
   "execution_count": 206,
   "metadata": {},
   "outputs": [
    {
     "data": {
      "text/plain": [
       "{'a': 1, 'b': 2, 'c': 4}"
      ]
     },
     "execution_count": 206,
     "metadata": {},
     "output_type": "execute_result"
    }
   ],
   "source": [
    "keys = ['a','b', 'c']\n",
    "values = (1,2,4)\n",
    "{ key: value for (key, value) in zip(keys, values) }"
   ]
  },
  {
   "cell_type": "code",
   "execution_count": 207,
   "metadata": {},
   "outputs": [
    {
     "data": {
      "text/plain": [
       "{'b': 4, 'd': 16, 'f': 36, 'h': 64}"
      ]
     },
     "execution_count": 207,
     "metadata": {},
     "output_type": "execute_result"
    }
   ],
   "source": [
    "keys = \"abcdefghi\"\n",
    "values = range(1,100)\n",
    "{ key: value**2 for (key, value) in zip(keys, values) if key in \"bdfh\" }"
   ]
  },
  {
   "cell_type": "code",
   "execution_count": 208,
   "metadata": {},
   "outputs": [
    {
     "data": {
      "text/plain": [
       "{0: 0, 1: 1, 2: 4, 3: 9, 4: 16, 5: 25, 6: 36, 7: 49, 8: 64, 9: 81}"
      ]
     },
     "execution_count": 208,
     "metadata": {},
     "output_type": "execute_result"
    }
   ],
   "source": [
    "# map a single stream\n",
    "d = {x: x**2 for x in range(0,10)}\n",
    "d"
   ]
  },
  {
   "cell_type": "code",
   "execution_count": 209,
   "metadata": {},
   "outputs": [
    {
     "data": {
      "text/plain": [
       "{'spam': 'SPAM!', 'ham': 'HAM!', 'eggs': 'EGGS!'}"
      ]
     },
     "execution_count": 209,
     "metadata": {},
     "output_type": "execute_result"
    }
   ],
   "source": [
    "# map a single stream\n",
    "d = {c.lower(): c + '!' for c in ['SPAM', 'HAM', 'EGGS']}\n",
    "d"
   ]
  },
  {
   "cell_type": "markdown",
   "metadata": {},
   "source": [
    "<h3>Dictionary methods</h3>"
   ]
  },
  {
   "cell_type": "code",
   "execution_count": 210,
   "metadata": {},
   "outputs": [
    {
     "name": "stdout",
     "output_type": "stream",
     "text": [
      "dict_keys(['bacon', 'ham', 'sausage']) ['bacon', 'ham', 'sausage']\n"
     ]
    }
   ],
   "source": [
    "d = {'bacon': 1, 'ham': 2, 'sausage': 3}\n",
    "# return all keys\n",
    "d.keys() # makes a view object\n",
    "print(d.keys(), list(d.keys()))"
   ]
  },
  {
   "cell_type": "code",
   "execution_count": 211,
   "metadata": {},
   "outputs": [
    {
     "data": {
      "text/plain": [
       "[1, 2, 3]"
      ]
     },
     "execution_count": 211,
     "metadata": {},
     "output_type": "execute_result"
    }
   ],
   "source": [
    "d = {'bacon': 1, 'ham': 2, 'sausage': 3}\n",
    "# return all values\n",
    "list(d.values())"
   ]
  },
  {
   "cell_type": "code",
   "execution_count": 212,
   "metadata": {},
   "outputs": [
    {
     "data": {
      "text/plain": [
       "[('bacon', 1), ('ham', 2), ('sausage', 3)]"
      ]
     },
     "execution_count": 212,
     "metadata": {},
     "output_type": "execute_result"
    }
   ],
   "source": [
    "d = {'bacon': 1, 'ham': 2, 'sausage': 3}\n",
    "# return all key/value pairs\n",
    "list(d.items())"
   ]
  },
  {
   "cell_type": "code",
   "execution_count": 213,
   "metadata": {},
   "outputs": [
    {
     "data": {
      "text/plain": [
       "1"
      ]
     },
     "execution_count": 213,
     "metadata": {},
     "output_type": "execute_result"
    }
   ],
   "source": [
    "d = {'bacon': 1, 'ham': 2, 'sausage': 3}\n",
    "# avoid missing key errors by fetching its value with the get method\n",
    "d.get('bacon')"
   ]
  },
  {
   "cell_type": "code",
   "execution_count": 214,
   "metadata": {},
   "outputs": [
    {
     "name": "stdout",
     "output_type": "stream",
     "text": [
      "None\n"
     ]
    }
   ],
   "source": [
    "d = {'bacon': 1, 'ham': 2, 'sausage': 3}\n",
    "# a non existing key is normally an error, but get returns none\n",
    "print(d.get('egg'))"
   ]
  },
  {
   "cell_type": "code",
   "execution_count": 215,
   "metadata": {},
   "outputs": [
    {
     "name": "stdout",
     "output_type": "stream",
     "text": [
      "{'bacon': 1, 'ham': 2, 'sausage': 3, 'juice': 4, 'milk': 5, 'beer': 6}\n"
     ]
    }
   ],
   "source": [
    "eat = {'bacon': 1, 'ham': 2, 'sausage': 3}\n",
    "drink = {'juice': 4, 'milk': 5, 'beer': 6}\n",
    "# update: merges the keys and values of one dictionary into another (overwriting values with same keys)\n",
    "eat.update(drink)\n",
    "print(eat)"
   ]
  },
  {
   "cell_type": "code",
   "execution_count": 216,
   "metadata": {},
   "outputs": [
    {
     "data": {
      "text/plain": [
       "1"
      ]
     },
     "execution_count": 216,
     "metadata": {},
     "output_type": "execute_result"
    }
   ],
   "source": [
    "d = {'bacon': 1, 'ham': 2, 'sausage': 3, \"egg\": 1}\n",
    "# pop: delete and return value from key\n",
    "d.pop('bacon')"
   ]
  },
  {
   "cell_type": "code",
   "execution_count": 217,
   "metadata": {},
   "outputs": [],
   "source": [
    "# pop with default value if key error occur\n",
    "d.pop('hamm', None)"
   ]
  },
  {
   "cell_type": "code",
   "execution_count": 218,
   "metadata": {},
   "outputs": [
    {
     "data": {
      "text/plain": [
       "('egg', 1)"
      ]
     },
     "execution_count": 218,
     "metadata": {},
     "output_type": "execute_result"
    }
   ],
   "source": [
    "# pop any item\n",
    "d.popitem()"
   ]
  },
  {
   "cell_type": "code",
   "execution_count": 219,
   "metadata": {},
   "outputs": [
    {
     "data": {
      "text/plain": [
       "{}"
      ]
     },
     "execution_count": 219,
     "metadata": {},
     "output_type": "execute_result"
    }
   ],
   "source": [
    "d.clear()\n",
    "d"
   ]
  },
  {
   "cell_type": "code",
   "execution_count": 224,
   "metadata": {},
   "outputs": [
    {
     "data": {
      "text/plain": [
       "{'bacon': 1, 'ham': 2, 'sausage': 3, 'egg': 1, 'cheese': 2}"
      ]
     },
     "execution_count": 224,
     "metadata": {},
     "output_type": "execute_result"
    }
   ],
   "source": [
    "# setdefault\n",
    "breakfast = {'bacon': 1, 'ham': 2, 'sausage': 3, \"egg\": 1}\n",
    "# inserts only if key not exists\n",
    "breakfast.setdefault(\"bacon\", 100)\n",
    "breakfast.setdefault(\"cheese\", 2)\n",
    "breakfast"
   ]
  },
  {
   "cell_type": "markdown",
   "metadata": {},
   "source": [
    "### Functions in dictionaries"
   ]
  },
  {
   "cell_type": "code",
   "execution_count": 220,
   "metadata": {},
   "outputs": [
    {
     "name": "stdout",
     "output_type": "stream",
     "text": [
      "10\n",
      "18\n"
     ]
    }
   ],
   "source": [
    "def add(a, b):\n",
    "    return a + b\n",
    "\n",
    "def multiply(a, b):\n",
    "    return a * b\n",
    "\n",
    "functions = {add: (4, 6), multiply: (2, 9) }\n",
    "\n",
    "for function, args in functions.items():\n",
    "    # args need to be unpacked from tuple\n",
    "    print(function(*args))"
   ]
  },
  {
   "cell_type": "markdown",
   "metadata": {},
   "source": [
    "### Text analysis"
   ]
  },
  {
   "cell_type": "code",
   "execution_count": 2,
   "metadata": {},
   "outputs": [],
   "source": [
    "text = \"Lorem Ipsum is simply dummy text of the printing and typesetting industry. Lorem Ipsum has been the industry's standard dummy text ever since the 1500s, when an unknown printer took a galley of type and scrambled it to make a type specimen book. It has survived not only five centuries, but also the leap into electronic typesetting, remaining essentially unchanged. It was popularised in the 1960s with the release of Letraset sheets containing Lorem Ipsum passages, and more recently with desktop publishing software like Aldus PageMaker including versions of Lorem Ipsum.\""
   ]
  },
  {
   "cell_type": "code",
   "execution_count": 9,
   "metadata": {},
   "outputs": [
    {
     "name": "stdout",
     "output_type": "stream",
     "text": [
      "{'l': 22, 'o': 25, 'r': 24, 'e': 59, 'm': 19, 'i': 38, 'p': 19, 's': 39, 'u': 17, 'y': 13, 'd': 16, 't': 43, 'x': 2, 'f': 6, 'h': 14, 'n': 38, 'g': 11, 'a': 29, '.': 4, 'b': 5, \"'\": 1, 'v': 5, 'c': 10, '1': 2, '5': 1, '0': 3, ',': 4, 'w': 6, 'k': 7, '9': 1, '6': 1}\n"
     ]
    }
   ],
   "source": [
    "letter_stats = dict()\n",
    "\n",
    "for letter in text:\n",
    "    key = letter.lower().strip()\n",
    "    if key:\n",
    "        letter_stats[key] = letter_stats.get(key, 0) + 1\n",
    "print(letter_stats)"
   ]
  },
  {
   "cell_type": "code",
   "execution_count": 15,
   "metadata": {},
   "outputs": [
    {
     "name": "stdout",
     "output_type": "stream",
     "text": [
      "{'upper': {'P', 'M', 'L', 'A', 'I'}, 'lower': {'a', 'w', 'g', 'b', 'o', 'v', 'h', 'm', 'k', 'r', 'l', 'u', 's', 'e', 'i', 'x', 'p', 't', 'y', 'f', 'c', 'n', 'd', ' '}, 'other': {'6', '1', '0', '9', '5', \"'\", ',', '.', ' '}}\n"
     ]
    }
   ],
   "source": [
    "import string\n",
    "\n",
    "categories = dict()\n",
    "\n",
    "for letter in text:\n",
    "    if letter != \" \":\n",
    "        if letter in string.ascii_lowercase:\n",
    "            key = \"lower\"\n",
    "        elif letter in string.ascii_uppercase:\n",
    "            key = \"upper\"\n",
    "        else:\n",
    "            key = \"other\"\n",
    "\n",
    "    if key not in categories:\n",
    "        categories[key] = set()\n",
    "    categories[key].add(letter)\n",
    "\n",
    "print(categories)"
   ]
  },
  {
   "cell_type": "markdown",
   "metadata": {},
   "source": [
    "### Exercise\n",
    "Write a Python function that will create and return a dictionary from another dictionary, but sorted by value. You can assume the values are all comparable and have a natural sort order."
   ]
  },
  {
   "cell_type": "code",
   "execution_count": 35,
   "metadata": {},
   "outputs": [],
   "source": [
    "composers = {'Johann': 65, 'Ludwig': 56, 'Frederic': 39, 'Wolfgang': 35}"
   ]
  },
  {
   "cell_type": "code",
   "execution_count": 45,
   "metadata": {},
   "outputs": [
    {
     "name": "stdout",
     "output_type": "stream",
     "text": [
      "{'Wolfgang': 35, 'Frederic': 39, 'Ludwig': 56, 'Johann': 65}\n"
     ]
    }
   ],
   "source": [
    "def sort_dict_by_value(any_dict: dict) -> dict:\n",
    "    sort_dict = dict()\n",
    "    for composer in sorted(any_dict, key=lambda key: any_dict[key]):\n",
    "        sort_dict[composer] = any_dict[composer]\n",
    "    return sort_dict\n",
    "\n",
    "print(sort_dict_by_value(composers))"
   ]
  },
  {
   "cell_type": "code",
   "execution_count": 44,
   "metadata": {},
   "outputs": [
    {
     "name": "stdout",
     "output_type": "stream",
     "text": [
      "{'Wolfgang': 35, 'Frederic': 39, 'Ludwig': 56, 'Johann': 65}\n"
     ]
    }
   ],
   "source": [
    "def sort_dict_by_value(any_dict: dict) -> dict:\n",
    "    sort_dict = { key: value\n",
    "        for key, value in sorted(any_dict.items(), key=lambda element: element[1])\n",
    "    }\n",
    "    return sort_dict\n",
    "\n",
    "print(sort_dict_by_value(composers))"
   ]
  },
  {
   "cell_type": "code",
   "execution_count": 46,
   "metadata": {},
   "outputs": [
    {
     "name": "stdout",
     "output_type": "stream",
     "text": [
      "{'Wolfgang': 35, 'Frederic': 39, 'Ludwig': 56, 'Johann': 65}\n"
     ]
    }
   ],
   "source": [
    "def sort_dict_by_value(any_dict: dict) -> dict:\n",
    "    return dict(sorted(any_dict.items(), key=lambda element: element[1]))\n",
    "\n",
    "print(sort_dict_by_value(composers))"
   ]
  },
  {
   "cell_type": "markdown",
   "metadata": {},
   "source": [
    "Given two dictionaries, `d1` and `d2`, write a function that creates a dictionary that contains only the keys common to both dictionaries, with values being a tuple containg the values from `d1` and `d2`. (Order of keys is not important)."
   ]
  },
  {
   "cell_type": "code",
   "execution_count": 74,
   "metadata": {},
   "outputs": [],
   "source": [
    "d1 = {'a': 1, 'b': 2, 'c': 3, 'd': 4}\n",
    "d2 = {'b': 20, 'c': 30, 'y': 40, 'z': 50}"
   ]
  },
  {
   "cell_type": "markdown",
   "metadata": {},
   "source": [
    "Solution:"
   ]
  },
  {
   "cell_type": "code",
   "execution_count": null,
   "metadata": {},
   "outputs": [],
   "source": [
    "{'b': (2, 20), 'c': (3, 30)}"
   ]
  },
  {
   "cell_type": "code",
   "execution_count": 76,
   "metadata": {},
   "outputs": [
    {
     "data": {
      "text/plain": [
       "{'c': (3, 30), 'b': (2, 20)}"
      ]
     },
     "execution_count": 76,
     "metadata": {},
     "output_type": "execute_result"
    }
   ],
   "source": [
    "def intersect_dicts(dict1: dict, dict2: dict) -> dict:\n",
    "    d = dict()\n",
    "    for key in dict1.keys() & dict2.keys():\n",
    "        d.update({key: (dict1[key], dict2[key])})\n",
    "    return d\n",
    "\n",
    "intersect_dicts(d1,d2)"
   ]
  },
  {
   "cell_type": "code",
   "execution_count": 72,
   "metadata": {},
   "outputs": [
    {
     "data": {
      "text/plain": [
       "{'c': (3, 30), 'b': (2, 20)}"
      ]
     },
     "execution_count": 72,
     "metadata": {},
     "output_type": "execute_result"
    }
   ],
   "source": [
    "def intersect_dicts(dict1: dict, dict2: dict) -> dict:\n",
    "    d = {\n",
    "        key: (dict1[key], dict2[key])\n",
    "        for key in dict1.keys() & dict2.keys()\n",
    "    }\n",
    "    return d\n",
    "\n",
    "intersect_dicts(d1,d2)"
   ]
  },
  {
   "cell_type": "code",
   "execution_count": 77,
   "metadata": {},
   "outputs": [
    {
     "data": {
      "text/plain": [
       "{'c': (3, 30), 'b': (2, 20)}"
      ]
     },
     "execution_count": 77,
     "metadata": {},
     "output_type": "execute_result"
    }
   ],
   "source": [
    "def intersect_dicts(dict1: dict, dict2: dict) -> dict:\n",
    "    intersect_keys = dict1.keys() & dict2.keys()\n",
    "\n",
    "    d = {\n",
    "        key: (dict1[key], dict2[key])\n",
    "        for key in intersect_keys\n",
    "        }\n",
    "    return d\n",
    "\n",
    "intersect_dicts(d1,d2)"
   ]
  },
  {
   "cell_type": "markdown",
   "metadata": {},
   "source": [
    "You have text data spread across multiple servers.\n",
    "Each server is able to analyze this data and return a dictionary that contains words and their frequency.\n",
    "\n",
    "Your job is to combine this data to create a single dictionary that contains all the words and their combined frequencies from all these data sources. Bonus points if you can make your dictionary sorted by frequency (highest to lowest).\n",
    "\n",
    "For example, you may have three servers that each return these dictionaries:"
   ]
  },
  {
   "cell_type": "code",
   "execution_count": 128,
   "metadata": {},
   "outputs": [],
   "source": [
    "d1 = {'python': 10, 'java': 3, 'c#': 8, 'javascript': 15}\n",
    "d2 = {'java': 10, 'c++': 10, 'c#': 4, 'go': 9, 'python': 6}\n",
    "d3 = {'erlang': 5, 'haskell': 2, 'python': 1, 'pascal': 1}"
   ]
  },
  {
   "cell_type": "code",
   "execution_count": 142,
   "metadata": {},
   "outputs": [
    {
     "data": {
      "text/plain": [
       "{'python': 17,\n",
       " 'javascript': 15,\n",
       " 'java': 13,\n",
       " 'c#': 12,\n",
       " 'c++': 10,\n",
       " 'go': 9,\n",
       " 'erlang': 5,\n",
       " 'haskell': 2,\n",
       " 'pascal': 1}"
      ]
     },
     "execution_count": 142,
     "metadata": {},
     "output_type": "execute_result"
    }
   ],
   "source": [
    "def merge_sum(*dicts):\n",
    "\n",
    "    unsorted = {}\n",
    "    for d in dicts:\n",
    "        for key, value in d.items():\n",
    "            unsorted[key] = unsorted.get(key, 0) + value\n",
    "\n",
    "    return dict(sorted(unsorted.items(), key=lambda element: element[1], reverse=True))\n",
    "\n",
    "merge_sum(d1,d2,d3)"
   ]
  },
  {
   "cell_type": "code",
   "execution_count": 143,
   "metadata": {},
   "outputs": [
    {
     "data": {
      "text/plain": [
       "{'python': 16, 'javascript': 15, 'java': 13, 'c#': 12, 'c++': 10, 'go': 9}"
      ]
     },
     "execution_count": 143,
     "metadata": {},
     "output_type": "execute_result"
    }
   ],
   "source": [
    "merge_sum(d1,d2)"
   ]
  },
  {
   "cell_type": "markdown",
   "metadata": {},
   "source": [
    "For this exercise suppose you have a web API load balanced across multiple nodes. This API receives various requests for resources and logs each request to some local storage. Each instance of the API is able to return a dictionary containing the resource that was accessed (the dictionary key) and the number of times it was requested (the associated value).\n",
    "\n",
    "Your task here is to identify resources that have been requested on some, but not all the servers, so you can determine if you have an issue with your load balancer not distributing certain resource requests across all nodes.\n",
    "\n",
    "For simplicity, we will assume that there are exactly 3 nodes in the cluster.\n",
    "\n",
    "You should write a function that takes 3 dictionaries as arguments for node 1, node 2, and node 3, and returns a dictionary that contains only keys that are not found in **all** of the dictionaries. The value should be a list containing the number of times it was requested in each node (the node order should match the dictionary (node) order passed to your function). Use `0` if the resource was not requested from the corresponding node."
   ]
  },
  {
   "cell_type": "code",
   "execution_count": 145,
   "metadata": {},
   "outputs": [],
   "source": [
    "n1 = {'employees': 100, 'employee': 5000, 'users': 10, 'user': 100}\n",
    "n2 = {'employees': 250, 'users': 23, 'user': 230}\n",
    "n3 = {'employees': 150, 'users': 4, 'login': 1000}"
   ]
  },
  {
   "cell_type": "markdown",
   "metadata": {},
   "source": [
    "Solution:"
   ]
  },
  {
   "cell_type": "code",
   "execution_count": 185,
   "metadata": {},
   "outputs": [],
   "source": [
    "result = {'employee': (5000, 0, 0),\n",
    "          'user': (100, 230, 0),\n",
    "          'login': (0, 0, 1000)}"
   ]
  },
  {
   "cell_type": "code",
   "execution_count": 205,
   "metadata": {},
   "outputs": [
    {
     "data": {
      "text/plain": [
       "{'login': (0, 0, 1000), 'user': (100, 230, 0), 'employee': (5000, 0, 0)}"
      ]
     },
     "execution_count": 205,
     "metadata": {},
     "output_type": "execute_result"
    }
   ],
   "source": [
    "def load_balancer_analysis(node1: dict, node2: dict, node3: dict):\n",
    "\n",
    "    def different_keys(d1: dict, d2:dict) -> set:\n",
    "        union = d1.keys() & d2.keys()\n",
    "        intersect = d1.keys() | d2.keys()\n",
    "        return intersect - union\n",
    "\n",
    "    not_in_all = different_keys(node1,node2) | different_keys(node1,node3) | different_keys(node2,node3)\n",
    "    result =  {\n",
    "        key: (node1.get(key,0), node2.get(key,0), node3.get(key,0))\n",
    "        for key in not_in_all\n",
    "    }\n",
    "\n",
    "    return result\n",
    "\n",
    "load_balancer_analysis(n1,n2,n3)"
   ]
  },
  {
   "cell_type": "code",
   "execution_count": 199,
   "metadata": {},
   "outputs": [
    {
     "data": {
      "text/plain": [
       "{'employee', 'employees', 'login', 'user', 'users'}"
      ]
     },
     "execution_count": 199,
     "metadata": {},
     "output_type": "execute_result"
    }
   ],
   "source": [
    "union = n1.keys() | n2.keys() | n3.keys()\n",
    "union"
   ]
  },
  {
   "cell_type": "code",
   "execution_count": 201,
   "metadata": {},
   "outputs": [
    {
     "data": {
      "text/plain": [
       "{'employees', 'users'}"
      ]
     },
     "execution_count": 201,
     "metadata": {},
     "output_type": "execute_result"
    }
   ],
   "source": [
    "intersect = n1.keys() & n2.keys() & n3.keys()\n",
    "intersect"
   ]
  },
  {
   "cell_type": "code",
   "execution_count": 202,
   "metadata": {},
   "outputs": [
    {
     "data": {
      "text/plain": [
       "{'employee', 'login', 'user'}"
      ]
     },
     "execution_count": 202,
     "metadata": {},
     "output_type": "execute_result"
    }
   ],
   "source": [
    "union - intersect"
   ]
  },
  {
   "cell_type": "code",
   "execution_count": 204,
   "metadata": {},
   "outputs": [
    {
     "data": {
      "text/plain": [
       "{'login': (0, 0, 1000), 'employee': (5000, 0, 0), 'user': (100, 230, 0)}"
      ]
     },
     "execution_count": 204,
     "metadata": {},
     "output_type": "execute_result"
    }
   ],
   "source": [
    "def load_balancer_analysis(node1: dict, node2: dict, node3: dict):\n",
    "    union = node1.keys() | node2.keys() | node3.keys()\n",
    "    intersect = node1.keys() & node2.keys() & node3.keys()\n",
    "    not_in_all = union - intersect\n",
    "    result =  {\n",
    "        key: (node1.get(key,0), node2.get(key,0), node3.get(key,0))\n",
    "        for key in not_in_all\n",
    "    }\n",
    "    return result\n",
    "\n",
    "load_balancer_analysis(n1,n2,n3)"
   ]
  }
 ],
 "metadata": {
  "kernelspec": {
   "display_name": "Python 3 (ipykernel)",
   "language": "python",
   "name": "python3"
  },
  "language_info": {
   "codemirror_mode": {
    "name": "ipython",
    "version": 3
   },
   "file_extension": ".py",
   "mimetype": "text/x-python",
   "name": "python",
   "nbconvert_exporter": "python",
   "pygments_lexer": "ipython3",
   "version": "3.11.6"
  },
  "vscode": {
   "interpreter": {
    "hash": "afa6b98459d80e05b4144fd479eac5a19142374dc66200d5898f2a74d54d80d3"
   }
  }
 },
 "nbformat": 4,
 "nbformat_minor": 2
}
