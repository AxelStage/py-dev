{
 "cells": [
  {
   "cell_type": "markdown",
   "metadata": {},
   "source": [
    "<h1>Dictionaries</h1>\n",
    "<h3>Main properties</h3>\n",
    "<ul>\n",
    "    <li>Unordered collections of arbitrary objects, keys provide the symbolic location of the items</li>\n",
    "    <li>Map by nature keys to values unidirectionaly</li>\n",
    "    <li>Accessed by key, not offset position: fetch an item out of the dictionary by key</li>\n",
    "    <li>Mutable mapping: Can be changed in place, but they don't support sequence operations.</li>\n",
    "    <li>Variable-length: Can shrink and grow (without new copies being made)</li>\n",
    "    <li>Heterogeneous: Can contain any type of object</li>\n",
    "    <li>Arbitraribly nestable: Each key can have just one associative value, but that value can be a collection of multiple objects</li>\n",
    "    <li>Tables of object references (hash tables): Dictionaries are implemented as hash tables and store object references</li>\n",
    "    <li>One value per key, but there may be many keys per value</li>\n",
    "</ul>"
   ]
  },
  {
   "cell_type": "markdown",
   "metadata": {},
   "source": [
    "<h3>Dictionary assignments</h3>"
   ]
  },
  {
   "cell_type": "code",
   "execution_count": 1,
   "metadata": {},
   "outputs": [
    {
     "name": "stdout",
     "output_type": "stream",
     "text": [
      "{} {'players': {'sport': 'basketball', 'games played': 789}} {'name': 'Michael', 'age': 23} {'name': 'Michael', 'age': 23}\n"
     ]
    }
   ],
   "source": [
    "# assignment\n",
    "d1 = {} # empty dictionary\n",
    "d2 = {'players' : {'sport' : 'basketball', 'games played': 789 }} # nested dictionary\n",
    "d3 = dict(name='Michael', age=23) # keyword construction\n",
    "d4 = dict([('name', 'Michael'),('age', 23)]) # key/value pairs\n",
    "print(d1, d2, d3, d4)\n",
    "del d1, d2, d3, d4\n"
   ]
  },
  {
   "cell_type": "markdown",
   "metadata": {},
   "source": [
    "<h3>Basic operations</h3>"
   ]
  },
  {
   "cell_type": "code",
   "execution_count": 2,
   "metadata": {},
   "outputs": [
    {
     "data": {
      "text/plain": [
       "3"
      ]
     },
     "execution_count": 2,
     "metadata": {},
     "output_type": "execute_result"
    }
   ],
   "source": [
    "d = {'spam': 1, 'ham': 2, 'eggs': 3}\n",
    "# length of keys list\n",
    "len(d)"
   ]
  },
  {
   "cell_type": "code",
   "execution_count": 3,
   "metadata": {},
   "outputs": [
    {
     "data": {
      "text/plain": [
       "True"
      ]
     },
     "execution_count": 3,
     "metadata": {},
     "output_type": "execute_result"
    }
   ],
   "source": [
    "# key membership test\n",
    "'ham' in d"
   ]
  },
  {
   "cell_type": "markdown",
   "metadata": {},
   "source": [
    "<h3>Iterations</h3>"
   ]
  },
  {
   "cell_type": "code",
   "execution_count": 4,
   "metadata": {},
   "outputs": [
    {
     "name": "stdout",
     "output_type": "stream",
     "text": [
      "bacon\t1\n",
      "ham\t2\n",
      "sausage\t3\n"
     ]
    }
   ],
   "source": [
    "d = {'bacon': 1, 'ham': 2, 'sausage': 3}\n",
    "for key in d:\n",
    "    print(key + '\\t' + str(d[key]))"
   ]
  },
  {
   "cell_type": "markdown",
   "metadata": {},
   "source": [
    "<h3>Changing Dictionaries in place</h3>"
   ]
  },
  {
   "cell_type": "code",
   "execution_count": 5,
   "metadata": {},
   "outputs": [
    {
     "data": {
      "text/plain": [
       "{'bacon': 1, 'ham': ['grill', 'bake', 'fry'], 'sausage': 3}"
      ]
     },
     "execution_count": 5,
     "metadata": {},
     "output_type": "execute_result"
    }
   ],
   "source": [
    "d = {'bacon': 1, 'ham': 2, 'sausage': 3}\n",
    "# change an entry\n",
    "d['ham'] = ['grill', 'bake', 'fry']\n",
    "d"
   ]
  },
  {
   "cell_type": "code",
   "execution_count": 6,
   "metadata": {},
   "outputs": [
    {
     "data": {
      "text/plain": [
       "{'ham': 2}"
      ]
     },
     "execution_count": 6,
     "metadata": {},
     "output_type": "execute_result"
    }
   ],
   "source": [
    "d = {'bacon': 1, 'ham': 2, 'sausage': 3}\n",
    "# delete entries\n",
    "del d['sausage'], d['bacon']\n",
    "d"
   ]
  },
  {
   "cell_type": "code",
   "execution_count": 7,
   "metadata": {},
   "outputs": [
    {
     "data": {
      "text/plain": [
       "{'bacon': 1, 'ham': 2, 'sausage': 3, 'steak': 4}"
      ]
     },
     "execution_count": 7,
     "metadata": {},
     "output_type": "execute_result"
    }
   ],
   "source": [
    "d = {'bacon': 1, 'ham': 2, 'sausage': 3}\n",
    "# add new entry\n",
    "d['steak'] = 4\n",
    "d"
   ]
  },
  {
   "cell_type": "markdown",
   "metadata": {},
   "source": [
    "<h3>Dictionaries comprehension</h3>"
   ]
  },
  {
   "cell_type": "code",
   "execution_count": 8,
   "metadata": {},
   "outputs": [
    {
     "data": {
      "text/plain": [
       "{'a': 1, 'b': 2, 'c': 3}"
      ]
     },
     "execution_count": 8,
     "metadata": {},
     "output_type": "execute_result"
    }
   ],
   "source": [
    "d = {key: val for (key, val) in zip(['a','b', 'c'],[1,2,3])}\n",
    "d"
   ]
  },
  {
   "cell_type": "code",
   "execution_count": 9,
   "metadata": {},
   "outputs": [
    {
     "data": {
      "text/plain": [
       "{0: 0, 1: 1, 2: 4, 3: 9, 4: 16, 5: 25, 6: 36, 7: 49, 8: 64, 9: 81}"
      ]
     },
     "execution_count": 9,
     "metadata": {},
     "output_type": "execute_result"
    }
   ],
   "source": [
    "# map a single stream\n",
    "d = {x: x**2 for x in range(0,10)}\n",
    "d"
   ]
  },
  {
   "cell_type": "code",
   "execution_count": 10,
   "metadata": {},
   "outputs": [
    {
     "data": {
      "text/plain": [
       "{'spam': 'SPAM!', 'ham': 'HAM!', 'eggs': 'EGGS!'}"
      ]
     },
     "execution_count": 10,
     "metadata": {},
     "output_type": "execute_result"
    }
   ],
   "source": [
    "# map a single stream\n",
    "d = {c.lower(): c + '!' for c in ['SPAM', 'HAM', 'EGGS']}\n",
    "d"
   ]
  },
  {
   "cell_type": "markdown",
   "metadata": {},
   "source": [
    "<h3>Dictionary methods</h3>"
   ]
  },
  {
   "cell_type": "code",
   "execution_count": 11,
   "metadata": {},
   "outputs": [
    {
     "name": "stdout",
     "output_type": "stream",
     "text": [
      "dict_keys(['bacon', 'ham', 'sausage']) ['bacon', 'ham', 'sausage']\n"
     ]
    }
   ],
   "source": [
    "d = {'bacon': 1, 'ham': 2, 'sausage': 3}\n",
    "# return all keys\n",
    "d.keys() # makes a view object\n",
    "print(d.keys(), list(d.keys()))"
   ]
  },
  {
   "cell_type": "code",
   "execution_count": 12,
   "metadata": {},
   "outputs": [
    {
     "data": {
      "text/plain": [
       "[1, 2, 3]"
      ]
     },
     "execution_count": 12,
     "metadata": {},
     "output_type": "execute_result"
    }
   ],
   "source": [
    "d = {'bacon': 1, 'ham': 2, 'sausage': 3}\n",
    "# return all values\n",
    "list(d.values())"
   ]
  },
  {
   "cell_type": "code",
   "execution_count": 13,
   "metadata": {},
   "outputs": [
    {
     "data": {
      "text/plain": [
       "[('bacon', 1), ('ham', 2), ('sausage', 3)]"
      ]
     },
     "execution_count": 13,
     "metadata": {},
     "output_type": "execute_result"
    }
   ],
   "source": [
    "d = {'bacon': 1, 'ham': 2, 'sausage': 3}\n",
    "# return all key/value pairs\n",
    "list(d.items())"
   ]
  },
  {
   "cell_type": "code",
   "execution_count": 14,
   "metadata": {},
   "outputs": [
    {
     "data": {
      "text/plain": [
       "1"
      ]
     },
     "execution_count": 14,
     "metadata": {},
     "output_type": "execute_result"
    }
   ],
   "source": [
    "d = {'bacon': 1, 'ham': 2, 'sausage': 3}\n",
    "# avoid missing key errors by fetching its value with the get method \n",
    "d.get('bacon')"
   ]
  },
  {
   "cell_type": "code",
   "execution_count": 15,
   "metadata": {},
   "outputs": [
    {
     "name": "stdout",
     "output_type": "stream",
     "text": [
      "None\n"
     ]
    }
   ],
   "source": [
    "d = {'bacon': 1, 'ham': 2, 'sausage': 3}\n",
    "# a non existing key is normally an error, but get returns none\n",
    "print(d.get('egg'))"
   ]
  },
  {
   "cell_type": "code",
   "execution_count": 16,
   "metadata": {},
   "outputs": [
    {
     "name": "stdout",
     "output_type": "stream",
     "text": [
      "{'bacon': 1, 'ham': 2, 'sausage': 3, 'juice': 4, 'milk': 5, 'beer': 6}\n"
     ]
    }
   ],
   "source": [
    "eat = {'bacon': 1, 'ham': 2, 'sausage': 3}\n",
    "drink = {'juice': 4, 'milk': 5, 'beer': 6}\n",
    "# update: merges the keys and values of one dictionary into another (overwriting values with same keys)\n",
    "eat.update(drink)\n",
    "print(eat)"
   ]
  },
  {
   "cell_type": "code",
   "execution_count": 17,
   "metadata": {},
   "outputs": [
    {
     "data": {
      "text/plain": [
       "1"
      ]
     },
     "execution_count": 17,
     "metadata": {},
     "output_type": "execute_result"
    }
   ],
   "source": [
    "d = {'bacon': 1, 'ham': 2, 'sausage': 3}\n",
    "# pop: delete and return value from key\n",
    "d.pop('bacon')"
   ]
  }
 ],
 "metadata": {
  "kernelspec": {
   "display_name": "Python 3 (ipykernel)",
   "language": "python",
   "name": "python3"
  },
  "language_info": {
   "codemirror_mode": {
    "name": "ipython",
    "version": 3
   },
   "file_extension": ".py",
   "mimetype": "text/x-python",
   "name": "python",
   "nbconvert_exporter": "python",
   "pygments_lexer": "ipython3",
   "version": "3.8.10"
  },
  "vscode": {
   "interpreter": {
    "hash": "afa6b98459d80e05b4144fd479eac5a19142374dc66200d5898f2a74d54d80d3"
   }
  }
 },
 "nbformat": 4,
 "nbformat_minor": 2
}
