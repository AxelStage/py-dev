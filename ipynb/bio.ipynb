{
 "cells": [
  {
   "cell_type": "code",
   "execution_count": null,
   "metadata": {},
   "outputs": [],
   "source": [
    "name: DataWizard\n",
    "location: 🌐 Cloud City, AWS Galaxy\n",
    "occupation: Data Engineer 👷‍♂️ | Data Scientist 🧬 | Code Artisan 💻\n",
    "\n",
    "\n",
    "\n"
   ]
  },
  {
   "cell_type": "code",
   "execution_count": 8,
   "metadata": {},
   "outputs": [
    {
     "name": "stdout",
     "output_type": "stream",
     "text": [
      "😀\n"
     ]
    }
   ],
   "source": [
    "print(\"\\U0001F600\")"
   ]
  },
  {
   "cell_type": "code",
   "execution_count": 15,
   "metadata": {},
   "outputs": [
    {
     "name": "stdout",
     "output_type": "stream",
     "text": [
      "👷\n",
      "💻\n",
      "📈\n",
      "💻\n"
     ]
    }
   ],
   "source": [
    "print(\"\\U0001F477\")\n",
    "print(\"\\U0001F4BB\")\n",
    "print(\"\\U0001F4C8\")\n",
    "print(\"\\U0001F4BB\")"
   ]
  },
  {
   "cell_type": "code",
   "execution_count": null,
   "metadata": {},
   "outputs": [],
   "source": [
    "# Data Engineer Recipe\n",
    "\n",
    "class DataEngineer:\n",
    "    def __init__(self, name, location):\n",
    "        self.name = name\n",
    "        self.location = location\n",
    "        self._occupation = \"Data Engineer\"\n",
    "\n",
    "    @property\n",
    "    def about_me(self):\n",
    "        pass\n",
    "\n",
    "class DataEngineering:\n",
    "    def __init__(self):\n",
    "        self.languages = (\"Python\", \"SQL\", \"Bash\", \"JavaScript\")\n",
    "        self.tools =  (\"Spark\", \"Kafka\", \"Terraform\", \"dbt\", \"Airflow\")\n",
    "        self.csp = \"AWS\"\n",
    "\n",
    "    @property\n",
    "    def skills(self):\n",
    "        pass\n",
    "\n",
    "class SoftSkills:\n",
    "\n",
    "\n",
    "if __name__ == \"__main__\":\n",
    "\n"
   ]
  }
 ],
 "metadata": {
  "kernelspec": {
   "display_name": ".venv",
   "language": "python",
   "name": "python3"
  },
  "language_info": {
   "codemirror_mode": {
    "name": "ipython",
    "version": 3
   },
   "file_extension": ".py",
   "mimetype": "text/x-python",
   "name": "python",
   "nbconvert_exporter": "python",
   "pygments_lexer": "ipython3",
   "version": "3.11.6"
  }
 },
 "nbformat": 4,
 "nbformat_minor": 2
}
