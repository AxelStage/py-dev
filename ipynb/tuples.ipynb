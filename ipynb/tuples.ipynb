{
 "cells": [
  {
   "cell_type": "markdown",
   "metadata": {},
   "source": [
    "<h1>Tuples</h1>\n",
    "<h3>Main properties</h3>\n",
    "<ul>\n",
    "    <li>Ordered collections of arbitrary objects</li>\n",
    "    <li>Left to right positional ordering of containing objects</li>\n",
    "    <li>Items in lists are ordered by their position</li>\n",
    "    <li>Immutable sequence: Don't support any in-place change operations</li>\n",
    "    <li>Accessed by offset: support all offset-based access operations</li>\n",
    "    <li>Fixed-length: Can not change the size of the tuple without making a copy</li>\n",
    "    <li>Heterogeneous: Can contain any sort of object (string, number, list, dictionary, ...)</li>\n",
    "    <li>Arbitraribly nestable: Can contain nested complex objects</li>\n",
    "    <li>Arrays of object references: Tuples store access points to other objects references</li>\n",
    "</ul>"
   ]
  },
  {
   "cell_type": "markdown",
   "metadata": {},
   "source": [
    "<h3>Tuple initialization</h3>"
   ]
  },
  {
   "cell_type": "code",
   "execution_count": 1,
   "metadata": {},
   "outputs": [
    {
     "name": "stdout",
     "output_type": "stream",
     "text": [
      "() ('a',) ('a', 1, 'dev', 9.9) ('a', 1, 'dev', 9.9) ('a', 1, ('dev', 9.9)) ('s', 'p', 'a', 'm')\n"
     ]
    }
   ],
   "source": [
    "# tuple assignment\n",
    "t1 = () # empty tuple\n",
    "t2 = ('a',) # one item tuple, traling comma indicates that it is not a simple expression\n",
    "t3 = ('a', 1, 'dev', 9.9) # four item tuple\n",
    "t4 = 'a', 1, 'dev', 9.9 # another four item tuple\n",
    "t5 = ('a', 1, ('dev', 9.9)) # nested tuple\n",
    "t6 = tuple('spam') # tuple of items in an iterable\n",
    "print(t1, t2, t3, t4, t5, t6)\n",
    "del t1,t2,t3,t4,t5,t6"
   ]
  },
  {
   "cell_type": "markdown",
   "metadata": {},
   "source": [
    "<h3>Sequence operations</h3>"
   ]
  },
  {
   "cell_type": "code",
   "execution_count": 2,
   "metadata": {},
   "outputs": [
    {
     "data": {
      "text/plain": [
       "(1, 2, 3, 4, 5, 6)"
      ]
     },
     "execution_count": 2,
     "metadata": {},
     "output_type": "execute_result"
    }
   ],
   "source": [
    "# concatenation\n",
    "(1,2,3) + (4,5,6)"
   ]
  },
  {
   "cell_type": "code",
   "execution_count": 3,
   "metadata": {},
   "outputs": [
    {
     "data": {
      "text/plain": [
       "(1, 2, 3, 1, 2, 3, 1, 2, 3)"
      ]
     },
     "execution_count": 3,
     "metadata": {},
     "output_type": "execute_result"
    }
   ],
   "source": [
    "# repetition\n",
    "(1,2,3) * 3"
   ]
  },
  {
   "cell_type": "code",
   "execution_count": 4,
   "metadata": {},
   "outputs": [
    {
     "data": {
      "text/plain": [
       "('a', ('a', 3.3))"
      ]
     },
     "execution_count": 4,
     "metadata": {},
     "output_type": "execute_result"
    }
   ],
   "source": [
    "# indexing, slicing\n",
    "t = (1,'a',3.3)\n",
    "t[1], t[1:3]"
   ]
  },
  {
   "cell_type": "markdown",
   "metadata": {},
   "source": [
    "<h3>Tuple iterations</h3>"
   ]
  },
  {
   "cell_type": "code",
   "execution_count": 5,
   "metadata": {},
   "outputs": [
    {
     "name": "stdout",
     "output_type": "stream",
     "text": [
      "1\ta\t3.3\t"
     ]
    }
   ],
   "source": [
    "# for loop iteration\n",
    "t = (1, 'a', 3.3)\n",
    "for idx in t:\n",
    "    print(idx, end='\\t')\n",
    "del idx"
   ]
  },
  {
   "cell_type": "code",
   "execution_count": 6,
   "metadata": {},
   "outputs": [
    {
     "data": {
      "text/plain": [
       "True"
      ]
     },
     "execution_count": 6,
     "metadata": {},
     "output_type": "execute_result"
    }
   ],
   "source": [
    "# Membership\n",
    "'a' in (1,'a',3.3)"
   ]
  },
  {
   "cell_type": "markdown",
   "metadata": {},
   "source": [
    "<h3>Tuple methods</h3>"
   ]
  },
  {
   "cell_type": "code",
   "execution_count": 7,
   "metadata": {},
   "outputs": [
    {
     "data": {
      "text/plain": [
       "2"
      ]
     },
     "execution_count": 7,
     "metadata": {},
     "output_type": "execute_result"
    }
   ],
   "source": [
    "t = (1, 'a', 3.3)\n",
    "# index\n",
    "t.index(3.3) # offset of 1st appearance"
   ]
  },
  {
   "cell_type": "code",
   "execution_count": 8,
   "metadata": {},
   "outputs": [
    {
     "data": {
      "text/plain": [
       "3"
      ]
     },
     "execution_count": 8,
     "metadata": {},
     "output_type": "execute_result"
    }
   ],
   "source": [
    "t = (1, 2, 3, 2, 3, 4) \n",
    "# index\n",
    "t.index(2,2) # offset of 2nd appearance"
   ]
  },
  {
   "cell_type": "code",
   "execution_count": 9,
   "metadata": {},
   "outputs": [
    {
     "data": {
      "text/plain": [
       "2"
      ]
     },
     "execution_count": 9,
     "metadata": {},
     "output_type": "execute_result"
    }
   ],
   "source": [
    "# count\n",
    "t.count(2)"
   ]
  },
  {
   "cell_type": "code",
   "execution_count": 10,
   "metadata": {},
   "outputs": [],
   "source": [
    "del t"
   ]
  }
 ],
 "metadata": {
  "kernelspec": {
   "display_name": "Python 3.8.10 ('.venv': venv)",
   "language": "python",
   "name": "python3"
  },
  "language_info": {
   "codemirror_mode": {
    "name": "ipython",
    "version": 3
   },
   "file_extension": ".py",
   "mimetype": "text/x-python",
   "name": "python",
   "nbconvert_exporter": "python",
   "pygments_lexer": "ipython3",
   "version": "3.8.10"
  },
  "orig_nbformat": 4,
  "vscode": {
   "interpreter": {
    "hash": "afa6b98459d80e05b4144fd479eac5a19142374dc66200d5898f2a74d54d80d3"
   }
  }
 },
 "nbformat": 4,
 "nbformat_minor": 2
}
