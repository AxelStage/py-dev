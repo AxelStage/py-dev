{
 "cells": [
  {
   "attachments": {},
   "cell_type": "markdown",
   "metadata": {},
   "source": [
    "<h1>Strings</h1>\n",
    "<h3>Main properties</h3>\n",
    "<ul>\n",
    "    <li>Ordered sequence of characters (letters, digits, symbols, spaces)</li>\n",
    "    <li>Left to right positional ordering of characters by index</li>\n",
    "    <li>Immutable sequence: Cannot be changed in place</li>\n",
    "    <li>Accessed by offset: fetch out a character by an offset</li>\n",
    "    <li>Fixed-length</li>\n",
    "    <li>Homogeneous: Unicode characters</li>\n",
    "    <li>Not nestable: considered atomic</li>\n",
    "    <li>Unicode Support: Python strings support Unicode characters</li>\n",
    "</ul>"
   ]
  },
  {
   "attachments": {},
   "cell_type": "markdown",
   "metadata": {},
   "source": [
    "<h3>Initialization</h3>"
   ]
  },
  {
   "cell_type": "code",
   "execution_count": 3,
   "metadata": {},
   "outputs": [
    {
     "name": "stdout",
     "output_type": "stream",
     "text": [
      " abc123 123.4\n",
      "---\n",
      "multiline\n",
      "---\n"
     ]
    }
   ],
   "source": [
    "str1 = \"\" # empty string\n",
    "str2 = \"abc123\"\n",
    "str3 = str(123.4)\n",
    "str4 = \"\"\"---\n",
    "multiline\n",
    "---\"\"\" # triple quoted block string\n",
    "print(str1, str2, str3)\n",
    "print(str4)\n",
    "del str1, str2, str3, str4"
   ]
  },
  {
   "cell_type": "code",
   "execution_count": 56,
   "metadata": {},
   "outputs": [
    {
     "name": "stdout",
     "output_type": "stream",
     "text": [
      "a\n",
      "b\tc\u0000d\n"
     ]
    }
   ],
   "source": [
    "# escaping\n",
    "str1 = \"a\\nb\\tc\\x00d\"\n",
    "print(str1)\n",
    "del str1"
   ]
  },
  {
   "cell_type": "code",
   "execution_count": 47,
   "metadata": {},
   "outputs": [
    {
     "name": "stdout",
     "output_type": "stream",
     "text": [
      "Hello\n",
      "World\n",
      "\\\n",
      "'\n",
      "\"\n",
      "Hello Worl\n",
      "World\n",
      "Hello\tWorld\n"
     ]
    }
   ],
   "source": [
    "# String backslash characters\n",
    "print(\"Hello\\nWorld\") # Newline (linefeed)\n",
    "print(\"\\\\\") # Backslash (stores one \\)\n",
    "print(\"\\'\") # Single quote (stores ')\n",
    "print(\"\\\"\") # Double quote (stores \")\n",
    "print(\"Hello World\\b\") # Backspace\n",
    "print(\"Hello\\rWorld\") # Carriage return\n",
    "print(\"Hello\\tWorld\") #  Horizontal tab"
   ]
  },
  {
   "cell_type": "code",
   "execution_count": 57,
   "metadata": {},
   "outputs": [
    {
     "name": "stdout",
     "output_type": "stream",
     "text": [
      "a\\nb\\tc\\x00d\n"
     ]
    }
   ],
   "source": [
    "# raw strings (no exscape)\n",
    "str1 = r\"a\\nb\\tc\\x00d\"\n",
    "print(str1)\n",
    "del str1"
   ]
  },
  {
   "cell_type": "code",
   "execution_count": 92,
   "metadata": {},
   "outputs": [
    {
     "data": {
      "text/plain": [
       "b'python'"
      ]
     },
     "execution_count": 92,
     "metadata": {},
     "output_type": "execute_result"
    }
   ],
   "source": [
    "# byte strings\n",
    "\"python\".encode(\"utf8\")"
   ]
  },
  {
   "cell_type": "code",
   "execution_count": 4,
   "metadata": {},
   "outputs": [
    {
     "data": {
      "text/plain": [
       "'spÄm'"
      ]
     },
     "execution_count": 4,
     "metadata": {},
     "output_type": "execute_result"
    }
   ],
   "source": [
    "# unicode strings\n",
    "\"sp\\xc4m\""
   ]
  },
  {
   "attachments": {},
   "cell_type": "markdown",
   "metadata": {},
   "source": [
    "<h4>Indexing and Slicing</h4>"
   ]
  },
  {
   "cell_type": "code",
   "execution_count": 89,
   "metadata": {},
   "outputs": [
    {
     "name": "stdout",
     "output_type": "stream",
     "text": [
      "y o\n",
      "thon py\n",
      "tho\n",
      "python nohtyp pto\n"
     ]
    }
   ],
   "source": [
    "# [ start : end : step ]\n",
    "# start => included\n",
    "# end => excluded\n",
    "# 012345\n",
    "# python\n",
    "s = \"python\"\n",
    "print(s[1], s[-2])\n",
    "print(s[2:], s[:2])\n",
    "print(s[2:5])\n",
    "print(s[::1],s[::-1],s[::2])"
   ]
  },
  {
   "attachments": {},
   "cell_type": "markdown",
   "metadata": {},
   "source": [
    "<h4>Introspection</h4>"
   ]
  },
  {
   "cell_type": "code",
   "execution_count": null,
   "metadata": {},
   "outputs": [
    {
     "data": {
      "text/plain": [
       "str"
      ]
     },
     "metadata": {},
     "output_type": "display_data"
    }
   ],
   "source": [
    "# type\n",
    "type(\"abc\")"
   ]
  },
  {
   "cell_type": "code",
   "execution_count": 9,
   "metadata": {},
   "outputs": [
    {
     "data": {
      "text/plain": [
       "3"
      ]
     },
     "execution_count": 9,
     "metadata": {},
     "output_type": "execute_result"
    }
   ],
   "source": [
    "# length\n",
    "len(\"abc\")"
   ]
  },
  {
   "cell_type": "code",
   "execution_count": 61,
   "metadata": {},
   "outputs": [
    {
     "name": "stdout",
     "output_type": "stream",
     "text": [
      "capitalize casefold center count encode endswith expandtabs find format format_map index isalnum isalpha isascii isdecimal isdigit isidentifier islower isnumeric isprintable isspace istitle isupper join ljust lower lstrip maketrans partition removeprefix removesuffix replace rfind rindex rjust rpartition rsplit rstrip split splitlines startswith strip swapcase title translate upper zfill "
     ]
    }
   ],
   "source": [
    "# class attributes and methods\n",
    "for attribute in dir(\"abc\"):\n",
    "    if not attribute.startswith(\"__\"):\n",
    "        print(attribute, end=\" \")        "
   ]
  },
  {
   "attachments": {},
   "cell_type": "markdown",
   "metadata": {},
   "source": []
  },
  {
   "cell_type": "code",
   "execution_count": null,
   "metadata": {},
   "outputs": [
    {
     "data": {
      "text/plain": [
       "0"
      ]
     },
     "metadata": {},
     "output_type": "display_data"
    }
   ],
   "source": [
    "# count letter\n",
    "\"abbbccc\".count(\"c\")"
   ]
  },
  {
   "cell_type": "code",
   "execution_count": 27,
   "metadata": {},
   "outputs": [
    {
     "data": {
      "text/plain": [
       "1"
      ]
     },
     "execution_count": 27,
     "metadata": {},
     "output_type": "execute_result"
    }
   ],
   "source": [
    "# index/find\n",
    "\"abcb\".index('b') # raise ValueError when the substring is not found.\n",
    "\"abcb\".find('b') "
   ]
  },
  {
   "attachments": {},
   "cell_type": "markdown",
   "metadata": {},
   "source": [
    "<h3>Iteration</h3>"
   ]
  },
  {
   "cell_type": "code",
   "execution_count": 5,
   "metadata": {},
   "outputs": [
    {
     "name": "stdout",
     "output_type": "stream",
     "text": [
      "a\n",
      "b\n",
      "c\n"
     ]
    }
   ],
   "source": [
    "# character based iteration\n",
    "for character in \"abc\":\n",
    "    print(character)\n",
    "del character"
   ]
  },
  {
   "cell_type": "code",
   "execution_count": 62,
   "metadata": {},
   "outputs": [
    {
     "name": "stdout",
     "output_type": "stream",
     "text": [
      "0 a\n",
      "1 b\n",
      "2 c\n"
     ]
    }
   ],
   "source": [
    "# index based iteration\n",
    "for index in range(len(\"abc\")):\n",
    "    print(index, \"abc\"[index])\n",
    "del index"
   ]
  },
  {
   "cell_type": "code",
   "execution_count": 71,
   "metadata": {},
   "outputs": [
    {
     "name": "stdout",
     "output_type": "stream",
     "text": [
      "a b c\n"
     ]
    }
   ],
   "source": [
    "# generator based iteration\n",
    "iterator  = iter(\"abc\")\n",
    "print(next(iterator), next(iterator), next(iterator))"
   ]
  },
  {
   "attachments": {},
   "cell_type": "markdown",
   "metadata": {},
   "source": [
    "<h4>Transformation</h4>"
   ]
  },
  {
   "cell_type": "code",
   "execution_count": 23,
   "metadata": {},
   "outputs": [
    {
     "data": {
      "text/plain": [
       "'abc123'"
      ]
     },
     "execution_count": 23,
     "metadata": {},
     "output_type": "execute_result"
    }
   ],
   "source": [
    "# concatenation operation\n",
    "\"abc\" + \"123\""
   ]
  },
  {
   "cell_type": "code",
   "execution_count": 24,
   "metadata": {},
   "outputs": [
    {
     "data": {
      "text/plain": [
       "'abcabcabc'"
      ]
     },
     "execution_count": 24,
     "metadata": {},
     "output_type": "execute_result"
    }
   ],
   "source": [
    "# repetition\n",
    "\"abc\" * 3"
   ]
  },
  {
   "cell_type": "code",
   "execution_count": 85,
   "metadata": {},
   "outputs": [
    {
     "data": {
      "text/plain": [
       "['Hello', 'World']"
      ]
     },
     "execution_count": 85,
     "metadata": {},
     "output_type": "execute_result"
    }
   ],
   "source": [
    "# split character sequence by seperator into a list\n",
    "\"Hello World\".split(\" \")"
   ]
  },
  {
   "cell_type": "code",
   "execution_count": 89,
   "metadata": {},
   "outputs": [
    {
     "data": {
      "text/plain": [
       "('I like apples but I ', 'love', ' oranges.')"
      ]
     },
     "execution_count": 89,
     "metadata": {},
     "output_type": "execute_result"
    }
   ],
   "source": [
    "# partition, splits a string into three parts based on a specified separator\n",
    "\"I like apples but I love oranges.\".partition(\"love\")"
   ]
  },
  {
   "cell_type": "code",
   "execution_count": null,
   "metadata": {},
   "outputs": [
    {
     "data": {
      "text/plain": [
       "'abc'"
      ]
     },
     "metadata": {},
     "output_type": "display_data"
    }
   ],
   "source": [
    "# strips all whitespace characters from both ends.\n",
    "\" abc \".strip()"
   ]
  },
  {
   "cell_type": "code",
   "execution_count": 26,
   "metadata": {},
   "outputs": [
    {
     "data": {
      "text/plain": [
       "'Hello'"
      ]
     },
     "execution_count": 26,
     "metadata": {},
     "output_type": "execute_result"
    }
   ],
   "source": [
    "# strips all passed in characters from both ends.\n",
    "\"accaHelloacacccaaa\".strip(\"ac\")"
   ]
  },
  {
   "cell_type": "code",
   "execution_count": 33,
   "metadata": {},
   "outputs": [
    {
     "data": {
      "text/plain": [
       "'pay me'"
      ]
     },
     "execution_count": 33,
     "metadata": {},
     "output_type": "execute_result"
    }
   ],
   "source": [
    "# replaces first with second parameter\n",
    "\"pay you\".replace(\"you\", \"me\")"
   ]
  },
  {
   "cell_type": "code",
   "execution_count": 34,
   "metadata": {},
   "outputs": [
    {
     "data": {
      "text/plain": [
       "'WORK MORE'"
      ]
     },
     "execution_count": 34,
     "metadata": {},
     "output_type": "execute_result"
    }
   ],
   "source": [
    "# upper-case letters\n",
    "\"work harder\".upper()"
   ]
  },
  {
   "cell_type": "code",
   "execution_count": 37,
   "metadata": {},
   "outputs": [
    {
     "data": {
      "text/plain": [
       "'get out'"
      ]
     },
     "execution_count": 37,
     "metadata": {},
     "output_type": "execute_result"
    }
   ],
   "source": [
    "# lower-case letters\n",
    "\"GET OUT\".lower()"
   ]
  },
  {
   "cell_type": "code",
   "execution_count": 38,
   "metadata": {},
   "outputs": [
    {
     "data": {
      "text/plain": [
       "'a+b+c+d'"
      ]
     },
     "execution_count": 38,
     "metadata": {},
     "output_type": "execute_result"
    }
   ],
   "source": [
    "# joins elements using string as a separator.\n",
    "\"+\".join(\"abcd\")       "
   ]
  },
  {
   "cell_type": "code",
   "execution_count": 38,
   "metadata": {},
   "outputs": [
    {
     "data": {
      "text/plain": [
       "'Hello my friend'"
      ]
     },
     "execution_count": 38,
     "metadata": {},
     "output_type": "execute_result"
    }
   ],
   "source": [
    "# capitalize words\n",
    "\"hello my friend\".capitalize()"
   ]
  },
  {
   "cell_type": "code",
   "execution_count": 117,
   "metadata": {},
   "outputs": [
    {
     "data": {
      "text/plain": [
       "'Hello My Friend'"
      ]
     },
     "execution_count": 117,
     "metadata": {},
     "output_type": "execute_result"
    }
   ],
   "source": [
    "# title \n",
    "\"hello my Friend\".title()"
   ]
  },
  {
   "cell_type": "code",
   "execution_count": 109,
   "metadata": {},
   "outputs": [
    {
     "data": {
      "text/plain": [
       "'hello my friend ss'"
      ]
     },
     "execution_count": 109,
     "metadata": {},
     "output_type": "execute_result"
    }
   ],
   "source": [
    "# casefold, performs caseless string comparison or normalization:\n",
    "\"hEllo mY Friend ß\".casefold()"
   ]
  },
  {
   "cell_type": "code",
   "execution_count": 82,
   "metadata": {},
   "outputs": [
    {
     "data": {
      "text/plain": [
       "'hELLO wORLD'"
      ]
     },
     "execution_count": 82,
     "metadata": {},
     "output_type": "execute_result"
    }
   ],
   "source": [
    "# swapcase swaps the case of each character in the string. \n",
    "# uppercase letters are converted to lowercase, and lowercase letters are converted to uppercase.\n",
    "\"Hello World\".swapcase()"
   ]
  },
  {
   "cell_type": "code",
   "execution_count": 94,
   "metadata": {},
   "outputs": [
    {
     "data": {
      "text/plain": [
       "'...1st....'"
      ]
     },
     "execution_count": 94,
     "metadata": {},
     "output_type": "execute_result"
    }
   ],
   "source": [
    "# center\n",
    "\"1st\".center(10,\".\")"
   ]
  },
  {
   "cell_type": "code",
   "execution_count": 79,
   "metadata": {},
   "outputs": [
    {
     "data": {
      "text/plain": [
       "'H€ll0, w0rld!'"
      ]
     },
     "execution_count": 79,
     "metadata": {},
     "output_type": "execute_result"
    }
   ],
   "source": [
    "# Creating a translation table using maketrans\n",
    "original_chars = \"eo\"\n",
    "replacement_chars = \"€0\"\n",
    "translation_table = str.maketrans(original_chars, replacement_chars)\n",
    "\"Hello, world!\".translate(translation_table)"
   ]
  },
  {
   "cell_type": "code",
   "execution_count": 81,
   "metadata": {},
   "outputs": [
    {
     "data": {
      "text/plain": [
       "'000123'"
      ]
     },
     "execution_count": 81,
     "metadata": {},
     "output_type": "execute_result"
    }
   ],
   "source": [
    "# zfill pads the string with leading zeros to make it the specified width\n",
    "\"123\".zfill(6)"
   ]
  },
  {
   "attachments": {},
   "cell_type": "markdown",
   "metadata": {},
   "source": [
    "<h4>Testing</h4>"
   ]
  },
  {
   "cell_type": "code",
   "execution_count": 29,
   "metadata": {},
   "outputs": [
    {
     "data": {
      "text/plain": [
       "True"
      ]
     },
     "execution_count": 29,
     "metadata": {},
     "output_type": "execute_result"
    }
   ],
   "source": [
    "# member\n",
    "\"l\" in \"Hallo\"\n"
   ]
  },
  {
   "cell_type": "code",
   "execution_count": 57,
   "metadata": {},
   "outputs": [
    {
     "data": {
      "text/plain": [
       "True"
      ]
     },
     "execution_count": 57,
     "metadata": {},
     "output_type": "execute_result"
    }
   ],
   "source": [
    "# start\n",
    "\"My name is nobody\".startswith(\"My\") # case sensitive"
   ]
  },
  {
   "cell_type": "code",
   "execution_count": 33,
   "metadata": {},
   "outputs": [
    {
     "data": {
      "text/plain": [
       "True"
      ]
     },
     "execution_count": 33,
     "metadata": {},
     "output_type": "execute_result"
    }
   ],
   "source": [
    "# end \n",
    "\"My name is nobody\".endswith('nobody') # case sensitive"
   ]
  },
  {
   "cell_type": "code",
   "execution_count": 101,
   "metadata": {},
   "outputs": [
    {
     "data": {
      "text/plain": [
       "True"
      ]
     },
     "execution_count": 101,
     "metadata": {},
     "output_type": "execute_result"
    }
   ],
   "source": [
    "# True if all characters in the string are alphabetic and there is at least one character\n",
    "\"python\".isalpha()"
   ]
  },
  {
   "cell_type": "code",
   "execution_count": 100,
   "metadata": {},
   "outputs": [
    {
     "data": {
      "text/plain": [
       "True"
      ]
     },
     "execution_count": 100,
     "metadata": {},
     "output_type": "execute_result"
    }
   ],
   "source": [
    "# True if all characters in the string are alphanumeric and there is at least one character\n",
    "\"python3\".isalnum()"
   ]
  },
  {
   "cell_type": "code",
   "execution_count": 114,
   "metadata": {},
   "outputs": [
    {
     "data": {
      "text/plain": [
       "True"
      ]
     },
     "execution_count": 114,
     "metadata": {},
     "output_type": "execute_result"
    }
   ],
   "source": [
    "# True if all characters in the string are decimal characters and there is at least one character\n",
    "\"33\".isdecimal()"
   ]
  },
  {
   "cell_type": "code",
   "execution_count": 122,
   "metadata": {},
   "outputs": [
    {
     "data": {
      "text/plain": [
       "True"
      ]
     },
     "execution_count": 122,
     "metadata": {},
     "output_type": "execute_result"
    }
   ],
   "source": [
    "# True if all characters in the string are decimal characters and there is at least one character\n",
    "\"123\".isdigit()"
   ]
  },
  {
   "attachments": {},
   "cell_type": "markdown",
   "metadata": {},
   "source": [
    "<h4>f-strings</h4>\n",
    "<p>f-strings to interpolate expressions and\n",
    "apply formatting</p>"
   ]
  },
  {
   "cell_type": "code",
   "execution_count": 146,
   "metadata": {},
   "outputs": [
    {
     "name": "stdout",
     "output_type": "stream",
     "text": [
      "My name is nobody    !\n",
      "My name is no!\n",
      "My name is no        !\n",
      "My name is 'nobody'!\n",
      "My name is nobody    !\n",
      "My name is     nobody!\n",
      "My name is   nobody  !\n",
      "My name is ..nobody..!\n"
     ]
    }
   ],
   "source": [
    "# interpolate variables, strings\n",
    "who = \"nobody\"\n",
    "print(f\"My name is {who:10}!\") # fixed length\n",
    "print(f\"My name is {who:.2}!\") # cut length\n",
    "print(f\"My name is {who:10.2}!\") \n",
    "print(f\"My name is {who!r}!\") # add quotes\n",
    "print(f\"My name is {who:<10}!\") # fixed length, align left\n",
    "print(f\"My name is {who:>10}!\") # fixed length, align right\n",
    "print(f\"My name is {who:^10}!\") # fixed length, align middle\n",
    "print(f\"My name is {who:.^10}!\") # fixed length, align middle, fill spaces"
   ]
  },
  {
   "cell_type": "code",
   "execution_count": 153,
   "metadata": {},
   "outputs": [
    {
     "name": "stdout",
     "output_type": "stream",
     "text": [
      "My name is nob!\n",
      "My name is NOBODY!\n",
      "She holds 4 aces.\n"
     ]
    }
   ],
   "source": [
    "# interpolate expressions, strings\n",
    "who = \"nobody\"\n",
    "print(f\"My name is {who[:3]}!\")\n",
    "print(f\"My name is {who.upper()}!\")\n",
    "print(f\"She holds {sum([1,1,1,1])} aces.\")"
   ]
  },
  {
   "cell_type": "code",
   "execution_count": 171,
   "metadata": {},
   "outputs": [
    {
     "name": "stdout",
     "output_type": "stream",
     "text": [
      "Please call: 123456789!\n",
      "Please call:  123456789!\n",
      "Please call: 123,456,789!\n",
      "Please call: 123_456_789!\n",
      "Please call:   +123456789!\n",
      "Please call: +  123456789!\n",
      "Please call:   -123456789!\n",
      "Please call: -  123456789!\n"
     ]
    }
   ],
   "source": [
    "# number\n",
    "number = 123456789\n",
    "print(f\"Please call: {number}!\")\n",
    "print(f\"Please call: {number: }!\")\n",
    "print(f\"Please call: {number:,}!\")\n",
    "print(f\"Please call: {number:_}!\")\n",
    "print(f\"Please call: {number:+12}!\")\n",
    "print(f\"Please call: {number:=+12}!\")\n",
    "print(f\"Please call: {-number:12}!\")\n",
    "print(f\"Please call: {-number:=12}!\")"
   ]
  },
  {
   "cell_type": "code",
   "execution_count": 198,
   "metadata": {},
   "outputs": [
    {
     "name": "stdout",
     "output_type": "stream",
     "text": [
      "     1.235\n",
      "1.2346\n",
      "1.2340e-04\n",
      "123.46%\n",
      "6\n",
      "8\n"
     ]
    }
   ],
   "source": [
    "# float\n",
    "float = 1.23456\n",
    "print(f\"{float:10.4}\") # \n",
    "print(f\"{float:.4f}\")\n",
    "print(f\"{0.0001234:.4e}\")\n",
    "print(f\"{float:.2%}\")\n",
    "print(f\"{6.5:.0f}\") # when rounding up and down are possible, even rounded down\n",
    "print(f\"{7.5:.0f}\") # odd rounded up"
   ]
  },
  {
   "cell_type": "code",
   "execution_count": 224,
   "metadata": {},
   "outputs": [
    {
     "name": "stdout",
     "output_type": "stream",
     "text": [
      "A\n",
      "1000001\n",
      "41\n"
     ]
    }
   ],
   "source": [
    "# conversion\n",
    "number = 65\n",
    "print(f\"{number:c}\") # ASCII\n",
    "print(f\"{number:b}\") # byte code\n",
    "print(f\"{number:X}\") # hex \n"
   ]
  }
 ],
 "metadata": {
  "kernelspec": {
   "display_name": "Python 3.8.10 ('.venv': venv)",
   "language": "python",
   "name": "python3"
  },
  "language_info": {
   "codemirror_mode": {
    "name": "ipython",
    "version": 3
   },
   "file_extension": ".py",
   "mimetype": "text/x-python",
   "name": "python",
   "nbconvert_exporter": "python",
   "pygments_lexer": "ipython3",
   "version": "3.10.7"
  },
  "orig_nbformat": 4,
  "vscode": {
   "interpreter": {
    "hash": "afa6b98459d80e05b4144fd479eac5a19142374dc66200d5898f2a74d54d80d3"
   }
  }
 },
 "nbformat": 4,
 "nbformat_minor": 2
}
