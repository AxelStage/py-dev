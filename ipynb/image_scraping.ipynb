{
 "cells": [
  {
   "cell_type": "markdown",
   "metadata": {},
   "source": [
    "### Dependancies\n",
    " - tesseract-ocr (sudo apt-get install tesseract-ocr)\n",
    " - Pillow (python3 -m pip install Pillow)"
   ]
  },
  {
   "cell_type": "code",
   "execution_count": 1,
   "metadata": {},
   "outputs": [],
   "source": [
    "from PIL import Image\n",
    "import pytesseract\n",
    "import re\n",
    "import os"
   ]
  },
  {
   "cell_type": "markdown",
   "metadata": {},
   "source": [
    "### Parse Image"
   ]
  },
  {
   "cell_type": "code",
   "execution_count": 2,
   "metadata": {},
   "outputs": [],
   "source": [
    "def parse_image_text(image_path: str) -> str:\n",
    "\n",
    "    with Image.open(image_path) as image:\n",
    "        config = ('-l eng --oem 1 --psm 3')\n",
    "        text = pytesseract.image_to_string(image, config=config)\n",
    "\n",
    "    return text"
   ]
  },
  {
   "cell_type": "markdown",
   "metadata": {},
   "source": [
    "### Extract course"
   ]
  },
  {
   "cell_type": "code",
   "execution_count": 3,
   "metadata": {},
   "outputs": [],
   "source": [
    "def get_course(text: str) -> str:\n",
    "    regex = r\"COMPLETION(.*)Instructors\"\n",
    "    regex_object = re.compile(regex, re.DOTALL)\n",
    "    match = regex_object.search(text)\n",
    "    if match == None:\n",
    "        regex = r\"udemy(.*)Instructors\"\n",
    "        regex_object = re.compile(regex, re.DOTALL)\n",
    "        match = regex_object.search(text)\n",
    "\n",
    "    return match.group(0)"
   ]
  },
  {
   "cell_type": "markdown",
   "metadata": {},
   "source": [
    "### Extract Course Finish Date"
   ]
  },
  {
   "cell_type": "code",
   "execution_count": 4,
   "metadata": {},
   "outputs": [],
   "source": [
    "def get_finished(text: str) -> str:\n",
    "    regex = r\"Date(.*)Length\"\n",
    "    regex_object = re.compile(regex, re.DOTALL)\n",
    "    match = regex_object.search(text)\n",
    "\n",
    "    return match.group(0)"
   ]
  },
  {
   "cell_type": "markdown",
   "metadata": {},
   "source": [
    "### Extract Course Length"
   ]
  },
  {
   "cell_type": "code",
   "execution_count": 5,
   "metadata": {},
   "outputs": [],
   "source": [
    "def get_length(text: str) -> str:\n",
    "    regex = r\"Length(.*)total hours\"\n",
    "    regex_object = re.compile(regex, re.DOTALL)\n",
    "    match = regex_object.search(text)\n",
    "\n",
    "    return match.group(0)"
   ]
  },
  {
   "cell_type": "code",
   "execution_count": 6,
   "metadata": {},
   "outputs": [],
   "source": [
    "def clean(text: str) -> str:\n",
    "\n",
    "    clean = text \\\n",
    "            .replace(\"COMPLETION\", \"\") \\\n",
    "            .replace(\"udemy\", \"\") \\\n",
    "            .replace(\"Instructors\", \"\") \\\n",
    "            .replace(\"Date\", \"\") \\\n",
    "            .replace(\"Length\", \"\") \\\n",
    "            .replace(\"total hours\", \"\") \\\n",
    "            .replace(\"\\n\", \" \") \\\n",
    "            .replace(\"  \", \" \")\n",
    "\n",
    "    return clean"
   ]
  },
  {
   "cell_type": "code",
   "execution_count": 7,
   "metadata": {},
   "outputs": [
    {
     "name": "stdout",
     "output_type": "stream",
     "text": [
      " Git & GitHub - The Practical Guide   Feb. 2, 2023   10.5 \n",
      " The \"BigTech\" System Design Interview Bootcamp   Oct. 6, 2023   5.5 \n",
      " [NEW] AWS Certified Data Engineer Associate 2023 - Hands On!   Dec. 28, 2023   21.5 \n",
      " The Complete Cloud Computing Software Architecture Patterns   April 11,2023   4.5 \n",
      " Python Django - The Practical Guide   May 30, 2023   23 \n",
      " Agile Scrum Mastery: Full Project Simulation + Certification   Feb. 1, 2023   6.5 \n",
      " Data Lake in AWS - Easiest Way to Learn [2023]   July 20, 2023   5.5 \n",
      " Clean Code   March 1, 2023   6.5 \n",
      " TOTAL: CompTIA Network+ (N10-008)   Jan. 18, 2023   21.5 \n",
      " Apache Kafka Series - Learn Apache Kafka for Beginners v3   June 17, 2023   8.5 \n",
      " The Complete dbt (Data Build Tool) Bootcamp: Zero to Hero   April 17,2023   5.5 \n",
      " GitHub Actions - The Complete Guide   June 3, 2023   10.5 \n",
      " Math for Data Science Masterclass   Feb. 22, 2023   16 \n",
      " [NEW] Ultimate AWS Certified Database Specialty 2023   July 16,2023   17.5 \n",
      " AWS Certified Data Analytics Specialty 2023 - Hands On!   Aug. 9, 2023   16.5 \n",
      " How to Become a Senior Developer - Beyond coding skills   March 10, 2023   2 \n",
      " Linux Administration: The Complete Linux Bootcamp for 2023   Aug. 20, 2023   22 \n",
      " Running a Web Development Business: The Complete Guide   Nov. 23, 2023   19.5 \n",
      " Mastering Big Data Analytics with PySpark   Dec. 16, 2023   8 \n",
      " CompTIA Security+ (SY0O-601) Complete Course & Exam   Sept. 7, 2023   21.5 \n",
      " The Complete Hands-On Introduction to Apache Airflow   June 10, 2023   3.5 \n",
      " Software Architecture & Design of Modern Large Scale Systems   March 25, 2023   7 \n",
      " Docker & Kubernetes: The Practical Guide [2023 Edition]   April 4, 2023   23.5 \n",
      " Ultimate AWS Certified Solutions Architect Associate SAA-CO3   Dec. 12,2022   27 \n",
      " Software Architecture & System Design Practical Case Studies   Oct. 20, 2023   4 \n",
      " Taming Big Data with Apache Spark and Python - Hands On!   March 11, 2023   7 \n",
      " Build Responsive Real-World Websites with HTML and CSS   Aug. 6, 2023   37.5 \n",
      " Modeling Data Warehouse with Data Vault 2.0   May 7, 2023   6 \n",
      " Python 3: Deep Dive (Part 1 - Functional)   Nov. 13, 2023   46 \n",
      " More than Certified in Terraform   Oct. 4, 2023   12.5 \n"
     ]
    }
   ],
   "source": [
    "path=\"/home/xl/workbooks/freelancer/course/\"\n",
    "files = os.listdir(path)\n",
    "images = [ path + file for file in files if file.endswith(\".jpg\") ]\n",
    "\n",
    "for image in images:\n",
    "    text = parse_image_text(image)\n",
    "\n",
    "    course = get_course(text)\n",
    "    course = clean(course)\n",
    "\n",
    "    finished = get_finished(text)\n",
    "    finished = clean(finished)\n",
    "\n",
    "    length = get_length(text)\n",
    "    length = clean(length)\n",
    "\n",
    "    print(course, finished, length)"
   ]
  }
 ],
 "metadata": {
  "kernelspec": {
   "display_name": ".venv",
   "language": "python",
   "name": "python3"
  },
  "language_info": {
   "codemirror_mode": {
    "name": "ipython",
    "version": 3
   },
   "file_extension": ".py",
   "mimetype": "text/x-python",
   "name": "python",
   "nbconvert_exporter": "python",
   "pygments_lexer": "ipython3",
   "version": "3.11.4"
  }
 },
 "nbformat": 4,
 "nbformat_minor": 2
}
