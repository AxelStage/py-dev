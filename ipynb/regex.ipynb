{
 "cells": [
  {
   "attachments": {},
   "cell_type": "markdown",
   "metadata": {},
   "source": [
    "<h1>Regular Expression - Regex</h1>"
   ]
  },
  {
   "attachments": {},
   "cell_type": "markdown",
   "metadata": {},
   "source": [
    "<h3>Special characters</h3>\n",
    "<table>\n",
    "    <tr>\n",
    "        <th>Character</th>\n",
    "        <th>Name</th>\n",
    "    </tr>\n",
    "    <tr>\n",
    "        <td>´</td>\n",
    "        <td>acute accent</td>\n",
    "    </tr>\n",
    "    <tr>\n",
    "        <td>&</td>\n",
    "        <td>ampersand</td>\n",
    "    </tr>\n",
    "    <tr>\n",
    "        <td>< ></td>\n",
    "        <td>angle brackets</td>\n",
    "    </tr>\n",
    "    <tr>\n",
    "        <td>’</td>\n",
    "        <td>apostrophe (publishing character)</td>\n",
    "    </tr>\n",
    "    <tr>\n",
    "        <td>'</td>\n",
    "        <td>apostrophe (customer-typed text)</td>\n",
    "    </tr>\n",
    "    <tr>\n",
    "        <td>*</td>\n",
    "        <td>asterisk</td>\n",
    "    </tr>\n",
    "    <tr>\n",
    "        <td>@</td>\n",
    "        <td>at sign</td>\n",
    "    </tr>\n",
    "    <tr>\n",
    "        <td>\\</td>\n",
    "        <td>backslash</td>\n",
    "    </tr>\n",
    "    <tr>\n",
    "        <td>{ }</td>\n",
    "        <td>braces (not <em>curly brackets</em>)</td>\n",
    "    </tr>\n",
    "    <tr>\n",
    "        <td>[ ]</td>\n",
    "        <td>brackets</td>\n",
    "    </tr>\n",
    "    <tr>\n",
    "        <td>^</td>\n",
    "        <td>caret, circumflex</td>\n",
    "    </tr>\n",
    "    <tr>\n",
    "        <td>¢</td>\n",
    "        <td>cent sign</td>\n",
    "    </tr>\n",
    "    <tr>\n",
    "        <td>« »</td>\n",
    "        <td>chevrons, opening and closing</td>\n",
    "    </tr>\n",
    "    <tr>\n",
    "        <td>©</td>\n",
    "        <td>copyright symbol</td>\n",
    "    </tr>\n",
    "    <tr>\n",
    "        <td>†</td>\n",
    "        <td>dagger</td>\n",
    "    </tr>\n",
    "    <tr>\n",
    "        <td>°</td>\n",
    "        <td>degree symbol</td>\n",
    "    </tr>\n",
    "    <tr>\n",
    "        <td>÷</td>\n",
    "        <td>division sign</td>\n",
    "    </tr>\n",
    "    <tr>\n",
    "        <td>$</td>\n",
    "        <td>dollar sign</td>\n",
    "    </tr>\n",
    "    <tr>\n",
    "        <td>[[ ]]</td>\n",
    "        <td>double brackets</td>\n",
    "    </tr>\n",
    "    <tr>\n",
    "        <td>…</td>\n",
    "        <td>ellipsis (singular), ellipses (plural)</td>\n",
    "    </tr>\n",
    "    <tr>\n",
    "        <td>–</td>\n",
    "        <td>em dash</td>\n",
    "    </tr>\n",
    "    <tr>\n",
    "        <td>-</td>\n",
    "        <td>en dash</td>\n",
    "    </tr>\n",
    "    <tr>\n",
    "        <td>=</td>\n",
    "        <td>equal sign (not <em>equals</em> sign)</td>\n",
    "    </tr>\n",
    "    <tr>\n",
    "        <td>€</td>\n",
    "        <td>euro symbol</td>\n",
    "    </tr>\n",
    "    <tr>\n",
    "        <td>!</td>\n",
    "        <td>exclamation point (not <em>exclamation mark</em>)</td>\n",
    "    </tr>\n",
    "    <tr>\n",
    "        <td>`</td>\n",
    "        <td>grave accent (not <em>accent grave</em>)</td>\n",
    "    </tr>\n",
    "    <tr>\n",
    "        <td>&gt;</td>\n",
    "        <td>greater than sign</td>\n",
    "    </tr>\n",
    "    <tr>\n",
    "        <td>≥</td>\n",
    "        <td>greater than or equal to sign</td>\n",
    "    </tr>\n",
    "    <tr>\n",
    "        <td>-</td>\n",
    "        <td>hyphen</td>\n",
    "    </tr>\n",
    "    <tr>\n",
    "        <td>\"</td>\n",
    "        <td>inch mark</td>\n",
    "    </tr>\n",
    "    <tr>\n",
    "        <td>&lt;</td>\n",
    "        <td>less than sign</td>\n",
    "    </tr>\n",
    "    <tr>\n",
    "        <td>≤</td>\n",
    "        <td>less than or equal to sign</td>\n",
    "    </tr>\n",
    "    <tr>\n",
    "        <td>-</td>\n",
    "        <td>minus sign (use en dash)</td>\n",
    "    </tr>\n",
    "    <tr>\n",
    "        <td>×</td>\n",
    "        <td>multiplication sign</td>\n",
    "    </tr>\n",
    "    <tr>\n",
    "        <td>≠</td>\n",
    "        <td>not equal to</td>\n",
    "    </tr>\n",
    "    <tr>\n",
    "        <td>#</td>\n",
    "        <td>number sign or hashtag</td>\n",
    "    </tr>\n",
    "    <tr>\n",
    "        <td>¶</td>\n",
    "        <td>paragraph mark</td>\n",
    "    </tr>\n",
    "    <tr>\n",
    "        <td>( )</td>\n",
    "        <td>parentheses (plural), opening or closing parenthesis (singular)</td>\n",
    "    </tr>\n",
    "    <tr>\n",
    "        <td>%</td>\n",
    "        <td>percent</td>\n",
    "    </tr>\n",
    "    <tr>\n",
    "        <td>π</td>\n",
    "        <td>pi</td>\n",
    "    </tr>\n",
    "    <tr>\n",
    "        <td>|</td>\n",
    "        <td>pipe, vertical bar, or OR logical operator</td>\n",
    "    </tr>\n",
    "    <tr>\n",
    "        <td>+</td>\n",
    "        <td>plus sign</td>\n",
    "    </tr>\n",
    "    <tr>\n",
    "        <td>±</td>\n",
    "        <td>plus or minus sign</td>\n",
    "    </tr>\n",
    "    <tr>\n",
    "        <td>?</td>\n",
    "        <td>question mark</td>\n",
    "    </tr>\n",
    "    <tr>\n",
    "        <td>“ ”</td>\n",
    "        <td>quotation marks (not <em>quotes</em> or <em>quote marks</em>)</td>\n",
    "    </tr>\n",
    "    <tr>\n",
    "        <td>\" \"</td>\n",
    "        <td>straight quotation marks (not <em>quotes</em> or <em>quote marks</em>)</td>\n",
    "    </tr>\n",
    "    <tr>\n",
    "        <td>‘ ’</td>\n",
    "        <td>single quotation marks or single curly quotation marks (not <em>quotes</em> or <em>quote marks</em>)</td>\n",
    "    </tr>\n",
    "    <tr>\n",
    "        <td>' '</td>\n",
    "        <td>single straight quotation marks (not <em>quotes</em> or <em>quote marks</em>)</td>\n",
    "    </tr>\n",
    "    <tr>\n",
    "        <td>®</td>\n",
    "        <td>registered trademark symbol</td>\n",
    "    </tr>\n",
    "    <tr>\n",
    "        <td>§</td>\n",
    "        <td>section</td>\n",
    "    </tr>\n",
    "    <tr>\n",
    "        <td>/</td>\n",
    "        <td>slash (not <em>virgule</em>)</td>\n",
    "    </tr>\n",
    "    <tr>\n",
    "        <td>~</td>\n",
    "        <td>tilde</td>\n",
    "    </tr>\n",
    "    <tr>\n",
    "        <td>™</td>\n",
    "        <td>trademark symbol</td>\n",
    "    </tr>\n",
    "    <tr>\n",
    "        <td>_</td>\n",
    "        <td>underscore</td>\n",
    "    </tr>\n",
    "</table>"
   ]
  },
  {
   "cell_type": "code",
   "execution_count": 117,
   "metadata": {},
   "outputs": [],
   "source": [
    "import re"
   ]
  },
  {
   "attachments": {},
   "cell_type": "markdown",
   "metadata": {},
   "source": [
    "<h3>Passing Raw Strings</h3>\n",
    "<ul>\n",
    "    <li>escape characters in Python use the backslash (\\)</li>\n",
    "    <li>string value '\\n' represents a single newline character</li>\n",
    "    <li>need to enter the escape character \\\\ to print a single back­ slash</li>\n",
    "    <li>putting an r before the first quote of the string value, you can mark the string as a raw string, which does not escape characters</li>\n",
    "    <li>regular expressions frequently use backslashes in them, it is convenient to pass raw strings</li>\n",
    "    <li>'\\\\d\\\\d\\\\d-\\\\d\\\\d\\\\d-\\\\d\\\\d\\\\d\\\\d' => r'\\d\\d\\d-\\d\\d\\d-\\d\\d\\d\\d'</li>\n",
    "</ul>"
   ]
  },
  {
   "cell_type": "code",
   "execution_count": 118,
   "metadata": {},
   "outputs": [],
   "source": [
    "text = 'My number is 415-555-4242'\n",
    "regular_expression = r'\\d\\d\\d-\\d\\d\\d-\\d\\d\\d\\d'"
   ]
  },
  {
   "attachments": {},
   "cell_type": "markdown",
   "metadata": {},
   "source": [
    "<h3>Regex Object</h3>\n",
    "<ul>\n",
    "    <li>Passing a string value representing your regular expression to re.compile() returns a Regex pattern object</li>\n",
    "    <li>A Regex object’s search() method searches the string it is passed for any matches to the regex.</li>\n",
    "    <li>search() method will return None if the regex pattern is not found in the string</li>\n",
    "    <li>If the pattern is found, the search() method returns a Match object</li>\n",
    "    <li>Match objects have a group() method that will return the actual matched text from the searched string</li>\n",
    "</ul>"
   ]
  },
  {
   "cell_type": "code",
   "execution_count": 119,
   "metadata": {},
   "outputs": [
    {
     "data": {
      "text/plain": [
       "<re.Match object; span=(13, 25), match='415-555-4242'>"
      ]
     },
     "execution_count": 119,
     "metadata": {},
     "output_type": "execute_result"
    }
   ],
   "source": [
    "regex_pattern_object = re.compile(regular_expression)\n",
    "match = regex_pattern_object.search(text)\n",
    "match"
   ]
  },
  {
   "attachments": {},
   "cell_type": "markdown",
   "metadata": {},
   "source": [
    "<h3>Group method</h3>\n",
    "<ul>\n",
    "    <li>Adding parentheses () will create groups in the regex</li>\n",
    "    <li>Match objects have a group() method that will return the actual matched text from the searched string</li>\n",
    "    <li>use the groups() method to retrieve all the groups at once, useful for multiple-assignment</li>\n",
    "</ul>"
   ]
  },
  {
   "cell_type": "code",
   "execution_count": 120,
   "metadata": {},
   "outputs": [
    {
     "data": {
      "text/plain": [
       "('415', '555-4242', '415-555-4242', ('415', '555-4242'))"
      ]
     },
     "execution_count": 120,
     "metadata": {},
     "output_type": "execute_result"
    }
   ],
   "source": [
    "text = 'My number is 415-555-4242'\n",
    "regular_expression = r'(\\d\\d\\d)-(\\d\\d\\d-\\d\\d\\d\\d)'\n",
    "regex_pattern_object = re.compile(regular_expression)\n",
    "match = regex_pattern_object.search(text)\n",
    "match.group(1), match.group(2), match.group(), match.groups()"
   ]
  },
  {
   "attachments": {},
   "cell_type": "markdown",
   "metadata": {},
   "source": [
    "<h3>Escape special meaning characters</h3>\n",
    "<ul>\n",
    "    <li>escape the characters with a back­slash which have special meaning in regular expressions</li>\n",
    "    <li>for example to search for parentheses, they need to be escaped \\( or the pipe character \\|</li>\n",
    "</ul>"
   ]
  },
  {
   "cell_type": "code",
   "execution_count": 121,
   "metadata": {},
   "outputs": [
    {
     "data": {
      "text/plain": [
       "'(415)'"
      ]
     },
     "execution_count": 121,
     "metadata": {},
     "output_type": "execute_result"
    }
   ],
   "source": [
    "text = 'My number is (415)-555-4242'\n",
    "regular_expression = r'(\\(\\d\\d\\d\\))-(\\d\\d\\d)-(\\d\\d\\d\\d)'\n",
    "regex_pattern_object = re.compile(regular_expression)\n",
    "match = regex_pattern_object.search(text)\n",
    "match.group(1)"
   ]
  },
  {
   "attachments": {},
   "cell_type": "markdown",
   "metadata": {},
   "source": [
    "<h3>Matching Multiple Groups with the Pipe</h3>\n",
    "<ul>\n",
    "    <li>character | is called a pipe</li>\n",
    "    <li>similar like or expression</li>\n",
    "    <li>the first occurrence of matching text will be returned as the match object</li>\n",
    "    <li>You can also use the pipe to match one of several patterns as part of your regex</li>\n",
    "</ul>"
   ]
  },
  {
   "cell_type": "code",
   "execution_count": 122,
   "metadata": {},
   "outputs": [
    {
     "data": {
      "text/plain": [
       "'Batman'"
      ]
     },
     "execution_count": 122,
     "metadata": {},
     "output_type": "execute_result"
    }
   ],
   "source": [
    "text = 'Spiderman, Batman, Batwoman and Superman'\n",
    "regular_expression = r'Superman|Batman'\n",
    "regex_pattern_object = re.compile(regular_expression)\n",
    "match = regex_pattern_object.search(text)\n",
    "match.group()"
   ]
  },
  {
   "cell_type": "code",
   "execution_count": 123,
   "metadata": {},
   "outputs": [
    {
     "data": {
      "text/plain": [
       "('Spiderman', 'Spider')"
      ]
     },
     "execution_count": 123,
     "metadata": {},
     "output_type": "execute_result"
    }
   ],
   "source": [
    "text = 'Spiderman, Batman, Batwoman and Superman'\n",
    "regular_expression = r'(Super|Bat|Spider)man'\n",
    "regex_pattern_object = re.compile(regular_expression)\n",
    "match = regex_pattern_object.search(text)\n",
    "match.group(),match.group(1)"
   ]
  },
  {
   "attachments": {},
   "cell_type": "markdown",
   "metadata": {},
   "source": [
    "<h3>Optional Matching with the Question Mark</h3>\n",
    "<ul>\n",
    "    <li>? character flags the group that precedes it as an optional part of the pattern</li>\n",
    "    <li>match zero or one</li>\n",
    "</ul>"
   ]
  },
  {
   "cell_type": "code",
   "execution_count": 124,
   "metadata": {},
   "outputs": [
    {
     "data": {
      "text/plain": [
       "'Batwoman'"
      ]
     },
     "execution_count": 124,
     "metadata": {},
     "output_type": "execute_result"
    }
   ],
   "source": [
    "text = 'Spiderman, Batwoman, Batman and Superman'\n",
    "regular_expression = r'Bat(wo)?man'\n",
    "regex_pattern_object = re.compile(regular_expression)\n",
    "match = regex_pattern_object.search(text)\n",
    "match.group()"
   ]
  },
  {
   "attachments": {},
   "cell_type": "markdown",
   "metadata": {},
   "source": [
    "<h3>Matching Zero or More with the Star</h3>\n",
    "<ul>\n",
    "    <li>the group that precedes the star can occur any number of times in the text</li>\n",
    "    <li>match zero or more</li>\n",
    "</ul>"
   ]
  },
  {
   "cell_type": "code",
   "execution_count": 125,
   "metadata": {},
   "outputs": [
    {
     "data": {
      "text/plain": [
       "'Batwowowowoman'"
      ]
     },
     "execution_count": 125,
     "metadata": {},
     "output_type": "execute_result"
    }
   ],
   "source": [
    "text = 'The Adventures of Batwowowowoman'\n",
    "regular_expression = r'Bat(wo)*man'\n",
    "regex_pattern_object = re.compile(regular_expression)\n",
    "match = regex_pattern_object.search(text)\n",
    "match.group()"
   ]
  },
  {
   "attachments": {},
   "cell_type": "markdown",
   "metadata": {},
   "source": [
    "<h3>Matching One or More with the Plus</h3>\n",
    "<ul>\n",
    "    <li>a group preceding a plus must appear at least once</li>\n",
    "    <li>match one or more</li>\n",
    "</ul>"
   ]
  },
  {
   "cell_type": "code",
   "execution_count": 126,
   "metadata": {},
   "outputs": [
    {
     "data": {
      "text/plain": [
       "True"
      ]
     },
     "execution_count": 126,
     "metadata": {},
     "output_type": "execute_result"
    }
   ],
   "source": [
    "text = 'The Adventures of Batman'\n",
    "regular_expression = r'Bat(wo)+man'\n",
    "regex_pattern_object = re.compile(regular_expression)\n",
    "match = regex_pattern_object.search(text)\n",
    "match == None"
   ]
  },
  {
   "attachments": {},
   "cell_type": "markdown",
   "metadata": {},
   "source": [
    "<h3>Matching Specific Repetitions with Curly Brackets</h3>\n",
    "<ul>\n",
    "    <li>group that you want to repeat a specific number of times</li>\n",
    "    <li>regex (Ha){3} will match the string 'HaHaHa', but it will not match 'HaHa'</li>\n",
    "    <li>You can also leave out the first or second number in the curly brackets to leave the minimum or maximum unbounded</li>\n",
    "    <li>(Ha){3,} will match three or more instances of the (Ha) group</li>\n",
    "    <li>(Ha){,5} will match zero to five instances</li>\n",
    "    <li>Python’s regular expressions are greedy by default, which means that in ambiguous situations they will match the longest string possible</li>\n",
    "    <li>The non-greedy version of the curly brackets, which matches the shortest string possible, has the closing curly bracket followed by a question mark</li>\n",
    "    <li>question mark can have two meanings in regular expressions: declaring a nongreedy match or flagging an optional group.</li>\n",
    "</ul>"
   ]
  },
  {
   "cell_type": "code",
   "execution_count": 127,
   "metadata": {},
   "outputs": [
    {
     "data": {
      "text/plain": [
       "'haha'"
      ]
     },
     "execution_count": 127,
     "metadata": {},
     "output_type": "execute_result"
    }
   ],
   "source": [
    "text = 'I start to laugh ha haha hahaha'\n",
    "regex = r'(ha){2}'\n",
    "regex_pattern_object = re.compile(regex)\n",
    "match = regex_pattern_object.search(text)\n",
    "match.group()"
   ]
  },
  {
   "cell_type": "code",
   "execution_count": 128,
   "metadata": {},
   "outputs": [
    {
     "data": {
      "text/plain": [
       "'hahahahaha'"
      ]
     },
     "execution_count": 128,
     "metadata": {},
     "output_type": "execute_result"
    }
   ],
   "source": [
    "text = 'I start to laugh hahahahahahahaha'\n",
    "greedy_regex = r'(ha){2,5}'\n",
    "regex_pattern_object = re.compile(greedy_regex)\n",
    "match = regex_pattern_object.search(text)\n",
    "match.group()"
   ]
  },
  {
   "cell_type": "code",
   "execution_count": 129,
   "metadata": {},
   "outputs": [
    {
     "data": {
      "text/plain": [
       "'haha'"
      ]
     },
     "execution_count": 129,
     "metadata": {},
     "output_type": "execute_result"
    }
   ],
   "source": [
    "text = 'I start to laugh hahahahahahahaha'\n",
    "non_greedy_regex = r'(ha){2,5}?'\n",
    "regex_pattern_object = re.compile(non_greedy_regex)\n",
    "match = regex_pattern_object.search(text)\n",
    "match.group()"
   ]
  },
  {
   "attachments": {},
   "cell_type": "markdown",
   "metadata": {},
   "source": [
    "<h3>findall() Method</h3>\n",
    "<ul>\n",
    "    <li>findall() method will return the strings of every match in the searched string</li>\n",
    "    <li>findall() will not return a Match object but a list of string matches</li>\n",
    "    <li>If there are groups in the regular expression, then findall() will return a list of tuples</li>\n",
    "</ul>"
   ]
  },
  {
   "cell_type": "code",
   "execution_count": 130,
   "metadata": {},
   "outputs": [
    {
     "data": {
      "text/plain": [
       "['415-555-9999', '212-555-0000']"
      ]
     },
     "execution_count": 130,
     "metadata": {},
     "output_type": "execute_result"
    }
   ],
   "source": [
    "text = 'Cell: 415-555-9999 Work: 212-555-0000'\n",
    "regex = r'\\d\\d\\d-\\d\\d\\d-\\d\\d\\d\\d'\n",
    "regex_pattern_object = re.compile(regex)\n",
    "match = regex_pattern_object.findall(text)\n",
    "match"
   ]
  },
  {
   "cell_type": "code",
   "execution_count": 131,
   "metadata": {},
   "outputs": [
    {
     "data": {
      "text/plain": [
       "[('415', '555-9999'), ('212', '555-0000')]"
      ]
     },
     "execution_count": 131,
     "metadata": {},
     "output_type": "execute_result"
    }
   ],
   "source": [
    "text = 'Cell: 415-555-9999 Work: 212-555-0000'\n",
    "regex = r'(\\d\\d\\d)-(\\d\\d\\d-\\d\\d\\d\\d)'\n",
    "regex_pattern_object = re.compile(regex)\n",
    "match = regex_pattern_object.findall(text)\n",
    "match"
   ]
  },
  {
   "attachments": {},
   "cell_type": "markdown",
   "metadata": {},
   "source": [
    "<h3>Character Classes</h3>\n",
    "<p>Shorthand Codes for Common Character Classes</p>\n",
    "<table>\n",
    "    <tr>\n",
    "        <th>Shorthand character class</th>\n",
    "        <th>Represents</th>\n",
    "    </tr>\n",
    "    <tr>\n",
    "        <td>\\d</td>\n",
    "        <td>Any numeric digit from 0 to 9.</td>\n",
    "    </tr>\n",
    "    <tr>\n",
    "        <td>\\D</td>\n",
    "        <td>Any character that is not a numeric digit from 0 to 9.</td>\n",
    "    </tr>\n",
    "    <tr>\n",
    "        <td>\\w</td>\n",
    "        <td>Any letter, numeric digit, or the underscore character. (Think of this as matching “word” characters.)</td>\n",
    "    </tr>\n",
    "    <tr>\n",
    "        <td>\\W</td>\n",
    "        <td>Any character that is not a letter, numeric digit, or the underscore character.</td>\n",
    "    </tr>\n",
    "    <tr>\n",
    "        <td>\\s</td>\n",
    "        <td>Any space, tab, or newline character</td>\n",
    "    </tr>\n",
    "    <tr>\n",
    "        <td>\\S</td>\n",
    "        <td>Any character that is not a space, tab, or newline.</td>\n",
    "    </tr>\n",
    "</table> "
   ]
  },
  {
   "cell_type": "code",
   "execution_count": 132,
   "metadata": {},
   "outputs": [
    {
     "data": {
      "text/plain": [
       "['12 drummers', '11 pipers', '9 ladies', '7 swans']"
      ]
     },
     "execution_count": 132,
     "metadata": {},
     "output_type": "execute_result"
    }
   ],
   "source": [
    "text = '12 drummers, 11 pipers, lords, 9 ladies, 8, 7 swans, ,'\n",
    "regex = r'\\d+\\s\\w+'\n",
    "regex_pattern_object = re.compile(regex)\n",
    "match = regex_pattern_object.findall(text)\n",
    "match"
   ]
  },
  {
   "attachments": {},
   "cell_type": "markdown",
   "metadata": {},
   "source": [
    "<h3>Making Your Own Character Classes</h3>\n",
    "<ul>\n",
    "    <li>You can define your own character class using square brackets [abcABC]</li>\n",
    "    <li>You can also include ranges of letters or numbers by using a hyphen [a-zA-Z0-9]</li>\n",
    "    <li>Note that inside the square brackets, the normal regular expression symbols are not interpreted as such</li>\n",
    "    <li>you do not need to escape the ., *, ?, or () characters with a preceding backslash, [abc?.]</li>\n",
    "    <li>caret character (^) just after the character class’s opening bracket, you can make a negative character class.</li>\n",
    "    <li>A negative character class will match all the characters that are not in the character class</li>\n",
    "</ul>"
   ]
  },
  {
   "cell_type": "code",
   "execution_count": 133,
   "metadata": {},
   "outputs": [
    {
     "data": {
      "text/plain": [
       "['A', 'B', 'a', 'a']"
      ]
     },
     "execution_count": 133,
     "metadata": {},
     "output_type": "execute_result"
    }
   ],
   "source": [
    "text = 'The Adventures of Batman'\n",
    "regex = r'[ABa]'\n",
    "pattern_object = re.compile(regex)\n",
    "match = pattern_object.findall(text)\n",
    "match"
   ]
  },
  {
   "cell_type": "code",
   "execution_count": 134,
   "metadata": {},
   "outputs": [
    {
     "data": {
      "text/plain": [
       "['A', 'a', 'a']"
      ]
     },
     "execution_count": 134,
     "metadata": {},
     "output_type": "execute_result"
    }
   ],
   "source": [
    "text = 'The Adventures of Batman'\n",
    "regex = r'[^B-Zb-z\\s]'\n",
    "pattern_object = re.compile(regex)\n",
    "match = pattern_object.findall(text)\n",
    "match"
   ]
  },
  {
   "attachments": {},
   "cell_type": "markdown",
   "metadata": {},
   "source": [
    "<h3>Caret and Dollar Sign Characters</h3>\n",
    "<ul>\n",
    "    <li>You can also use the caret symbol (^) at the start of a regex to indicate that a match must occur at the beginning of the searched text.</li>\n",
    "    <li>you can put a dollar sign ($) at the end of the regex to indicate the string must end with this regex pattern</li>\n",
    "    <li>you can use the ^ and $ together to indicate that the entire string must match the regex</li>\n",
    "</ul>"
   ]
  },
  {
   "cell_type": "code",
   "execution_count": 139,
   "metadata": {},
   "outputs": [
    {
     "data": {
      "text/plain": [
       "'hello'"
      ]
     },
     "execution_count": 139,
     "metadata": {},
     "output_type": "execute_result"
    }
   ],
   "source": [
    "text = 'hello world'\n",
    "regex = r'^hello'\n",
    "pattern_object = re.compile(regex)\n",
    "match = pattern_object.search(text)\n",
    "match.group()"
   ]
  },
  {
   "cell_type": "code",
   "execution_count": 141,
   "metadata": {},
   "outputs": [
    {
     "data": {
      "text/plain": [
       "'hello'"
      ]
     },
     "execution_count": 141,
     "metadata": {},
     "output_type": "execute_result"
    }
   ],
   "source": [
    "text = 'good evening and hello'\n",
    "regex = r'hello$'\n",
    "pattern_object = re.compile(regex)\n",
    "match = pattern_object.search(text)\n",
    "match.group()"
   ]
  },
  {
   "attachments": {},
   "cell_type": "markdown",
   "metadata": {},
   "source": [
    "<h3>The Dot Character</h3>\n",
    "<ul>\n",
    "    <li>the . (or dot) character in a regular expression is called a wildcard and will match any character except for a newline</li>\n",
    "    <li>the dot character will match just one character</li>\n",
    "    <li>to match an actual dot, escape the dot with a backslash: \\.</li>\n",
    "</ul>"
   ]
  },
  {
   "cell_type": "code",
   "execution_count": 143,
   "metadata": {},
   "outputs": [
    {
     "data": {
      "text/plain": [
       "['cat', 'hat', 'sat', 'lat', 'mat']"
      ]
     },
     "execution_count": 143,
     "metadata": {},
     "output_type": "execute_result"
    }
   ],
   "source": [
    "text = 'The cat in the hat sat on the flat mat.'\n",
    "regex = r'.at'\n",
    "pattern_object = re.compile(regex)\n",
    "match = pattern_object.findall(text)\n",
    "match"
   ]
  },
  {
   "attachments": {},
   "cell_type": "markdown",
   "metadata": {},
   "source": [
    "<h3>Matching Everything with Dot-Star</h3>\n",
    "<ul>\n",
    "    <li>dot-star match everything and anything</li>\n",
    "    <li>dot character means \"any single character except the newline\"</li>\n",
    "    <li>star character means “zero or more of the preceding character.”</li>\n",
    "    <li>dot-star uses greedy mode: It will always try to match the longest possible string</li>\n",
    "    <li>to match the shortest possible string, use the dot, star, and question mark (.*?)</li>\n",
    "</ul>"
   ]
  },
  {
   "cell_type": "code",
   "execution_count": 150,
   "metadata": {},
   "outputs": [
    {
     "data": {
      "text/plain": [
       "[('@dm1n', 'Hog wards')]"
      ]
     },
     "execution_count": 150,
     "metadata": {},
     "output_type": "execute_result"
    }
   ],
   "source": [
    "text = 'First Name: @dm1n Last Name: Hog wards'\n",
    "regex = r'First Name: (.*) Last Name: (.*)'\n",
    "pattern_object = re.compile(regex)\n",
    "match = pattern_object.findall(text)\n",
    "match"
   ]
  },
  {
   "cell_type": "code",
   "execution_count": 156,
   "metadata": {},
   "outputs": [
    {
     "data": {
      "text/plain": [
       "['<To serve man> for dinner.>']"
      ]
     },
     "execution_count": 156,
     "metadata": {},
     "output_type": "execute_result"
    }
   ],
   "source": [
    "text = '<To serve man> for dinner.>'\n",
    "regex = r'<.*>'\n",
    "greedy_pattern_object = re.compile(regex)\n",
    "match = greedy_pattern_object.findall(text)\n",
    "match"
   ]
  },
  {
   "cell_type": "code",
   "execution_count": 155,
   "metadata": {},
   "outputs": [
    {
     "data": {
      "text/plain": [
       "['<To serve man>']"
      ]
     },
     "execution_count": 155,
     "metadata": {},
     "output_type": "execute_result"
    }
   ],
   "source": [
    "text = '<To serve man> for dinner.>'\n",
    "regex = r'<.*?>'\n",
    "non_greedy_pattern_object = re.compile(regex)\n",
    "match = non_greedy_pattern_object.findall(text)\n",
    "match"
   ]
  },
  {
   "attachments": {},
   "cell_type": "markdown",
   "metadata": {},
   "source": [
    "<h3>Matching Newlines with the Dot Character</h3>\n",
    "<ul>\n",
    "    <li>dot-star will match everything except a newline</li>\n",
    "    <li>By passing re.DOTALL as the second argument to re.compile(), you can make the dot character match all characters, including the newline character</li>\n",
    "</ul>"
   ]
  },
  {
   "cell_type": "code",
   "execution_count": 158,
   "metadata": {},
   "outputs": [
    {
     "data": {
      "text/plain": [
       "['the public trust.', 'the innocent.', 'the law.']"
      ]
     },
     "execution_count": 158,
     "metadata": {},
     "output_type": "execute_result"
    }
   ],
   "source": [
    "text = 'Serve the public trust.\\nProtect the innocent.\\nUphold the law.'\n",
    "regex = r'the .*'\n",
    "pattern_object = re.compile(regex)\n",
    "match = pattern_object.findall(text)\n",
    "match"
   ]
  },
  {
   "cell_type": "code",
   "execution_count": 159,
   "metadata": {},
   "outputs": [
    {
     "data": {
      "text/plain": [
       "['the public trust.\\nProtect the innocent.\\nUphold the law.']"
      ]
     },
     "execution_count": 159,
     "metadata": {},
     "output_type": "execute_result"
    }
   ],
   "source": [
    "text = 'Serve the public trust.\\nProtect the innocent.\\nUphold the law.'\n",
    "regex = r'the .*'\n",
    "pattern_object = re.compile(regex, re.DOTALL)\n",
    "match = pattern_object.findall(text)\n",
    "match"
   ]
  },
  {
   "attachments": {},
   "cell_type": "markdown",
   "metadata": {},
   "source": [
    "<h3>Case-Insensitive Matching</h3>\n",
    "<ul>\n",
    "    <li>regular expressions match text with the exact casing you specify</li>\n",
    "    <li>To make your regex case-insensitive, you can pass re.IGNORECASE or re.I</li>\n",
    "</ul>"
   ]
  },
  {
   "cell_type": "code",
   "execution_count": 161,
   "metadata": {},
   "outputs": [
    {
     "data": {
      "text/plain": [
       "'RoboCop'"
      ]
     },
     "execution_count": 161,
     "metadata": {},
     "output_type": "execute_result"
    }
   ],
   "source": [
    "text = 'RoboCop is part man, part machine, all cop.'\n",
    "regex = r'robocop'\n",
    "pattern_object = re.compile(regex, re.IGNORECASE)\n",
    "match = pattern_object.search(text)\n",
    "match.group()"
   ]
  },
  {
   "attachments": {},
   "cell_type": "markdown",
   "metadata": {},
   "source": [
    "<h3>Combining re.IGNORECASE, re.DOTALL, and re.VERBOSE</h3>\n",
    "<ul>\n",
    "    <li>re.compile() function takes only a single value as its second argument</li>\n",
    "    <li>using the pipe character (|) to combine the re.IGNORECASE, re.DOTALL, and re.VERBOSE variables</li>\n",
    "</ul>"
   ]
  },
  {
   "cell_type": "code",
   "execution_count": 167,
   "metadata": {},
   "outputs": [
    {
     "data": {
      "text/plain": [
       "'RoboCop'"
      ]
     },
     "execution_count": 167,
     "metadata": {},
     "output_type": "execute_result"
    }
   ],
   "source": [
    "text = 'RoboCop is part man, part machine, all cop.'\n",
    "regex = r'robocop'\n",
    "pattern_object = re.compile(regex, re.IGNORECASE | re.DOTALL | re.VERBOSE)\n",
    "match = pattern_object.search(text)\n",
    "match.group()"
   ]
  },
  {
   "attachments": {},
   "cell_type": "markdown",
   "metadata": {},
   "source": [
    "<h3>Substituting Strings with the sub() Method</h3>\n",
    "<ul>\n",
    "    <li>Regular expressions can not only find text patterns but can also substitute new text in place of those patterns.</li>\n",
    "    <li>The sub() method for Regex objects is passed two arguments</li>\n",
    "    <li>first argument is a string to replace any matches</li>\n",
    "    <li>second is the string for the regular expression</li>\n",
    "</ul>"
   ]
  },
  {
   "cell_type": "code",
   "execution_count": 165,
   "metadata": {},
   "outputs": [
    {
     "data": {
      "text/plain": [
       "'CENSORED gave the secret documents to CENSORED.'"
      ]
     },
     "execution_count": 165,
     "metadata": {},
     "output_type": "execute_result"
    }
   ],
   "source": [
    "text = 'Agent Alice gave the secret documents to Agent Bob.'\n",
    "regex = r'Agent \\w+'\n",
    "pattern_object = re.compile(regex)\n",
    "match = pattern_object.sub('CENSORED', text)\n",
    "match"
   ]
  },
  {
   "attachments": {},
   "cell_type": "markdown",
   "metadata": {},
   "source": [
    "<h3>Managing Complex Regexes</h3>\n",
    "<ul>\n",
    "    <li>matching complicated text patterns might require long, convoluted regular expressions</li>\n",
    "    <li>you can mitigate this by telling the re.compile() function to ignore whitespace and comments inside the regular expression string</li>\n",
    "    <li># symbol and everything after it to the end of the line are ignored</li>\n",
    "    <li>extra spaces inside the multiline string for the regular expression are not considered part of the text pattern to be matched</li>\n",
    "</ul>"
   ]
  },
  {
   "cell_type": "code",
   "execution_count": 169,
   "metadata": {},
   "outputs": [
    {
     "data": {
      "text/plain": [
       "<re.Match object; span=(13, 25), match='415-555-4242'>"
      ]
     },
     "execution_count": 169,
     "metadata": {},
     "output_type": "execute_result"
    }
   ],
   "source": [
    "text = 'My number is 415-555-4242'\n",
    "regex = re.compile(r'((\\d{3}|\\(\\d{3}\\))?(\\s|-|\\.)?\\d{3}(\\s|-|\\.)\\d{4}(\\s*(ext|x|ext.)\\s*\\d{2,5})?)')\n",
    "pattern_object = re.compile(regex)\n",
    "match = pattern_object.search(text)\n",
    "match"
   ]
  },
  {
   "cell_type": "code",
   "execution_count": 170,
   "metadata": {},
   "outputs": [
    {
     "data": {
      "text/plain": [
       "<re.Match object; span=(13, 25), match='415-555-4242'>"
      ]
     },
     "execution_count": 170,
     "metadata": {},
     "output_type": "execute_result"
    }
   ],
   "source": [
    "text = 'My number is 415-555-4242'\n",
    "regex =  re.compile(r'''(\n",
    "    (\\d{3}|\\(\\d{3}\\))?              # area code\n",
    "    (\\s|-|\\.)?                      # separator\n",
    "    \\d{3}                           # first 3 digits\n",
    "    (\\s|-|\\.)                       # separator\n",
    "    \\d{4}                           # last 4 digits\n",
    "    (\\s*(ext|x|ext.)\\s*\\d{2,5})?    # extension\n",
    "    )''', re.VERBOSE)\n",
    "pattern_object = re.compile(regex)\n",
    "match = pattern_object.search(text)\n",
    "match"
   ]
  },
  {
   "attachments": {},
   "cell_type": "markdown",
   "metadata": {},
   "source": [
    "<h3>template</h3>\n",
    "<ul>\n",
    "    <li>a</li>\n",
    "    <li>b</li>\n",
    "    <li>c</li>\n",
    "</ul>"
   ]
  },
  {
   "attachments": {},
   "cell_type": "markdown",
   "metadata": {},
   "source": [
    "<h3>header 3</h3>\n",
    "<p>paragraph</p>\n",
    "<table>\n",
    "    <tr>\n",
    "        <th>header 1</th>\n",
    "        <th>header 2</th>\n",
    "    </tr>\n",
    "    <tr>\n",
    "        <td>record 1 cell 1</td>\n",
    "        <td>record 1 cell 2</td>\n",
    "    </tr>\n",
    "    <tr>\n",
    "        <td>record 2 cell 1</td>\n",
    "        <td>record 2 cell 2</td>\n",
    "    </tr>\n",
    "</table> "
   ]
  }
 ],
 "metadata": {
  "kernelspec": {
   "display_name": ".venv",
   "language": "python",
   "name": "python3"
  },
  "language_info": {
   "codemirror_mode": {
    "name": "ipython",
    "version": 3
   },
   "file_extension": ".py",
   "mimetype": "text/x-python",
   "name": "python",
   "nbconvert_exporter": "python",
   "pygments_lexer": "ipython3",
   "version": "3.8.10"
  },
  "orig_nbformat": 4,
  "vscode": {
   "interpreter": {
    "hash": "7355f1490518f4e85cc299d3728d3a8935bb01c93396585665a0669833514c8c"
   }
  }
 },
 "nbformat": 4,
 "nbformat_minor": 2
}
