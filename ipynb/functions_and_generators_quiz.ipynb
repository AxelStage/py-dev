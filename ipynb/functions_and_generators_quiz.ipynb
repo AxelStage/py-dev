{
 "cells": [
  {
   "cell_type": "markdown",
   "metadata": {},
   "source": [
    "<h1>PART IV: Functions and Generators</h1>"
   ]
  },
  {
   "cell_type": "markdown",
   "metadata": {},
   "source": [
    "<h2>Chapter 16: Function Basics</h2>"
   ]
  },
  {
   "cell_type": "markdown",
   "metadata": {},
   "source": [
    "<h3>1. What is the point of coding functions?</h3>"
   ]
  },
  {
   "cell_type": "markdown",
   "metadata": {},
   "source": [
    "<p>My answer:</p>\n",
    "<p>\n",
    "Main advantages of functions are:\n",
    "</p>\n",
    "<ul>\n",
    "    <li>most basic unit of code reuse</li>\n",
    "    <li>avoiding code redundancy</li>\n",
    "    <li>better maintainability caused by a single source </li>\n",
    "    <li>callable in a variaty of programs</li>\n",
    "    <li>devide complex systems into manageable parts</li>\n",
    "</ul>"
   ]
  },
  {
   "cell_type": "markdown",
   "metadata": {},
   "source": [
    "<p>Answer:</p>\n",
    "<p hidden>Functions are the most basic way of avoiding code redundancy in Python—factoring code into functions means that we have only one copy of an operation’s code to update in the future. Functions are also the basic unit of code reuse in Python —wrapping code in functions makes it a reusable tool, callable in a variety of programs. Finally, functions allow us to divide a complex system into manageable parts, each of which may be developed individually.</p>"
   ]
  },
  {
   "cell_type": "markdown",
   "metadata": {},
   "source": [
    "<h3>2. At what time does Python create a function?</h3>"
   ]
  },
  {
   "cell_type": "markdown",
   "metadata": {},
   "source": [
    "<p>My answer:</p>\n",
    "<p>A function is created when the python interpreter reaches and runs the def statement of the functions header; this statement creates a function object and assignes it the function's name</p>"
   ]
  },
  {
   "cell_type": "markdown",
   "metadata": {},
   "source": [
    "<p>Answer:</p>\n",
    "<p hidden>A function is created when Python reaches and runs the def statement; this statement creates a function object and assigns it the function’s name. This normally happens when the enclosing module file is imported by another module (recall that imports run the code in a file from top to bottom, including any defs), but it can also occur when a def is typed interactively or nested in other statements, such as\n",
    "ifs.</p>"
   ]
  },
  {
   "cell_type": "markdown",
   "metadata": {},
   "source": [
    "<h3>3. What does a function return if it has no return statement in it?</h3>"
   ]
  },
  {
   "cell_type": "markdown",
   "metadata": {},
   "source": [
    "<p>My answer:</p>\n",
    "<p>Without reaching a return statement the function returns the None object by default.</p>"
   ]
  },
  {
   "cell_type": "markdown",
   "metadata": {},
   "source": [
    "<p>Answer:</p>\n",
    "<p hidden>A function returns the None object by default if the control flow falls off the end of the function body without running into a return statement. Such functions are usually called with expression statements, as assigning their None results to variables is generally pointless. A return statement with no expression in it also returns None.</p>"
   ]
  },
  {
   "cell_type": "markdown",
   "metadata": {},
   "source": [
    "<h3>4. When does the code nested inside the function definition statement run?</h3>"
   ]
  },
  {
   "cell_type": "markdown",
   "metadata": {},
   "source": [
    "<p>My answer:</p>\n",
    "<p>The function body runs when the function is later called with a call expression. The function body runs each time the function is called.</p>"
   ]
  },
  {
   "cell_type": "markdown",
   "metadata": {},
   "source": [
    "<p>Answer:</p>\n",
    "<p hidden>The function body (the code nested inside the function definition statement) is run when the function is later called with a call expression. The body runs anew each time the function is called.</p>"
   ]
  },
  {
   "cell_type": "markdown",
   "metadata": {},
   "source": [
    "<h3>5. What’s wrong with checking the types of objects passed into a function?</h3>"
   ]
  },
  {
   "cell_type": "markdown",
   "metadata": {},
   "source": [
    "<p>My answer:</p>\n",
    "<p>Type checking limits the function's flexibility to spefic types only. Without such checks the function would likely be able to process an entire range of object types which is the preferred way in an dynamically typed language, like python</p>"
   ]
  },
  {
   "cell_type": "markdown",
   "metadata": {},
   "source": [
    "<p>Answer:</p>\n",
    "<p hidden>Checking the types of objects passed into a function effectively breaks the function’s flexibility, constraining the function to work on specific types only. Without such checks, the function would likely be able to process an entire range of object types—any objects that support the interface expected by the function will work. (The term interface means the set of methods and expression operators the function’s code runs.)</p>"
   ]
  },
  {
   "cell_type": "markdown",
   "metadata": {},
   "source": [
    "<h2>Chapter 17: Scopes</h2>"
   ]
  },
  {
   "cell_type": "markdown",
   "metadata": {},
   "source": [
    "<h3>1. What is the output of the following code, and why?</h3>"
   ]
  },
  {
   "cell_type": "code",
   "execution_count": 1,
   "metadata": {},
   "outputs": [
    {
     "name": "stdout",
     "output_type": "stream",
     "text": [
      "Spam\n"
     ]
    }
   ],
   "source": [
    "X = 'Spam'\n",
    "def func():\n",
    "    print(X)\n",
    "func()"
   ]
  },
  {
   "cell_type": "markdown",
   "metadata": {},
   "source": [
    "<p>Output:</p>\n",
    "<p>Spam</p>\n",
    "<p>My answer:</p>\n",
    "<p>The global variable X can be referenced inside function body.</p>"
   ]
  },
  {
   "cell_type": "markdown",
   "metadata": {},
   "source": [
    "<p>Answer:</p>\n",
    "<p hidden>The output here is 'Spam', because the function references a global variable in the enclosing module (because it is not assigned in the function, it is considered global).</p>"
   ]
  },
  {
   "cell_type": "markdown",
   "metadata": {},
   "source": [
    "<h3>2. What is the output of this code, and why?</h3>"
   ]
  },
  {
   "cell_type": "code",
   "execution_count": 4,
   "metadata": {},
   "outputs": [
    {
     "name": "stdout",
     "output_type": "stream",
     "text": [
      "Spam\n"
     ]
    }
   ],
   "source": [
    "X = 'Spam'\n",
    "def func():\n",
    "    X = 'NI!'\n",
    "func()\n",
    "print(X)"
   ]
  },
  {
   "cell_type": "markdown",
   "metadata": {},
   "source": [
    "<p>Output:</p>\n",
    "<p>Spam</p>\n",
    "<p>My answer:</p>\n",
    "<p>The new assignment of X inside the function body makes it a local and hides the global of the same name. The print statement is referencing the global scope of X.</p>"
   ]
  },
  {
   "cell_type": "markdown",
   "metadata": {},
   "source": [
    "<p>Answer:</p>\n",
    "<p hidden>The output here is 'Spam' again because assigning the variable inside the function makes it a local and effectively hides the global of the same name. The print statement finds the variable unchanged in the global (module) scope.</p>"
   ]
  },
  {
   "cell_type": "markdown",
   "metadata": {},
   "source": [
    "<h3>3. What does this code print, and why?</h3>"
   ]
  },
  {
   "cell_type": "code",
   "execution_count": 3,
   "metadata": {},
   "outputs": [
    {
     "name": "stdout",
     "output_type": "stream",
     "text": [
      "NI\n",
      "Spam\n"
     ]
    }
   ],
   "source": [
    "X = 'Spam'\n",
    "def func():\n",
    "    X = 'NI'\n",
    "    print(X)\n",
    "func()\n",
    "print(X)"
   ]
  },
  {
   "cell_type": "markdown",
   "metadata": {},
   "source": [
    "<p>Output:</p>\n",
    "<p>NI<br>Spam</p>\n",
    "<p>My answer:</p>\n",
    "<p>The reference to x inside the function's print statement finds the assigned local, while the other reference finds the global.</p>"
   ]
  },
  {
   "cell_type": "markdown",
   "metadata": {},
   "source": [
    "<p>Answer:</p>\n",
    "<p hidden>It prints 'NI' on one line and 'Spam' on another, because the reference to the variable within the function finds the assigned local and the reference in the print statement finds the global.</p>"
   ]
  },
  {
   "cell_type": "markdown",
   "metadata": {},
   "source": [
    "<h3>4. What output does this code produce? Why?</h3>"
   ]
  },
  {
   "cell_type": "code",
   "execution_count": 2,
   "metadata": {},
   "outputs": [
    {
     "name": "stdout",
     "output_type": "stream",
     "text": [
      "NI\n"
     ]
    }
   ],
   "source": [
    "X = 'Spam'\n",
    "def func():\n",
    "    global X\n",
    "    X = 'NI'\n",
    "func()\n",
    "print(X)"
   ]
  },
  {
   "cell_type": "markdown",
   "metadata": {},
   "source": [
    "<p>Output:</p>\n",
    "<p>NI</p>\n",
    "<p>My answer:</p>\n",
    "<p>The global statement forces the variable inside the function refer to the variable to the enclosing global scope.</p>"
   ]
  },
  {
   "cell_type": "markdown",
   "metadata": {},
   "source": [
    "<p>Answer:</p>\n",
    "<p hidden>This time it just prints 'NI' because the global declaration forces the variable as signed inside the function to refer to the variable in the enclosing global scope.</p>"
   ]
  },
  {
   "cell_type": "markdown",
   "metadata": {},
   "source": [
    "<h3>5. What about this code—what’s the output, and why?</h3>"
   ]
  },
  {
   "cell_type": "code",
   "execution_count": 5,
   "metadata": {},
   "outputs": [
    {
     "name": "stdout",
     "output_type": "stream",
     "text": [
      "NI\n",
      "Spam\n"
     ]
    }
   ],
   "source": [
    "X = 'Spam'\n",
    "def func():\n",
    "    X = 'NI'\n",
    "    def nested():\n",
    "        print(X)\n",
    "    nested()\n",
    "func()\n",
    "print(X)"
   ]
  },
  {
   "cell_type": "markdown",
   "metadata": {},
   "source": [
    "<p>Output:</p>\n",
    "<p>NI<br>Spam</p>\n",
    "<p>My answer:</p>\n",
    "<p>The x inside the nested function refers to the enclosing function's local scope and the other finds x in the global scope.</p>"
   ]
  },
  {
   "cell_type": "markdown",
   "metadata": {},
   "source": [
    "<p>Answer:</p>\n",
    "<p hidden>The output in this case is again 'NI' on one line and 'Spam' on another, because the print statement in the nested function finds the name in the enclosing function’s local scope, and the print at the end finds the variable in the global scope.</p>"
   ]
  },
  {
   "cell_type": "markdown",
   "metadata": {},
   "source": [
    "<h3>6. How about this example: what is its output in Python 3.X, and why?</h3>"
   ]
  },
  {
   "cell_type": "code",
   "execution_count": 6,
   "metadata": {},
   "outputs": [
    {
     "name": "stdout",
     "output_type": "stream",
     "text": [
      "Spam\n"
     ]
    }
   ],
   "source": [
    "def func():\n",
    "    X = 'NI'\n",
    "    def nested():\n",
    "        nonlocal X\n",
    "        X = 'Spam'\n",
    "    nested()\n",
    "    print(X)\n",
    "func()"
   ]
  },
  {
   "cell_type": "markdown",
   "metadata": {},
   "source": [
    "<p>Output:</p>\n",
    "<p>Spam</p>\n",
    "<p>My answer:</p>\n",
    "<p>The nonlocal statement hides local scope of the enclosing function and x is referenced from the assignment in the local scope of the nested function.</p>"
   ]
  },
  {
   "cell_type": "markdown",
   "metadata": {},
   "source": [
    "<p>Answer:</p>\n",
    "<p hidden>This example prints 'Spam', because the nonlocal statement (available in Python 3.X but not 2.X) means that the assignment to X inside the nested function changes X in the enclosing function’s local scope. Without this statement, this assignment would classify X as local to the nested function, making it a different variable; the code would then print 'NI' instead. /p>"
   ]
  },
  {
   "cell_type": "markdown",
   "metadata": {},
   "source": [
    "<h3>7. Name three or more ways to retain state information in a Python function.</h3>"
   ]
  },
  {
   "cell_type": "markdown",
   "metadata": {},
   "source": [
    "<p>My answer:</p>\n",
    "<p></p>\n",
    "<ul>\n",
    "    <li>factory functions</li>\n",
    "    <li>shared global variables</li>\n",
    "    <li>default argument values</li>\n",
    "\n",
    "</ul>"
   ]
  },
  {
   "cell_type": "markdown",
   "metadata": {},
   "source": [
    "<p>Answer:</p>\n",
    "<p hidden>Although the values of local variables go away when a function returns, you can make a Python function retain state information by using shared global variables, enclosing function scope references within nested functions, or using default argument values. Function attributes can sometimes allow state to be attached to the function itself, instead of looked up in scopes. Another alternative, using classes\n",
    "and OOP, sometimes supports state retention better than any of the scope-based techniques because it makes it explicit with attribute assignments; we’ll explore this option in Part VI.</p>"
   ]
  },
  {
   "cell_type": "markdown",
   "metadata": {},
   "source": [
    "<h2>Chapter 18: Arguments</h2>"
   ]
  },
  {
   "cell_type": "markdown",
   "metadata": {},
   "source": [
    "<h3>1. What is the output of the following code, and why?</h3>"
   ]
  },
  {
   "cell_type": "code",
   "execution_count": 7,
   "metadata": {},
   "outputs": [
    {
     "name": "stdout",
     "output_type": "stream",
     "text": [
      "1 2 5\n"
     ]
    }
   ],
   "source": [
    "def func(a, b=4, c=5):\n",
    "    print(a, b, c)\n",
    "func(1, 2)"
   ]
  },
  {
   "cell_type": "markdown",
   "metadata": {},
   "source": [
    "<p>Output:</p>\n",
    "<p>1 2 5</p>\n",
    "<p>My answer:</p>\n",
    "<p>1 and 2 are passed by position, while no value was passed to c in the call, therefore it used its default value.</p>"
   ]
  },
  {
   "cell_type": "markdown",
   "metadata": {},
   "source": [
    "<p>Answer:</p>\n",
    "<p hidden>The output here is 1 2 5, because 1 and 2 are passed to a and b by position, and c is omitted in the call and defaults to 5.</p>"
   ]
  },
  {
   "cell_type": "markdown",
   "metadata": {},
   "source": [
    "<h3>2. What is the output of this code, and why?</h3>"
   ]
  },
  {
   "cell_type": "code",
   "execution_count": 8,
   "metadata": {},
   "outputs": [
    {
     "name": "stdout",
     "output_type": "stream",
     "text": [
      "1 2 3\n"
     ]
    }
   ],
   "source": [
    "def func(a, b, c=5):\n",
    "    print(a, b, c)\n",
    "func(1, c=3, b=2)"
   ]
  },
  {
   "cell_type": "markdown",
   "metadata": {},
   "source": [
    "<p>Output:</p>\n",
    "<p>1 2 3</p>\n",
    "<p>My answer:</p>\n",
    "<p>1 was passed by position while 2 and 3 where passed by name.</p>"
   ]
  },
  {
   "cell_type": "markdown",
   "metadata": {},
   "source": [
    "<p>Answer:</p>\n",
    "<p hidden>The output this time is 1 2 3: 1 is passed to a by position, and b and c are passed 2 and 3 by name (the left-to-right order doesn’t matter when keyword arguments\n",
    "are used like this).</p>"
   ]
  },
  {
   "cell_type": "markdown",
   "metadata": {},
   "source": [
    "<h3>3. How about this code: what is its output, and why?</h3>"
   ]
  },
  {
   "cell_type": "code",
   "execution_count": 9,
   "metadata": {},
   "outputs": [
    {
     "name": "stdout",
     "output_type": "stream",
     "text": [
      "1 (2, 3)\n"
     ]
    }
   ],
   "source": [
    "def func(a, *pargs):\n",
    "    print(a, pargs)\n",
    "func(1, 2, 3)"
   ]
  },
  {
   "cell_type": "markdown",
   "metadata": {},
   "source": [
    "<p>Output:</p>\n",
    "<p>1 (2,3)</p>\n",
    "<p>My answer:</p>\n",
    "<p>1 was passed by position and 2 and 3 are passed as a new tuple object into *pargs.</p>"
   ]
  },
  {
   "cell_type": "markdown",
   "metadata": {},
   "source": [
    "<p>Answer:</p>\n",
    "<p hidden>This code prints 1 (2, 3), because 1 is passed to a and the *pargs collects the remaining positional arguments into a new tuple object. We can step through the\n",
    "extra positional arguments tuple with any iteration tool (e.g., for arg in pargs: ...).</p>"
   ]
  },
  {
   "cell_type": "markdown",
   "metadata": {},
   "source": [
    "<h3>4. What does this code print, and why?</h3>"
   ]
  },
  {
   "cell_type": "code",
   "execution_count": 18,
   "metadata": {},
   "outputs": [
    {
     "name": "stdout",
     "output_type": "stream",
     "text": [
      "1 {'c': 3, 'b': 2}\n"
     ]
    }
   ],
   "source": [
    "def func(a, **kargs):\n",
    "    print(a, kargs)\n",
    "func(a=1, c=3, b=2)"
   ]
  },
  {
   "cell_type": "markdown",
   "metadata": {},
   "source": [
    "<p>Output:</p>\n",
    "<p>1 {'c' :3, 'b': 2}</p>\n",
    "<p>My answer:</p>\n",
    "<p>1 was passed by name and the *kargs collects the remaining keyword arguments into a dictonary.</p>"
   ]
  },
  {
   "cell_type": "markdown",
   "metadata": {},
   "source": [
    "<p>Answer:</p>\n",
    "<p hidden>This time the code prints 1 {'b': 2, 'c': 3}, because 1 is passed to a by name and the **kargs collects the remaining keyword arguments into a dictionary. We\n",
    "could step through the extra keyword arguments dictionary by key with any iteration tool (e.g., for key in kargs: ...). Note that the order of the dictionary’s\n",
    "keys may vary per Python and other variables.</p>"
   ]
  },
  {
   "cell_type": "markdown",
   "metadata": {},
   "source": [
    "<h3>5. What gets printed by this, and why?</h3>"
   ]
  },
  {
   "cell_type": "code",
   "execution_count": 20,
   "metadata": {},
   "outputs": [
    {
     "name": "stdout",
     "output_type": "stream",
     "text": [
      "1 5 6 4\n"
     ]
    }
   ],
   "source": [
    "def func(a, b, c=3, d=4): print(a, b, c, d)\n",
    "func(1, *(5, 6))"
   ]
  },
  {
   "cell_type": "markdown",
   "metadata": {},
   "source": [
    "<p>Output:</p>\n",
    "<p>1 5 6 4</p>\n",
    "<p>My answer:</p>\n",
    "<p>1 is passed by position, the tuple is unpacked to the remaining arguments and d used it's default value because no value was passed to.</p>"
   ]
  },
  {
   "cell_type": "markdown",
   "metadata": {},
   "source": [
    "<p>Answer:</p>\n",
    "<p hidden>The output here is 1 5 6 4: the 1 matches a by position, 5 and 6 match b and c by *name positionals (6 overrides c’s default), and d defaults to 4 because it was not\n",
    "passed a value.</p>"
   ]
  },
  {
   "cell_type": "markdown",
   "metadata": {},
   "source": [
    "<h3>6. One last time: what is the output of this code, and why?</h3>"
   ]
  },
  {
   "cell_type": "code",
   "execution_count": 1,
   "metadata": {},
   "outputs": [
    {
     "data": {
      "text/plain": [
       "(1, ['x'], {'a': 'y'})"
      ]
     },
     "execution_count": 1,
     "metadata": {},
     "output_type": "execute_result"
    }
   ],
   "source": [
    "def func(a, b, c): a = 2; b[0] = 'x'; c['a'] = 'y'\n",
    "l=1; m=[1]; n={'a':0}\n",
    "func(l, m, n)\n",
    "l, m, n"
   ]
  },
  {
   "cell_type": "markdown",
   "metadata": {},
   "source": [
    "<p>Output:</p>\n",
    "<p>1, ['x'], {'a':'y'}</p>\n",
    "<p>My answer:</p>\n",
    "<p>The second and third assigment impact the caller due to changing passed-in mutable objects.</p>"
   ]
  },
  {
   "cell_type": "markdown",
   "metadata": {},
   "source": [
    "<p>Answer:</p>\n",
    "<p hidden>This displays (1, ['x'], {'a': 'y'})—the first assignment in the function doesn’t impact the caller, but the second two do because they change passed-in mutable\n",
    "objects in place.</p>"
   ]
  },
  {
   "cell_type": "markdown",
   "metadata": {},
   "source": [
    "<h2>Chapter 19: Advanced Function Topics</h2>"
   ]
  },
  {
   "cell_type": "markdown",
   "metadata": {},
   "source": [
    "<h3>1. How are lambda expressions and def statements related?</h3>"
   ]
  },
  {
   "cell_type": "markdown",
   "metadata": {},
   "source": [
    "<p>My answer:</p>\n",
    "<ul>\n",
    "    <li>both create function objects to be called later</li>\n",
    "    <li>lambda is an expression and returns a function object instead to assign it to a name</li>\n",
    "    <li>lambda can be used as inline functions where def statement do not work syntactically</li>\n",
    "    <li>lambda allows only a single return value expression</li>\n",
    "    <li>lambda do not support a block of statements</li>\n",
    "</ul>"
   ]
  },
  {
   "cell_type": "markdown",
   "metadata": {},
   "source": [
    "<p>Answer:</p>\n",
    "<p hidden>Both lambda and def create function objects to be called later. Because lambda is an expression, though, it returns a function object instead of assigning it to a name, and it can be used to nest a function definition in places where a def will not work syntactically. A lambda allows for only a single implicit return value expression, though; because it does not support a block of statements, it is not ideal for larger\n",
    "functions.</p>"
   ]
  },
  {
   "cell_type": "markdown",
   "metadata": {},
   "source": [
    "<h3>2. What’s the point of using lambda?</h3>"
   ]
  },
  {
   "cell_type": "markdown",
   "metadata": {},
   "source": [
    "<p>My answer:</p>\n",
    "<ul>\n",
    "    <li>used as small inline units of code</li>\n",
    "    <li>defer its execution</li>\n",
    "    <li>provide state in the form of default arguments and enclosing scope variables</li>\n",
    "    <li>lambda's code is unlikly to by used elsewere in the program</li>\n",
    "    <li>commmonly appear in callback-base programs (GUI) or fucntional tools like: map and filter</li>\n",
    "</ul>"
   ]
  },
  {
   "cell_type": "markdown",
   "metadata": {},
   "source": [
    "<p>Answer:</p>\n",
    "<p hidden>lambdas allow us to “inline” small units of executable code, defer its execution, and provide it with state in the form of default arguments and enclosing scope variables. Using a lambda is never required; you can always code a def instead and reference\n",
    "the function by name. lambdas come in handy, though, to embed small pieces of deferred code that are unlikely to be used elsewhere in a program. They commonly appear in callback-based programs such as GUIs, and they have a natural affinity with functional tools like map and filter that expect a processing function.</p>"
   ]
  },
  {
   "cell_type": "markdown",
   "metadata": {},
   "source": [
    "<h3>3. Compare and contrast map, filter, and reduce.</h3>"
   ]
  },
  {
   "cell_type": "markdown",
   "metadata": {},
   "source": [
    "<p>My answer:</p>\n",
    "<ul>\n",
    "    <li>all three are built-in functions that apply another function to items in a sequence object and collect results</li>\n",
    "    <li>map: Pass each item to a function and collect all results</li>\n",
    "    <li>filter: Collects items which the function returns a True value</li>\n",
    "    <li>reduce: Computes a single value by applying a function to an accumulator</li>\n",
    "</ul>"
   ]
  },
  {
   "cell_type": "markdown",
   "metadata": {},
   "source": [
    "<p>Answer:</p>\n",
    "<p hidden>These three built-in functions all apply another function to items in a sequence (or other iterable) object and collect results. map passes each item to the function and collects all results, filter collects items for which the function returns a True value, and reduce computes a single value by applying the function to an accumulator and successive items. Unlike the other two, reduce is available in the functools module in 3.X, not the built-in scope; reduce is a built-in in 2.X.</p>"
   ]
  },
  {
   "cell_type": "markdown",
   "metadata": {},
   "source": [
    "<h3>4. What are function annotations, and how are they used?</h3>"
   ]
  },
  {
   "cell_type": "markdown",
   "metadata": {},
   "source": [
    "<p>My answer:</p>\n",
    "<p></p>\n",
    "<ul>\n",
    "    <li>Function annotations are syntactic embellishments of a function’s arguments and result</li>\n",
    "    <li>They are collected into a dictionary assigned to the function’s __annotations__ attribute</li>\n",
    "    <li>Python places no semantic meaning on these annotations</li>\n",
    "</ul>"
   ]
  },
  {
   "cell_type": "markdown",
   "metadata": {},
   "source": [
    "<p>Answer:</p>\n",
    "<p hidden>Function annotations, available in 3.X (3.0 and later), are syntactic embellishments of a function’s arguments and result, which are collected into a dictionary assigned to the function’s __annotations__ attribute. Python places no semantic meaning on these annotations, but simply packages them for potential use by other tools.</p>"
   ]
  },
  {
   "cell_type": "markdown",
   "metadata": {},
   "source": [
    "<h3>5. What are recursive functions, and how are they used?</h3>"
   ]
  },
  {
   "cell_type": "markdown",
   "metadata": {},
   "source": [
    "<p>My answer:</p>\n",
    "<ul>\n",
    "    <li>call themselfes directly or indirectly inside there own function body in oder to loop</li>\n",
    "    <li>need a base case to stop the loop and a recursive case</li>\n",
    "    <li>used to traverse on arbitrary shaped sequences or iteration</li>\n",
    "    <li>recursion can often be replaced by using explicit stackes or queues</li>\n",
    "</ul>"
   ]
  },
  {
   "cell_type": "markdown",
   "metadata": {},
   "source": [
    "<p>Answer:</p>\n",
    "<p hidden>Recursive functions call themselves either directly or indirectly in order to loop. They may be used to traverse arbitrarily shaped structures, but they can also be used for iteration in general (though the latter role is often more simply and efficiently coded with looping statements). Recursion can often be simulated or replaced by code that uses explicit stacks or queues to have more control over traversals.</p>"
   ]
  },
  {
   "cell_type": "markdown",
   "metadata": {},
   "source": [
    "<h3>6. What are some general design guidelines for coding functions?</h3>"
   ]
  },
  {
   "cell_type": "markdown",
   "metadata": {},
   "source": [
    "<p>My answer:</p>\n",
    "<ul>\n",
    "    <li>small and self-contained code blocks</li>\n",
    "    <li>single unified purpose</li>\n",
    "    <li>communicate with other components through input arguments and return values</li>\n",
    "    <li>use mutable urguments only when changes are expected</li>\n",
    "</ul>"
   ]
  },
  {
   "cell_type": "markdown",
   "metadata": {},
   "source": [
    "<p>Answer:</p>\n",
    "<p hidden>Functions should generally be small and as self-contained as possible, have a single unified purpose, and communicate with other components through input arguments and return values. They may use mutable arguments to communicate results too if changes are expected, and some types of programs imply other communication mechanisms.</p>"
   ]
  },
  {
   "cell_type": "markdown",
   "metadata": {},
   "source": [
    "<h3>7. Name three or more ways that functions can communicate results to a caller.</h3>"
   ]
  },
  {
   "cell_type": "markdown",
   "metadata": {},
   "source": [
    "<p>My answer:</p>\n",
    "<p></p>\n",
    "<ul>\n",
    "    <li>return statements</li>\n",
    "    <li>change mutable arguments</li>\n",
    "    <li>setting global variables</li>\n",
    "</ul>"
   ]
  },
  {
   "cell_type": "markdown",
   "metadata": {},
   "source": [
    "<p>Answer:</p>\n",
    "<p hidden>Functions can send back results with return statements, by changing passed-in mutable arguments, and by setting global variables. Globals are generally frowned upon (except for very special cases, like multithreaded programs) because they can make code more difficult to understand and use. return statements are usually best, but changing mutables is fine (and even useful), if expected. Functions may\n",
    "also communicate results with system devices such as files and sockets, but these are beyond our scope here.</p>"
   ]
  },
  {
   "cell_type": "markdown",
   "metadata": {},
   "source": [
    "<h2>Chapter 20: Comprehensions and Generations</h2>"
   ]
  },
  {
   "cell_type": "markdown",
   "metadata": {},
   "source": [
    "<h3>1. What is the difference between enclosing a list comprehension in square brackets and parentheses?</h3>"
   ]
  },
  {
   "cell_type": "markdown",
   "metadata": {},
   "source": [
    "<p>My answer:</p>\n",
    "<p></p>\n",
    "<ul>\n",
    "    <li>Square brackets are list comprehensions which return a result list all at once in memory</li>\n",
    "    <li>Comprehensions with parenthesis are generator expressions, which return a generator object</li>\n",
    "    <li>it yields one item at a time, when used in an iteration context</li>\n",
    "</ul>"
   ]
  },
  {
   "cell_type": "markdown",
   "metadata": {},
   "source": [
    "<p>Answer:</p>\n",
    "<p hidden>List comprehensions in square brackets produce the result list all at once in memory. When they are enclosed in parentheses instead, they are actually generator expressions—they have a similar meaning but do not produce the result list all at once. Instead, generator expressions return a generator object, which yields one item in the result at a time when used in an iteration context.</p>"
   ]
  },
  {
   "cell_type": "markdown",
   "metadata": {},
   "source": [
    "<h3>2. How are generators and iterators related?</h3>"
   ]
  },
  {
   "cell_type": "markdown",
   "metadata": {},
   "source": [
    "<p>My answer:</p>\n",
    "<ul>\n",
    "    <li>Generators are iterable objects that support the iteration protocol automatically</li>\n",
    "    <li>they have an iterator wiht the __next__ method</li>\n",
    "    <li>generator functions are coded with def and yield statements</li>\n",
    "    <li>generator expressions are coded with parenthesized comprehensions</li>\n",
    "</ul>"
   ]
  },
  {
   "cell_type": "markdown",
   "metadata": {},
   "source": [
    "<p>Answer:</p>\n",
    "<p hidden>Generators are iterable objects that support the iteration protocol automatically — they have an iterator with a __next__ method (next in 2.X) that repeatedly advances to the next item in a series of results and raises an exception at the end of the series. In Python, we can code generator functions with def and yield, generator expressions with parenthesized comprehensions, and generator objects with classes that define a special method named __iter__ (discussed later in the book).</p>"
   ]
  },
  {
   "cell_type": "markdown",
   "metadata": {},
   "source": [
    "<h3>3. How can you tell if a function is a generator function?</h3>"
   ]
  },
  {
   "cell_type": "markdown",
   "metadata": {},
   "source": [
    "<p>My answer:</p>\n",
    "<p>A generator function has a yield statement somewhere in its function body coded.</p>"
   ]
  },
  {
   "cell_type": "markdown",
   "metadata": {},
   "source": [
    "<p>Answer:</p>\n",
    "<p hidden>A generator function has a yield statement somewhere in its code. Generator functions are otherwise identical to normal functions syntactically, but they are compiled specially by Python so as to return an iterable generator object when called. That object retains state and code location between values.</p>"
   ]
  },
  {
   "cell_type": "markdown",
   "metadata": {},
   "source": [
    "<h3>4. What does a yield statement do?</h3>"
   ]
  },
  {
   "cell_type": "markdown",
   "metadata": {},
   "source": [
    "<p>My answer:</p>\n",
    "<ul>\n",
    "    <li>when present, the function is compiled as a generator</li>\n",
    "    <li>when called, the function returns a generator object that supports the iteration protocol</li>\n",
    "    <li>when yield statement is run, it sends the result back to the caller and suspends the funtion's state</li>\n",
    "    <li>it can be resumed after the last yield statement, in response to a next built-in or __next__ method call issued by the caller</li>\n",
    "</ul>"
   ]
  },
  {
   "cell_type": "markdown",
   "metadata": {},
   "source": [
    "<p>Answer:</p>\n",
    "<p hidden>When present, this statement makes Python compile the function specially as a generator; when called, the function returns a generator object that supports the iteration protocol. When the yield statement is run, it sends a result back to the\n",
    "caller and suspends the function’s state; the function can then be resumed after the last yield statement, in response to a next built-in or __next__ method call issued by the caller. In more advanced roles, the generator send method similarly resumes the generator, but can also pass a value that shows up as the yield expression’s value. Generator functions may also have a return statement, which terminates the generator.</p>"
   ]
  },
  {
   "cell_type": "markdown",
   "metadata": {},
   "source": [
    "<h3>5. How are map calls and list comprehensions related? Compare and contrast the two.</h3>"
   ]
  },
  {
   "cell_type": "markdown",
   "metadata": {},
   "source": [
    "<p>My answer:</p>\n",
    "<ul>\n",
    "    <li>both applying an operation to each item in a sequence or other iterable and collecting the results</li>\n",
    "    <li>map applies a function call</li>\n",
    "    <li>list comprehensions apply arbitrary expressions</li>\n",
    "    <li>list comprehensions are more general</li>\n",
    "</ul>"
   ]
  },
  {
   "cell_type": "markdown",
   "metadata": {},
   "source": [
    "<p>Answer:</p>\n",
    "<p hidden>The map call is similar to a list comprehension—both produce a series of values, by collecting the results of applying an operation to each item in a sequence or other iterable, one item at a time. The primary difference is that map applies a function\n",
    "call to each item, and list comprehensions apply arbitrary expressions. Because of this, list comprehensions are more general; they can apply a function call expression like map, but map requires a function to apply other kinds of expressions. List comprehensions also support extended syntax such as nested for loops and if clauses that subsume the filter built-in. In Python 3.X, map also differs in that it produces a generator of values; the list comprehension materializes the result list in memory all at once. In 2.X, both tools create result lists.</p>"
   ]
  }
 ],
 "metadata": {
  "kernelspec": {
   "display_name": "Python 3.8.10 ('.venv': venv)",
   "language": "python",
   "name": "python3"
  },
  "language_info": {
   "codemirror_mode": {
    "name": "ipython",
    "version": 3
   },
   "file_extension": ".py",
   "mimetype": "text/x-python",
   "name": "python",
   "nbconvert_exporter": "python",
   "pygments_lexer": "ipython3",
   "version": "3.8.10"
  },
  "orig_nbformat": 4,
  "vscode": {
   "interpreter": {
    "hash": "afa6b98459d80e05b4144fd479eac5a19142374dc66200d5898f2a74d54d80d3"
   }
  }
 },
 "nbformat": 4,
 "nbformat_minor": 2
}
