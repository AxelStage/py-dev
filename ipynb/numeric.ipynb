{
 "cells": [
  {
   "attachments": {},
   "cell_type": "markdown",
   "metadata": {},
   "source": [
    "<h1>Numeric</h1>"
   ]
  },
  {
   "attachments": {},
   "cell_type": "markdown",
   "metadata": {},
   "source": [
    "<h2>Literal</h2>\n",
    "<p>\n",
    "Literal refers to the notation used to represent a fixed value within the source code of a program. It represents the actual value itself, rather than a variable or an expression. In other words, literals are the raw, fixed values that are directly written in the code.\n",
    "</p>\n",
    "\n",
    "<ul>\n",
    "    <li>Numeric literals: 42, 3.14, 2 + 3j</li>\n",
    "    <li>String literals: 'Hello, world!', \"Python is awesome\"</li>\n",
    "    <li>Boolean literals: True, False</li>\n",
    "    <li>None literal: None</li>\n",
    "    <li>List literals: [1, 2, 3], ['apple', 'banana', 'orange']</li>\n",
    "    <li>Tuple literals: (1, 2, 3), ('red', 'green', 'blue')</li>\n",
    "    <li>Set literals: {1, 2, 3}, {'apple', 'banana', 'orange'}</li>\n",
    "    <li>Dictionary literals: {'name': 'John', 'age': 25}, {'apple': 0.99, 'banana': 0.5}</li>\n",
    "</ul>"
   ]
  },
  {
   "attachments": {},
   "cell_type": "markdown",
   "metadata": {},
   "source": [
    "<h2>Complexity of numerics</h2>\n",
    "<p>\n",
    "In mixed type expressions, python converts operands up to the most complex operand type and then performs the math on the same type.\n",
    "</p>\n",
    "<h3>Ranking</h3>\n",
    "<ol>\n",
    "    <li>complex</li>\n",
    "    <li>floating-point</li>\n",
    "    <li>integer</li>\n",
    "</ol>"
   ]
  },
  {
   "cell_type": "code",
   "execution_count": 1,
   "metadata": {},
   "outputs": [
    {
     "data": {
      "text/plain": [
       "(14.0, 4.0, 4j, (2.2+7j))"
      ]
     },
     "execution_count": 1,
     "metadata": {},
     "output_type": "execute_result"
    }
   ],
   "source": [
    "7 + 7.0, 2.0 * 2, 2.0 * 2j, 1 + 1.2+7j"
   ]
  },
  {
   "attachments": {},
   "cell_type": "markdown",
   "metadata": {},
   "source": [
    "<h2>Integer</h2>\n",
    "<h3>Main properties</h3>\n",
    "<ul>\n",
    "    <li>null, postive and negative whole numbers</li>\n",
    "    <li>written as strings of decimal digits, but leading zeros are permitted</li>\n",
    "    <li>Can be written in decimal (base10), hexadecimal (base16), octal (base8) or binary (base2) literals</li>\n",
    "    <li>have unlimited precision (as many digits as memory space allows)</li>\n",
    "    <li></li>\n",
    "    <li>in Python 3.X normal and long integers have been merged</li>\n",
    "</ul>"
   ]
  },
  {
   "attachments": {},
   "cell_type": "markdown",
   "metadata": {},
   "source": [
    "<h3>Literals</h3>"
   ]
  },
  {
   "cell_type": "code",
   "execution_count": 2,
   "metadata": {},
   "outputs": [
    {
     "name": "stdout",
     "output_type": "stream",
     "text": [
      "123 123 123 123\n"
     ]
    }
   ],
   "source": [
    "decimal = 123\n",
    "hexadecimal = 0x7b\n",
    "octal = 0o173\n",
    "binary = 0b1111011\n",
    "print(decimal, hexadecimal, octal, binary)\n",
    "del decimal, hexadecimal, octal, binary"
   ]
  },
  {
   "attachments": {},
   "cell_type": "markdown",
   "metadata": {},
   "source": [
    "<h3>Conversion</h3>"
   ]
  },
  {
   "cell_type": "code",
   "execution_count": 3,
   "metadata": {},
   "outputs": [
    {
     "data": {
      "text/plain": [
       "123"
      ]
     },
     "execution_count": 3,
     "metadata": {},
     "output_type": "execute_result"
    }
   ],
   "source": [
    "int(True)      # from bool\n",
    "int(\"123\")     # from string\n",
    "int(123.9)     # from float\n",
    "int(0x7b)      # from hexadecimal (integer)\n",
    "int(0o173)     # from octal (integer)\n",
    "int(0b1111011) # from binary (integer)"
   ]
  },
  {
   "cell_type": "code",
   "execution_count": 4,
   "metadata": {},
   "outputs": [
    {
     "data": {
      "text/plain": [
       "('0x7b', '0o173', '0b1111011')"
      ]
     },
     "execution_count": 4,
     "metadata": {},
     "output_type": "execute_result"
    }
   ],
   "source": [
    "# works only on int, bool\n",
    "hex(123), oct(123), bin(123)"
   ]
  },
  {
   "cell_type": "code",
   "execution_count": 5,
   "metadata": {},
   "outputs": [
    {
     "data": {
      "text/plain": [
       "(123, 123, 123)"
      ]
     },
     "execution_count": 5,
     "metadata": {},
     "output_type": "execute_result"
    }
   ],
   "source": [
    "int(\"0x7b\", 16), int(\"0o173\", 8), int(\"0b1111011\", 2)"
   ]
  },
  {
   "attachments": {},
   "cell_type": "markdown",
   "metadata": {},
   "source": [
    "<h2>Floating point</h2>\n",
    "<h3>Main properties</h3>\n",
    "<ul>\n",
    "    <li>also called \"floats\"</li>\n",
    "    <li>null, postive and negative whole numbers with a fractional part</li>\n",
    "    <li>written as strings of decimal digits with a decimal point or exponent</li>\n",
    "    <li>Precision of C \"doubles\" which provide a precision of approximately 15 decimal places</li>\n",
    "</ul>"
   ]
  },
  {
   "attachments": {},
   "cell_type": "markdown",
   "metadata": {},
   "source": [
    "<h3>Literals</h3>"
   ]
  },
  {
   "cell_type": "code",
   "execution_count": 6,
   "metadata": {},
   "outputs": [
    {
     "data": {
      "text/plain": [
       "(1.0, 1.23, -1.23, 1.23, 0.0123, 123.0, 123.0, 123.0)"
      ]
     },
     "execution_count": 6,
     "metadata": {},
     "output_type": "execute_result"
    }
   ],
   "source": [
    "1., 1.23, -1.23, 1.23e0, 1.23e-2, 1.23e+2, 1.23e2, 1.23E2"
   ]
  },
  {
   "attachments": {},
   "cell_type": "markdown",
   "metadata": {},
   "source": [
    "<h3>Conversion</h3>"
   ]
  },
  {
   "cell_type": "code",
   "execution_count": 7,
   "metadata": {},
   "outputs": [
    {
     "data": {
      "text/plain": [
       "17.0"
      ]
     },
     "execution_count": 7,
     "metadata": {},
     "output_type": "execute_result"
    }
   ],
   "source": [
    "float(True)    # from bool\n",
    "float(\"17\")    # from string\n",
    "float(17)      # from integer\n",
    "float(0x11)    # from hexadecimal (integer)\n",
    "float(0o21)    # from octal (integer)\n",
    "float(0b10001) # from binary (integer)"
   ]
  },
  {
   "attachments": {},
   "cell_type": "markdown",
   "metadata": {},
   "source": [
    "<h2>Complex numbers</h2>\n",
    "<ul>\n",
    "    <li>complex number consists of a real part and an imaginary part</li>\n",
    "    <li>real part represents the real value, imaginary part represents the value multiplied by the imaginary unit (i)</li>\n",
    "    <li>complex values can be integer or floats</li>\n",
    "    <li>Precision</li>\n",
    "</ul>"
   ]
  },
  {
   "attachments": {},
   "cell_type": "markdown",
   "metadata": {},
   "source": [
    "<h3>Literals</h3>"
   ]
  },
  {
   "cell_type": "code",
   "execution_count": 8,
   "metadata": {},
   "outputs": [
    {
     "data": {
      "text/plain": [
       "((1+2j), (1+2j), 2j, 2j, 2j)"
      ]
     },
     "execution_count": 8,
     "metadata": {},
     "output_type": "execute_result"
    }
   ],
   "source": [
    "1+2j, 1.0+2.0j, 0+2j, 2j, 2J"
   ]
  },
  {
   "attachments": {},
   "cell_type": "markdown",
   "metadata": {},
   "source": [
    "<h2>Decimal: fixed-precision objects</h2>\n",
    "<h3>Main properties</h3>\n",
    "<ul>\n",
    "    <li>a</li>\n",
    "    <li>a</li>\n",
    "    <li>a</li>\n",
    "</ul>"
   ]
  },
  {
   "attachments": {},
   "cell_type": "markdown",
   "metadata": {},
   "source": [
    "<h2>Fraction</h2>\n",
    "<h3>Main properties</h3>\n",
    "<ul>\n",
    "    <li>a</li>\n",
    "    <li>a</li>\n",
    "    <li>a</li>\n",
    "</ul>"
   ]
  },
  {
   "attachments": {},
   "cell_type": "markdown",
   "metadata": {},
   "source": [
    "<h2>Booleans</h2>\n",
    "<h3>Main properties</h3>\n",
    "<ul>\n",
    "    <li>a</li>\n",
    "    <li>a</li>\n",
    "    <li>a</li>\n",
    "</ul>"
   ]
  },
  {
   "attachments": {},
   "cell_type": "markdown",
   "metadata": {},
   "source": [
    "<h2>Expression Operator</h2>\n",
    "<h3>Precedence of all Python expression operator</h3>\n",
    "<p>If you write an expression with more then one operator, python groups its parts in order of the precedence rules.</p>\n",
    "<ul>\n",
    "    <li><strong>Operator lower in the table have higher precedence.</strong></li>\n",
    "    <li><strong>Operators in the same row generally group from left to right when combined (except for exponentiation, which groups right to left, and comparisons, which chain left to right).</strong></li>\n",
    "    <li><strong>Python always evaluates expressions in parentheses first before using their results in the enclosing expressions, means when you enclose subexpressions in parentheses, you override Python’s precedence rules</strong></li>\n",
    "</ul>\n",
    "<table>\n",
    "    <tr>\n",
    "        <th>Operators</th>\n",
    "        <th>Descripton</th>\n",
    "    </tr>\n",
    "    <tr>\n",
    "        <td>yield x</td>\n",
    "        <td>Generator function send protocol</td>\n",
    "    </tr>\n",
    "    <tr>\n",
    "        <td>lambda args: expression</td>\n",
    "        <td>Anonymous function generation</td>\n",
    "    </tr>\n",
    "    <tr>\n",
    "        <td>x if y else z</td>\n",
    "        <td>Ternary selection (x is evaluated only if y is true)</td>\n",
    "    </tr>\n",
    "    <tr>\n",
    "        <td>x or y</td>\n",
    "        <td>Logical OR (y is evaluated only if x is false)</td>\n",
    "    </tr>\n",
    "    <tr>\n",
    "        <td>x and y</td>\n",
    "        <td>Logical AND (y is evaluated only if x is true)</td>\n",
    "    </tr>\n",
    "    <tr>\n",
    "        <td>not x</td>\n",
    "        <td>Logical negation</td>\n",
    "    </tr>\n",
    "    <tr>\n",
    "        <td>x in y, x not in y</td>\n",
    "        <td>Membership (iterables, sets)</td>\n",
    "    </tr>\n",
    "    <tr>\n",
    "        <td>x is y, x is not y</td>\n",
    "        <td>Object identity tests</td>\n",
    "    </tr>\n",
    "    <tr>\n",
    "        <td>x < y, x <= y, x > y, x >= y</td>\n",
    "        <td>Magnitude comparison, set subset and superset;</td>\n",
    "    </tr>\n",
    "    <tr>\n",
    "        <td>x == y, x != y</td>\n",
    "        <td>Value equality operators</td>\n",
    "    </tr>\n",
    "    <tr>\n",
    "        <td>x | y</td>\n",
    "        <td>Bitwise OR, set union</td>\n",
    "    </tr>\n",
    "    <tr>\n",
    "        <td>x ^ y</td>\n",
    "        <td>Bitwise XOR, set symmetric difference</td>\n",
    "    </tr>\n",
    "    <tr>\n",
    "        <td>x & y</td>\n",
    "        <td>Bitwise AND, set intersection</td>\n",
    "    </tr>\n",
    "    <tr>\n",
    "        <td>x << y, x >> y</td>\n",
    "        <td>Shift x left or right by y bits</td>\n",
    "    </tr>\n",
    "    <tr>\n",
    "        <td>x + y</td>\n",
    "        <td>Addition, concatenation;</td>\n",
    "    </tr>\n",
    "    <tr>\n",
    "        <td>x – y</td>\n",
    "        <td>Subtraction, set difference</td>\n",
    "    </tr>\n",
    "    <tr>\n",
    "        <td>x * y</td>\n",
    "        <td>Multiplication, repetition;</td>\n",
    "    </tr>\n",
    "    <tr>\n",
    "        <td>x % y</td>\n",
    "        <td>Remainder, format;</td>\n",
    "    </tr>\n",
    "    <tr>\n",
    "        <td>x / y, x // y</td>\n",
    "        <td>Division: true and floor</td>\n",
    "    </tr>\n",
    "    <tr>\n",
    "        <td>−x, +x</td>\n",
    "        <td>Negation, identity</td>\n",
    "    </tr>\n",
    "    <tr>\n",
    "        <td>~x</td>\n",
    "        <td>Bitwise NOT (inversion)</td>\n",
    "    </tr>\n",
    "    <tr>\n",
    "        <td>x ** y</td>\n",
    "        <td>Power (exponentiation)</td>\n",
    "    </tr>\n",
    "    <tr>\n",
    "        <td>x[i]</td>\n",
    "        <td>Indexing (sequence, mapping, others)</td>\n",
    "    </tr>\n",
    "    <tr>\n",
    "        <td>x[i:j:k]</td>\n",
    "        <td>Slicing</td>\n",
    "    </tr>\n",
    "    <tr>\n",
    "        <td>x(...)</td>\n",
    "        <td>Call (function, method, class, other callable)</td>\n",
    "    </tr>\n",
    "    <tr>\n",
    "        <td>x.attr</td>\n",
    "        <td>Attribute reference</td>\n",
    "    </tr>\n",
    "    <tr>\n",
    "        <td>(...)</td>\n",
    "        <td>Tuple, expression, generator expression</td>\n",
    "    </tr>\n",
    "    <tr>\n",
    "        <td>[...]</td>\n",
    "        <td>List, list comprehension</td>\n",
    "    </tr>\n",
    "    <tr>\n",
    "        <td>{...}</td>\n",
    "        <td>Dictionary, set, set and dictionary comprehensions</td>\n",
    "    </tr>\n",
    "</table>"
   ]
  },
  {
   "cell_type": "code",
   "execution_count": 9,
   "metadata": {},
   "outputs": [
    {
     "data": {
      "text/plain": [
       "4"
      ]
     },
     "execution_count": 9,
     "metadata": {},
     "output_type": "execute_result"
    }
   ],
   "source": [
    "3 + 2 - 1 # Subtraction has higher precedence then Addition"
   ]
  },
  {
   "cell_type": "code",
   "execution_count": 10,
   "metadata": {},
   "outputs": [
    {
     "data": {
      "text/plain": [
       "1"
      ]
     },
     "execution_count": 10,
     "metadata": {},
     "output_type": "execute_result"
    }
   ],
   "source": [
    "3 - 2 * 1 # Multiplication has higher precedence then Subtraction"
   ]
  },
  {
   "cell_type": "code",
   "execution_count": 11,
   "metadata": {},
   "outputs": [
    {
     "data": {
      "text/plain": [
       "4.0"
      ]
     },
     "execution_count": 11,
     "metadata": {},
     "output_type": "execute_result"
    }
   ],
   "source": [
    "2 * 4 / 2 # Devision has higher precedence then Multiplication"
   ]
  },
  {
   "cell_type": "code",
   "execution_count": 12,
   "metadata": {},
   "outputs": [
    {
     "data": {
      "text/plain": [
       "3.0"
      ]
     },
     "execution_count": 12,
     "metadata": {},
     "output_type": "execute_result"
    }
   ],
   "source": [
    "1 + 6 - 2 * 8 / 2**2 # inverse precedence"
   ]
  },
  {
   "cell_type": "code",
   "execution_count": 13,
   "metadata": {},
   "outputs": [
    {
     "data": {
      "text/plain": [
       "0.0"
      ]
     },
     "execution_count": 13,
     "metadata": {},
     "output_type": "execute_result"
    }
   ],
   "source": [
    "8 / 3 // 3 # left to right precedence"
   ]
  },
  {
   "cell_type": "code",
   "execution_count": 14,
   "metadata": {},
   "outputs": [
    {
     "data": {
      "text/plain": [
       "0.6666666666666666"
      ]
     },
     "execution_count": 14,
     "metadata": {},
     "output_type": "execute_result"
    }
   ],
   "source": [
    "8 // 3 / 3 # left to right precedence"
   ]
  },
  {
   "attachments": {},
   "cell_type": "markdown",
   "metadata": {},
   "source": [
    "<h2>Comparisons</h2>\n",
    "<p>All python objects can be compared. They compare the relative magnitudes of their operands and return a boolean result. Python also allows us to chain multiple comparisons together to perform range tests.</p>"
   ]
  },
  {
   "cell_type": "code",
   "execution_count": 15,
   "metadata": {},
   "outputs": [
    {
     "data": {
      "text/plain": [
       "True"
      ]
     },
     "execution_count": 15,
     "metadata": {},
     "output_type": "execute_result"
    }
   ],
   "source": [
    "# less than\n",
    "1 < 2"
   ]
  },
  {
   "cell_type": "code",
   "execution_count": 16,
   "metadata": {},
   "outputs": [
    {
     "data": {
      "text/plain": [
       "True"
      ]
     },
     "execution_count": 16,
     "metadata": {},
     "output_type": "execute_result"
    }
   ],
   "source": [
    "# greater than or equal\n",
    "2.0 >= 1"
   ]
  },
  {
   "cell_type": "code",
   "execution_count": 17,
   "metadata": {},
   "outputs": [
    {
     "data": {
      "text/plain": [
       "True"
      ]
     },
     "execution_count": 17,
     "metadata": {},
     "output_type": "execute_result"
    }
   ],
   "source": [
    "# equal value\n",
    "2.0 == 2.0"
   ]
  },
  {
   "cell_type": "code",
   "execution_count": 18,
   "metadata": {},
   "outputs": [
    {
     "data": {
      "text/plain": [
       "False"
      ]
     },
     "execution_count": 18,
     "metadata": {},
     "output_type": "execute_result"
    }
   ],
   "source": [
    "# not equal value\n",
    "2.0 != 2.0"
   ]
  },
  {
   "cell_type": "code",
   "execution_count": 19,
   "metadata": {},
   "outputs": [
    {
     "data": {
      "text/plain": [
       "True"
      ]
     },
     "execution_count": 19,
     "metadata": {},
     "output_type": "execute_result"
    }
   ],
   "source": [
    "# chained comparison (range test)\n",
    "X = 1\n",
    "Y = 2\n",
    "Z = 2\n",
    "\n",
    "X < Y <= Z"
   ]
  },
  {
   "cell_type": "code",
   "execution_count": 20,
   "metadata": {},
   "outputs": [],
   "source": [
    "# similar to\n",
    "X < Y and Y <= Z\n",
    "del X, Y, Z"
   ]
  },
  {
   "cell_type": "code",
   "execution_count": 23,
   "metadata": {},
   "outputs": [
    {
     "data": {
      "text/plain": [
       "False"
      ]
     },
     "execution_count": 23,
     "metadata": {},
     "output_type": "execute_result"
    }
   ],
   "source": [
    "# chain stops after first False\n",
    "1 < 2 == 3 > 4"
   ]
  },
  {
   "cell_type": "code",
   "execution_count": 39,
   "metadata": {},
   "outputs": [
    {
     "data": {
      "text/plain": [
       "(False, False)"
      ]
     },
     "execution_count": 39,
     "metadata": {},
     "output_type": "execute_result"
    }
   ],
   "source": [
    "# be careful when comparing floating-point numbers\n",
    "0.1 + 0.2 == 0.3, 0.2 + 0.4 == 0.6"
   ]
  },
  {
   "cell_type": "code",
   "execution_count": 44,
   "metadata": {},
   "outputs": [
    {
     "data": {
      "text/plain": [
       "(0.3, 0.30000000000000004, 0.6, 0.6000000000000001)"
      ]
     },
     "execution_count": 44,
     "metadata": {},
     "output_type": "execute_result"
    }
   ],
   "source": [
    "# floating-point numbers cannot represent some values exactly due to their limited number of bits\n",
    "0.5 - 0.2, 0.1 + 0.2, 0.3 + 0.3, 0.2 + 0.4"
   ]
  },
  {
   "attachments": {},
   "cell_type": "markdown",
   "metadata": {},
   "source": [
    "<h2>Devision</h2>\n",
    "<DL>\n",
    "    <DT><strong>X / Y</strong></DT>\n",
    "    <DD>\n",
    "        true devision (3.X), always keeping remainders in floating-point results, regardless of types\n",
    "    </DD>\n",
    "    <br>\n",
    "    <DT><strong>X // Y</strong></DT>\n",
    "    <DD>\n",
    "        floor devision, always truncates fractional remainders down to their floor, regardless of types. It result type depends on the types of its operands\n",
    "    </DD>\n",
    "</DL>"
   ]
  },
  {
   "cell_type": "code",
   "execution_count": 47,
   "metadata": {},
   "outputs": [
    {
     "data": {
      "text/plain": [
       "(1.5, 2.0)"
      ]
     },
     "execution_count": 47,
     "metadata": {},
     "output_type": "execute_result"
    }
   ],
   "source": [
    "# true devision\n",
    "3 / 2, 4 / 2"
   ]
  },
  {
   "cell_type": "code",
   "execution_count": 49,
   "metadata": {},
   "outputs": [
    {
     "data": {
      "text/plain": [
       "(1, 2.0)"
      ]
     },
     "execution_count": 49,
     "metadata": {},
     "output_type": "execute_result"
    }
   ],
   "source": [
    "# floor devision\n",
    "3 // 2, 4.0 // 2"
   ]
  }
 ],
 "metadata": {
  "kernelspec": {
   "display_name": ".venv",
   "language": "python",
   "name": "python3"
  },
  "language_info": {
   "codemirror_mode": {
    "name": "ipython",
    "version": 3
   },
   "file_extension": ".py",
   "mimetype": "text/x-python",
   "name": "python",
   "nbconvert_exporter": "python",
   "pygments_lexer": "ipython3",
   "version": "3.10.7"
  },
  "orig_nbformat": 4
 },
 "nbformat": 4,
 "nbformat_minor": 2
}
