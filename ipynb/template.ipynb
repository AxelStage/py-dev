{
 "cells": [
  {
   "attachments": {},
   "cell_type": "markdown",
   "metadata": {},
   "source": [
    "<h1>Template</h1>\n",
    "<h2>header 2</h2>\n",
    "<h3>header 3</h3>\n",
    "<p>paragraph text</p>\n",
    "<hr>\n",
    "<ul>\n",
    "    <li>unordered list</li>\n",
    "    <li></li>\n",
    "    <li></li>\n",
    "    <li></li>\n",
    "    <li></li>\n",
    "</ul>\n",
    "<ol>\n",
    "    <li>ordered list</li>\n",
    "    <li></li>\n",
    "    <li></li>\n",
    "    <li></li>\n",
    "    <li></li>\n",
    "</ol>\n",
    "<DL>\n",
    "<DT><strong>Keyword</strong></DT>\n",
    "<DD>\n",
    "&#8594; point 1<br>\n",
    "&#8594; point 2\n",
    "</DD>\n",
    "<DT><strong>Keyword</strong></DT>\n",
    "<DD>\n",
    "&#8594; point 1<br>\n",
    "&#8594; point 2\n",
    "</DD>\n",
    "</DL>\n",
    "<table>\n",
    "  <tr>\n",
    "    <th>Column name</th>\n",
    "    <th>Column name</th>\n",
    "    <th>Column name</th>\n",
    "  </tr>\n",
    "  <tr>\n",
    "    <td></td>\n",
    "    <td></td>\n",
    "    <td></td>\n",
    "  </tr>\n",
    "  <tr>\n",
    "    <td></td>\n",
    "    <td></td>\n",
    "    <td></td>\n",
    "  </tr>\n",
    "</table>"
   ]
  },
  {
   "cell_type": "code",
   "execution_count": 1,
   "metadata": {},
   "outputs": [
    {
     "data": {
      "text/plain": [
       "'Hello World'"
      ]
     },
     "execution_count": 1,
     "metadata": {},
     "output_type": "execute_result"
    }
   ],
   "source": [
    "msg = \"Hello World\"\n",
    "msg"
   ]
  }
 ],
 "metadata": {
  "kernelspec": {
   "display_name": ".venv",
   "language": "python",
   "name": "python3"
  },
  "language_info": {
   "codemirror_mode": {
    "name": "ipython",
    "version": 3
   },
   "file_extension": ".py",
   "mimetype": "text/x-python",
   "name": "python",
   "nbconvert_exporter": "python",
   "pygments_lexer": "ipython3",
   "version": "3.11.4"
  },
  "orig_nbformat": 4
 },
 "nbformat": 4,
 "nbformat_minor": 2
}
