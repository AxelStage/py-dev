{
 "cells": [
  {
   "cell_type": "markdown",
   "metadata": {},
   "source": [
    "<h1>Lists</h1>\n",
    "<h3>Main properties</h3>\n",
    "<ul>\n",
    "    <li>Ordered collections of arbitrary objects</li>\n",
    "    <li>Left to right positional ordering of containing objects</li>\n",
    "    <li>Items in lists are ordered by their position</li>\n",
    "    <li>Mutable sequence: Can be changed in place</li>\n",
    "    <li>Accessed by offset: fetch out a component object by indexing the list on the objects offset</li>\n",
    "    <li>Variable-length: Can shrink and grow</li>\n",
    "    <li>Heterogeneous: Can contain any sort of object (string, number, list, dictionary, ...)</li>\n",
    "    <li>Arbitraribly nestable: Can contain lists of lists of ... or other complex objects</li>\n",
    "    <li>Arrays of object references: List are arrays inside the Python interpreter, not linked structures</li>\n",
    "</ul>"
   ]
  },
  {
   "cell_type": "markdown",
   "metadata": {},
   "source": [
    "<h3>List initialization</h3>"
   ]
  },
  {
   "cell_type": "code",
   "execution_count": 1,
   "metadata": {},
   "outputs": [
    {
     "name": "stdout",
     "output_type": "stream",
     "text": [
      "[] [1, 'spok', [2, 'kirk']] ['spam'] ['s', 'p', 'a', 'm'] [range(-1, 2)] [-1, 0, 1]\n"
     ]
    }
   ],
   "source": [
    "# list assignment\n",
    "l1 = [] # empty list\n",
    "l2 = [1,'spok',[2, 'kirk']] #nested sublist\n",
    "l3 = ['spam']\n",
    "l4 = list('spam') # literal expression, is coded as a series of objects\n",
    "l5 = [range(-1,2)]\n",
    "l6 = list(range(-1,2))\n",
    "print(l1, l2, l3, l4, l5, l6)\n",
    "del l1,l2,l3,l4,l5,l6"
   ]
  },
  {
   "cell_type": "markdown",
   "metadata": {},
   "source": [
    "<h3>Basic operations</h3>"
   ]
  },
  {
   "cell_type": "code",
   "execution_count": 2,
   "metadata": {},
   "outputs": [
    {
     "data": {
      "text/plain": [
       "3"
      ]
     },
     "execution_count": 2,
     "metadata": {},
     "output_type": "execute_result"
    }
   ],
   "source": [
    "# length\n",
    "len([1,2,3])"
   ]
  },
  {
   "cell_type": "code",
   "execution_count": 3,
   "metadata": {},
   "outputs": [
    {
     "data": {
      "text/plain": [
       "[1, 2, 3, 4, 5, 6]"
      ]
     },
     "execution_count": 3,
     "metadata": {},
     "output_type": "execute_result"
    }
   ],
   "source": [
    "# concatenation\n",
    "[1,2,3] + [4,5,6]"
   ]
  },
  {
   "cell_type": "code",
   "execution_count": 4,
   "metadata": {},
   "outputs": [
    {
     "data": {
      "text/plain": [
       "['abc', 'edf', 'abc', 'edf', 'abc', 'edf']"
      ]
     },
     "execution_count": 4,
     "metadata": {},
     "output_type": "execute_result"
    }
   ],
   "source": [
    "# repetition\n",
    "['abc', 'edf'] * 3"
   ]
  },
  {
   "cell_type": "markdown",
   "metadata": {},
   "source": [
    "<h3>List iteration</h3>"
   ]
  },
  {
   "cell_type": "code",
   "execution_count": 5,
   "metadata": {},
   "outputs": [
    {
     "data": {
      "text/plain": [
       "True"
      ]
     },
     "execution_count": 5,
     "metadata": {},
     "output_type": "execute_result"
    }
   ],
   "source": [
    "# membership\n",
    "3 in [1,2,3,4]"
   ]
  },
  {
   "cell_type": "code",
   "execution_count": 6,
   "metadata": {},
   "outputs": [
    {
     "name": "stdout",
     "output_type": "stream",
     "text": [
      "a\n",
      "1\n",
      "b\n"
     ]
    }
   ],
   "source": [
    "# iteration\n",
    "for index in ['a',1,'b']:\n",
    "    print(index)\n",
    "del index # index variable remains"
   ]
  },
  {
   "cell_type": "markdown",
   "metadata": {},
   "source": [
    "<h3>List comprehensions</h3>"
   ]
  },
  {
   "cell_type": "code",
   "execution_count": 2,
   "metadata": {},
   "outputs": [
    {
     "data": {
      "text/plain": [
       "[2, 4, 6]"
      ]
     },
     "execution_count": 2,
     "metadata": {},
     "output_type": "execute_result"
    }
   ],
   "source": [
    "[x * 2 for x in (1,2,3)]"
   ]
  },
  {
   "cell_type": "code",
   "execution_count": 3,
   "metadata": {},
   "outputs": [
    {
     "data": {
      "text/plain": [
       "['aa', 'bb', 'cc']"
      ]
     },
     "execution_count": 3,
     "metadata": {},
     "output_type": "execute_result"
    }
   ],
   "source": [
    "[x * 2 for x in ['a','b','c']]"
   ]
  },
  {
   "cell_type": "code",
   "execution_count": 4,
   "metadata": {},
   "outputs": [
    {
     "data": {
      "text/plain": [
       "[False, True, False, False]"
      ]
     },
     "execution_count": 4,
     "metadata": {},
     "output_type": "execute_result"
    }
   ],
   "source": [
    "[x == 1 for x in list(range(4))]"
   ]
  },
  {
   "cell_type": "code",
   "execution_count": 1,
   "metadata": {},
   "outputs": [
    {
     "data": {
      "text/plain": [
       "[5, 4, 3, 2, 1, 0]"
      ]
     },
     "execution_count": 1,
     "metadata": {},
     "output_type": "execute_result"
    }
   ],
   "source": [
    "list(abs(x) for x in range(-5,1))"
   ]
  },
  {
   "cell_type": "markdown",
   "metadata": {},
   "source": [
    "List comprehension with if clause and filter expression"
   ]
  },
  {
   "cell_type": "code",
   "execution_count": 5,
   "metadata": {},
   "outputs": [
    {
     "data": {
      "text/plain": [
       "[1, 3, 5, 7, 9]"
      ]
     },
     "execution_count": 5,
     "metadata": {},
     "output_type": "execute_result"
    }
   ],
   "source": [
    "[x for x in range(10) if x % 2 != 0]"
   ]
  },
  {
   "cell_type": "markdown",
   "metadata": {},
   "source": [
    "<h3>Indexing, Slicing</h3>"
   ]
  },
  {
   "cell_type": "code",
   "execution_count": 9,
   "metadata": {},
   "outputs": [
    {
     "data": {
      "text/plain": [
       "('spam', 'SPAM')"
      ]
     },
     "execution_count": 9,
     "metadata": {},
     "output_type": "execute_result"
    }
   ],
   "source": [
    "l = ['spam', 'Spam', 'SPAM']\n",
    "# indexing\n",
    "l[0], l[-1]"
   ]
  },
  {
   "cell_type": "code",
   "execution_count": 10,
   "metadata": {},
   "outputs": [
    {
     "data": {
      "text/plain": [
       "['spam']"
      ]
     },
     "execution_count": 10,
     "metadata": {},
     "output_type": "execute_result"
    }
   ],
   "source": [
    "# forward slicing from begin of list\n",
    "l[:1]"
   ]
  },
  {
   "cell_type": "code",
   "execution_count": 11,
   "metadata": {},
   "outputs": [
    {
     "data": {
      "text/plain": [
       "['Spam']"
      ]
     },
     "execution_count": 11,
     "metadata": {},
     "output_type": "execute_result"
    }
   ],
   "source": [
    "# forward slicing in between list\n",
    "l[1:2]"
   ]
  },
  {
   "cell_type": "code",
   "execution_count": 12,
   "metadata": {},
   "outputs": [
    {
     "data": {
      "text/plain": [
       "['Spam', 'SPAM']"
      ]
     },
     "execution_count": 12,
     "metadata": {},
     "output_type": "execute_result"
    }
   ],
   "source": [
    "# forward slicing until end of list\n",
    "l[1:]"
   ]
  },
  {
   "cell_type": "code",
   "execution_count": 13,
   "metadata": {},
   "outputs": [],
   "source": [
    "# backward slicing until beginning of list\n",
    "l[-1:], l[len(l)-1:]\n",
    "del l"
   ]
  },
  {
   "cell_type": "markdown",
   "metadata": {},
   "source": [
    "<h3>Changing Lists in place</h3>"
   ]
  },
  {
   "cell_type": "code",
   "execution_count": 14,
   "metadata": {},
   "outputs": [
    {
     "name": "stdout",
     "output_type": "stream",
     "text": [
      "['Spam', 'SPAM']\n"
     ]
    }
   ],
   "source": [
    "l = ['spam', 'Spam', 'SPAM']\n",
    "# deletion (insert nothing)\n",
    "l[0:1] = []\n",
    "print(l)\n",
    "del l"
   ]
  },
  {
   "cell_type": "code",
   "execution_count": 15,
   "metadata": {},
   "outputs": [
    {
     "name": "stdout",
     "output_type": "stream",
     "text": [
      "['spam']\n"
     ]
    }
   ],
   "source": [
    "l = ['spam', 'Spam', 'SPAM']\n",
    "# deletion\n",
    "del l[1:]\n",
    "print(l)\n",
    "del l"
   ]
  },
  {
   "cell_type": "code",
   "execution_count": 16,
   "metadata": {},
   "outputs": [
    {
     "name": "stdout",
     "output_type": "stream",
     "text": [
      "['spam', 'Spam', 'SPam', 'SPAM']\n"
     ]
    }
   ],
   "source": [
    "l = ['spam', 'Spam', 'SPAM']\n",
    "# insertion (delete nothing)\n",
    "l[2:2] = ['SPam']\n",
    "print(l)\n",
    "del l"
   ]
  },
  {
   "cell_type": "code",
   "execution_count": 17,
   "metadata": {},
   "outputs": [
    {
     "name": "stdout",
     "output_type": "stream",
     "text": [
      "['spaM', 'spAM', 'SPAM']\n"
     ]
    }
   ],
   "source": [
    "l = ['spam', 'Spam', 'SPAM']\n",
    "# replacement (delete + insert)\n",
    "l[:2] = ['spaM' ,'spAM']\n",
    "print(l)\n",
    "del l"
   ]
  },
  {
   "cell_type": "code",
   "execution_count": 18,
   "metadata": {},
   "outputs": [
    {
     "name": "stdout",
     "output_type": "stream",
     "text": [
      "['SPam']\n"
     ]
    }
   ],
   "source": [
    "l = ['spam', 'Spam', 'SPAM']\n",
    "# slice and replace all\n",
    "l[:] = ['SPam']\n",
    "print(l)\n",
    "del l"
   ]
  },
  {
   "cell_type": "code",
   "execution_count": 19,
   "metadata": {},
   "outputs": [
    {
     "name": "stdout",
     "output_type": "stream",
     "text": [
      "['spam', 'SpAm', 'SPAM']\n"
     ]
    }
   ],
   "source": [
    "l = ['spam', 'Spam', 'SPAM']\n",
    "# index replacement\n",
    "l[1] = 'SpAm'\n",
    "print(l)\n",
    "del l"
   ]
  },
  {
   "cell_type": "code",
   "execution_count": 20,
   "metadata": {},
   "outputs": [
    {
     "name": "stdout",
     "output_type": "stream",
     "text": [
      "['Spa', 'SPA', 'spam', 'Spam', 'SPAM']\n"
     ]
    }
   ],
   "source": [
    "l = ['spam', 'Spam', 'SPAM']\n",
    "# insert all at 0\n",
    "l[:0] = [ 'Spa', 'SPA' ]\n",
    "print(l)\n",
    "del l"
   ]
  },
  {
   "cell_type": "code",
   "execution_count": 21,
   "metadata": {},
   "outputs": [
    {
     "name": "stdout",
     "output_type": "stream",
     "text": [
      "['spam', 'Spam', 'SPAM', 'Spa', 'SPA']\n"
     ]
    }
   ],
   "source": [
    "l = ['spam', 'Spam', 'SPAM']\n",
    "# insert all at end, same as extend method\n",
    "l[len(l):] = [ 'Spa', 'SPA' ]\n",
    "print(l)\n",
    "del l"
   ]
  },
  {
   "cell_type": "markdown",
   "metadata": {},
   "source": [
    "<h3>List method calls</h3>\n",
    "<p>Methods are object attributes that reference functions. They provide type specific tools. Many change the subject list in place.</p>"
   ]
  },
  {
   "cell_type": "markdown",
   "metadata": {},
   "source": [
    "<h4>Growing Methods</h4>"
   ]
  },
  {
   "cell_type": "code",
   "execution_count": 22,
   "metadata": {},
   "outputs": [
    {
     "name": "stdout",
     "output_type": "stream",
     "text": [
      "['eat', 'less', 'meat', 'please']\n"
     ]
    }
   ],
   "source": [
    "l = ['eat', 'less', 'meat']\n",
    "# append: tacks a single item onto the end of the list\n",
    "l.append('please')\n",
    "print(l)\n",
    "del l"
   ]
  },
  {
   "cell_type": "code",
   "execution_count": 23,
   "metadata": {},
   "outputs": [
    {
     "name": "stdout",
     "output_type": "stream",
     "text": [
      "['eat', 'less', 'meat', 'eat', 'more', 'nuts']\n"
     ]
    }
   ],
   "source": [
    "l = ['eat', 'less', 'meat']\n",
    "# extend: tacks a multiple items onto the end of the list\n",
    "l.extend(['eat', 'more', 'nuts'])\n",
    "print(l)\n",
    "del l"
   ]
  },
  {
   "cell_type": "code",
   "execution_count": 24,
   "metadata": {},
   "outputs": [
    {
     "name": "stdout",
     "output_type": "stream",
     "text": [
      "['please', 'eat', 'less', 'meat']\n"
     ]
    }
   ],
   "source": [
    "l = ['eat', 'less', 'meat']\n",
    "# insert: adds a single item before the given offset\n",
    "l.insert(0,'please')\n",
    "print(l)\n",
    "del l"
   ]
  },
  {
   "cell_type": "markdown",
   "metadata": {},
   "source": [
    "<h4>Shrinking Methods</h4>"
   ]
  },
  {
   "cell_type": "code",
   "execution_count": 25,
   "metadata": {},
   "outputs": [
    {
     "data": {
      "text/plain": [
       "'meat'"
      ]
     },
     "execution_count": 25,
     "metadata": {},
     "output_type": "execute_result"
    }
   ],
   "source": [
    "l = ['eat', 'less', 'meat']\n",
    "# pop: delete and return last item\n",
    "l.pop()"
   ]
  },
  {
   "cell_type": "code",
   "execution_count": 26,
   "metadata": {},
   "outputs": [
    {
     "data": {
      "text/plain": [
       "'less'"
      ]
     },
     "execution_count": 26,
     "metadata": {},
     "output_type": "execute_result"
    }
   ],
   "source": [
    "l = ['eat', 'less', 'meat']\n",
    "# pop: delete and return by offset\n",
    "l.pop(1)"
   ]
  },
  {
   "cell_type": "code",
   "execution_count": 27,
   "metadata": {},
   "outputs": [
    {
     "name": "stdout",
     "output_type": "stream",
     "text": [
      "['eat', 'less']\n"
     ]
    }
   ],
   "source": [
    "l = ['eat', 'less', 'meat']\n",
    "# remove: delete by value\n",
    "l.remove('meat')\n",
    "print(l)\n",
    "del l"
   ]
  },
  {
   "cell_type": "code",
   "execution_count": 28,
   "metadata": {},
   "outputs": [
    {
     "name": "stdout",
     "output_type": "stream",
     "text": [
      "[]\n"
     ]
    }
   ],
   "source": [
    "l = ['eat', 'less', 'meat']\n",
    "# clear : remove all list subjects\n",
    "l.clear()\n",
    "print(l)\n",
    "del l"
   ]
  },
  {
   "cell_type": "markdown",
   "metadata": {},
   "source": [
    "<h4>Ordering methods</h4>"
   ]
  },
  {
   "cell_type": "code",
   "execution_count": 29,
   "metadata": {},
   "outputs": [
    {
     "name": "stdout",
     "output_type": "stream",
     "text": [
      "['ABD', 'aBe', 'abc']\n"
     ]
    }
   ],
   "source": [
    "l = ['abc', 'ABD', 'aBe']\n",
    "# sort: orders the list in place, default ASC\n",
    "l.sort()\n",
    "print(l)\n",
    "del l"
   ]
  },
  {
   "cell_type": "code",
   "execution_count": 30,
   "metadata": {},
   "outputs": [
    {
     "name": "stdout",
     "output_type": "stream",
     "text": [
      "['abc', 'ABD', 'aBe']\n"
     ]
    }
   ],
   "source": [
    "l = ['abc', 'ABD', 'aBe']\n",
    "# sort with normalization to lower case\n",
    "l.sort(key=str.lower)\n",
    "print(l)\n",
    "del l"
   ]
  },
  {
   "cell_type": "code",
   "execution_count": 31,
   "metadata": {},
   "outputs": [
    {
     "name": "stdout",
     "output_type": "stream",
     "text": [
      "['aBe', 'ABD', 'abc']\n"
     ]
    }
   ],
   "source": [
    "l = ['abc', 'ABD', 'aBe']\n",
    "# sort with change of order\n",
    "l.sort(key=str.lower, reverse=True)\n",
    "print(l)\n",
    "del l"
   ]
  },
  {
   "cell_type": "code",
   "execution_count": 32,
   "metadata": {},
   "outputs": [
    {
     "name": "stdout",
     "output_type": "stream",
     "text": [
      "['c', 'b', 'a']\n"
     ]
    }
   ],
   "source": [
    "l = ['a', 'b', 'c']\n",
    "# reverse\n",
    "l.reverse()\n",
    "print(l)\n",
    "del l"
   ]
  },
  {
   "cell_type": "markdown",
   "metadata": {},
   "source": [
    "<h4>Info methods</h4>"
   ]
  },
  {
   "cell_type": "code",
   "execution_count": 33,
   "metadata": {},
   "outputs": [
    {
     "data": {
      "text/plain": [
       "2"
      ]
     },
     "execution_count": 33,
     "metadata": {},
     "output_type": "execute_result"
    }
   ],
   "source": [
    "l = ['eat', 'less', 'sugar']\n",
    "# index: return index of value\n",
    "l.index('sugar')"
   ]
  },
  {
   "cell_type": "code",
   "execution_count": 34,
   "metadata": {},
   "outputs": [
    {
     "data": {
      "text/plain": [
       "2"
      ]
     },
     "execution_count": 34,
     "metadata": {},
     "output_type": "execute_result"
    }
   ],
   "source": [
    "l = ['eat', 'no', 'sugar', 'eat', 'fruits']\n",
    "# count: number of occurencies\n",
    "l.count('eat')"
   ]
  },
  {
   "cell_type": "markdown",
   "metadata": {},
   "source": [
    "<h4>Copy method</h4>"
   ]
  },
  {
   "cell_type": "code",
   "execution_count": 35,
   "metadata": {},
   "outputs": [
    {
     "name": "stdout",
     "output_type": "stream",
     "text": [
      "140613272845376 140613272845376 140613273231808\n"
     ]
    }
   ],
   "source": [
    "l = ['eat', 'less', 'sugar']\n",
    "# assignment without copy\n",
    "l_a = l\n",
    "# copy:\n",
    "l_b = l.copy()\n",
    "print(id(l), id(l_a), id(l_b))\n",
    "del l, l_a, l_b"
   ]
  }
 ],
 "metadata": {
  "kernelspec": {
   "display_name": "Python 3.8.10 ('.venv': venv)",
   "language": "python",
   "name": "python3"
  },
  "language_info": {
   "codemirror_mode": {
    "name": "ipython",
    "version": 3
   },
   "file_extension": ".py",
   "mimetype": "text/x-python",
   "name": "python",
   "nbconvert_exporter": "python",
   "pygments_lexer": "ipython3",
   "version": "3.11.6"
  },
  "orig_nbformat": 4,
  "vscode": {
   "interpreter": {
    "hash": "afa6b98459d80e05b4144fd479eac5a19142374dc66200d5898f2a74d54d80d3"
   }
  }
 },
 "nbformat": 4,
 "nbformat_minor": 2
}
