{
 "cells": [
  {
   "attachments": {},
   "cell_type": "markdown",
   "metadata": {},
   "source": [
    "<h1>Built in functions</h1>"
   ]
  },
  {
   "attachments": {},
   "cell_type": "markdown",
   "metadata": {},
   "source": [
    "<h2>System functions</h2>\n",
    "<h3>help()</h3>\n",
    "<p>Executes the built-in help system</p>"
   ]
  },
  {
   "cell_type": "code",
   "execution_count": 1,
   "metadata": {},
   "outputs": [
    {
     "name": "stdout",
     "output_type": "stream",
     "text": [
      "Help on built-in function hash in module builtins:\n",
      "\n",
      "hash(obj, /)\n",
      "    Return the hash value for the given object.\n",
      "    \n",
      "    Two objects that compare equal must also have the same hash value, but the\n",
      "    reverse is not necessarily true.\n",
      "\n"
     ]
    }
   ],
   "source": [
    "help(hash)"
   ]
  },
  {
   "attachments": {},
   "cell_type": "markdown",
   "metadata": {},
   "source": [
    "<h3>compile(source, filename, mode, flag, dont_inherit, optimize)</h3>\n",
    "<p>Returns returns the specified source as a code object, ready to be executed.</p>"
   ]
  },
  {
   "cell_type": "code",
   "execution_count": 2,
   "metadata": {},
   "outputs": [
    {
     "name": "stdout",
     "output_type": "stream",
     "text": [
      "3\n"
     ]
    }
   ],
   "source": [
    "source_code = \"a = 1\\nb = 2\\nsum = a + b\\nprint(sum)\"\n",
    "compiled_code = compile(source_code, \"Filename\", \"exec\")\n",
    "exec(compiled_code)"
   ]
  },
  {
   "attachments": {},
   "cell_type": "markdown",
   "metadata": {},
   "source": [
    "<h3>eval(expression, globals, locals)</h3>\n",
    "<p>The eval() function evaluates the specified expression, if the expression is a legal Python statement, it will be executed.</p>"
   ]
  },
  {
   "cell_type": "code",
   "execution_count": 3,
   "metadata": {},
   "outputs": [
    {
     "data": {
      "text/plain": [
       "(True, int)"
      ]
     },
     "execution_count": 3,
     "metadata": {},
     "output_type": "execute_result"
    }
   ],
   "source": [
    "x = 2\n",
    "expression1 = \"x > 1\"\n",
    "expression2 = \"type(x)\"\n",
    "eval(expression1), eval(expression2)"
   ]
  },
  {
   "attachments": {},
   "cell_type": "markdown",
   "metadata": {},
   "source": [
    "<h3>exec(object, globals, locals)</h3>\n",
    "<p>The exec() function executes the specified Python code. The exec() function accepts large blocks of code, unlike the eval() function which only accepts a single expression</p>"
   ]
  },
  {
   "cell_type": "code",
   "execution_count": 4,
   "metadata": {},
   "outputs": [
    {
     "name": "stdout",
     "output_type": "stream",
     "text": [
      "3\n"
     ]
    }
   ],
   "source": [
    "code_block = \"a = 1\\nb = 2\\nsum = a + b\\nprint(sum)\"\n",
    "exec(code_block)"
   ]
  },
  {
   "attachments": {},
   "cell_type": "markdown",
   "metadata": {},
   "source": [
    "<h3>globals()</h3>\n",
    "<p>Returns the global symbol table as a dictionary.</p>"
   ]
  },
  {
   "cell_type": "code",
   "execution_count": 91,
   "metadata": {},
   "outputs": [],
   "source": [
    "# globals()"
   ]
  },
  {
   "attachments": {},
   "cell_type": "markdown",
   "metadata": {},
   "source": [
    "<h3>locals()</h3>\n",
    "<p>The locals() function returns the local symbol table as a dictionary. A symbol table contains necessary information about the current program</p>"
   ]
  },
  {
   "cell_type": "code",
   "execution_count": 2,
   "metadata": {},
   "outputs": [],
   "source": [
    "#locals()"
   ]
  },
  {
   "attachments": {},
   "cell_type": "markdown",
   "metadata": {},
   "source": [
    "<h3>memoryview(obj)</h3>\n",
    "<p>The memoryview() function returns a memory view object from a specified object.</p>"
   ]
  },
  {
   "cell_type": "code",
   "execution_count": 27,
   "metadata": {},
   "outputs": [
    {
     "data": {
      "text/plain": [
       "<memory at 0x7f1898c2cdc0>"
      ]
     },
     "execution_count": 27,
     "metadata": {},
     "output_type": "execute_result"
    }
   ],
   "source": [
    "memory_address = memoryview(b\"hello\")\n",
    "memory_address"
   ]
  },
  {
   "attachments": {},
   "cell_type": "markdown",
   "metadata": {},
   "source": [
    "<h3>input(prompt)</h3>\n",
    "<p>The input() function allows user input.</p>"
   ]
  },
  {
   "cell_type": "code",
   "execution_count": 5,
   "metadata": {},
   "outputs": [
    {
     "name": "stdout",
     "output_type": "stream",
     "text": [
      "Hello test\n"
     ]
    }
   ],
   "source": [
    "username = input('Enter your name:')\n",
    "print('Hello ' + username) "
   ]
  },
  {
   "attachments": {},
   "cell_type": "markdown",
   "metadata": {},
   "source": [
    "<h3>open(file, mode)</h3>\n",
    "<p>The open() function opens a file, and returns it as a file object.<br>\n",
    "A string, define which mode you want to open the file in:<br>\n",
    "&emsp;\"r\" - Read - Default value. Opens a file for reading, error if the file does not exist<br>\n",
    "&emsp;\"a\" - Append - Opens a file for appending, creates the file if it does not exist<br>\n",
    "&emsp;\"w\" - Write - Opens a file for writing, creates the file if it does not exist<br>\n",
    "&emsp;\"x\" - Create - Creates the specified file, returns an error if the file exist<br>\n",
    "In addition you can specify if the file should be handled as binary or text mode<br>\n",
    "&emsp;\"t\" - Text - Default value. Text mode<br>\n",
    "&emsp;\"b\" - Binary - Binary mode (e.g. images)</p>"
   ]
  },
  {
   "cell_type": "code",
   "execution_count": 57,
   "metadata": {},
   "outputs": [
    {
     "name": "stdout",
     "output_type": "stream",
     "text": [
      "# TEMPLATE for Python projects\n",
      "This script creates all dependencies to start a python project\n",
      "\n"
     ]
    }
   ],
   "source": [
    "readme = open(\"../README.md\", \"r\")\n",
    "print(readme.read()[:94])"
   ]
  },
  {
   "attachments": {},
   "cell_type": "markdown",
   "metadata": {},
   "source": [
    "<h3>print(object(s), sep=separator, end=end, file=file, flush=flush)</h3>\n",
    "<p>The print() function prints the specified message to the screen, or other standard output device. The message can be a string, or any other object, the object will be converted into a string before written to the screen.<br><br>\n",
    "object(s) => Any object, and as many as you like. Will be converted to string before printed<br>\n",
    "sep='separator' => Optional. Specify how to separate the objects, if there is more than one. Default is ' '<br>\n",
    "end='end' => Optional. Specify what to print at the end. Default is '\\n' (line feed)<br>\n",
    "file => Optional. An object with a write method. Default is sys.stdout<br>\n",
    "flush => Optional. A Boolean, specifying if the output is flushed (True) or buffered (False). Default is False<br>\n",
    "</p>"
   ]
  },
  {
   "cell_type": "code",
   "execution_count": 71,
   "metadata": {},
   "outputs": [
    {
     "name": "stdout",
     "output_type": "stream",
     "text": [
      "Hello---how are you?\n"
     ]
    }
   ],
   "source": [
    "print(\"Hello\", \"how are you?\", sep=\"---\")"
   ]
  },
  {
   "attachments": {},
   "cell_type": "markdown",
   "metadata": {},
   "source": [
    "<h2>Object functions</h2>\n",
    "<h3>super()</h3>\n",
    "<p>The super() function is used to give access to methods and properties of a parent or sibling class. The super() function returns an object that represents the parent class.</p>"
   ]
  },
  {
   "cell_type": "code",
   "execution_count": 20,
   "metadata": {},
   "outputs": [
    {
     "name": "stdout",
     "output_type": "stream",
     "text": [
      "Hello, and welcome!\n"
     ]
    }
   ],
   "source": [
    "class Parent:\n",
    "    def __init__(self, txt):\n",
    "        self.message = txt\n",
    "\n",
    "    def printmessage(self):\n",
    "        print(self.message)\n",
    "\n",
    "class Child(Parent):\n",
    "    def __init__(self, txt):\n",
    "        super().__init__(txt)\n",
    "\n",
    "x = Child(\"Hello, and welcome!\")\n",
    "\n",
    "x.printmessage()"
   ]
  },
  {
   "attachments": {},
   "cell_type": "markdown",
   "metadata": {},
   "source": [
    "<h3>getattr(object, attribute, default)</h3>\n",
    "<p>Returns the value of the specified attribute from the specified object</p>"
   ]
  },
  {
   "cell_type": "code",
   "execution_count": null,
   "metadata": {},
   "outputs": [
    {
     "data": {
      "text/plain": [
       "100"
      ]
     },
     "metadata": {},
     "output_type": "display_data"
    }
   ],
   "source": [
    "class Person:\n",
    "    name = \"Grandfather\"\n",
    "    age = 100\n",
    "getattr(Person, \"age\")"
   ]
  },
  {
   "attachments": {},
   "cell_type": "markdown",
   "metadata": {},
   "source": [
    "<h3>setattr(object, attribute, value)</h3>\n",
    "<p>The setattr() function sets the value of the specified attribute of the specified object.</p>"
   ]
  },
  {
   "cell_type": "code",
   "execution_count": 97,
   "metadata": {},
   "outputs": [
    {
     "data": {
      "text/plain": [
       "100"
      ]
     },
     "execution_count": 97,
     "metadata": {},
     "output_type": "execute_result"
    }
   ],
   "source": [
    "class Person:\n",
    "    name = \"Grandfather\"\n",
    "    age = 1000\n",
    "setattr(Person, \"age\", 100)\n",
    "Person.age"
   ]
  },
  {
   "cell_type": "markdown",
   "metadata": {},
   "source": [
    "<h3>delattr(object, attribute)</h3>\n",
    "<p>Deletes the specified attribute from the specified object.</p>"
   ]
  },
  {
   "cell_type": "code",
   "execution_count": 96,
   "metadata": {},
   "outputs": [
    {
     "data": {
      "text/plain": [
       "False"
      ]
     },
     "execution_count": 96,
     "metadata": {},
     "output_type": "execute_result"
    }
   ],
   "source": [
    "class Person:\n",
    "    name = \"Dirk\"\n",
    "    age = \"101\"\n",
    "delattr(Person, \"age\")\n",
    "test_attr = hasattr(Person, 'age')\n",
    "test_attr"
   ]
  },
  {
   "attachments": {},
   "cell_type": "markdown",
   "metadata": {},
   "source": [
    "<h3>type(object, bases, dict)</h3>\n",
    "<p>The type() function returns the type of the specified object</p>"
   ]
  },
  {
   "cell_type": "code",
   "execution_count": 24,
   "metadata": {},
   "outputs": [
    {
     "data": {
      "text/plain": [
       "(str, int)"
      ]
     },
     "execution_count": 24,
     "metadata": {},
     "output_type": "execute_result"
    }
   ],
   "source": [
    "greeting = \"Hello\"\n",
    "age = 33\n",
    "type(greeting), type(age)"
   ]
  },
  {
   "cell_type": "markdown",
   "metadata": {},
   "source": [
    "<h3>dir(object)</h3>\n",
    "<p>Returns all properties and methods of the specified object, without the values.This function will return all the properties and methods, even built-in properties which are default for all object.</p>"
   ]
  },
  {
   "cell_type": "code",
   "execution_count": null,
   "metadata": {},
   "outputs": [],
   "source": [
    "class Person:\n",
    "    name = \"Dirk\"\n",
    "    age = \"101\"\n",
    "# dir(Person)"
   ]
  },
  {
   "attachments": {},
   "cell_type": "markdown",
   "metadata": {},
   "source": [
    "<h3>id(object)</h3>\n",
    "<p>Returns a unique id for the specified object.All objects in Python has its own unique id. \n",
    "The id is assigned to the object when it is created. The id is the object's memory address, and will be different for each time you run the program. (except for some object that has a constant unique id, like integers from -5 to 256)</p>"
   ]
  },
  {
   "cell_type": "code",
   "execution_count": 96,
   "metadata": {},
   "outputs": [
    {
     "data": {
      "text/plain": [
       "140437633949104"
      ]
     },
     "execution_count": 96,
     "metadata": {},
     "output_type": "execute_result"
    }
   ],
   "source": [
    "name = \"Bert\"\n",
    "id(name)"
   ]
  },
  {
   "cell_type": "markdown",
   "metadata": {},
   "source": [
    "<h3>repr(object)</h3>\n",
    "<p>Returns a printable representation of an object in Python.</p>"
   ]
  },
  {
   "cell_type": "code",
   "execution_count": 83,
   "metadata": {},
   "outputs": [
    {
     "data": {
      "text/plain": [
       "('1', \"('a', 'b')\")"
      ]
     },
     "execution_count": 83,
     "metadata": {},
     "output_type": "execute_result"
    }
   ],
   "source": [
    "repr(1), repr((\"a\", \"b\"))"
   ]
  },
  {
   "cell_type": "markdown",
   "metadata": {},
   "source": [
    "<h3>callable(object)</h3>\n",
    "<p>Returns True if the specified object is callable, otherwise it returns False.</p>"
   ]
  },
  {
   "cell_type": "code",
   "execution_count": null,
   "metadata": {},
   "outputs": [
    {
     "data": {
      "text/plain": [
       "(False, True, True)"
      ]
     },
     "metadata": {},
     "output_type": "display_data"
    }
   ],
   "source": [
    "number = 42\n",
    "\n",
    "def do_something():\n",
    "    print(\"I do it later\")\n",
    "\n",
    "hidden_function = do_something\n",
    "\n",
    "test1_callable = callable(number)\n",
    "test2_callable = callable(do_something)\n",
    "test3_callable = callable(hidden_function)\n",
    "test1_callable, test2_callable, test3_callable"
   ]
  },
  {
   "cell_type": "markdown",
   "metadata": {},
   "source": [
    "<h3>hasattr(object, attribute)</h3>\n",
    "<p>Returns True if the specified object has the specified attribute, otherwise False.</p>"
   ]
  },
  {
   "cell_type": "code",
   "execution_count": null,
   "metadata": {},
   "outputs": [
    {
     "data": {
      "text/plain": [
       "(True, False)"
      ]
     },
     "metadata": {},
     "output_type": "display_data"
    }
   ],
   "source": [
    "class Person:\n",
    "  name = \"John\"\n",
    "  age = 36\n",
    "\n",
    "hasattr(Person, 'age'), hasattr(Person, 'country')"
   ]
  },
  {
   "cell_type": "markdown",
   "metadata": {},
   "source": [
    "<h3>isinstance(object, type)</h3>\n",
    "<p>The isinstance() function returns True if the specified object is of the specified type, otherwise False. If the type parameter is a tuple, this function will return True if the object is one of the types in the tuple.</p>"
   ]
  },
  {
   "cell_type": "code",
   "execution_count": null,
   "metadata": {},
   "outputs": [
    {
     "data": {
      "text/plain": [
       "True"
      ]
     },
     "metadata": {},
     "output_type": "display_data"
    }
   ],
   "source": [
    "class Class:\n",
    "  pass\n",
    "instance = Class()\n",
    "isinstance(instance, Class)"
   ]
  },
  {
   "cell_type": "markdown",
   "metadata": {},
   "source": [
    "<h3>issubclass(object, Parent class)</h3>\n",
    "<p>The issubclass() function returns True if the specified object is a subclass of the specified object, otherwise False</p>"
   ]
  },
  {
   "cell_type": "code",
   "execution_count": null,
   "metadata": {},
   "outputs": [
    {
     "data": {
      "text/plain": [
       "True"
      ]
     },
     "metadata": {},
     "output_type": "display_data"
    }
   ],
   "source": [
    "class Class:\n",
    "  pass\n",
    "\n",
    "class SubClass(Class):\n",
    "  pass\n",
    "\n",
    "issubclass(SubClass, Class)"
   ]
  },
  {
   "attachments": {},
   "cell_type": "markdown",
   "metadata": {},
   "source": [
    "<h3>vars(object)</h3>\n",
    "<p>The vars() function returns the __dict__ attribute of an object. The __dict__ attribute is a dictionary containing the object's changeable attributes.</p>"
   ]
  },
  {
   "cell_type": "code",
   "execution_count": 26,
   "metadata": {},
   "outputs": [
    {
     "data": {
      "text/plain": [
       "mappingproxy({'__module__': '__main__',\n",
       "              '__doc__': 'Employee class',\n",
       "              'name': 'John',\n",
       "              'age': 36,\n",
       "              '__dict__': <attribute '__dict__' of 'Person' objects>,\n",
       "              '__weakref__': <attribute '__weakref__' of 'Person' objects>})"
      ]
     },
     "execution_count": 26,
     "metadata": {},
     "output_type": "execute_result"
    }
   ],
   "source": [
    "class Person:\n",
    "  \"\"\"Employee class\"\"\"\n",
    "  name = \"John\"\n",
    "  age = 36\n",
    "\n",
    "vars(Person)"
   ]
  },
  {
   "attachments": {},
   "cell_type": "markdown",
   "metadata": {},
   "source": [
    "<h3>property()</h3>\n",
    "<p>Gets, sets, deletes a property</p>"
   ]
  },
  {
   "cell_type": "code",
   "execution_count": 72,
   "metadata": {},
   "outputs": [
    {
     "data": {
      "text/plain": [
       "<property at 0x7f18984bdd10>"
      ]
     },
     "execution_count": 72,
     "metadata": {},
     "output_type": "execute_result"
    }
   ],
   "source": [
    "property()"
   ]
  },
  {
   "attachments": {},
   "cell_type": "markdown",
   "metadata": {},
   "source": [
    "<h3>staticmethod()</h3>\n",
    "<p>Converts a method into a static method</p>"
   ]
  },
  {
   "cell_type": "code",
   "execution_count": 74,
   "metadata": {},
   "outputs": [],
   "source": [
    "#staticmethod()"
   ]
  },
  {
   "attachments": {},
   "cell_type": "markdown",
   "metadata": {},
   "source": [
    "<h3>classmethod()</h3>\n",
    "<p>Converts a method into a class method</p>"
   ]
  },
  {
   "cell_type": "code",
   "execution_count": 75,
   "metadata": {},
   "outputs": [],
   "source": [
    "#classmethod()"
   ]
  },
  {
   "cell_type": "markdown",
   "metadata": {},
   "source": [
    "<h2>Math functions</h2>\n",
    "<h3>abs(number)</h3>\n",
    "<p>Returns the absolute value of a number</p>"
   ]
  },
  {
   "cell_type": "code",
   "execution_count": 97,
   "metadata": {},
   "outputs": [
    {
     "data": {
      "text/plain": [
       "(4.34, 5.830951894845301)"
      ]
     },
     "execution_count": 97,
     "metadata": {},
     "output_type": "execute_result"
    }
   ],
   "source": [
    "postitve = abs(-4.34)\n",
    "complex = abs(3+5j)\n",
    "postitve, complex"
   ]
  },
  {
   "attachments": {},
   "cell_type": "markdown",
   "metadata": {},
   "source": [
    "<h3>complex(real, imaginary)</h3>\n",
    "<p>Returns a complex number by specifying a real number and an imaginary number.</p>"
   ]
  },
  {
   "cell_type": "code",
   "execution_count": 6,
   "metadata": {},
   "outputs": [
    {
     "data": {
      "text/plain": [
       "((3+5j), (3+5j))"
      ]
     },
     "execution_count": 6,
     "metadata": {},
     "output_type": "execute_result"
    }
   ],
   "source": [
    "number1_complex = complex(3, 5)\n",
    "number2_complex = complex(\"3+5j\")\n",
    "number1_complex, number2_complex"
   ]
  },
  {
   "attachments": {},
   "cell_type": "markdown",
   "metadata": {},
   "source": [
    "<h3>divmod(dividend, divisor)</h3>\n",
    "<p>Returns a tuple containing the quotient  and the remainder when argument1 (dividend) is divided by argument2 (divisor).</p>"
   ]
  },
  {
   "cell_type": "code",
   "execution_count": 7,
   "metadata": {},
   "outputs": [
    {
     "data": {
      "text/plain": [
       "(2, 1)"
      ]
     },
     "execution_count": 7,
     "metadata": {},
     "output_type": "execute_result"
    }
   ],
   "source": [
    "quotient, remainder = divmod(5,2)\n",
    "quotient, remainder"
   ]
  },
  {
   "attachments": {},
   "cell_type": "markdown",
   "metadata": {},
   "source": [
    "<h3>max(iterable)</h3>\n",
    "<p>The max() function returns the item with the highest value, or the item with the highest value in an iterable. \n",
    "If the values are strings, an alphabetically comparison is done.</p>"
   ]
  },
  {
   "cell_type": "code",
   "execution_count": 19,
   "metadata": {},
   "outputs": [
    {
     "data": {
      "text/plain": [
       "(3, 'cb')"
      ]
     },
     "execution_count": 19,
     "metadata": {},
     "output_type": "execute_result"
    }
   ],
   "source": [
    "max_value = max([1,2,3])\n",
    "max_letter = max(\"c\", \"ca\", \"cb\")\n",
    "max_value, max_letter"
   ]
  },
  {
   "attachments": {},
   "cell_type": "markdown",
   "metadata": {},
   "source": [
    "<h3>min(iterable)</h3>\n",
    "<p>The min() function returns the item with the lowest value, or the item with the lowest value in an iterable. If the values are strings, an alphabetically comparison is done.</p>"
   ]
  },
  {
   "cell_type": "code",
   "execution_count": 23,
   "metadata": {},
   "outputs": [
    {
     "data": {
      "text/plain": [
       "(0, 'ca')"
      ]
     },
     "execution_count": 23,
     "metadata": {},
     "output_type": "execute_result"
    }
   ],
   "source": [
    "min_value = min(0,2,4)\n",
    "min_letter = min(\"ca\", \"cb\", \"cc\")\n",
    "min_value, min_letter"
   ]
  },
  {
   "attachments": {},
   "cell_type": "markdown",
   "metadata": {},
   "source": [
    "<h3>pow(x, y, z)</h3>\n",
    "<p>The pow() function returns the value of x to the power of y (xy).<br>If a third parameter is present, it returns x to the power of y, modulus z.</p>"
   ]
  },
  {
   "cell_type": "code",
   "execution_count": 68,
   "metadata": {},
   "outputs": [
    {
     "data": {
      "text/plain": [
       "(9, 1)"
      ]
     },
     "execution_count": 68,
     "metadata": {},
     "output_type": "execute_result"
    }
   ],
   "source": [
    "pow(3, 2), pow(3, 2, 2)"
   ]
  },
  {
   "attachments": {},
   "cell_type": "markdown",
   "metadata": {},
   "source": [
    "<h3>sum(iterable, start)</h3>\n",
    "<p>The sum() function returns a number, the sum of all items in an iterable.</p>"
   ]
  },
  {
   "cell_type": "code",
   "execution_count": 18,
   "metadata": {},
   "outputs": [
    {
     "data": {
      "text/plain": [
       "(10, 15)"
      ]
     },
     "execution_count": 18,
     "metadata": {},
     "output_type": "execute_result"
    }
   ],
   "source": [
    "a = (1, 2, 3, 4)\n",
    "sum(a), sum(a, 5) "
   ]
  },
  {
   "attachments": {},
   "cell_type": "markdown",
   "metadata": {},
   "source": [
    "<h3>round(number, digits)</h3>\n",
    "<p>The round() function returns a floating point number that is a rounded version of the specified number, with the pecified number of decimals. The default number of decimals is 0, meaning that the function will return the nearest integer.</p>"
   ]
  },
  {
   "cell_type": "code",
   "execution_count": 91,
   "metadata": {},
   "outputs": [
    {
     "data": {
      "text/plain": [
       "(6, 5.43)"
      ]
     },
     "execution_count": 91,
     "metadata": {},
     "output_type": "execute_result"
    }
   ],
   "source": [
    "round(5.5), round(5.4321, 2)"
   ]
  },
  {
   "attachments": {},
   "cell_type": "markdown",
   "metadata": {},
   "source": [
    "<h2>Constructor functions</h2>\n",
    "<h3>object()</h3>\n",
    "<p>The object() function returns an empty object. You cannot add new properties or methods to this object. This object is the base for all classes, it holds the built-in properties and methods which are default for all classes.</p>"
   ]
  },
  {
   "cell_type": "code",
   "execution_count": 37,
   "metadata": {},
   "outputs": [
    {
     "data": {
      "text/plain": [
       "<object at 0x7f1898f24be0>"
      ]
     },
     "execution_count": 37,
     "metadata": {},
     "output_type": "execute_result"
    }
   ],
   "source": [
    "empty_object = object()\n",
    "empty_object"
   ]
  },
  {
   "attachments": {},
   "cell_type": "markdown",
   "metadata": {},
   "source": [
    "<h3>dict(keyword arguments)</h3>\n",
    "<p>The dict() function creates a dictionary. A dictionary is a collection which is unordered, changeable and indexed.</p>"
   ]
  },
  {
   "cell_type": "code",
   "execution_count": null,
   "metadata": {},
   "outputs": [
    {
     "data": {
      "text/plain": [
       "{'city': 'Berlin', 'country': 'Germany', 'population': 3000000}"
      ]
     },
     "metadata": {},
     "output_type": "display_data"
    }
   ],
   "source": [
    "capital_city = dict(city = \"Berlin\", country = \"Germany\", population=3000000)\n",
    "capital_city"
   ]
  },
  {
   "attachments": {},
   "cell_type": "markdown",
   "metadata": {},
   "source": [
    "<h3>list(iterable)</h3>\n",
    "<p>The list() function creates a list object. A list object is a collection which is ordered and changeable.</p>"
   ]
  },
  {
   "cell_type": "code",
   "execution_count": 11,
   "metadata": {},
   "outputs": [
    {
     "data": {
      "text/plain": [
       "['apple', 'banana', 'cherry']"
      ]
     },
     "execution_count": 11,
     "metadata": {},
     "output_type": "execute_result"
    }
   ],
   "source": [
    "fruits = ('apple', 'banana', 'cherry')\n",
    "list(fruits)\n"
   ]
  },
  {
   "attachments": {},
   "cell_type": "markdown",
   "metadata": {},
   "source": [
    "<h3>set(iterable)</h3>\n",
    "<p>The set() function creates a set object. The items in a set list are unordered, so it will appear in random order.</p>"
   ]
  },
  {
   "cell_type": "code",
   "execution_count": 93,
   "metadata": {},
   "outputs": [
    {
     "data": {
      "text/plain": [
       "{'apple', 'banana', 'cherry'}"
      ]
     },
     "execution_count": 93,
     "metadata": {},
     "output_type": "execute_result"
    }
   ],
   "source": [
    "fruits = ('apple', 'banana', 'cherry')\n",
    "set(fruits)"
   ]
  },
  {
   "attachments": {},
   "cell_type": "markdown",
   "metadata": {},
   "source": [
    "<h3>tuple(iterable)</h3>\n",
    "<p>The tuple() function creates a tuple object. You cannot change or remove items in a tuple.</p>"
   ]
  },
  {
   "cell_type": "code",
   "execution_count": 22,
   "metadata": {},
   "outputs": [
    {
     "data": {
      "text/plain": [
       "('apple', 'banana', 'cherry')"
      ]
     },
     "execution_count": 22,
     "metadata": {},
     "output_type": "execute_result"
    }
   ],
   "source": [
    "fruits = ['apple', 'banana', 'cherry']\n",
    "tuple(fruits)"
   ]
  },
  {
   "cell_type": "markdown",
   "metadata": {},
   "source": [
    "<h2>Conversion functions</h2>\n",
    "<h3>ascii(object)</h3>\n",
    "<p>Returns a readable version of any object (Strings, Tuples, Lists, etc). The ascii() function will replace any non-ascii characters with escape characters: å will be replaced with \\xe5.</p>"
   ]
  },
  {
   "cell_type": "code",
   "execution_count": null,
   "metadata": {},
   "outputs": [
    {
     "data": {
      "text/plain": [
       "\"'\\\\xa7 \\\\u20ac \\\\xbd \\\\xbc \\\\xac \\\\xe5 @ \\\\u0142 \\\\u20ac \\\\xb6 \\\\u0167 \\\\u2190 \\\\u2193 \\\\u2192 \\\\xf8 \\\\xfe \\\\xe6 \\\\u017f \\\\xf0 \\\\u0111 \\\\u014b \\\\u0127 \\\\u0142 \\\\xbb \\\\xab \\\\xb5\\\\xb7\\\\u2026 \\\\u0167'\""
      ]
     },
     "metadata": {},
     "output_type": "display_data"
    }
   ],
   "source": [
    "non_ascii = \"§ € ½ ¼ ¬ å @ ł € ¶ ŧ ← ↓ → ø þ æ ſ ð đ ŋ ħ ł » « µ·… ŧ\"\n",
    "readable_object = ascii(non_ascii)\n",
    "readable_object"
   ]
  },
  {
   "attachments": {},
   "cell_type": "markdown",
   "metadata": {},
   "source": [
    "<h3>chr(number)</h3>\n",
    "<p>Returns the character that represents the specified unicode.</p>"
   ]
  },
  {
   "cell_type": "code",
   "execution_count": 63,
   "metadata": {},
   "outputs": [
    {
     "data": {
      "text/plain": [
       "'🌞'"
      ]
     },
     "execution_count": 63,
     "metadata": {},
     "output_type": "execute_result"
    }
   ],
   "source": [
    "unicode_sign = chr(0x1f31e)\n",
    "unicode_sign"
   ]
  },
  {
   "attachments": {},
   "cell_type": "markdown",
   "metadata": {},
   "source": [
    "<h3>ord(character)</h3>\n",
    "<p>Returns the number representing the unicode code of a specified character.</p>"
   ]
  },
  {
   "cell_type": "code",
   "execution_count": 64,
   "metadata": {},
   "outputs": [
    {
     "data": {
      "text/plain": [
       "(127774, '0x1f31e')"
      ]
     },
     "execution_count": 64,
     "metadata": {},
     "output_type": "execute_result"
    }
   ],
   "source": [
    "unicode_number = ord('🌞')\n",
    "unicode_number, hex(unicode_number)"
   ]
  },
  {
   "attachments": {},
   "cell_type": "markdown",
   "metadata": {},
   "source": [
    "<h3>hex(number)</h3>\n",
    "<p>The hex() function converts the specified number into a hexadecimal value. The returned string always starts with the prefix 0x.</p>"
   ]
  },
  {
   "cell_type": "code",
   "execution_count": 39,
   "metadata": {},
   "outputs": [
    {
     "data": {
      "text/plain": [
       "'0xf'"
      ]
     },
     "execution_count": 39,
     "metadata": {},
     "output_type": "execute_result"
    }
   ],
   "source": [
    "hexadecimal=hex(15)\n",
    "hexadecimal"
   ]
  },
  {
   "attachments": {},
   "cell_type": "markdown",
   "metadata": {},
   "source": [
    "<h3>oct(number)</h3>\n",
    "<p>The oct() function converts an integer into an octal string. Octal strings in Python are prefixed with 0o.</p>"
   ]
  },
  {
   "cell_type": "code",
   "execution_count": 43,
   "metadata": {},
   "outputs": [
    {
     "data": {
      "text/plain": [
       "'0o7'"
      ]
     },
     "execution_count": 43,
     "metadata": {},
     "output_type": "execute_result"
    }
   ],
   "source": [
    "octal=oct(7)\n",
    "octal"
   ]
  },
  {
   "cell_type": "markdown",
   "metadata": {},
   "source": [
    "<h3>bin(integer)</h3>\n",
    "<p>Returns the binary version of a specified integer. The result will always start with the prefix 0b.</p>"
   ]
  },
  {
   "cell_type": "code",
   "execution_count": null,
   "metadata": {},
   "outputs": [
    {
     "data": {
      "text/plain": [
       "'0b111'"
      ]
     },
     "execution_count": 28,
     "metadata": {},
     "output_type": "execute_result"
    }
   ],
   "source": [
    "binary=bin(7)\n",
    "binary"
   ]
  },
  {
   "attachments": {},
   "cell_type": "markdown",
   "metadata": {},
   "source": [
    "<h3>bytearray(x, encoding, error)</h3>\n",
    "<p>Returns a bytearray object. It can convert objects into bytearray objects, or create empty bytearray object of the specified size.</p>"
   ]
  },
  {
   "cell_type": "code",
   "execution_count": null,
   "metadata": {},
   "outputs": [
    {
     "data": {
      "text/plain": [
       "bytearray(b'\\xff\\xfea\\x00b\\x00c\\x00')"
      ]
     },
     "execution_count": 64,
     "metadata": {},
     "output_type": "execute_result"
    }
   ],
   "source": [
    "array=bytearray(\"abc\", \"utf-16\")\n",
    "array"
   ]
  },
  {
   "attachments": {},
   "cell_type": "markdown",
   "metadata": {},
   "source": [
    "<h3>bytes(x, encoding, error)</h3>\n",
    "<p>Returns a bytes object. It can convert objects into bytes objects, or create empty bytes object of the specified size.\n",
    "The difference between bytes() and bytearray() is that bytes() returns an object that cannot be modified, and bytearray() returns an object that can be modified.</p>"
   ]
  },
  {
   "cell_type": "code",
   "execution_count": null,
   "metadata": {},
   "outputs": [
    {
     "data": {
      "text/plain": [
       "b'abc'"
      ]
     },
     "execution_count": 65,
     "metadata": {},
     "output_type": "execute_result"
    }
   ],
   "source": [
    "array=bytes(\"abc\", \"utf-8\")\n",
    "array"
   ]
  },
  {
   "attachments": {},
   "cell_type": "markdown",
   "metadata": {},
   "source": [
    "<h3>str(object, encoding=encoding, errors=errors)</h3>\n",
    "<p>The str() function converts the specified value into a string.</p>"
   ]
  },
  {
   "cell_type": "code",
   "execution_count": 14,
   "metadata": {},
   "outputs": [
    {
     "data": {
      "text/plain": [
       "'3.521414'"
      ]
     },
     "execution_count": 14,
     "metadata": {},
     "output_type": "execute_result"
    }
   ],
   "source": [
    "string_number = str(3.521414)\n",
    "string_number"
   ]
  },
  {
   "cell_type": "markdown",
   "metadata": {},
   "source": [
    "<h3>float(number/string)</h3>\n",
    "<p>The float() function converts the specified value into a floating point number.</p>"
   ]
  },
  {
   "cell_type": "code",
   "execution_count": null,
   "metadata": {},
   "outputs": [
    {
     "data": {
      "text/plain": [
       "10.0"
      ]
     },
     "metadata": {},
     "output_type": "display_data"
    }
   ],
   "source": [
    "floating_point_number = float(\"10\")\n",
    "floating_point_number"
   ]
  },
  {
   "attachments": {},
   "cell_type": "markdown",
   "metadata": {},
   "source": [
    "<h3>int(value, base)</h3>\n",
    "<p>The int() function converts the specified value into an integer number.</p>"
   ]
  },
  {
   "cell_type": "code",
   "execution_count": null,
   "metadata": {},
   "outputs": [
    {
     "data": {
      "text/plain": [
       "1"
      ]
     },
     "execution_count": 51,
     "metadata": {},
     "output_type": "execute_result"
    }
   ],
   "source": [
    "integer = int(1.123)\n",
    "integer"
   ]
  },
  {
   "attachments": {},
   "cell_type": "markdown",
   "metadata": {},
   "source": [
    "<h3>bool(object)</h3>\n",
    "<p>Returns the boolean value of a specified object. The object will always return True, unless:<br>\n",
    "The object is empty, like [], (), {}<br>\n",
    "The object is False<br>\n",
    "The object is 0<br>\n",
    "The object is None</p>"
   ]
  },
  {
   "cell_type": "code",
   "execution_count": 9,
   "metadata": {},
   "outputs": [
    {
     "data": {
      "text/plain": [
       "(False, True)"
      ]
     },
     "execution_count": 9,
     "metadata": {},
     "output_type": "execute_result"
    }
   ],
   "source": [
    "boolean1=bool(0)\n",
    "boolean2=bool(1)\n",
    "boolean1, boolean2"
   ]
  },
  {
   "attachments": {},
   "cell_type": "markdown",
   "metadata": {},
   "source": [
    "<h3>format(value, format)</h3>\n",
    "<p>The format() function formats a specified value into a specified format.<br>\n",
    "Examples:<br>\n",
    "'b' - Binary format<br>\n",
    "'c' - Converts the value into the corresponding unicode character<br>\n",
    "'d' - Decimal format<br>\n",
    "'e' - Scientific format, with a lower case e<br>\n",
    "'f' - Fix point number format<br>\n",
    "'o' - Octal format<br>\n",
    "'x' - Hex format, lower case<br>\n",
    "'n' - Number format<br>\n",
    "'%' - Percentage format<br>\n",
    "</p>"
   ]
  },
  {
   "cell_type": "code",
   "execution_count": null,
   "metadata": {},
   "outputs": [
    {
     "data": {
      "text/plain": [
       "('ff', '99.123000%')"
      ]
     },
     "execution_count": 46,
     "metadata": {},
     "output_type": "execute_result"
    }
   ],
   "source": [
    "hexadecimal = format(255, 'x')\n",
    "percentage  = format(0.99123, '%')\n",
    "hexadecimal, percentage"
   ]
  },
  {
   "attachments": {},
   "cell_type": "markdown",
   "metadata": {},
   "source": [
    "<h3>hash(object)</h3>\n",
    "<p>Returns the hash value of a specified object. Works only on immutable objects. Integer object has the same hash like their value</p>"
   ]
  },
  {
   "cell_type": "code",
   "execution_count": null,
   "metadata": {},
   "outputs": [
    {
     "data": {
      "text/plain": [
       "(691752902764109836, 529344067295497451, 1998169516697072003)"
      ]
     },
     "execution_count": 13,
     "metadata": {},
     "output_type": "execute_result"
    }
   ],
   "source": [
    "hash(12.3),  hash((1,2,3)), hash(\"hash me now\")\n"
   ]
  },
  {
   "attachments": {},
   "cell_type": "markdown",
   "metadata": {},
   "source": [
    "<h1>Iterator functions</h1>\n",
    "<p>iterable = sequence, collection or iterator object</p>\n",
    "<h3>iter(iterable, sentinel)</h3>\n",
    "<p>The iter() function returns an iterator object.</p>"
   ]
  },
  {
   "cell_type": "code",
   "execution_count": 28,
   "metadata": {},
   "outputs": [
    {
     "data": {
      "text/plain": [
       "(1, 2, 3)"
      ]
     },
     "execution_count": 28,
     "metadata": {},
     "output_type": "execute_result"
    }
   ],
   "source": [
    "test_list = [1, 2, 3]\n",
    "item = iter(test_list)\n",
    "next(item), next(item), next(item)"
   ]
  },
  {
   "attachments": {},
   "cell_type": "markdown",
   "metadata": {},
   "source": [
    "<h3>next(iterable, default)</h3>\n",
    "<p>Returns the next item in an iterator. You can add a default return value, to return if the iterable has reached to its end.The iter() function returns an iterator object.</p>"
   ]
  },
  {
   "cell_type": "code",
   "execution_count": 33,
   "metadata": {},
   "outputs": [
    {
     "data": {
      "text/plain": [
       "(1, 2, 'list ended!')"
      ]
     },
     "execution_count": 33,
     "metadata": {},
     "output_type": "execute_result"
    }
   ],
   "source": [
    "test_list = [1, 2]\n",
    "item = iter(test_list)\n",
    "next(item), next(item), next(item, \"list ended!\")"
   ]
  },
  {
   "attachments": {},
   "cell_type": "markdown",
   "metadata": {},
   "source": [
    "<h3>enumerate(iterable, start)</h3>\n",
    "<p>The enumerate() function takes a collection (e.g. a tuple) and returns it as an enumerate object. The enumerate() function adds a counter as the key of the enumerate object.</p>"
   ]
  },
  {
   "cell_type": "code",
   "execution_count": null,
   "metadata": {},
   "outputs": [
    {
     "name": "stdout",
     "output_type": "stream",
     "text": [
      "0 a\n",
      "1 b\n",
      "2 c\n"
     ]
    }
   ],
   "source": [
    "test_tuple = (\"a\", \"b\", \"c\")\n",
    "for index,item in enumerate(test_tuple,0):\n",
    "    print(index, item)"
   ]
  },
  {
   "attachments": {},
   "cell_type": "markdown",
   "metadata": {},
   "source": [
    "<h3>filter(function, iterable)</h3>\n",
    "<p>The filter() function returns an iterator were the items are filtered through a function to test if the item is accepted or not.</p>"
   ]
  },
  {
   "cell_type": "code",
   "execution_count": null,
   "metadata": {},
   "outputs": [
    {
     "data": {
      "text/plain": [
       "[18, 24, 32]"
      ]
     },
     "execution_count": 38,
     "metadata": {},
     "output_type": "execute_result"
    }
   ],
   "source": [
    "ages = [5, 12, 17, 18, 24, 32]\n",
    "adults = list(filter(lambda age: age >= 18, ages))\n",
    "adults"
   ]
  },
  {
   "attachments": {},
   "cell_type": "markdown",
   "metadata": {},
   "source": [
    "<h3>map(function, iterable)</h3>\n",
    "<p>The map() function executes a specified function for each item in an iterable. The item is sent to the function as a parameter.</p>"
   ]
  },
  {
   "cell_type": "code",
   "execution_count": 8,
   "metadata": {},
   "outputs": [
    {
     "data": {
      "text/plain": [
       "['a', 'b', 'c']"
      ]
     },
     "execution_count": 8,
     "metadata": {},
     "output_type": "execute_result"
    }
   ],
   "source": [
    "fruits = ('apple', 'banana', 'cherry')\n",
    "first_letter = list(map(lambda item:  item[0], fruits))\n",
    "first_letter"
   ]
  },
  {
   "attachments": {},
   "cell_type": "markdown",
   "metadata": {},
   "source": [
    "<h3>zip(iterator1, iterator2, iterator3 ...)</h3>\n",
    "<p>The zip() function returns a zip object, which is an iterator of tuples where the first item in each passed iterator is paired together, and then the second item in each passed iterator are paired together etc. If the passed iterators have different lengths, the iterator with the least items decides the length of the new iterator.</p>"
   ]
  },
  {
   "cell_type": "code",
   "execution_count": 31,
   "metadata": {},
   "outputs": [
    {
     "data": {
      "text/plain": [
       "(('a', 'b'), ('c', 'd'), ('e', 'f'))"
      ]
     },
     "execution_count": 31,
     "metadata": {},
     "output_type": "execute_result"
    }
   ],
   "source": [
    "interator1 = ['a', 'c', 'e']\n",
    "interator2 = ['b', 'd', 'f']\n",
    "tuple(zip(interator1, interator2))"
   ]
  },
  {
   "attachments": {},
   "cell_type": "markdown",
   "metadata": {},
   "source": [
    "<h3>frozenset(iterable)</h3>\n",
    "<p>Returns an unchangeable frozenset object (which is like a set object, only unchangeable).</p>"
   ]
  },
  {
   "cell_type": "code",
   "execution_count": null,
   "metadata": {},
   "outputs": [
    {
     "data": {
      "text/plain": [
       "(['orange', 'banana', 'cherry'], frozenset({'apple', 'banana', 'cherry'}))"
      ]
     },
     "execution_count": 52,
     "metadata": {},
     "output_type": "execute_result"
    }
   ],
   "source": [
    "fruits = ['apple', 'banana', 'cherry']\n",
    "fixed_fruits = frozenset(fruits)\n",
    "fruits[0]='orange'\n",
    "fruits, fixed_fruits"
   ]
  },
  {
   "cell_type": "markdown",
   "metadata": {},
   "source": [
    "<h3>all(iterable)</h3>\n",
    "<p>Returns True if all items in an iterable are True, otherwise it returns False.</p>"
   ]
  },
  {
   "cell_type": "code",
   "execution_count": null,
   "metadata": {},
   "outputs": [
    {
     "data": {
      "text/plain": [
       "(False, True, False, False)"
      ]
     },
     "metadata": {},
     "output_type": "display_data"
    }
   ],
   "source": [
    "test_list = all([0,1,2])\n",
    "test_tuple = all((1,2,3))\n",
    "test_set = all({'','a','b'})\n",
    "test_dict = all({\"0\": 0, 0: 0})\n",
    "test_list, test_tuple, test_set, test_dict"
   ]
  },
  {
   "cell_type": "markdown",
   "metadata": {},
   "source": [
    "<h3>any(iterable)</h3>\n",
    "<p>Returns True if any item in an iterable is True, otherwise it returns False.</p>"
   ]
  },
  {
   "cell_type": "code",
   "execution_count": null,
   "metadata": {},
   "outputs": [
    {
     "data": {
      "text/plain": [
       "(False, False, True, True)"
      ]
     },
     "execution_count": 66,
     "metadata": {},
     "output_type": "execute_result"
    }
   ],
   "source": [
    "test_list = any([False,False])\n",
    "test_tuple = any((False,False))\n",
    "test_set = any({'','','a'})\n",
    "test_dict = any({\"0\": 0, \"0\": 1})\n",
    "test_list, test_tuple, test_set, test_dict"
   ]
  },
  {
   "attachments": {},
   "cell_type": "markdown",
   "metadata": {},
   "source": [
    "<h3>len(iterable)</h3>\n",
    "<p>The len() function returns the number of items in an object. When the object is a string, the len() function returns the number of characters in the string.</p>"
   ]
  },
  {
   "cell_type": "code",
   "execution_count": 9,
   "metadata": {},
   "outputs": [
    {
     "data": {
      "text/plain": [
       "(7, 17)"
      ]
     },
     "execution_count": 9,
     "metadata": {},
     "output_type": "execute_result"
    }
   ],
   "source": [
    "test_list = [\"a\",\"b\", \"c\", \"d\", \"e\", \"f\", \"g\"]\n",
    "test_sequence = \"alonglonglongword\"\n",
    "len(test_list), len(test_sequence)"
   ]
  },
  {
   "attachments": {},
   "cell_type": "markdown",
   "metadata": {},
   "source": [
    "<h3>reverse(iterable)</h3>\n",
    "<p>Returns a reversed iterator object.</p>"
   ]
  },
  {
   "cell_type": "code",
   "execution_count": null,
   "metadata": {},
   "outputs": [
    {
     "data": {
      "text/plain": [
       "([3, 2, 1], ['c', 'b', 'a'])"
      ]
     },
     "execution_count": 88,
     "metadata": {},
     "output_type": "execute_result"
    }
   ],
   "source": [
    "list(reversed([1,2,3])), list(reversed(\"abc\"))"
   ]
  },
  {
   "attachments": {},
   "cell_type": "markdown",
   "metadata": {},
   "source": [
    "<h3>range(start, stop, step)</h3>\n",
    "<p>Returns a sequence of numbers, starting from 0 by default, and increments by 1 (by default), and stops before a specified number.</p>"
   ]
  },
  {
   "cell_type": "code",
   "execution_count": 7,
   "metadata": {},
   "outputs": [
    {
     "data": {
      "text/plain": [
       "[1, 4, 7]"
      ]
     },
     "execution_count": 7,
     "metadata": {},
     "output_type": "execute_result"
    }
   ],
   "source": [
    "sequence = list(range(1, 10, 3))\n",
    "sequence"
   ]
  },
  {
   "attachments": {},
   "cell_type": "markdown",
   "metadata": {},
   "source": [
    "<h3>slice(start, end, step)</h3>\n",
    "<p>A slice object is used to specify how to slice a sequence. You can specify where to start the slicing, and where to end. You can also specify the step, which allows you to e.g. slice only every other item.</p>"
   ]
  },
  {
   "cell_type": "code",
   "execution_count": 8,
   "metadata": {},
   "outputs": [
    {
     "data": {
      "text/plain": [
       "['b', 'c', 'd']"
      ]
     },
     "execution_count": 8,
     "metadata": {},
     "output_type": "execute_result"
    }
   ],
   "source": [
    "test_list = [\"a\",\"b\", \"c\", \"d\", \"e\", \"f\", \"g\"]\n",
    "cut = slice(1,4)\n",
    "test_list[cut]"
   ]
  },
  {
   "attachments": {},
   "cell_type": "markdown",
   "metadata": {},
   "source": [
    "<h3>sorted(iterable, key=key, reverse=reverse)</h3>\n",
    "<p>Returns a sorted list of the specified iterable object. You can specify ascending or descending order. Strings are sorted alphabetically, and numbers are sorted numerically. But you cannot sort a list that contains string values and numeric values.</p>"
   ]
  },
  {
   "cell_type": "code",
   "execution_count": 12,
   "metadata": {},
   "outputs": [
    {
     "data": {
      "text/plain": [
       "(['a', 'b', 'c', 'd', 'e', 'f', 'g', 'h'], [9, 8, 7, 5, 4, 3, 1])"
      ]
     },
     "execution_count": 12,
     "metadata": {},
     "output_type": "execute_result"
    }
   ],
   "source": [
    "unsorted_characters = (\"h\", \"b\", \"a\", \"c\", \"f\", \"d\", \"e\", \"g\")\n",
    "unsorted_numbers = (7,9,3,4,5,1,8)\n",
    "sorted(unsorted_characters), sorted(unsorted_numbers, reverse=True)"
   ]
  }
 ],
 "metadata": {
  "kernelspec": {
   "display_name": "Python 3.8.10 ('.venv': venv)",
   "language": "python",
   "name": "python3"
  },
  "language_info": {
   "codemirror_mode": {
    "name": "ipython",
    "version": 3
   },
   "file_extension": ".py",
   "mimetype": "text/x-python",
   "name": "python",
   "nbconvert_exporter": "python",
   "pygments_lexer": "ipython3",
   "version": "3.8.10"
  },
  "orig_nbformat": 4,
  "vscode": {
   "interpreter": {
    "hash": "afa6b98459d80e05b4144fd479eac5a19142374dc66200d5898f2a74d54d80d3"
   }
  }
 },
 "nbformat": 4,
 "nbformat_minor": 2
}
