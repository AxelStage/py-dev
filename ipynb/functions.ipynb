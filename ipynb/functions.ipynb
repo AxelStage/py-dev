{
 "cells": [
  {
   "attachments": {},
   "cell_type": "markdown",
   "metadata": {},
   "source": [
    "<h1>Functions</h1>"
   ]
  },
  {
   "cell_type": "markdown",
   "metadata": {},
   "source": [
    "<h2>Semantics</h2>\n",
    "<ul>\n",
    "    <li>In the context of function declaration, a and b are called <strong>parameters</strong> of func</li>\n",
    "    <li>note that a and b are variables, local to the function</li>\n",
    "    <li>when we invoke the function, x and y are called <strong>arguments</strong> of func</li>\n",
    "    <li>note that x and y are passed by reference (the memory addresses of x and y are passed)</li>\n",
    "    <li>argument1 = parameter1, argument2 = parameter2</li>\n",
    "</ul>"
   ]
  },
  {
   "cell_type": "code",
   "execution_count": 45,
   "metadata": {},
   "outputs": [
    {
     "name": "stdout",
     "output_type": "stream",
     "text": [
      "1 a\n"
     ]
    }
   ],
   "source": [
    "# function declaration\n",
    "def func(parameter1, parameter2):\n",
    "    print(parameter1, parameter2)\n",
    "\n",
    "# function invocation, arguments are passed by reference\n",
    "argument1 = 1\n",
    "argument2 = \"a\"\n",
    "func(argument1, argument2)"
   ]
  },
  {
   "cell_type": "markdown",
   "metadata": {},
   "source": [
    "<h2>Arguments</h2>\n",
    "<p>In defining a function in Python, the programmer must decide how they want the caller to assign argument values to parameters: by position, by keyword, or by a mixture of both.</p>"
   ]
  },
  {
   "cell_type": "markdown",
   "metadata": {},
   "source": [
    "<h3>Positional arguments</h3>\n",
    "<ul>\n",
    "    <li>Most common way of assigning arguments to parameters: via the order in which they are passed. their position</li>\n",
    "</ul>"
   ]
  },
  {
   "cell_type": "code",
   "execution_count": 7,
   "metadata": {},
   "outputs": [
    {
     "name": "stdout",
     "output_type": "stream",
     "text": [
      "1\n",
      "2\n",
      "-----\n",
      "2\n",
      "1\n",
      "-----\n"
     ]
    }
   ],
   "source": [
    "def func(a,b):\n",
    "    print(a)\n",
    "    print(b, end=\"\\n-----\\n\")\n",
    "func(1,2)\n",
    "func(2,1)"
   ]
  },
  {
   "cell_type": "markdown",
   "metadata": {},
   "source": [
    "<ul>\n",
    "    <li>A positional argument can be made optional by specifying a default value for the corresponding parameter</li>\n",
    "    <li>if a positional parameter is defined with a default value, every positional parameter after it must also be given a default value</li>\n",
    "</ul>"
   ]
  },
  {
   "cell_type": "code",
   "execution_count": 9,
   "metadata": {},
   "outputs": [
    {
     "name": "stdout",
     "output_type": "stream",
     "text": [
      "1\n",
      "2\n"
     ]
    }
   ],
   "source": [
    "def func(a,b=2):\n",
    "    print(a)\n",
    "    print(b)\n",
    "func(1)"
   ]
  },
  {
   "cell_type": "markdown",
   "metadata": {},
   "source": [
    "<p>Passing iterables as positional argument works but the approach is limitations:</p>\n",
    "<ul>\n",
    "    <li>the caller can only pass one argument</li>\n",
    "    <li>the argument must be an iterable</li>\n",
    "    <li>the iterable must have the same type</li>\n",
    "</ul>"
   ]
  },
  {
   "cell_type": "code",
   "execution_count": 45,
   "metadata": {},
   "outputs": [
    {
     "name": "stdout",
     "output_type": "stream",
     "text": [
      "1\n",
      "6\n",
      "6\n"
     ]
    }
   ],
   "source": [
    "def sum(numbers):\n",
    "    total = 0\n",
    "    for number in numbers:\n",
    "        total += number\n",
    "    return total\n",
    "print(sum([1]))\n",
    "print(sum([1,2,3]))\n",
    "print(sum((1,2,3)))"
   ]
  },
  {
   "cell_type": "markdown",
   "metadata": {},
   "source": [
    "<h3>*args</h3>\n",
    "<ul>\n",
    "    <li>unnamed positional arguments allows to pass a varying number of positional arguments</li>\n",
    "    <li>use the unpacking operator (*)</li>\n",
    "    <li>the *parameter name is arbitrary, but is customary to name it *args</li>\n",
    "    <li>*args exhausts positional arguments, you cannot add more positional arguments after *args</li>\n",
    "    <li>but you can add keyword arguments after *args</li>\n",
    "</ul>"
   ]
  },
  {
   "cell_type": "code",
   "execution_count": 16,
   "metadata": {},
   "outputs": [
    {
     "name": "stdout",
     "output_type": "stream",
     "text": [
      "a\n",
      "('b', 1, 2, [10, 20]) <class 'tuple'>\n"
     ]
    }
   ],
   "source": [
    "def func(a, *args):\n",
    "    print(a)\n",
    "    print(args, type(args))\n",
    "\n",
    "func(\"a\", \"b\", 1, 2, [10, 20])"
   ]
  },
  {
   "cell_type": "code",
   "execution_count": 48,
   "metadata": {},
   "outputs": [
    {
     "name": "stdout",
     "output_type": "stream",
     "text": [
      "1\n",
      "3\n",
      "9\n",
      "18\n"
     ]
    }
   ],
   "source": [
    "def sum(*numbers):\n",
    "    total = 0\n",
    "    for number in numbers:\n",
    "        total += number\n",
    "    return total\n",
    "\n",
    "print(sum(1))\n",
    "print(sum(1,2))\n",
    "print(sum(*[1,2], *(1,2), *{1,2})) # unpacking operator is mandatory to unpack iterables\n",
    "print(sum(1,*[1,2,3],2,*(1,2,3),3))"
   ]
  },
  {
   "cell_type": "markdown",
   "metadata": {},
   "source": [
    "<h3>keyword arguments</h3>\n",
    "<ul>\n",
    "    <li>positional parameters can, optionally be passed as named (keyword) arguments</li>\n",
    "    <li>using keyword arguments in this case is entirely up to the caller</li>\n",
    "    <li>but we can make keyword arguments mandatory</li>\n",
    "    <li>to do so, we create parameter after the positional argument has been exhausted</li>\n",
    "</ul>"
   ]
  },
  {
   "cell_type": "code",
   "execution_count": 13,
   "metadata": {},
   "outputs": [
    {
     "name": "stdout",
     "output_type": "stream",
     "text": [
      "6\n"
     ]
    }
   ],
   "source": [
    "def func(a, b, *c, k):\n",
    "    print(k)\n",
    "\n",
    "# d must be passed as keyword argument\n",
    "func(1,2,3,4,5,k=6)"
   ]
  },
  {
   "cell_type": "markdown",
   "metadata": {},
   "source": [
    "<p>We can even omit any mandatory positional arguments:</p>"
   ]
  },
  {
   "cell_type": "code",
   "execution_count": 14,
   "metadata": {},
   "outputs": [
    {
     "name": "stdout",
     "output_type": "stream",
     "text": [
      "4\n"
     ]
    }
   ],
   "source": [
    "def func(*args, k):\n",
    "    print(k)\n",
    "\n",
    "func(1,2,3,k=4)"
   ]
  },
  {
   "cell_type": "markdown",
   "metadata": {},
   "source": [
    "<p>We can force no positional arguments at all</p>"
   ]
  },
  {
   "cell_type": "code",
   "execution_count": 16,
   "metadata": {},
   "outputs": [
    {
     "name": "stdout",
     "output_type": "stream",
     "text": [
      "4\n"
     ]
    }
   ],
   "source": [
    "# * indicates the end of positional arguments\n",
    "def func(*, k):\n",
    "    print(k)\n",
    "\n",
    "func(k=4)"
   ]
  },
  {
   "cell_type": "markdown",
   "metadata": {},
   "source": [
    "<p>Putting it all together</p>"
   ]
  },
  {
   "cell_type": "code",
   "execution_count": 36,
   "metadata": {},
   "outputs": [
    {
     "name": "stdout",
     "output_type": "stream",
     "text": [
      "a: 1, mandatory positional argument\n",
      "b: 100, optional positional argument\n",
      "args: (), optional additional positional arguments\n",
      "d: 5, mandatory keyword argument\n",
      "e: True, optional keyword argument\n",
      "\n",
      "a: 1, mandatory positional argument\n",
      "b: 2, optional positional argument\n",
      "args: (), optional additional positional arguments\n",
      "d: 5, mandatory keyword argument\n",
      "e: True, optional keyword argument\n",
      "\n",
      "a: 1, mandatory positional argument\n",
      "b: 2, optional positional argument\n",
      "args: (3, 4), optional additional positional arguments\n",
      "d: 5, mandatory keyword argument\n",
      "e: False, optional keyword argument\n",
      "\n"
     ]
    }
   ],
   "source": [
    "def func(a, b=100, *args, d, e=True):\n",
    "    print(f\"a: {a}, mandatory positional argument\")\n",
    "    print(f\"b: {b}, optional positional argument\")\n",
    "    print(f\"args: {args}, optional additional positional arguments\")\n",
    "    print(f\"d: {d}, mandatory keyword argument\")\n",
    "    print(f\"e: {e}, optional keyword argument\\n\")\n",
    "\n",
    "func(1,d=5)\n",
    "func(1,2,d=5)\n",
    "func(1,2,3,4,d=5,e=False)\n"
   ]
  },
  {
   "cell_type": "markdown",
   "metadata": {},
   "source": [
    "<h3>**kwargs</h3>\n",
    "<ul>\n",
    "    <li></li>\n",
    "    <li></li>\n",
    "    <li></li>\n",
    "    <li></li>\n",
    "</ul>"
   ]
  },
  {
   "attachments": {},
   "cell_type": "markdown",
   "metadata": {},
   "source": [
    "<h2>Higher-order functions</h2>"
   ]
  },
  {
   "cell_type": "markdown",
   "metadata": {},
   "source": [
    "<h3>bla</h3>\n",
    "<ul>\n",
    "    <li>bla</li>\n",
    "    <li></li>\n",
    "    <li></li>\n",
    "    <li></li>\n",
    "    <li></li>\n",
    "    <li></li>\n",
    "</ul>"
   ]
  },
  {
   "cell_type": "markdown",
   "metadata": {},
   "source": [
    "<h2>Docstrings and annotations</h2>"
   ]
  },
  {
   "cell_type": "markdown",
   "metadata": {},
   "source": [
    "<h2>Lambdas</h2>"
   ]
  },
  {
   "cell_type": "markdown",
   "metadata": {},
   "source": [
    "<h2>Introspection</h2>"
   ]
  },
  {
   "cell_type": "markdown",
   "metadata": {},
   "source": [
    "<h2>Functional programming</h2>"
   ]
  },
  {
   "cell_type": "markdown",
   "metadata": {},
   "source": [
    "<h2>Scopes</h2>"
   ]
  },
  {
   "cell_type": "markdown",
   "metadata": {},
   "source": [
    "<h3>Global Scope</h3>\n",
    "<ul>\n",
    "    <li>global scope is essentially the module scope</li>\n",
    "    <li>it spans a single file only</li>\n",
    "</ul>\n",
    "<h3>Local Scope</h3>\n",
    "<ul>\n",
    "    <li>Variables defined inside functions are assigned to the local scope</li>\n",
    "    <li>Variables defined inside a function are not created until the function is called</li>\n",
    "    <li>Every time a function is called a new local scope is created</li>\n",
    "    <li>The actual object the variable references could be different each time the function is called (this is why recursion works)</li>\n",
    "    <li></li>\n",
    "    <li></li>\n",
    "    <li></li>\n",
    "    <li></li>\n",
    "    <li></li>\n",
    "    <li></li>\n",
    "</ul>"
   ]
  },
  {
   "cell_type": "markdown",
   "metadata": {},
   "source": [
    "<h2>Closures</h2>"
   ]
  },
  {
   "cell_type": "markdown",
   "metadata": {},
   "source": [
    "<h2>Decorators</h2>"
   ]
  },
  {
   "cell_type": "code",
   "execution_count": 16,
   "metadata": {},
   "outputs": [
    {
     "name": "stdout",
     "output_type": "stream",
     "text": [
      "1 1 1 1\n"
     ]
    }
   ],
   "source": [
    "# Inside Function Definition\n",
    "def func_1(x = 2, y = 1): return x - y  # default arguments\n",
    "def func_2(x, y): return x - y          # nondefault arguments\n",
    "def func_3(x, y = 1): return x - y      # nondefault and default arguments\n",
    "\n",
    "# Inside Function Call\n",
    "res0 = func_1()             # no arguments, use default arguments from definition\n",
    "res1 = func_1(2, 1)         # positional arguments\n",
    "res2 = func_2(y = 1, x = 2) # keyword arguments, position can change\n",
    "res3 = func_3(2, y = 1)     # positional and keyword arguments\n",
    "print(res0, res1, res2, res3)\n",
    "del func_1, func_2, func_3, res0, res1, res2, res3"
   ]
  },
  {
   "attachments": {},
   "cell_type": "markdown",
   "metadata": {},
   "source": [
    "<ul>\n",
    "    <li>Default values are evaluated when function is first encountered in the scope.</li>\n",
    "    <li>Any mutation of a mutable default value will persist between invocations!</li>\n",
    "</ul>"
   ]
  },
  {
   "cell_type": "code",
   "execution_count": 13,
   "metadata": {},
   "outputs": [
    {
     "data": {
      "text/plain": [
       "('Voila, a bucket with 10 pieces of apple and 10 orange',\n",
       " 'Voila, a bucket with 10 pieces of banana and 10 raspberry')"
      ]
     },
     "execution_count": 13,
     "metadata": {},
     "output_type": "execute_result"
    }
   ],
   "source": [
    "# global var\n",
    "container = \"bucket\"\n",
    "\n",
    "# local var\n",
    "def make_fruit_salad(first_fruit, second_fruit):\n",
    "    slices = 10\n",
    "    return f\"Voila, a {container} with {slices} pieces of {first_fruit} and {slices} {second_fruit}\"\n",
    "\n",
    "make_fruit_salad(\"apple\", \"orange\"), make_fruit_salad(\"banana\", \"raspberry\")"
   ]
  },
  {
   "attachments": {},
   "cell_type": "markdown",
   "metadata": {},
   "source": [
    "<h3>Recursive functions</h3>\n",
    "<p>Example</p>"
   ]
  },
  {
   "cell_type": "code",
   "execution_count": 1,
   "metadata": {},
   "outputs": [
    {
     "data": {
      "text/plain": [
       "10"
      ]
     },
     "execution_count": 1,
     "metadata": {},
     "output_type": "execute_result"
    }
   ],
   "source": [
    "def recursive_sum(L):\n",
    "    if not L:\n",
    "        return 0 # base case\n",
    "    else:\n",
    "        return L[0] + recursive_sum(L[1:]) # recursive case\n",
    "\n",
    "recursive_sum([1,2,3,4])\n"
   ]
  },
  {
   "cell_type": "markdown",
   "metadata": {},
   "source": [
    "<h3>Closure</h3>\n",
    "<ul>\n",
    "    <li>outer function</li>\n",
    "    <li>inner function</li>\n",
    "</ul>"
   ]
  },
  {
   "attachments": {},
   "cell_type": "markdown",
   "metadata": {},
   "source": [
    "<h3>Factory funtions (closures)</h3>\n",
    "<p>Example</p>"
   ]
  },
  {
   "cell_type": "code",
   "execution_count": 2,
   "metadata": {},
   "outputs": [
    {
     "name": "stdout",
     "output_type": "stream",
     "text": [
      "hi there\n",
      "hi ho\n"
     ]
    }
   ],
   "source": [
    "def factory(retain):\n",
    "    def inline (x):\n",
    "        print(retain + x)\n",
    "    return inline\n",
    "\n",
    "f = factory('hi')\n",
    "f(' there')\n",
    "f(' ho')"
   ]
  },
  {
   "attachments": {},
   "cell_type": "markdown",
   "metadata": {},
   "source": [
    "<h3>List comprehensions</h3>"
   ]
  },
  {
   "cell_type": "code",
   "execution_count": 3,
   "metadata": {},
   "outputs": [
    {
     "data": {
      "text/plain": [
       "[2, 4, 6]"
      ]
     },
     "execution_count": 3,
     "metadata": {},
     "output_type": "execute_result"
    }
   ],
   "source": [
    "[x * 2 for x in (1,2,3)]"
   ]
  },
  {
   "cell_type": "code",
   "execution_count": 4,
   "metadata": {},
   "outputs": [
    {
     "data": {
      "text/plain": [
       "[5, 4, 3, 2, 1, 0]"
      ]
     },
     "execution_count": 4,
     "metadata": {},
     "output_type": "execute_result"
    }
   ],
   "source": [
    "list(abs(x) for x in range(-5,1))"
   ]
  },
  {
   "attachments": {},
   "cell_type": "markdown",
   "metadata": {},
   "source": [
    "<p>List comprehension with if clause to filer list values</p>"
   ]
  },
  {
   "cell_type": "code",
   "execution_count": 5,
   "metadata": {},
   "outputs": [
    {
     "data": {
      "text/plain": [
       "[1, 3, 5, 7, 9]"
      ]
     },
     "execution_count": 5,
     "metadata": {},
     "output_type": "execute_result"
    }
   ],
   "source": [
    "[x for x in range(10) if x % 2 != 0]"
   ]
  },
  {
   "attachments": {},
   "cell_type": "markdown",
   "metadata": {},
   "source": [
    "<h3>Generator Functions</h3>"
   ]
  },
  {
   "attachments": {},
   "cell_type": "markdown",
   "metadata": {},
   "source": [
    "<p>How it works:</p>\n",
    "<ul>\n",
    "    <li>def statement that contains a yield statement</li>\n",
    "    <li>when called it returns a new generator object with retention of local scope  and code position</li>\n",
    "    <li>automatically created __iter__ methood that returns itself<</li>\n",
    "    <li>automatically created __next__ methood</li>\n",
    "    <ul>\n",
    "        <li>starts the implied loop</li>\n",
    "        <li>or resumes the loop</li>\n",
    "        <li>or raises StopIteration when finished producing results</li>\n",
    "    </ul>\n",
    "</ul>"
   ]
  },
  {
   "cell_type": "code",
   "execution_count": 6,
   "metadata": {},
   "outputs": [
    {
     "name": "stdout",
     "output_type": "stream",
     "text": [
      "0\n",
      "1\n",
      "4\n",
      "[0, 1, 4]\n"
     ]
    }
   ],
   "source": [
    "def square_sequence(N):\n",
    "    for i in range(N):\n",
    "        yield i ** 2\n",
    "\n",
    "seq_man = square_sequence(3)\n",
    "seq_auto = square_sequence(3)\n",
    "# iterate manually\n",
    "print(next(seq_man))\n",
    "print(seq_man.__next__())\n",
    "print(next(seq_man))\n",
    "\n",
    "# iterate automatically\n",
    "print(list(seq_auto))"
   ]
  },
  {
   "attachments": {},
   "cell_type": "markdown",
   "metadata": {},
   "source": [
    "<h3>Anonymous Functions: lambda</h3>"
   ]
  },
  {
   "attachments": {},
   "cell_type": "markdown",
   "metadata": {},
   "source": [
    "<p>How it works:</p>\n",
    "<ul>\n",
    "    <li>inline a function definition to be called later, but it returns the function instead assigning it to a new name</li>\n",
    "    <li>lambda is an expression not a statement</li>\n",
    "    <li>lambda's body is a single expression</li>\n",
    "    <li></li>\n",
    "    <li></li>\n",
    "    <ul>\n",
    "        <li></li>\n",
    "        <li></li>\n",
    "    </ul>\n",
    "</ul>"
   ]
  },
  {
   "attachments": {},
   "cell_type": "markdown",
   "metadata": {},
   "source": [
    "<p>Examples</p>"
   ]
  },
  {
   "cell_type": "code",
   "execution_count": 7,
   "metadata": {},
   "outputs": [
    {
     "data": {
      "text/plain": [
       "8"
      ]
     },
     "execution_count": 7,
     "metadata": {},
     "output_type": "execute_result"
    }
   ],
   "source": [
    "# one argument\n",
    "base_two = lambda x: 2 ** x\n",
    "base_two(3)"
   ]
  },
  {
   "cell_type": "code",
   "execution_count": 8,
   "metadata": {},
   "outputs": [
    {
     "data": {
      "text/plain": [
       "5"
      ]
     },
     "execution_count": 8,
     "metadata": {},
     "output_type": "execute_result"
    }
   ],
   "source": [
    "# two arguments\n",
    "add = lambda x,y: x + y\n",
    "add(1,4)"
   ]
  },
  {
   "cell_type": "code",
   "execution_count": 9,
   "metadata": {},
   "outputs": [
    {
     "data": {
      "text/plain": [
       "6"
      ]
     },
     "execution_count": 9,
     "metadata": {},
     "output_type": "execute_result"
    }
   ],
   "source": [
    "# more arguments with default value\n",
    "add = lambda x, y=5: x + y\n",
    "add(1)"
   ]
  },
  {
   "cell_type": "markdown",
   "metadata": {},
   "source": [
    "<h3>Timed decorator</h3>\n",
    "<p>How it works:</p>"
   ]
  },
  {
   "cell_type": "code",
   "execution_count": 29,
   "metadata": {},
   "outputs": [],
   "source": [
    "from functools import wraps\n",
    "\n",
    "def timed(reps):\n",
    "    def decorator(function):\n",
    "        from time import perf_counter\n",
    "\n",
    "        @wraps(function)\n",
    "        def inner(*args, **kwargs):\n",
    "            total_elapsed = 0\n",
    "            for idx in range(reps):\n",
    "                start = perf_counter()\n",
    "                result = function(*args, **kwargs)\n",
    "                end = perf_counter()\n",
    "                total_elapsed += (end - start)\n",
    "            avg_elapsed = total_elapsed / reps\n",
    "            print(avg_elapsed)\n",
    "            return result\n",
    "        return inner\n",
    "    return decorator"
   ]
  },
  {
   "cell_type": "code",
   "execution_count": 33,
   "metadata": {},
   "outputs": [
    {
     "name": "stdout",
     "output_type": "stream",
     "text": [
      "1.884335360955447e-07\n"
     ]
    },
    {
     "data": {
      "text/plain": [
       "1524157875019052100"
      ]
     },
     "execution_count": 33,
     "metadata": {},
     "output_type": "execute_result"
    }
   ],
   "source": [
    "@timed(1000)\n",
    "def multi(a, b):\n",
    "    return a * b\n",
    "\n",
    "multi(1234567890, 1234567890)"
   ]
  }
 ],
 "metadata": {
  "kernelspec": {
   "display_name": "Python 3.8.10 ('.venv': venv)",
   "language": "python",
   "name": "python3"
  },
  "language_info": {
   "codemirror_mode": {
    "name": "ipython",
    "version": 3
   },
   "file_extension": ".py",
   "mimetype": "text/x-python",
   "name": "python",
   "nbconvert_exporter": "python",
   "pygments_lexer": "ipython3",
   "version": "3.11.4"
  },
  "orig_nbformat": 4,
  "vscode": {
   "interpreter": {
    "hash": "afa6b98459d80e05b4144fd479eac5a19142374dc66200d5898f2a74d54d80d3"
   }
  }
 },
 "nbformat": 4,
 "nbformat_minor": 2
}
