{
 "cells": [
  {
   "cell_type": "markdown",
   "metadata": {},
   "source": [
    "<h1>Files</h1>\n",
    "<p>File data is always strings.</p>\n",
    "<ol>\n",
    "    <li>The build in open function creates a Python file object</li>\n",
    "    <li>The object serves as a link to the file residing on your machine</li>\n",
    "    <li>After callling open, you can transfer strings of data to and from the file by calling methods</li> \n",
    "</ol>"
   ]
  },
  {
   "cell_type": "markdown",
   "metadata": {},
   "source": [
    "<h3>Open files</h3>"
   ]
  },
  {
   "cell_type": "code",
   "execution_count": 5,
   "metadata": {},
   "outputs": [
    {
     "name": "stdout",
     "output_type": "stream",
     "text": [
      "abcdefghijklmnopqrstuvwxyz\n",
      "01\n"
     ]
    }
   ],
   "source": [
    "# call the open function with the filename first, followed by the processiong mode\n",
    "input = open('../data/abc.txt', 'r')\n",
    "string_data = input.read(29) # reads the first 28 characters, also newline wich takes one character\n",
    "print(string_data)\n",
    "input.close()\n",
    "# clean cell\n",
    "del string_data, input"
   ]
  },
  {
   "cell_type": "code",
   "execution_count": 6,
   "metadata": {},
   "outputs": [
    {
     "name": "stdout",
     "output_type": "stream",
     "text": [
      "b'\\x89PNG\\r\\n\\x1a\\n\\x00\\x00\\x00\\rIHDR\\x00\\x00\\x00\\x10'\n"
     ]
    }
   ],
   "source": [
    "# open a file with binary data\n",
    "input = open('../data/Wikipedia-favicon.png', 'rb') # read binary\n",
    "binary_data = input.read(20)\n",
    "print(binary_data)\n",
    "input.close()\n",
    "# clean cell\n",
    "del binary_data, input"
   ]
  },
  {
   "cell_type": "markdown",
   "metadata": {},
   "source": [
    "<h3>Write and read</h3>"
   ]
  },
  {
   "cell_type": "code",
   "execution_count": 7,
   "metadata": {},
   "outputs": [],
   "source": [
    "# write\n",
    "myfile = open('../data/myfile.txt', 'w')\n",
    "myfile.write('hello text file\\n')\n",
    "myfile.write('goodbye text file\\n')\n",
    "myfile.close()\n",
    "# read\n",
    "myfile = open('../data/myfile.txt')\n",
    "myfile.readline(), myfile.readline(), myfile.readline()\n",
    "# clean cell\n",
    "import os\n",
    "os.remove('../data/myfile.txt')\n",
    "del myfile"
   ]
  },
  {
   "cell_type": "markdown",
   "metadata": {},
   "source": [
    "<h3>Conversions</h3>"
   ]
  },
  {
   "cell_type": "code",
   "execution_count": 38,
   "metadata": {},
   "outputs": [
    {
     "name": "stdout",
     "output_type": "stream",
     "text": [
      "spam\n",
      "1,2,3\n",
      "[1, 'a', 9.9]${'a': 1, 'b': 2}\n",
      "\n",
      "------------\n",
      "spam\n",
      "\n",
      "----\n",
      "spam\n",
      "------------\n",
      "1,2,3\n",
      "\n",
      "----\n",
      "['1', '2', '3\\n']\n",
      "[1, 2, 3]\n",
      "------------\n",
      "[1, 'a', 9.9]${'a': 1, 'b': 2}\n",
      "\n",
      "----\n",
      "[[1, 'a', 9.9], {'a': 1, 'b': 2}]\n",
      "------------\n"
     ]
    }
   ],
   "source": [
    "x,y,z = 1,2,3\n",
    "s = 'spam'\n",
    "d = {'a': 1, 'b': 2}\n",
    "l = [1,'a',9.9]\n",
    "# write to file\n",
    "myfile = open('../data/myfile.txt', 'w') # create output txt file\n",
    "myfile.write(s + '\\n') # terminate lines with \\n \n",
    "myfile.write('%s,%s,%s\\n' % (x,y,z))\n",
    "myfile.write(str(l) + '$' + str(d) + '\\n') # convert and seperate with $\n",
    "myfile.close()\n",
    "# read all from file\n",
    "chars = open('../data/myfile.txt', 'r').read()\n",
    "print(chars)\n",
    "# read 1st line\n",
    "myfile = open('../data/myfile.txt', 'r')\n",
    "line = myfile.readline()\n",
    "print('------------')\n",
    "print(line)\n",
    "print('----')\n",
    "print(line.rstrip()) # remove end-of-line\n",
    "# read 2nd line\n",
    "line = myfile.readline()\n",
    "print('------------')\n",
    "print(line)\n",
    "print('----')\n",
    "parts = line.split(',')\n",
    "print(parts)\n",
    "numbers = [int(p) for p in parts] # int ignores whitespace around digit\n",
    "print(numbers)\n",
    "# read the 3rd line\n",
    "line = myfile.readline()\n",
    "print('------------')\n",
    "print(line)\n",
    "print('----')\n",
    "parts=line.split('$')\n",
    "objects=[eval(p) for p in parts]\n",
    "print(objects)\n",
    "print('------------')\n",
    "# clean cell\n",
    "import os\n",
    "os.remove('../data/myfile.txt')\n",
    "del x, y, z, s, d, l, myfile, chars, line, parts, numbers, objects"
   ]
  },
  {
   "cell_type": "markdown",
   "metadata": {},
   "source": [
    "<h3>Storing native Python objects in pickle</h3>"
   ]
  },
  {
   "cell_type": "code",
   "execution_count": 42,
   "metadata": {},
   "outputs": [
    {
     "name": "stdout",
     "output_type": "stream",
     "text": [
      "{'a': 1, 'b': 2}\n"
     ]
    }
   ],
   "source": [
    "d = {'a': 1, 'b': 2}\n",
    "# write \n",
    "myfile = open('../data/datafile.pkl', 'wb') # write binary\n",
    "import pickle\n",
    "pickle.dump(d,myfile) # pickle any object to file\n",
    "myfile.close()\n",
    "# read\n",
    "myfile = open('../data/datafile.pkl', 'rb')\n",
    "myobject = pickle.load(myfile)\n",
    "print(myobject)\n",
    "\n",
    "# clean cell\n",
    "import os\n",
    "os.remove('../data/datafile.pkl')\n",
    "del d, myfile, myobject"
   ]
  },
  {
   "cell_type": "markdown",
   "metadata": {},
   "source": [
    "<h3>Storing Python objects in JSON format</h3>"
   ]
  },
  {
   "cell_type": "code",
   "execution_count": 45,
   "metadata": {},
   "outputs": [
    {
     "name": "stdout",
     "output_type": "stream",
     "text": [
      "{\"name\": {\"first\": \"Bob\", \"last\": \"Smith\"}, \"job\": [\"dev\", \"art\"], \"age\": 40.5}\n",
      "{'name': {'first': 'Bob', 'last': 'Smith'}, 'job': ['dev', 'art'], 'age': 40.5}\n"
     ]
    }
   ],
   "source": [
    "name = dict(first='Bob', last='Smith')\n",
    "rec = dict(name=name, job=['dev', 'art'], age=40.5)\n",
    "import json\n",
    "myjson = json.dumps(rec)\n",
    "print(myjson)\n",
    "mydict= json.loads(myjson)\n",
    "print(mydict)\n",
    "del name, rec, myjson, mydict"
   ]
  },
  {
   "cell_type": "code",
   "execution_count": 48,
   "metadata": {},
   "outputs": [
    {
     "name": "stdout",
     "output_type": "stream",
     "text": [
      "{\n",
      "    \"name\": {\n",
      "        \"first\": \"Bob\",\n",
      "        \"last\": \"Smith\"\n",
      "    },\n",
      "    \"job\": [\n",
      "        \"dev\",\n",
      "        \"art\"\n",
      "    ],\n",
      "    \"age\": 40.5\n",
      "}\n",
      "{'name': {'first': 'Bob', 'last': 'Smith'}, 'job': ['dev', 'art'], 'age': 40.5}\n"
     ]
    }
   ],
   "source": [
    "name = dict(first='Bob', last='Smith')\n",
    "rec = dict(name=name, job=['dev', 'art'], age=40.5)\n",
    "import json\n",
    "# write to file\n",
    "json.dump(rec, fp=open('../data/test.json', 'w'), indent=4)\n",
    "print(open('../data/test.json', 'r').read())\n",
    "# read from file\n",
    "load_json = json.load(open('../data/test.json'))\n",
    "print(load_json)\n",
    "# clean cell\n",
    "import os\n",
    "os.remove('../data/test.json')\n",
    "del name, rec"
   ]
  },
  {
   "cell_type": "code",
   "execution_count": 57,
   "metadata": {},
   "outputs": [
    {
     "name": "stdout",
     "output_type": "stream",
     "text": [
      "[1, 2, 3]\n",
      "['a', [1, 2, 3], 'b']\n",
      "['a', [1, 'haha', 3], 'b']\n",
      "['a', [1, 'haha', 'huhu'], 'b']\n",
      "[1, 'haha', 'huhu']\n"
     ]
    }
   ],
   "source": [
    "x = [1,2,3]\n",
    "l = ['a' , x, 'b']\n",
    "print(x)\n",
    "print(l)\n",
    "x[1] = 'haha'\n",
    "print(l)\n",
    "l[1][2]='huhu'\n",
    "print(l)\n",
    "print(x)"
   ]
  }
 ],
 "metadata": {
  "kernelspec": {
   "display_name": "Python 3.8.10 ('.venv': venv)",
   "language": "python",
   "name": "python3"
  },
  "language_info": {
   "codemirror_mode": {
    "name": "ipython",
    "version": 3
   },
   "file_extension": ".py",
   "mimetype": "text/x-python",
   "name": "python",
   "nbconvert_exporter": "python",
   "pygments_lexer": "ipython3",
   "version": "3.8.10"
  },
  "orig_nbformat": 4,
  "vscode": {
   "interpreter": {
    "hash": "afa6b98459d80e05b4144fd479eac5a19142374dc66200d5898f2a74d54d80d3"
   }
  }
 },
 "nbformat": 4,
 "nbformat_minor": 2
}
