{
 "cells": [
  {
   "cell_type": "markdown",
   "metadata": {},
   "source": [
    "Task:\n",
    "Create a function that reverse a string.\n",
    "\n",
    "Input:\n",
    "Hi, my name is Axel!\n",
    "\n",
    "Output:\n",
    "!lexA si eman ym ,iH"
   ]
  },
  {
   "cell_type": "code",
   "execution_count": 14,
   "metadata": {},
   "outputs": [
    {
     "data": {
      "text/plain": [
       "'!lexA si eman ym ,iH'"
      ]
     },
     "execution_count": 14,
     "metadata": {},
     "output_type": "execute_result"
    }
   ],
   "source": [
    "def reverse_string(string):\n",
    "    return string[::-1]\n",
    "reverse_string(\"Hi, my name is Axel!\")"
   ]
  },
  {
   "cell_type": "code",
   "execution_count": 15,
   "metadata": {},
   "outputs": [
    {
     "data": {
      "text/plain": [
       "'!lexA si eman ym ,iH'"
      ]
     },
     "execution_count": 15,
     "metadata": {},
     "output_type": "execute_result"
    }
   ],
   "source": [
    "def reverse_string(string):\n",
    "    reverse = []\n",
    "    for letter in string:\n",
    "        reverse.insert(0,letter)\n",
    "    return ''.join(reverse)\n",
    "reverse_string(\"Hi, my name is Axel!\")"
   ]
  },
  {
   "cell_type": "code",
   "execution_count": 17,
   "metadata": {},
   "outputs": [
    {
     "data": {
      "text/plain": [
       "'!lexA si eman ym ,iH'"
      ]
     },
     "execution_count": 17,
     "metadata": {},
     "output_type": "execute_result"
    }
   ],
   "source": [
    "def reverse_string(string):\n",
    "    reverse_string = str()\n",
    "    reverse_idx = len(string) - 1\n",
    "    while reverse_idx >= 0:\n",
    "        reverse_string = reverse_string + string[reverse_idx]\n",
    "        reverse_idx -= 1\n",
    "    return reverse_string\n",
    "reverse_string(\"Hi, my name is Axel!\")"
   ]
  },
  {
   "cell_type": "code",
   "execution_count": 11,
   "metadata": {},
   "outputs": [
    {
     "data": {
      "text/plain": [
       "'!lexA si eman ym ,iH'"
      ]
     },
     "execution_count": 11,
     "metadata": {},
     "output_type": "execute_result"
    }
   ],
   "source": [
    "def reverse_string(string):\n",
    "    reverse_string = str()\n",
    "    for reverse_idx in range(len(string) - 1, -1, -1):\n",
    "        reverse_string = reverse_string + string[reverse_idx]\n",
    "    return reverse_string\n",
    "reverse_string(\"Hi, my name is Axel!\")"
   ]
  },
  {
   "cell_type": "markdown",
   "metadata": {},
   "source": [
    "Task:\n",
    "Merge two sorted arrays together, that the merged array is sorted \n",
    "\n",
    "Input:\n",
    "[0, 3, 4, 31] [4, 6, 30]\n",
    "\n",
    "Output:\n",
    "[0, 3, 4, 4, 6, 30, 31]"
   ]
  },
  {
   "cell_type": "code",
   "execution_count": 5,
   "metadata": {},
   "outputs": [
    {
     "data": {
      "text/plain": [
       "[0, 3, 4, 4, 6, 30, 31]"
      ]
     },
     "execution_count": 5,
     "metadata": {},
     "output_type": "execute_result"
    }
   ],
   "source": [
    "def merge_sort_arrays(array_a, array_b):\n",
    "    array_merge = array_a + array_b\n",
    "    return sorted(array_merge)\n",
    "merge_sort_arrays([0, 3, 4, 31], [4, 6, 30])"
   ]
  },
  {
   "cell_type": "code",
   "execution_count": 15,
   "metadata": {},
   "outputs": [
    {
     "data": {
      "text/plain": [
       "[0, 4, 6, 30, 3, 4, 31]"
      ]
     },
     "execution_count": 15,
     "metadata": {},
     "output_type": "execute_result"
    }
   ],
   "source": [
    "def merge_sort_arrays(array_a, array_b):\n",
    "    for item_a in array_a:\n",
    "        for index_b in range(len(array_b)):\n",
    "            if item_a <= array_b[index_b]:\n",
    "                array_b.insert(index_b, item_a)\n",
    "                break\n",
    "            else:\n",
    "                array_b.append(item_a)\n",
    "                break\n",
    "    return array_b\n",
    "merge_sort_arrays([0, 3, 4, 31], [4, 6, 30])"
   ]
  },
  {
   "cell_type": "markdown",
   "metadata": {},
   "source": [
    "Task:\n",
    "Find the first reoccurring value of an array\n",
    "\n",
    "Input:\n",
    "[2, 5, 1, 2, 3, 5, 1, 2, 4]\n",
    "[2, 1, 1, 2, 3, 5, 1, 2, 4]\n",
    "[2, 3, 4, 5]\n",
    "\n",
    "Output:\n",
    "2\n",
    "1\n",
    "undefined"
   ]
  },
  {
   "cell_type": "code",
   "execution_count": 10,
   "metadata": {},
   "outputs": [
    {
     "name": "stdout",
     "output_type": "stream",
     "text": [
      "0 1\n",
      "0 2\n"
     ]
    },
    {
     "data": {
      "text/plain": [
       "2"
      ]
     },
     "execution_count": 10,
     "metadata": {},
     "output_type": "execute_result"
    }
   ],
   "source": [
    "def reoccurring_value_array(array):\n",
    "\n",
    "\n",
    "\n",
    "\n",
    "\n",
    "\n",
    "\n",
    "        return array[test_index]\n",
    "reoccurring_value_array([2, 5, 1, 2, 3, 5, 1, 2, 4])\n",
    "#reoccurring_value_array([2, 1, 1, 2, 3, 5, 1, 2, 4])\n",
    "#reoccurring_value_array([2, 3, 4, 5])"
   ]
  },
  {
   "cell_type": "markdown",
   "metadata": {},
   "source": [
    "### Finding the Largest Value in an Arbitrary List"
   ]
  },
  {
   "cell_type": "code",
   "execution_count": 32,
   "metadata": {},
   "outputs": [
    {
     "data": {
      "text/plain": [
       "9"
      ]
     },
     "execution_count": 32,
     "metadata": {},
     "output_type": "execute_result"
    }
   ],
   "source": [
    "def largest(A):\n",
    "    max_value = A[0]\n",
    "    for idx,_ in enumerate(A):\n",
    "        if A[idx] > max_value:\n",
    "            max_value = A[idx]\n",
    "    return max_value\n",
    "\n",
    "largest([7,1,5,0,2,9,3,8,7,9,4,6])"
   ]
  },
  {
   "cell_type": "markdown",
   "metadata": {},
   "source": [
    "### Find Two Largest Values in an Arbitrary List"
   ]
  },
  {
   "cell_type": "code",
   "execution_count": 51,
   "metadata": {},
   "outputs": [
    {
     "data": {
      "text/plain": [
       "(9, 8)"
      ]
     },
     "execution_count": 51,
     "metadata": {},
     "output_type": "execute_result"
    }
   ],
   "source": [
    "def two_largest(any_list):\n",
    "    max1, max2 = any_list[:2]\n",
    "\n",
    "    if max2 > max1:\n",
    "        max1, max2 = max2, max1\n",
    "\n",
    "    for item in any_list:\n",
    "        if item > max1:\n",
    "            max1 = item\n",
    "        if item > max2 and item < max1:\n",
    "            max2 = item\n",
    "\n",
    "    return max1, max2\n",
    "\n",
    "two_largest([9,8,7,7,1,5,0,2,3,8,7,4,6])"
   ]
  }
 ],
 "metadata": {
  "kernelspec": {
   "display_name": ".venv",
   "language": "python",
   "name": "python3"
  },
  "language_info": {
   "codemirror_mode": {
    "name": "ipython",
    "version": 3
   },
   "file_extension": ".py",
   "mimetype": "text/x-python",
   "name": "python",
   "nbconvert_exporter": "python",
   "pygments_lexer": "ipython3",
   "version": "3.11.4"
  }
 },
 "nbformat": 4,
 "nbformat_minor": 2
}
