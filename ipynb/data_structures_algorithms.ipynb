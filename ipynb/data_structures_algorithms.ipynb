{
 "cells": [
  {
   "attachments": {},
   "cell_type": "markdown",
   "metadata": {},
   "source": [
    "<h1>Template</h1>\n",
    "<h2>header 2</h2>\n",
    "<h3>header 3</h3>\n",
    "<p>paragraph text</p>\n",
    "<ul>\n",
    "    <li>unordered list</li>\n",
    "    <li></li>\n",
    "    <li></li>\n",
    "    <li></li>\n",
    "    <li></li>\n",
    "</ul>\n",
    "<ol>\n",
    "    <li>ordered list</li>\n",
    "    <li></li>\n",
    "    <li></li>\n",
    "    <li></li>\n",
    "    <li></li>\n",
    "</ol>\n",
    "<DL>\n",
    "<DT><strong>Keyword</strong></DT>\n",
    "<DD>\n",
    "&#8594; point 1<br>\n",
    "&#8594; point 2\n",
    "</DD>\n",
    "<DT><strong>Keyword</strong></DT>\n",
    "<DD>\n",
    "&#8594; point 1<br>\n",
    "&#8594; point 2\n",
    "</DD>\n",
    "</DL>\n",
    "<h3>Linked List BIG O</h3>\n",
    "<table>\n",
    "  <tr>\n",
    "    <th>Column name</th>\n",
    "    <th>Column name</th>\n",
    "    <th>Column name</th>\n",
    "  </tr>\n",
    "  <tr>\n",
    "    <td></td>\n",
    "    <td></td>\n",
    "    <td></td>\n",
    "  </tr>\n",
    "  <tr>\n",
    "    <td></td>\n",
    "    <td></td>\n",
    "    <td></td>\n",
    "  </tr>\n",
    "</table>"
   ]
  },
  {
   "attachments": {},
   "cell_type": "markdown",
   "metadata": {},
   "source": [
    "<h1>Data Structures and Algorithms in Python</h1>\n",
    "<h2>Big O </h2>\n",
    "<h3>Time Complexity</h3>\n",
    "<ul>\n",
    "    <li>not measured in time</li>\n",
    "    <li>measured in the number of operations that need to complete something</li>\n",
    "</ul>\n",
    "<h3>Space Complexity</h3>\n",
    "<ul>\n",
    "    <li>measured in memory space</li>\n",
    "    <li></li>\n",
    "</ul>\n",
    "<h3>Greek letters</h3>\n",
    "<DL>\n",
    "<DT><strong>OMEGA = &#x03A9;</strong></DT>\n",
    "<DD>\n",
    "&#8594; best case scenario<br>\n",
    "&#8594; point 2\n",
    "</DD>\n",
    "<DT><strong>THETA = &#x0398;</strong></DT>\n",
    "<DD>\n",
    "&#8594; average case scenario<br>\n",
    "&#8594; point 2\n",
    "</DD>\n",
    "<DT><strong>OMICRON = &#x039F;</strong></DT>\n",
    "<DD>\n",
    "&#8594; worst case scenario<br>\n",
    "&#8594; also known as Big O\n",
    "</DD>\n",
    "</DL>"
   ]
  },
  {
   "attachments": {},
   "cell_type": "markdown",
   "metadata": {},
   "source": [
    "<h3>What causes Time Complexity?</h3>\n",
    "<ul>\n",
    "    <li>Operations (+, -, *, /)</li>\n",
    "    <li>Comparisons (<, >, ==)</li>\n",
    "    <li>Iterating (for, while)</li>\n",
    "    <li>Outside Function call (function())</li>\n",
    "</ul>"
   ]
  },
  {
   "cell_type": "markdown",
   "metadata": {},
   "source": [
    "<h3>What causes Space complexity?</h3>\n",
    "<ul>\n",
    "    <li>Variables</li>\n",
    "    <li>Data Structures</li>\n",
    "    <li>Function Call</li>\n",
    "    <li>Allocations</li>\n",
    "</ul>"
   ]
  },
  {
   "cell_type": "markdown",
   "metadata": {},
   "source": [
    "<h3>Rule Book for interviews</h3>\n",
    "<DT><strong>Rule 1</strong></DT>\n",
    "<DD>\n",
    "Always worst Case => Big O\n",
    "</DD>\n",
    "<DT><strong>Rule 2</strong></DT>\n",
    "<DD>\n",
    "Remove Constants\n",
    "</DD>\n",
    "<DT><strong>Rule 3</strong></DT>\n",
    "<DD>\n",
    "Different inputs should have different variables O(a+b)<br>\n",
    "A and B arrays nested would be O(a*b)<br>\n",
    "+ for steps in order<br>\n",
    "* for nested steps<br>\n",
    "</DD>\n",
    "<DT><strong>Rule 4</strong></DT>\n",
    "<DD>\n",
    "Drop Non-dominant terms\n",
    "</DD>\n",
    "</DL>"
   ]
  },
  {
   "cell_type": "markdown",
   "metadata": {},
   "source": [
    "<h3>O(n)</h3>\n",
    "<ul>\n",
    "    <li>an algorithm is said to take linear time, if its time complexity O(n).</li>\n",
    "    <li>the running time increases at most linearly with the size of the input</li>\n",
    "    <li>to simplify, constant can be dropped, for example O(2n) = O(n)</li>\n",
    "    <li>code below runs 2 times n by iterating twice over n</li>\n",
    "    <li>often named \"proportional\"</li> \n",
    "</ul>"
   ]
  },
  {
   "cell_type": "code",
   "execution_count": 11,
   "metadata": {},
   "outputs": [],
   "source": [
    "def print_items(n):\n",
    "    for i in range(n):\n",
    "        print(i)\n",
    "\n",
    "    for j in range(n):\n",
    "        print(j)\n",
    "\n",
    "# print_items(10)"
   ]
  },
  {
   "attachments": {},
   "cell_type": "markdown",
   "metadata": {},
   "source": [
    "<h3>O(n²)</h3>\n",
    "<ul>\n",
    "    <li>a quadratic time complexity algorithm is directly related to the squared size of the input data collection</li>\n",
    "    <li>for example a loop inside of a loop (one nested loop)</li>\n",
    "    <li>If the size of the array is 10, then the nested loops run 10x10 times, or n x n = n²</li>\n",
    "    <li>to simplify, even if we have two or more nested loops which run n³ or n¹² times, we call it n²</li>\n",
    "    <li>to simplify, even if another for loop running after the nested four loops, we can drop non dominat terms like n² + n = n²</li>\n",
    "    <li>often named \"loop within a loop\"</li>    \n",
    "</ul>"
   ]
  },
  {
   "cell_type": "code",
   "execution_count": 10,
   "metadata": {},
   "outputs": [],
   "source": [
    "def print_items(n):\n",
    "    for i in range(n):\n",
    "        for j in range(n):\n",
    "            print(i,j)\n",
    "\n",
    "# print_items(10)"
   ]
  },
  {
   "attachments": {},
   "cell_type": "markdown",
   "metadata": {},
   "source": [
    "<h3>O(1)</h3>\n",
    "<ul>\n",
    "    <li>When there is no dependence on the input size n, an algorithm is said to have a constant time of order O(1)</li>\n",
    "    <li>most efficient BIG O</li>\n",
    "    <li>the function below will require only one execution step which will take a constant time</li>\n",
    "    <li>to simplify, even if we have two or more operations, we call it 1</li>\n",
    "    <li>often named \"constant\"</li>    \n",
    "</ul>"
   ]
  },
  {
   "cell_type": "code",
   "execution_count": 12,
   "metadata": {},
   "outputs": [
    {
     "data": {
      "text/plain": [
       "20"
      ]
     },
     "execution_count": 12,
     "metadata": {},
     "output_type": "execute_result"
    }
   ],
   "source": [
    "def add_items(n):\n",
    "    return n + n\n",
    "\n",
    "add_items(10)"
   ]
  },
  {
   "attachments": {},
   "cell_type": "markdown",
   "metadata": {},
   "source": [
    "<h3>O(log n)</h3>\n",
    "<ul>\n",
    "    <li>When the size of the input data decreases in each step by a certain factor, an algorithm will have logarithmic time complexity</li>\n",
    "    <li>An O(log n) algorithm is considered highly efficient</li>  \n",
    "    <li>Algorithms taking logarithmic time are commonly found in operations on binary trees or when using binary search</li>\n",
    "    <li>often named \"divide and conquer\"</li>    \n",
    "</ul>"
   ]
  },
  {
   "attachments": {},
   "cell_type": "markdown",
   "metadata": {},
   "source": [
    "<h3>O(n log n)</h3>\n",
    "<ul>\n",
    "    <li>\"n log-star n\" time</li>\n",
    "    <li></li>\n",
    "    <li></li>\n",
    "</ul>"
   ]
  },
  {
   "attachments": {},
   "cell_type": "markdown",
   "metadata": {},
   "source": [
    "<h3>Different terms for input</h3>\n",
    "<ul>\n",
    "    <li>to simplify, constant can be dropped, for example O(2n) = O(n)</li>\n",
    "    <li>but for two input parameters this is not true</li>\n",
    "    <li>here we can only simplify to O(a + b)</li>\n",
    "    <li>for nested for loops we can only simplify to O(a * b)</li>\n",
    "</ul>"
   ]
  },
  {
   "cell_type": "code",
   "execution_count": 13,
   "metadata": {},
   "outputs": [],
   "source": [
    "def print_items(a,b):\n",
    "    for i in range(a):\n",
    "        print(i)\n",
    "\n",
    "    for j in range(b):\n",
    "        print(j)"
   ]
  },
  {
   "cell_type": "code",
   "execution_count": null,
   "metadata": {},
   "outputs": [],
   "source": [
    "def print_items(a,b):\n",
    "    for i in range(a):\n",
    "        for j in range(b):\n",
    "            print(i,j)"
   ]
  },
  {
   "attachments": {},
   "cell_type": "markdown",
   "metadata": {},
   "source": [
    "<h2>Pointers</h2>\n",
    "<h3>String / Integer / Float / Complex / Bool / Tuple</h3>\n",
    "<p>Immutable data structures</p>"
   ]
  },
  {
   "cell_type": "code",
   "execution_count": 50,
   "metadata": {},
   "outputs": [
    {
     "name": "stdout",
     "output_type": "stream",
     "text": [
      "Before update:\n",
      "pointer1 pointing to abc at address 140393794009520\n",
      "pointer2 pointing to abc at address 140393794009520\n",
      "\n",
      "After update:\n",
      "pointer1 pointing to abcd at address 140393556934960\n",
      "pointer2 pointing to abc at address 140393794009520\n"
     ]
    }
   ],
   "source": [
    "pointer1 = \"abc\"\n",
    "pointer2 = pointer1\n",
    "msg_before = f\"Before update:\\npointer1 pointing to {pointer1} at address {id(pointer1)}\\npointer2 pointing to {pointer2} at address {id(pointer2)}\\n\"\n",
    "print(msg_before)\n",
    "pointer1 = \"abcd\"\n",
    "msg_after = f\"After update:\\npointer1 pointing to {pointer1} at address {id(pointer1)}\\npointer2 pointing to {pointer2} at address {id(pointer2)}\"\n",
    "print(msg_after)\n"
   ]
  },
  {
   "attachments": {},
   "cell_type": "markdown",
   "metadata": {},
   "source": [
    "<h3>Dictionary / List / Set</h3>\n",
    "<p>Mutable data structure => changes made in pointer2 will automatically also be made in </p>"
   ]
  },
  {
   "cell_type": "code",
   "execution_count": 39,
   "metadata": {},
   "outputs": [
    {
     "name": "stdout",
     "output_type": "stream",
     "text": [
      "Before update:\n",
      "pointer1 pointing to {'value': 1} at address 140393556625152\n",
      "pointer2 pointing to {'value': 1} at address 140393556625152\n",
      "\n",
      "After update:\n",
      "pointer1 pointing to {'value': 2} at address 140393556625152\n",
      "pointer2 pointing to {'value': 2} at address 140393556625152\n"
     ]
    }
   ],
   "source": [
    "pointer1 = {\"value\": 1}\n",
    "pointer2 = pointer1\n",
    "msg_before = f\"Before update:\\npointer1 pointing to {pointer1} at address {id(pointer1)}\\npointer2 pointing to {pointer2} at address {id(pointer2)}\\n\"\n",
    "print(msg_before)\n",
    "pointer1[\"value\"] = 2\n",
    "msg_after = f\"After update:\\npointer1 pointing to {pointer1} at address {id(pointer1)}\\npointer2 pointing to {pointer2} at address {id(pointer2)}\"\n",
    "print(msg_after)\n"
   ]
  },
  {
   "cell_type": "code",
   "execution_count": 42,
   "metadata": {},
   "outputs": [
    {
     "name": "stdout",
     "output_type": "stream",
     "text": [
      "Before update:\n",
      "pointer1 pointing to [1, 2, 3] at address 140393557017920\n",
      "pointer2 pointing to [1, 2, 3] at address 140393557017920\n",
      "\n",
      "After update:\n",
      "pointer1 pointing to [1, 2, 3, 4] at address 140393557017920\n",
      "pointer2 pointing to [1, 2, 3, 4] at address 140393557017920\n"
     ]
    }
   ],
   "source": [
    "pointer1 = [1,2,3]\n",
    "pointer2 = pointer1\n",
    "msg_before = f\"Before update:\\npointer1 pointing to {pointer1} at address {id(pointer1)}\\npointer2 pointing to {pointer2} at address {id(pointer2)}\\n\"\n",
    "print(msg_before)\n",
    "pointer1.append(4)\n",
    "msg_after = f\"After update:\\npointer1 pointing to {pointer1} at address {id(pointer1)}\\npointer2 pointing to {pointer2} at address {id(pointer2)}\"\n",
    "print(msg_after)\n"
   ]
  },
  {
   "cell_type": "code",
   "execution_count": 48,
   "metadata": {},
   "outputs": [
    {
     "name": "stdout",
     "output_type": "stream",
     "text": [
      "Before update:\n",
      "pointer1 pointing to {1, 2, 3} at address 140393557047776\n",
      "pointer2 pointing to {1, 2, 3} at address 140393557047776\n",
      "\n",
      "After update:\n",
      "pointer1 pointing to {1, 2, 3, 4} at address 140393557047776\n",
      "pointer2 pointing to {1, 2, 3, 4} at address 140393557047776\n"
     ]
    }
   ],
   "source": [
    "pointer1 = {1,2,3}\n",
    "pointer2 = pointer1\n",
    "msg_before = f\"Before update:\\npointer1 pointing to {pointer1} at address {id(pointer1)}\\npointer2 pointing to {pointer2} at address {id(pointer2)}\\n\"\n",
    "print(msg_before)\n",
    "pointer1.add(4)\n",
    "msg_after = f\"After update:\\npointer1 pointing to {pointer1} at address {id(pointer1)}\\npointer2 pointing to {pointer2} at address {id(pointer2)}\"\n",
    "print(msg_after)\n"
   ]
  },
  {
   "attachments": {},
   "cell_type": "markdown",
   "metadata": {},
   "source": [
    "<h2>Linked List</h2>\n",
    "<ul>\n",
    "    <li>consist of nodes</li>\n",
    "    <li>variable named \"head\" points to fist node</li>\n",
    "    <li>variable named \"tail\" points to last node</li>\n",
    "    <li>each node points only to the next node</li>\n",
    "    <li>last node points to None</li>   \n",
    "    <li>in contrast to lists a linked list has no indexes</li>\n",
    "    <li>lists are a continous place in memory</li>\n",
    "    <li>nodes are spread in memory</li>\n",
    "</ul>"
   ]
  },
  {
   "attachments": {},
   "cell_type": "markdown",
   "metadata": {},
   "source": [
    "<h3>Linked List BIG O</h3>\n",
    "<table>\n",
    "  <tr>\n",
    "    <th>Method</th>\n",
    "    <th>BIG O</th>\n",
    "    <th>Explanation</th>\n",
    "  </tr>\n",
    "  <tr>\n",
    "    <td>Append</td>\n",
    "    <td>O(1)</td>\n",
    "    <td>the operation to add a node to the end of the list is independant from the amount of nodes</td>\n",
    "  </tr>\n",
    "  <tr>\n",
    "    <td>Pop</td>\n",
    "    <td>O(n)</td>\n",
    "    <td>have to iterate to the whole list to set tail pointer equal to previous node</td>\n",
    "  </tr>\n",
    "  <tr>\n",
    "    <td>Prepend</td>\n",
    "    <td>O(1)</td>\n",
    "    <td>the operation to add a node to the start of the list is independant from the amount of nodes</td>\n",
    "  </tr>\n",
    "  <tr>\n",
    "    <td>Pop first</td>\n",
    "    <td>O(1)</td>\n",
    "    <td>the pointer assigments operation is independant from the amount of nodes</td>\n",
    "  </tr>\n",
    "  <tr>\n",
    "    <td>Insert</td>\n",
    "    <td>O(n)</td>\n",
    "    <td>iterate through the list to find the node we want to insert after</td>\n",
    "  </tr>\n",
    "  <tr>\n",
    "    <td>Remove</td>\n",
    "    <td>O(n)</td>\n",
    "    <td>iterate through the list to find the prevoius node we want to delete</td>\n",
    "  </tr>\n",
    "  <tr>\n",
    "    <td>Lookup by value</td>\n",
    "    <td>O(n)</td>\n",
    "    <td>iterate through the list to find value</td>\n",
    "  </tr>\n",
    "  <tr>\n",
    "    <td>Lookup by index</td>\n",
    "    <td>O(n)</td>\n",
    "    <td>iterate through the list to find Index</td>\n",
    "  </tr>\n",
    "</table>\n"
   ]
  },
  {
   "attachments": {},
   "cell_type": "markdown",
   "metadata": {},
   "source": [
    "<h3>Constructor</h3>"
   ]
  },
  {
   "cell_type": "code",
   "execution_count": 11,
   "metadata": {},
   "outputs": [
    {
     "name": "stdout",
     "output_type": "stream",
     "text": [
      "Head: 4\n",
      "Tail: 4\n",
      "Length: 1\n"
     ]
    }
   ],
   "source": [
    "class Node:\n",
    "    def __init__(self, value):\n",
    "        self.value = value\n",
    "        self.next = None\n",
    "\n",
    "class LinkedList:\n",
    "    def __init__(self, value):\n",
    "        new_node = Node(value)\n",
    "        self.head = new_node\n",
    "        self.tail = new_node\n",
    "        self.length = 1\n",
    "\n",
    "# tests\n",
    "linked_list = LinkedList(4)\n",
    "print('Head:', linked_list.head.value)\n",
    "print('Tail:', linked_list.tail.value)\n",
    "print('Length:', linked_list.length)"
   ]
  },
  {
   "attachments": {},
   "cell_type": "markdown",
   "metadata": {},
   "source": [
    "<h3>Print List</h3>"
   ]
  },
  {
   "cell_type": "code",
   "execution_count": 10,
   "metadata": {},
   "outputs": [
    {
     "name": "stdout",
     "output_type": "stream",
     "text": [
      "1\n"
     ]
    }
   ],
   "source": [
    "class Node:\n",
    "    def __init__(self, value):\n",
    "        self.value = value\n",
    "        self.next = None\n",
    "\n",
    "class LinkedList:\n",
    "    def __init__(self, value):\n",
    "        new_node = Node(value)\n",
    "        self.head = new_node\n",
    "        self.tail = new_node\n",
    "        self.length = 1\n",
    "\n",
    "    def print_list(self):\n",
    "        temp = self.head\n",
    "        while temp is not None:\n",
    "            print(temp.value)\n",
    "            temp = temp.next\n",
    "\n",
    "# tests\n",
    "linked_list = LinkedList(1)\n",
    "linked_list.print_list()"
   ]
  },
  {
   "attachments": {},
   "cell_type": "markdown",
   "metadata": {},
   "source": [
    "<h3>Append</h3>\n",
    "<p>Edge cases:</p>\n",
    "<ol>\n",
    "    <li>Empty link list, head & tail pointing to None</li>\n",
    "</ol>"
   ]
  },
  {
   "cell_type": "code",
   "execution_count": 9,
   "metadata": {},
   "outputs": [
    {
     "name": "stdout",
     "output_type": "stream",
     "text": [
      "1\n",
      "2\n"
     ]
    }
   ],
   "source": [
    "class Node:\n",
    "    def __init__(self, value):\n",
    "        self.value = value\n",
    "        self.next = None\n",
    "\n",
    "class LinkedList:\n",
    "    def __init__(self, value):\n",
    "        new_node = Node(value)\n",
    "        self.head = new_node\n",
    "        self.tail = new_node\n",
    "        self.length = 1\n",
    "\n",
    "    def print_list(self):\n",
    "        temp = self.head\n",
    "        while temp is not None:\n",
    "            print(temp.value)\n",
    "            temp = temp.next\n",
    "\n",
    "    def append(self, value):\n",
    "        new_node = Node(value)\n",
    "        if self.head is None:\n",
    "            self.head = new_node\n",
    "            self.tail = new_node\n",
    "        else:\n",
    "            self.tail.next = new_node \n",
    "            self.tail = new_node\n",
    "        self.length += 1\n",
    "        return True\n",
    "\n",
    "# tests\n",
    "test_linked_list = LinkedList(1)\n",
    "test_linked_list.append(2)\n",
    "test_linked_list.print_list()"
   ]
  },
  {
   "attachments": {},
   "cell_type": "markdown",
   "metadata": {},
   "source": [
    "<h3>Pop</h3>\n",
    "<p>Edge cases:</p>\n",
    "<ol>\n",
    "    <li>Empty link list, length = 0, return None</li>\n",
    "    <li>one item in linked list, after removing the last node, head & tail have to point to None</li>\n",
    "</ol>"
   ]
  },
  {
   "cell_type": "code",
   "execution_count": 19,
   "metadata": {},
   "outputs": [
    {
     "name": "stdout",
     "output_type": "stream",
     "text": [
      "1\n",
      "2\n",
      "<__main__.Node object at 0x7f298c3c6500>\n",
      "<__main__.Node object at 0x7f298c412b90>\n",
      "None\n"
     ]
    }
   ],
   "source": [
    "class Node:\n",
    "    def __init__(self, value):\n",
    "        self.value = value\n",
    "        self.next = None\n",
    "\n",
    "class LinkedList:\n",
    "    def __init__(self, value):\n",
    "        new_node = Node(value)\n",
    "        self.head = new_node\n",
    "        self.tail = new_node\n",
    "        self.length = 1\n",
    "\n",
    "    def print_list(self):\n",
    "        temp = self.head\n",
    "        while temp is not None:\n",
    "            print(temp.value)\n",
    "            temp = temp.next\n",
    "\n",
    "    def append(self, value):\n",
    "        new_node = Node(value)\n",
    "        if self.head is None:\n",
    "            self.head = new_node\n",
    "            self.tail = new_node\n",
    "        else:\n",
    "            self.tail.next = new_node \n",
    "            self.tail = new_node\n",
    "        self.length += 1\n",
    "        return True\n",
    "    \n",
    "    def pop(self):\n",
    "        if self.length == 0:\n",
    "            return None\n",
    "        temp = self.head\n",
    "        pre = self.head\n",
    "        while(temp.next):\n",
    "            pre = temp\n",
    "            temp = temp.next\n",
    "        self.tail = pre\n",
    "        self.tail.next = None\n",
    "        self.length -= 1\n",
    "        if self.length == 0:\n",
    "            self.head = None\n",
    "            self.tail = None\n",
    "        return temp\n",
    "        \n",
    "# tests\n",
    "test_linked_list = LinkedList(1)\n",
    "test_linked_list.append(2)\n",
    "test_linked_list.print_list()\n",
    "print(test_linked_list.pop())\n",
    "print(test_linked_list.pop())\n",
    "print(test_linked_list.pop())\n"
   ]
  },
  {
   "attachments": {},
   "cell_type": "markdown",
   "metadata": {},
   "source": [
    "<h3>Prepend</h3>\n",
    "<p>Edge case:</p>\n",
    "<ol>\n",
    "    <li>Empty link list, so head & tail have to point to None</li>\n",
    "</ol>"
   ]
  },
  {
   "cell_type": "code",
   "execution_count": 20,
   "metadata": {},
   "outputs": [
    {
     "name": "stdout",
     "output_type": "stream",
     "text": [
      "1\n",
      "2\n",
      "3\n"
     ]
    }
   ],
   "source": [
    "class Node:\n",
    "    def __init__(self, value):\n",
    "        self.value = value\n",
    "        self.next = None\n",
    "\n",
    "class LinkedList:\n",
    "    def __init__(self, value):\n",
    "        new_node = Node(value)\n",
    "        self.head = new_node\n",
    "        self.tail = new_node\n",
    "        self.length = 1\n",
    "\n",
    "    def print_list(self):\n",
    "        temp = self.head\n",
    "        while temp is not None:\n",
    "            print(temp.value)\n",
    "            temp = temp.next\n",
    "\n",
    "    def append(self, value):\n",
    "        new_node = Node(value)\n",
    "        if self.head is None:\n",
    "            self.head = new_node\n",
    "            self.tail = new_node\n",
    "        else:\n",
    "            self.tail.next = new_node \n",
    "            self.tail = new_node\n",
    "        self.length += 1\n",
    "        return True\n",
    "    \n",
    "    def prepend(self, value):\n",
    "        new_node = Node(value)\n",
    "        if self.length == 0:\n",
    "            self.head = new_node\n",
    "            self.tail = new_node\n",
    "        else:\n",
    "            new_node.next = self.head\n",
    "            self.head = new_node\n",
    "        self.length += 1\n",
    "        return True\n",
    "        \n",
    "# tests\n",
    "test_linked_list = LinkedList(2)\n",
    "test_linked_list.append(3)\n",
    "test_linked_list.prepend(1)\n",
    "test_linked_list.print_list()"
   ]
  },
  {
   "attachments": {},
   "cell_type": "markdown",
   "metadata": {},
   "source": [
    "<h3>Pop First</h3>\n",
    "<p>Edge cases:</p>\n",
    "<ol>\n",
    "    <li>Empty linked list, return None</li>\n",
    "    <li>One item in linked list, after removing the last node, head & tail have to point to None</li>\n",
    "</ol>"
   ]
  },
  {
   "cell_type": "code",
   "execution_count": 21,
   "metadata": {},
   "outputs": [
    {
     "name": "stdout",
     "output_type": "stream",
     "text": [
      "1\n",
      "2\n",
      "None\n"
     ]
    }
   ],
   "source": [
    "class Node:\n",
    "    def __init__(self, value):\n",
    "        self.value = value\n",
    "        self.next = None\n",
    "\n",
    "class LinkedList:\n",
    "    def __init__(self, value):\n",
    "        new_node = Node(value)\n",
    "        self.head = new_node\n",
    "        self.tail = new_node\n",
    "        self.length = 1\n",
    "\n",
    "    def append(self, value):\n",
    "        new_node = Node(value)\n",
    "        if self.head is None:\n",
    "            self.head = new_node\n",
    "            self.tail = new_node\n",
    "        else:\n",
    "            self.tail.next = new_node \n",
    "            self.tail = new_node\n",
    "        self.length += 1\n",
    "        return True\n",
    "\n",
    "    def pop_first(self):\n",
    "        if self.length == 0:\n",
    "            return None\n",
    "        temp = self.head\n",
    "        self.head = self.head.next\n",
    "        temp.next = None\n",
    "        self.length -= 1\n",
    "        if self.length == 0:\n",
    "            self.tail = None\n",
    "        return temp.value\n",
    "\n",
    "# tests\n",
    "test_linked_list = LinkedList(1)\n",
    "test_linked_list.append(2)\n",
    "print(test_linked_list.pop_first())\n",
    "print(test_linked_list.pop_first())\n",
    "print(test_linked_list.pop_first())"
   ]
  },
  {
   "attachments": {},
   "cell_type": "markdown",
   "metadata": {},
   "source": [
    "<h3>Get</h3>\n",
    "<p>Edge cases:</p>\n",
    "<ol>\n",
    "    <li>Empty linked list, return None</li>\n",
    "    <li>Negative index, return None</li>\n",
    "    <li>index greater then length of linked list, return None</li>\n",
    "</ol>"
   ]
  },
  {
   "cell_type": "code",
   "execution_count": 26,
   "metadata": {},
   "outputs": [
    {
     "data": {
      "text/plain": [
       "4"
      ]
     },
     "execution_count": 26,
     "metadata": {},
     "output_type": "execute_result"
    }
   ],
   "source": [
    "class Node:\n",
    "    def __init__(self, value):\n",
    "        self.value = value\n",
    "        self.next = None\n",
    "\n",
    "class LinkedList:\n",
    "    def __init__(self, value):\n",
    "        new_node = Node(value)\n",
    "        self.head = new_node\n",
    "        self.tail = new_node\n",
    "        self.length = 1\n",
    "\n",
    "    def print_list(self):\n",
    "        temp = self.head\n",
    "        while temp is not None:\n",
    "            print(temp.value)\n",
    "            temp = temp.next\n",
    "\n",
    "    def append(self, value):\n",
    "        new_node = Node(value)\n",
    "        if self.head is None:\n",
    "            self.head = new_node\n",
    "            self.tail = new_node\n",
    "        else:\n",
    "            self.tail.next = new_node \n",
    "            self.tail = new_node\n",
    "        self.length += 1\n",
    "        return True\n",
    "    \n",
    "    def get(self, index):\n",
    "        if index < 0 or index >= self.length:\n",
    "            return None\n",
    "        temp = self.head\n",
    "        for _ in range(index):\n",
    "            temp = temp.next\n",
    "        return temp\n",
    "\n",
    "# tests\n",
    "test_linked_list = LinkedList(0)\n",
    "test_linked_list.append(2)\n",
    "test_linked_list.append(4)\n",
    "test_linked_list.append(8)\n",
    "test_linked_list.get(2).value"
   ]
  },
  {
   "attachments": {},
   "cell_type": "markdown",
   "metadata": {},
   "source": [
    "<h3>Set</h3>\n",
    "<p>Edge cases:</p>\n",
    "<ol>\n",
    "    <li>Empty linked list, return False</li>\n",
    "    <li>Negative index, return False</li>\n",
    "    <li>index greater then length of linked list, return False</li>\n",
    "</ol>"
   ]
  },
  {
   "cell_type": "code",
   "execution_count": 27,
   "metadata": {},
   "outputs": [
    {
     "name": "stdout",
     "output_type": "stream",
     "text": [
      "1\n",
      "2\n",
      "3\n",
      "False\n"
     ]
    }
   ],
   "source": [
    "class Node:\n",
    "    def __init__(self, value):\n",
    "        self.value = value\n",
    "        self.next = None\n",
    "\n",
    "class LinkedList:\n",
    "    def __init__(self, value):\n",
    "        new_node = Node(value)\n",
    "        self.head = new_node\n",
    "        self.tail = new_node\n",
    "        self.length = 1\n",
    "\n",
    "    def print_list(self):\n",
    "        temp = self.head\n",
    "        while temp is not None:\n",
    "            print(temp.value)\n",
    "            temp = temp.next\n",
    "\n",
    "    def append(self, value):\n",
    "        new_node = Node(value)\n",
    "        if self.head is None:\n",
    "            self.head = new_node\n",
    "            self.tail = new_node\n",
    "        else:\n",
    "            self.tail.next = new_node \n",
    "            self.tail = new_node\n",
    "        self.length += 1\n",
    "        return True\n",
    "    \n",
    "    def get(self, index):\n",
    "        if index < 0 or index >= self.length:\n",
    "            return None\n",
    "        temp = self.head\n",
    "        for _ in range(index):\n",
    "            temp = temp.next\n",
    "        return temp\n",
    "\n",
    "    def set_value(self, index, value):\n",
    "        temp = self.get(index)\n",
    "        if temp:\n",
    "            temp.value = value\n",
    "            return True\n",
    "        return False\n",
    "\n",
    "# tests\n",
    "test_linked_list = LinkedList(5)\n",
    "test_linked_list.append(2)\n",
    "test_linked_list.append(65)\n",
    "test_linked_list.set_value(0,1)\n",
    "test_linked_list.set_value(2,3)\n",
    "test_linked_list.print_list()\n",
    "print(test_linked_list.set_value(-2,3))"
   ]
  },
  {
   "attachments": {},
   "cell_type": "markdown",
   "metadata": {},
   "source": [
    "<h3>Insert</h3>\n",
    "<p>Edge cases:</p>\n",
    "<ol>\n",
    "    <li>Negative index, return False</li>\n",
    "    <li>Index greater then length of linked list, return False</li>\n",
    "</ol>"
   ]
  },
  {
   "cell_type": "code",
   "execution_count": 29,
   "metadata": {},
   "outputs": [
    {
     "name": "stdout",
     "output_type": "stream",
     "text": [
      "0\n",
      "1\n",
      "2\n"
     ]
    }
   ],
   "source": [
    "class Node:\n",
    "    def __init__(self, value):\n",
    "        self.value = value\n",
    "        self.next = None\n",
    "\n",
    "class LinkedList:\n",
    "    def __init__(self, value):\n",
    "        new_node = Node(value)\n",
    "        self.head = new_node\n",
    "        self.tail = new_node\n",
    "        self.length = 1\n",
    "\n",
    "    def print_list(self):\n",
    "        temp = self.head\n",
    "        while temp is not None:\n",
    "            print(temp.value)\n",
    "            temp = temp.next\n",
    "\n",
    "    def append(self, value):\n",
    "        new_node = Node(value)\n",
    "        if self.head is None:\n",
    "            self.head = new_node\n",
    "            self.tail = new_node\n",
    "        else:\n",
    "            self.tail.next = new_node \n",
    "            self.tail = new_node\n",
    "        self.length += 1\n",
    "        return True\n",
    "\n",
    "    def prepend(self, value):\n",
    "        new_node = Node(value)\n",
    "        if self.length == 0:\n",
    "            self.head = new_node\n",
    "            self.tail = new_node\n",
    "        else:\n",
    "            new_node.next = self.head\n",
    "            self.head = new_node\n",
    "        self.length += 1\n",
    "        return True\n",
    "    \n",
    "    def get(self, index):\n",
    "        if index < 0 or index >= self.length:\n",
    "            return None\n",
    "        temp = self.head\n",
    "        for _ in range(index):\n",
    "            temp = temp.next\n",
    "        return temp\n",
    "\n",
    "    def insert(self, index, value):\n",
    "        if index < 0 or index > self.length:\n",
    "            return False\n",
    "        if index == 0:\n",
    "            return self.prepend(value)\n",
    "        if index == self.length:\n",
    "            return self.append(value)\n",
    "        \n",
    "        new_node = Node(value)\n",
    "        temp = self.get(index - 1) # points to previous node\n",
    "        new_node.next = temp.next\n",
    "        temp.next = new_node\n",
    "        self.length += 1\n",
    "        return True\n",
    "\n",
    "# tests\n",
    "test_linked_list = LinkedList(0)\n",
    "test_linked_list.append(2)\n",
    "test_linked_list.insert(1,1)\n",
    "test_linked_list.print_list()"
   ]
  },
  {
   "attachments": {},
   "cell_type": "markdown",
   "metadata": {},
   "source": [
    "<h3>Remove</h3>\n",
    "<p>Edge cases:</p>\n",
    "<ol>\n",
    "    <li>Negative index, return False</li>\n",
    "    <li>Index greater then length of linked list, return False</li>\n",
    "</ol>"
   ]
  },
  {
   "cell_type": "code",
   "execution_count": 30,
   "metadata": {},
   "outputs": [
    {
     "name": "stdout",
     "output_type": "stream",
     "text": [
      "0\n",
      "2\n"
     ]
    }
   ],
   "source": [
    "class Node:\n",
    "    def __init__(self, value):\n",
    "        self.value = value\n",
    "        self.next = None\n",
    "\n",
    "class LinkedList:\n",
    "    def __init__(self, value):\n",
    "        new_node = Node(value)\n",
    "        self.head = new_node\n",
    "        self.tail = new_node\n",
    "        self.length = 1\n",
    "\n",
    "    def print_list(self):\n",
    "        temp = self.head\n",
    "        while temp is not None:\n",
    "            print(temp.value)\n",
    "            temp = temp.next\n",
    "\n",
    "    def append(self, value):\n",
    "        new_node = Node(value)\n",
    "        if self.head is None:\n",
    "            self.head = new_node\n",
    "            self.tail = new_node\n",
    "        else:\n",
    "            self.tail.next = new_node \n",
    "            self.tail = new_node\n",
    "        self.length += 1\n",
    "        return True\n",
    "\n",
    "    def pop(self):\n",
    "        if self.length == 0:\n",
    "            return None\n",
    "        temp = self.head\n",
    "        pre = self.head\n",
    "        while(temp.next):\n",
    "            pre = temp\n",
    "            temp = temp.next\n",
    "        self.tail = pre\n",
    "        self.tail.next = None\n",
    "        self.length -= 1\n",
    "        if self.length == 0:\n",
    "            self.head = None\n",
    "            self.tail = None\n",
    "        return temp\n",
    "\n",
    "    def pop_first(self):\n",
    "        if self.length == 0:\n",
    "            return None\n",
    "        temp = self.head\n",
    "        self.head = self.head.next\n",
    "        temp.next = None\n",
    "        self.length -= 1\n",
    "        if self.length == 0:\n",
    "            self.tail = None\n",
    "        return temp.value\n",
    "    \n",
    "    def get(self, index):\n",
    "        if index < 0 or index >= self.length:\n",
    "            return None\n",
    "        temp = self.head\n",
    "        for _ in range(index):\n",
    "            temp = temp.next\n",
    "        return temp\n",
    "\n",
    "    def remove (self, index):\n",
    "        if index < 0 or index >= self.length:\n",
    "            return None\n",
    "        if index == 0:\n",
    "            return self.pop_first()\n",
    "        if index == self.length - 1:\n",
    "            return self.pop()\n",
    "\n",
    "        pre = self.get(index - 1)\n",
    "        temp = pre.next\n",
    "        pre.next = temp.next\n",
    "        temp.next = None\n",
    "        self.length -= 1\n",
    "        return temp\n",
    "\n",
    "# tests\n",
    "test_linked_list = LinkedList(0)\n",
    "test_linked_list.append(1)\n",
    "test_linked_list.append(2)\n",
    "test_linked_list.remove(1)\n",
    "test_linked_list.print_list()"
   ]
  },
  {
   "attachments": {},
   "cell_type": "markdown",
   "metadata": {},
   "source": [
    "<h3>Reverse</h3>\n",
    "<p>Edge case:</p>\n",
    "<ol>\n",
    "    <li>None</li>\n",
    "</ol>"
   ]
  },
  {
   "cell_type": "code",
   "execution_count": 31,
   "metadata": {},
   "outputs": [
    {
     "name": "stdout",
     "output_type": "stream",
     "text": [
      "4\n",
      "3\n",
      "2\n",
      "1\n"
     ]
    }
   ],
   "source": [
    "class Node:\n",
    "    def __init__(self, value):\n",
    "        self.value = value\n",
    "        self.next = None\n",
    "\n",
    "class LinkedList:\n",
    "    def __init__(self, value):\n",
    "        new_node = Node(value)\n",
    "        self.head = new_node\n",
    "        self.tail = new_node\n",
    "        self.length = 1\n",
    "\n",
    "    def print_list(self):\n",
    "        temp = self.head\n",
    "        while temp is not None:\n",
    "            print(temp.value)\n",
    "            temp = temp.next\n",
    "\n",
    "    def append(self, value):\n",
    "        new_node = Node(value)\n",
    "        if self.head is None:\n",
    "            self.head = new_node\n",
    "            self.tail = new_node\n",
    "        else:\n",
    "            self.tail.next = new_node \n",
    "            self.tail = new_node\n",
    "        self.length += 1\n",
    "        return True\n",
    "\n",
    "    def reverse(self):\n",
    "        temp = self.head\n",
    "        self.head = self.tail\n",
    "        self.tail = temp\n",
    "\n",
    "        # after = temp.next\n",
    "        before = None\n",
    "        for _ in range(self.length):\n",
    "            after = temp.next\n",
    "            temp.next = before\n",
    "            before = temp\n",
    "            temp = after\n",
    "\n",
    "# tests\n",
    "test_linked_list = LinkedList(1)\n",
    "test_linked_list.append(2)\n",
    "test_linked_list.append(3)\n",
    "test_linked_list.append(4)\n",
    "test_linked_list.reverse()\n",
    "test_linked_list.print_list()"
   ]
  },
  {
   "attachments": {},
   "cell_type": "markdown",
   "metadata": {},
   "source": [
    "<h3>Linked List</h3>\n",
    "<p>Final code</p>"
   ]
  },
  {
   "cell_type": "code",
   "execution_count": 32,
   "metadata": {},
   "outputs": [],
   "source": [
    "class Node:\n",
    "    def __init__(self, value):\n",
    "        self.value = value\n",
    "        self.next = None\n",
    "\n",
    "class LinkedList:\n",
    "    def __init__(self, value):\n",
    "        new_node = Node(value)\n",
    "        self.head = new_node\n",
    "        self.tail = new_node\n",
    "        self.length = 1\n",
    "\n",
    "    def print_list(self):\n",
    "        temp = self.head\n",
    "        while temp is not None:\n",
    "            print(temp.value)\n",
    "            temp = temp.next\n",
    "\n",
    "    def append(self, value):\n",
    "        new_node = Node(value)\n",
    "        if self.head is None:\n",
    "            self.head = new_node\n",
    "            self.tail = new_node\n",
    "        else:\n",
    "            self.tail.next = new_node \n",
    "            self.tail = new_node\n",
    "        self.length += 1\n",
    "        return True\n",
    "\n",
    "    def prepend(self, value):\n",
    "        new_node = Node(value)\n",
    "        if self.length == 0:\n",
    "            self.head = new_node\n",
    "            self.tail = new_node\n",
    "        else:\n",
    "            new_node.next = self.head\n",
    "            self.head = new_node\n",
    "        self.length += 1\n",
    "        return True\n",
    "\n",
    "    def pop(self):\n",
    "        if self.length == 0:\n",
    "            return None\n",
    "        temp = self.head\n",
    "        pre = self.head\n",
    "        while(temp.next):\n",
    "            pre = temp\n",
    "            temp = temp.next\n",
    "        self.tail = pre\n",
    "        self.tail.next = None\n",
    "        self.length -= 1\n",
    "        if self.length == 0:\n",
    "            self.head = None\n",
    "            self.tail = None\n",
    "        return temp\n",
    "\n",
    "    def pop_first(self):\n",
    "        if self.length == 0:\n",
    "            return None\n",
    "        temp = self.head\n",
    "        self.head = self.head.next\n",
    "        temp.next = None\n",
    "        self.length -= 1\n",
    "        if self.length == 0:\n",
    "            self.tail = None\n",
    "        return temp.value\n",
    "    \n",
    "    def get(self, index):\n",
    "        if index < 0 or index >= self.length:\n",
    "            return None\n",
    "        temp = self.head\n",
    "        for _ in range(index):\n",
    "            temp = temp.next\n",
    "        return temp\n",
    "\n",
    "    def set_value(self, index, value):\n",
    "        temp = self.get(index)\n",
    "        if temp:\n",
    "            temp.value = value\n",
    "            return True\n",
    "        return False\n",
    "\n",
    "    def insert(self, index, value):\n",
    "        if index < 0 or index > self.length:\n",
    "            return False\n",
    "        if index == 0:\n",
    "            return self.prepend(value)\n",
    "        if index == self.length:\n",
    "            return self.append(value)\n",
    "        \n",
    "        new_node = Node(value)\n",
    "        temp = self.get(index - 1)\n",
    "        new_node.next = temp.next\n",
    "        temp.next = new_node\n",
    "        self.length += 1\n",
    "        return True\n",
    "\n",
    "    def remove (self, index):\n",
    "        if index < 0 or index >= self.length:\n",
    "            return None\n",
    "        if index == 0:\n",
    "            return self.pop_first()\n",
    "        if index == self.length - 1:\n",
    "            return self.pop()\n",
    "\n",
    "        pre = self.get(index - 1)\n",
    "        temp = pre.next\n",
    "        pre.next = temp.next\n",
    "        temp.next = None\n",
    "        self.length -= 1\n",
    "        return temp\n",
    "    \n",
    "    def reverse(self):\n",
    "        temp = self.head\n",
    "        self.head = self.tail\n",
    "        self.tail = temp\n",
    "\n",
    "        before = None\n",
    "        for _ in range(self.length):\n",
    "            after = temp.next\n",
    "            temp.next = before\n",
    "            before = temp\n",
    "            temp = after"
   ]
  },
  {
   "attachments": {},
   "cell_type": "markdown",
   "metadata": {},
   "source": [
    "<h3>Find Middle Node</h3>\n",
    "<p>Write a method to find and return the middle node in the Linked List WITHOUT using the length attribute.</p>"
   ]
  },
  {
   "cell_type": "code",
   "execution_count": 17,
   "metadata": {},
   "outputs": [
    {
     "name": "stdout",
     "output_type": "stream",
     "text": [
      "3\n"
     ]
    }
   ],
   "source": [
    "class Node:\n",
    "    def __init__(self, value):\n",
    "        self.value = value\n",
    "        self.next = None\n",
    "\n",
    "class LinkedList:\n",
    "    def __init__(self, value):\n",
    "        new_node = Node(value)\n",
    "        self.head = new_node\n",
    "        self.tail = new_node\n",
    "        self.length = 1\n",
    "\n",
    "    def append(self, value):\n",
    "        new_node = Node(value)\n",
    "        if self.head is None:\n",
    "            self.head = new_node\n",
    "            self.tail = new_node\n",
    "        else:\n",
    "            self.tail.next = new_node \n",
    "            self.tail = new_node\n",
    "        self.length += 1\n",
    "        return True\n",
    "\n",
    "    def find_middle_node(self):\n",
    "        # Initialize two pointers to the head of the list\n",
    "        slow = self.head\n",
    "        fast = self.head\n",
    "    \n",
    "        # Traverse the list with the fast pointer moving twice\n",
    "        # as fast as the slow pointer\n",
    "        while fast is not None and fast.next is not None:\n",
    "            slow = slow.next        # Move slow pointer one step\n",
    "            fast = fast.next.next   # Move fast pointer two steps\n",
    "            \n",
    "        # When the fast pointer reaches the end, the slow\n",
    "        # pointer will be at the middle node\n",
    "        return slow\n",
    "\n",
    "test_linked_list = LinkedList(1)\n",
    "test_linked_list.append(2)\n",
    "test_linked_list.append(3)\n",
    "test_linked_list.append(4)\n",
    "test_linked_list.append(5)\n",
    "\n",
    "print( test_linked_list.find_middle_node().value )"
   ]
  }
 ],
 "metadata": {
  "kernelspec": {
   "display_name": ".venv",
   "language": "python",
   "name": "python3"
  },
  "language_info": {
   "codemirror_mode": {
    "name": "ipython",
    "version": 3
   },
   "file_extension": ".py",
   "mimetype": "text/x-python",
   "name": "python",
   "nbconvert_exporter": "python",
   "pygments_lexer": "ipython3",
   "version": "3.10.6"
  },
  "orig_nbformat": 4
 },
 "nbformat": 4,
 "nbformat_minor": 2
}
