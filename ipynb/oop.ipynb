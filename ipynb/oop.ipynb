{
 "cells": [
  {
   "attachments": {},
   "cell_type": "markdown",
   "metadata": {},
   "source": [
    "<h1>Object Oriented Programming</h1>\n",
    "<h3>Class</h3>"
   ]
  },
  {
   "cell_type": "markdown",
   "metadata": {},
   "source": [
    "<h3>Class definition</h3>\n",
    "<ul>\n",
    "<li>Class definition must be executed before they have any effect</li>\n",
    "<li>a new namespace is created, and used as the local scope</li>\n",
    "<li>a class object is created</li>\n",
    "<li>the class object is bound here to the class name given in the class definition header</li>\n",
    "</ul>"
   ]
  },
  {
   "cell_type": "code",
   "execution_count": 9,
   "metadata": {},
   "outputs": [
    {
     "data": {
      "text/plain": [
       "'hello europe'"
      ]
     },
     "execution_count": 9,
     "metadata": {},
     "output_type": "execute_result"
    }
   ],
   "source": [
    "class Empty:\n",
    "    pass"
   ]
  },
  {
   "cell_type": "code",
   "execution_count": 1,
   "metadata": {},
   "outputs": [
    {
     "name": "stdout",
     "output_type": "stream",
     "text": [
      "the dict attribute is the namespace dictionary:\n",
      "{'__module__': '__main__', '__doc__': 'This is a simple class', '__init__': <function Simple_class.__init__ at 0x7f768e2324c0>, 'show': <function Simple_class.show at 0x7f768e232670>}\n",
      "\n",
      "\n",
      "the bases attribute is the class to superclass link:\n",
      "(<class '__main__.Super'>,)\n",
      "\n",
      "\n",
      "the module attribute shows in which module reference:\n",
      "__main__\n"
     ]
    }
   ],
   "source": [
    "class Super():\n",
    "    \"\"\"This is a simple super class\"\"\"\n",
    "    pass\n",
    "\n",
    "class Simple_class(Super):\n",
    "    \"\"\"This is a simple class\"\"\"\n",
    "    def __init__(self, who):\n",
    "        self.setname = who\n",
    "\n",
    "    def show(self):\n",
    "        print(self.setname)\n",
    "\n",
    "print(f'the dict attribute is the namespace dictionary:\\n{Simple_class.__dict__}')\n",
    "print('\\n')\n",
    "print(f'the bases attribute is the class to superclass link:\\n{Simple_class.__bases__}')\n",
    "print('\\n')\n",
    "print(f'the module attribute shows in which module reference:\\n{Simple_class.__module__}')\n",
    "\n"
   ]
  },
  {
   "cell_type": "markdown",
   "metadata": {},
   "source": [
    "<h3>Instance</h3>"
   ]
  },
  {
   "cell_type": "code",
   "execution_count": 2,
   "metadata": {},
   "outputs": [
    {
     "name": "stdout",
     "output_type": "stream",
     "text": [
      "<class '__main__.Simple_class'>\n",
      "instance namespace dictionary:\n",
      "{'setname': 'Peter'}\n",
      "\n",
      "\n",
      "the class attribute is the instance to class link:\n",
      "<class 'type'>\n"
     ]
    }
   ],
   "source": [
    "x = Simple_class('Peter')\n",
    "print(type(x))\n",
    "print(f'instance namespace dictionary:\\n{x.__dict__}')\n",
    "print('\\n')\n",
    "print(f'the class attribute is the instance to class link:\\n{Simple_class.__class__}')\n",
    "\n",
    "del Super, Simple_class, x"
   ]
  },
  {
   "cell_type": "markdown",
   "metadata": {},
   "source": [
    "<h2>OOP Example</h2>\n",
    "<h3>Step 1: Making Instances</h3>\n",
    "<p>First Person Class purpose is to record basic information about people</p>"
   ]
  },
  {
   "cell_type": "code",
   "execution_count": 3,
   "metadata": {},
   "outputs": [
    {
     "name": "stdout",
     "output_type": "stream",
     "text": [
      "Bob Smith 0\n",
      "Sue Jones 100000\n"
     ]
    }
   ],
   "source": [
    "class Person:\n",
    "    def __init__(self, name, job=None, pay=0): # Constructor takes 3 arguments and add defaults (after first default, must all have defaults)\n",
    "        self.name = name\n",
    "        self.job = job # job is local variable in scope of init function, but self.job is an attribute of the instance\n",
    "        self.pay = pay # different variables, but same name\n",
    "\n",
    "if __name__ == '__main__': \n",
    "    # self test code\n",
    "    bob = Person('Bob Smith')\n",
    "    sue = Person('Sue Jones', pay=100000, job='dev') # keyword args, can change order\n",
    "    print(bob.name, bob.pay)\n",
    "    print(sue.name, sue.pay)\n",
    "\n",
    "del Person, bob, sue"
   ]
  },
  {
   "cell_type": "markdown",
   "metadata": {},
   "source": [
    "<h3>Step 2: Adding Behavior Methods</h3>\n",
    "<p>We want to code operations on objects in a class’s methods, instead of littering them throughout our program. Turning operations into methods enables them to be applied to any instance of the class, not just those that they’ve been hardcoded to process.</p>"
   ]
  },
  {
   "cell_type": "code",
   "execution_count": 4,
   "metadata": {},
   "outputs": [
    {
     "name": "stdout",
     "output_type": "stream",
     "text": [
      "Smith Jones\n",
      "<__main__.Person object at 0x7f768ecf4fd0>\n"
     ]
    }
   ],
   "source": [
    "class Person:\n",
    "    def __init__(self, name, job=None, pay=0):\n",
    "        self.name = name\n",
    "        self.job = job\n",
    "        self.pay = pay\n",
    "\n",
    "    # methods are functions that are attached to classes and designed to process instances of those classes\n",
    "    def lastName(self): # self is the implied subject when the method is called\n",
    "        return self.name.split()[-1]\n",
    "    def giveRaise(self, percent):\n",
    "        self.pay = int(self.pay * (1 + percent / 100))\n",
    "\n",
    "if __name__ == '__main__': \n",
    "    bob = Person('Bob Smith')\n",
    "    sue = Person('Sue Jones', pay=100000, job='dev')\n",
    "    print(bob.lastName(), sue.lastName())\n",
    "    sue.giveRaise(10) # raise by 10% \n",
    "    print(sue)\n",
    "\n",
    "del Person, bob, sue"
   ]
  },
  {
   "cell_type": "markdown",
   "metadata": {},
   "source": [
    "<h3>Step 3: Operator Overloading</h3>\n",
    "<p>Fortunately, it’s easy to do better by employing operator overloading—coding methods in a class that intercept and process built-in operations when run on the class’s instances. the __repr__ method is often used to provide an as-code low-level display of an object when present, and __str__ is reserved for more user-friendly informational displays like ours here. Sometimes classes provide both a\n",
    "__str__ for user-friendly displays and a __repr__ with extra details for developers to view.</p>"
   ]
  },
  {
   "cell_type": "code",
   "execution_count": 5,
   "metadata": {},
   "outputs": [
    {
     "name": "stdout",
     "output_type": "stream",
     "text": [
      "[Person: Bob Smith 0]\n",
      "[Person: Sue Jones 100000]\n"
     ]
    }
   ],
   "source": [
    "class Person:\n",
    "    def __init__(self, name, job=None, pay=0):\n",
    "        self.name = name\n",
    "        self.job = job\n",
    "        self.pay = pay\n",
    "    def lastName(self):\n",
    "        return self.name.split()[-1]\n",
    "    def giveRaise(self, percent):\n",
    "        self.pay = int(self.pay * (1 + percent / 100))\n",
    "    def __repr__(self): # added method for customizing print output\n",
    "        return f'[Person: {self.name} {self.pay}]'\n",
    "\n",
    "if __name__ == '__main__': \n",
    "    bob = Person('Bob Smith')\n",
    "    sue = Person('Sue Jones', pay=100000, job='dev')\n",
    "    print(bob)\n",
    "    print(sue)\n",
    "\n",
    "del Person, bob, sue"
   ]
  },
  {
   "cell_type": "markdown",
   "metadata": {},
   "source": [
    "<h3>Step 4: Customizing Behaviour in Subclasses</h3>\n",
    "<p>To demonstrate the real power of OOP, though, we need to define a superclass/subclass relationship that allows us to extend our software and replace bits of inherited behavior. That’s the main idea behind OOP, after all; by fostering a coding model based upon customization of work already done, it can dramatically cut development time.</p>"
   ]
  },
  {
   "cell_type": "code",
   "execution_count": 6,
   "metadata": {},
   "outputs": [
    {
     "name": "stdout",
     "output_type": "stream",
     "text": [
      "Jones\n",
      "[Person: Tom Jones 60000]\n"
     ]
    }
   ],
   "source": [
    "class Person:\n",
    "    def __init__(self, name, job=None, pay=0):\n",
    "        self.name = name\n",
    "        self.job = job\n",
    "        self.pay = pay\n",
    "\n",
    "    def lastName(self):\n",
    "        return self.name.split()[-1]\n",
    "    def giveRaise(self, percent):\n",
    "        self.pay = int(self.pay * (1 + percent / 100))\n",
    "    def __repr__(self):\n",
    "        return f'[Person: {self.name} {self.pay}]'\n",
    "\n",
    "class Manager(Person): # subclass of Person, inherits all attributes and methods from it\n",
    "\n",
    "    def giveRaise(self, percent, bonus=10):\n",
    "        Person.giveRaise(self, percent + bonus) # a class method can be called thru an instance or an class\n",
    "\n",
    "if __name__ == '__main__': \n",
    "    bob = Person('Bob Smith')\n",
    "    sue = Person('Sue Jones', pay=100000, job='dev')\n",
    "    tom = Manager('Tom Jones', job='mgr', pay=50000 )\n",
    "    tom.giveRaise(10) # runs custom version\n",
    "    print(tom.lastName()) # runs inherited method\n",
    "    print(tom) # runs ingerited __repr__\n",
    "\n",
    "del Person, Manager, bob, sue, tom"
   ]
  },
  {
   "cell_type": "markdown",
   "metadata": {},
   "source": [
    "<h3>Step 5: Customizing Constructors</h3>\n",
    "<p>It seems pointless to have to provide a mgr job name for Manager objects when we create them: this is already implied by the class itself. It would be better if we could somehow fill in this value automatically when a Manager is made.</p>"
   ]
  },
  {
   "cell_type": "code",
   "execution_count": 7,
   "metadata": {},
   "outputs": [
    {
     "name": "stdout",
     "output_type": "stream",
     "text": [
      "mgr\n"
     ]
    }
   ],
   "source": [
    "class Person:\n",
    "    def __init__(self, name, job=None, pay=0):\n",
    "        self.name = name\n",
    "        self.job = job\n",
    "        self.pay = pay\n",
    "\n",
    "    def lastName(self):\n",
    "        return self.name.split()[-1]\n",
    "    def giveRaise(self, percent):\n",
    "        self.pay = int(self.pay * (1 + percent / 100))\n",
    "    def __repr__(self):\n",
    "        return f'[Person: {self.name} {self.pay}]'\n",
    "\n",
    "class Manager(Person):\n",
    "    def __init__(self, name, pay): # redefine constructor, job is needless\n",
    "        Person.__init__(self, name, 'mgr', pay) # run original with 'mgr'\n",
    "\n",
    "    def giveRaise(self, percent, bonus=10):\n",
    "        Person.giveRaise(self, percent + bonus)\n",
    "\n",
    "if __name__ == '__main__': \n",
    "    bob = Person('Bob Smith')\n",
    "    sue = Person('Sue Jones', pay=100000, job='dev')\n",
    "    tom = Manager('Tom Jones', pay=50000)\n",
    "    print(tom.job)\n",
    "\n",
    "del Person, Manager, bob, sue, tom"
   ]
  },
  {
   "cell_type": "markdown",
   "metadata": {},
   "source": [
    "<h3>Step 6: Using Introspection Tools</h3>\n",
    "<p>To use this generic tool in our classes, all we need to do is import it from its module, mix it in by inheritance in our top-level class, and get rid of the more specific __repr__ we coded before. The new display overload method will be inherited by instances of Person, as well as Manager; Manager gets __repr__ from Person, which now obtains it from the AttrDisplay coded in another module.</p>"
   ]
  },
  {
   "cell_type": "code",
   "execution_count": 8,
   "metadata": {},
   "outputs": [
    {
     "name": "stdout",
     "output_type": "stream",
     "text": [
      "[Person: job=None, name=Bob Smith, pay=0]\n",
      "[Person: job=dev, name=Sue Jones, pay=100000]\n",
      "Smith Jones\n",
      "[Person: job=dev, name=Sue Jones, pay=110000]\n",
      "Jones\n",
      "[Manager: job=mgr, name=Tom Jones, pay=60000]\n"
     ]
    }
   ],
   "source": [
    "class AttributeDisplay:\n",
    "    \"\"\"\n",
    "    Provides an inheritable display overload method that shows\n",
    "    instances with their class names and a name=value pair for\n",
    "    each attribute stored on the instance itself (but not attrs\n",
    "    inherited from its classes). Can be mixed into any class,\n",
    "    and will work on any instance.\n",
    "    \"\"\"\n",
    "    def gatherAttrs(self):\n",
    "        attrs = []\n",
    "        for key in sorted(self.__dict__):\n",
    "            attrs.append(f\"{key}={getattr(self,key)}\")\n",
    "        return \", \".join(attrs)\n",
    "\n",
    "    def __repr__(self) -> str:\n",
    "        return f\"[{self.__class__.__name__}: {self.gatherAttrs()}]\"\n",
    "\n",
    "class Person(AttributeDisplay): # mix in a repr at this level\n",
    "    \"\"\"\n",
    "    create and process Person records\n",
    "    \"\"\"\n",
    "    def __init__(self, name, job=None, pay=0):\n",
    "        self.name = name\n",
    "        self.job = job\n",
    "        self.pay = pay\n",
    "\n",
    "    def lastName(self): # assumes last is last\n",
    "        return self.name.split()[-1]\n",
    "\n",
    "    def giveRaise(self, percent): #percent must be 0..100\n",
    "        self.pay = int(self.pay * (1 + percent / 100))\n",
    "\n",
    "class Manager(Person):\n",
    "    \"\"\"\n",
    "    A customized Person with special requirements\n",
    "    \"\"\"\n",
    "    def __init__(self, name, pay):\n",
    "        Person.__init__(self, name, 'mgr', pay)\n",
    "\n",
    "    def giveRaise(self, percent, bonus=10): #percent must be 0..100\n",
    "        Person.giveRaise(self, percent + bonus)\n",
    "\n",
    "if __name__ == '__main__': \n",
    "    bob = Person('Bob Smith')\n",
    "    sue = Person('Sue Jones', pay=100000, job='dev')\n",
    "    print(bob)\n",
    "    print(sue)\n",
    "    print(bob.lastName(), sue.lastName())\n",
    "    sue.giveRaise(10)\n",
    "    print(sue)\n",
    "    tom = Manager('Tom Jones', pay=50000 )\n",
    "    tom.giveRaise(10) # runs custom version\n",
    "    print(tom.lastName()) # runs inherited method\n",
    "    print(tom) # runs ingerited __repr__\n"
   ]
  },
  {
   "cell_type": "markdown",
   "metadata": {},
   "source": [
    "<h3>Step 7: Storing Objects in a Database with shelve</h3>\n",
    "<p>It turns out that it’s easy to make instance objects more permanent, with a Python feature called object persistence—making objects live on after the program that creates them exits. As a final step in this tutorial, let’s make our objects permanent.</p>"
   ]
  },
  {
   "cell_type": "markdown",
   "metadata": {},
   "source": [
    "<dl>\n",
    "<dt>pickle</dt>\n",
    "<dd>Serializes arbitrary Python objects to and from a string of bytes</dd>\n",
    "<dt>dbm</dt>\n",
    "<dd>Implements an access-by-key filesystem for storing strings</dd>\n",
    "<dt>shelve</dt>\n",
    "<dd>Uses the other two modules to store Python objects on a file by key</dd>\n",
    "</dl>"
   ]
  },
  {
   "cell_type": "markdown",
   "metadata": {},
   "source": [
    "<h3>Create Person object on database</h3>"
   ]
  },
  {
   "cell_type": "code",
   "execution_count": 9,
   "metadata": {},
   "outputs": [],
   "source": [
    "import shelve\n",
    "# create objects to shelve\n",
    "db = shelve.open('/home/xl/projects/learning_python/src/persondb') # filename where objects are stored\n",
    "for obj in (bob, sue, tom): # use object's name attribute as key\n",
    "    db[obj.name] = obj # store object on shelf by key\n",
    "db.close() # close after making changes\n",
    "\n",
    "del bob, sue, tom, db, obj\n",
    "#del AttributeDisplay, Manager, Person"
   ]
  },
  {
   "cell_type": "markdown",
   "metadata": {},
   "source": [
    "<h3>Read Person object on database</h3>"
   ]
  },
  {
   "cell_type": "code",
   "execution_count": 10,
   "metadata": {},
   "outputs": [
    {
     "name": "stdout",
     "output_type": "stream",
     "text": [
      "3\n",
      "['Tom Jones', 'Sue Jones', 'Bob Smith']\n",
      "Smith\n",
      "[Person: job=None, name=Bob Smith, pay=0]\n",
      "\n",
      "\n",
      "Tom Jones => [Manager: job=mgr, name=Tom Jones, pay=60000]\n",
      "Sue Jones => [Person: job=dev, name=Sue Jones, pay=110000]\n",
      "Bob Smith => [Person: job=None, name=Bob Smith, pay=0]\n",
      "\n",
      "\n",
      "Bob Smith => [Person: job=None, name=Bob Smith, pay=0]\n",
      "Sue Jones => [Person: job=dev, name=Sue Jones, pay=110000]\n",
      "Tom Jones => [Manager: job=mgr, name=Tom Jones, pay=60000]\n"
     ]
    }
   ],
   "source": [
    "db = shelve.open('/home/xl/projects/learning_python/src/persondb') # open connection\n",
    "print(len(db)) # three records stored\n",
    "print(list(db.keys())) # keys is the index\n",
    "bob = db['Bob Smith'] # fetch bob by key\n",
    "print(bob.lastName()) # runs lastName from Person\n",
    "print(bob)\n",
    "print('\\n')\n",
    "for key in db:\n",
    "    print(key,'=>',db[key]) # iterate, fetch, print\n",
    "print('\\n')\n",
    "for key in sorted(db):\n",
    "    print(key,'=>',db[key]) # iterate, fetch, print\n",
    "db.close() # close connection\n",
    "del db, bob"
   ]
  },
  {
   "cell_type": "markdown",
   "metadata": {},
   "source": [
    "<h3>Read, Update, Delete Person object on database</h3>"
   ]
  },
  {
   "cell_type": "code",
   "execution_count": 11,
   "metadata": {},
   "outputs": [
    {
     "name": "stdout",
     "output_type": "stream",
     "text": [
      "Sue Jones => [Person: job=dev, name=Sue Jones, pay=121000]\n",
      "Tom Jones => [Manager: job=mgr, name=Tom Jones, pay=60000]\n"
     ]
    }
   ],
   "source": [
    "db=shelve.open('/home/xl/projects/learning_python/src/persondb') # open connection\n",
    "\n",
    "# update\n",
    "sue = db['Sue Jones'] # index by key to fetch\n",
    "sue.giveRaise(10) # update in memory using class method\n",
    "db['Sue Jones'] = sue # assign to key to update in shelf\n",
    "\n",
    "# delete\n",
    "if 'Bob Smith' in db:\n",
    "    del db['Bob Smith']\n",
    "\n",
    "# read\n",
    "for key in sorted(db):\n",
    "    print(key,'=>',db[key]) # iterate, fetch, print\n",
    "\n",
    "db.close() # close connection\n",
    "del db, key, sue"
   ]
  },
  {
   "cell_type": "markdown",
   "metadata": {},
   "source": [
    "<h3>Class Interface Techniques</h3>"
   ]
  },
  {
   "cell_type": "markdown",
   "metadata": {},
   "source": [
    "<dl>\n",
    "<dt>Super</dt>\n",
    "<dd>Defines a method function and a delegate that expects an action in a subclass</dd>\n",
    "<dt>Inheritor</dt>\n",
    "<dd>Doesn’t provide any new names, so it gets everything defined in Super.</dd>\n",
    "<dt>Replacer</dt>\n",
    "<dd>Overrides Super’s method with a version of its own.</dd>\n",
    "<dt>Extender</dt>\n",
    "<dd>Customizes Super’s method by overriding and calling back to run the default.</dd>\n",
    "<dt>Provider</dt>\n",
    "<dd>Implements the action method expected by Super’s delegate method.</dd>\n",
    "</dl>"
   ]
  },
  {
   "cell_type": "code",
   "execution_count": 1,
   "metadata": {},
   "outputs": [
    {
     "name": "stdout",
     "output_type": "stream",
     "text": [
      "\n",
      "Inheritor...\n",
      "in Super.method\n",
      "\n",
      "Provider...\n",
      "\n",
      "Replacer...\n",
      "in Replacer.method\n",
      "\n",
      "Provider...\n",
      "\n",
      "Extender...\n",
      "starting Extender.method\n",
      "in Super.method\n",
      "ending Extender.method\n",
      "\n",
      "Provider...\n",
      "in Provider.action\n"
     ]
    }
   ],
   "source": [
    "class Super:\n",
    "    def method(self):\n",
    "        print('in Super.method') # Default behavior\n",
    "    def delegate(self):\n",
    "        self.action() # Expected to be defined\n",
    "\n",
    "\n",
    "class Inheritor(Super): # Inherit method verbatim\n",
    "    pass\n",
    "\n",
    "\n",
    "class Replacer(Super):\n",
    "    def method(self): # Replace method completely\n",
    "        print('in Replacer.method')\n",
    "\n",
    "\n",
    "class Extender(Super): # Extend method behavior\n",
    "    def method(self):\n",
    "        print('starting Extender.method')\n",
    "        Super.method(self)\n",
    "        print('ending Extender.method')\n",
    "\n",
    "\n",
    "class Provider(Super): # Fill in a required method\n",
    "    def action(self):\n",
    "        print('in Provider.action')\n",
    "\n",
    "if __name__ == '__main__':\n",
    "    for klass in (Inheritor, Replacer, Extender):\n",
    "        print('\\n' + klass.__name__ + '...')\n",
    "        klass().method()\n",
    "        print('\\nProvider...')\n",
    "    x = Provider()\n",
    "    x.delegate()"
   ]
  }
 ],
 "metadata": {
  "kernelspec": {
   "display_name": "Python 3.8.10 ('.venv': venv)",
   "language": "python",
   "name": "python3"
  },
  "language_info": {
   "codemirror_mode": {
    "name": "ipython",
    "version": 3
   },
   "file_extension": ".py",
   "mimetype": "text/x-python",
   "name": "python",
   "nbconvert_exporter": "python",
   "pygments_lexer": "ipython3",
   "version": "3.10.7"
  },
  "orig_nbformat": 4,
  "vscode": {
   "interpreter": {
    "hash": "afa6b98459d80e05b4144fd479eac5a19142374dc66200d5898f2a74d54d80d3"
   }
  }
 },
 "nbformat": 4,
 "nbformat_minor": 2
}
