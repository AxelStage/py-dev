{
 "cells": [
  {
   "cell_type": "markdown",
   "metadata": {},
   "source": [
    "# Cookbook Chapter 1: Text\n",
    "## Processing a String One Character at a Time\n",
    "### Problem\n",
    "You want to process a string one character at a time."
   ]
  },
  {
   "cell_type": "code",
   "execution_count": 7,
   "metadata": {},
   "outputs": [
    {
     "name": "stdout",
     "output_type": "stream",
     "text": [
      "p\n",
      "y\n",
      "t\n",
      "h\n",
      "o\n",
      "n\n"
     ]
    }
   ],
   "source": [
    "s = \"python\"\n",
    "\n",
    "for item in s:\n",
    "    print(item)"
   ]
  },
  {
   "cell_type": "code",
   "execution_count": 12,
   "metadata": {},
   "outputs": [
    {
     "name": "stdout",
     "output_type": "stream",
     "text": [
      "p\n",
      "y\n",
      "t\n",
      "h\n",
      "o\n",
      "n\n"
     ]
    }
   ],
   "source": [
    "result = [print(item) for item in s]"
   ]
  },
  {
   "cell_type": "code",
   "execution_count": 23,
   "metadata": {},
   "outputs": [
    {
     "name": "stdout",
     "output_type": "stream",
     "text": [
      "p\n",
      "y\n",
      "t\n",
      "h\n",
      "o\n",
      "n\n"
     ]
    }
   ],
   "source": [
    "result = list(map(print,s))"
   ]
  },
  {
   "cell_type": "markdown",
   "metadata": {},
   "source": [
    "## Converting Between Characters and Numeric Codes\n",
    "### Problem\n",
    "You need to turn a character into its numeric ASCII (ISO) or Unicode code, and vice versa."
   ]
  },
  {
   "cell_type": "code",
   "execution_count": 28,
   "metadata": {},
   "outputs": [
    {
     "data": {
      "text/plain": [
       "(65, 'A')"
      ]
     },
     "execution_count": 28,
     "metadata": {},
     "output_type": "execute_result"
    }
   ],
   "source": [
    "# ASCII\n",
    "ord(\"A\"), chr(65)"
   ]
  },
  {
   "cell_type": "code",
   "execution_count": 46,
   "metadata": {},
   "outputs": [
    {
     "data": {
      "text/plain": [
       "(8224, '†')"
      ]
     },
     "execution_count": 46,
     "metadata": {},
     "output_type": "execute_result"
    }
   ],
   "source": [
    "# unicode\n",
    "ord(\"\\u2020\"), chr(8224)"
   ]
  },
  {
   "cell_type": "markdown",
   "metadata": {},
   "source": [
    "## Testing Whether an Object Is String-like\n",
    "### Problem\n",
    "You need to test if an object, typically an argument to a function or method you’re writing, is a string (or more precisely, whether the object is string-like)."
   ]
  },
  {
   "cell_type": "code",
   "execution_count": 57,
   "metadata": {},
   "outputs": [
    {
     "data": {
      "text/plain": [
       "(True, True, True)"
      ]
     },
     "execution_count": 57,
     "metadata": {},
     "output_type": "execute_result"
    }
   ],
   "source": [
    "isinstance(s, str), isinstance(1, (str,int)), isinstance(u\"\\u2020\", str)"
   ]
  },
  {
   "cell_type": "code",
   "execution_count": 61,
   "metadata": {},
   "outputs": [
    {
     "data": {
      "text/plain": [
       "(True, False)"
      ]
     },
     "execution_count": 61,
     "metadata": {},
     "output_type": "execute_result"
    }
   ],
   "source": [
    "# The first test would reject instances of user-coded subclasses of str,\n",
    "# and instances of any user coded type that is meant to be “string-like”.\n",
    "# duck typing: if it walks like a duck and quacks like a duck, it’s duck-like enough for our purposes\n",
    "\n",
    "def is_string_like(anyobj):\n",
    "    try: anyobj + ''\n",
    "    except: return False\n",
    "    else: return True\n",
    "\n",
    "is_string_like(\"quack\"), is_string_like(1)"
   ]
  },
  {
   "cell_type": "markdown",
   "metadata": {},
   "source": [
    "## Aligning Strings\n",
    "### Problem\n",
    "You want to align strings: left, right, or center."
   ]
  },
  {
   "cell_type": "code",
   "execution_count": 69,
   "metadata": {},
   "outputs": [
    {
     "name": "stdout",
     "output_type": "stream",
     "text": [
      "| python               | .......python....... |               python\n"
     ]
    }
   ],
   "source": [
    "print(\n",
    "\"|\",\n",
    "s.ljust(20),\n",
    "\"|\",\n",
    "s.center(20, \".\"),\n",
    "\"|\",\n",
    "s.rjust(20),\n",
    ")"
   ]
  },
  {
   "cell_type": "markdown",
   "metadata": {},
   "source": [
    "## Trimming Space from the Ends of a String\n",
    "### Problem\n",
    "You need to work on a string without regard for any extra leading or trailing spaces a user may have typed."
   ]
  },
  {
   "cell_type": "code",
   "execution_count": 75,
   "metadata": {},
   "outputs": [
    {
     "name": "stdout",
     "output_type": "stream",
     "text": [
      "python | python | python\n"
     ]
    }
   ],
   "source": [
    "print(\n",
    "\"             python\".lstrip(),\n",
    "\"|\",\n",
    "\"        python         \".strip(),\n",
    "\"|\",\n",
    "\"python         \".rstrip()\n",
    ")"
   ]
  },
  {
   "cell_type": "code",
   "execution_count": 85,
   "metadata": {},
   "outputs": [
    {
     "data": {
      "text/plain": [
       "'python'"
      ]
     },
     "execution_count": 85,
     "metadata": {},
     "output_type": "execute_result"
    }
   ],
   "source": [
    "\"x__  python   ..._ y  \".strip(\" x_y.\")"
   ]
  },
  {
   "cell_type": "markdown",
   "metadata": {},
   "source": [
    "## Combining Strings\n",
    "### Problem\n",
    "You have several small strings that you need to combine into one larger string."
   ]
  },
  {
   "cell_type": "code",
   "execution_count": 97,
   "metadata": {},
   "outputs": [
    {
     "data": {
      "text/plain": [
       "'cake, wine, flowers'"
      ]
     },
     "execution_count": 97,
     "metadata": {},
     "output_type": "execute_result"
    }
   ],
   "source": [
    "\", \".join([\"cake\", \"wine\", \"flowers\"])"
   ]
  },
  {
   "cell_type": "markdown",
   "metadata": {},
   "source": [
    "## Reversing a String by Words or Characters\n",
    "### Problem\n",
    "You want to reverse the characters or words in a string."
   ]
  },
  {
   "cell_type": "code",
   "execution_count": 103,
   "metadata": {},
   "outputs": [],
   "source": [
    "sentence = \"I like python.\""
   ]
  },
  {
   "cell_type": "code",
   "execution_count": 104,
   "metadata": {},
   "outputs": [
    {
     "data": {
      "text/plain": [
       "'nohtyp'"
      ]
     },
     "execution_count": 104,
     "metadata": {},
     "output_type": "execute_result"
    }
   ],
   "source": [
    "s[::-1]"
   ]
  },
  {
   "cell_type": "code",
   "execution_count": 116,
   "metadata": {},
   "outputs": [
    {
     "data": {
      "text/plain": [
       "'python. like I'"
      ]
     },
     "execution_count": 116,
     "metadata": {},
     "output_type": "execute_result"
    }
   ],
   "source": [
    "\" \".join(sentence.split()[::-1])"
   ]
  },
  {
   "cell_type": "code",
   "execution_count": 105,
   "metadata": {},
   "outputs": [
    {
     "data": {
      "text/plain": [
       "'python. like I'"
      ]
     },
     "execution_count": 105,
     "metadata": {},
     "output_type": "execute_result"
    }
   ],
   "source": [
    "words = sentence.split()\n",
    "words.reverse()\n",
    "\" \".join(words)"
   ]
  },
  {
   "cell_type": "code",
   "execution_count": 154,
   "metadata": {},
   "outputs": [
    {
     "data": {
      "text/plain": [
       "'.python like I'"
      ]
     },
     "execution_count": 154,
     "metadata": {},
     "output_type": "execute_result"
    }
   ],
   "source": [
    "words = sentence.split()\n",
    "words[-1:] = [words[-1:][0][-1:] + words[-1:][0][:-1]]\n",
    "words.reverse()\n",
    "\" \".join(words)"
   ]
  },
  {
   "cell_type": "markdown",
   "metadata": {},
   "source": [
    "## Checking Whether a String Contains a Set of Characters \n",
    "### Problem\n",
    "You need to check for the occurrence of any of a set of characters in a string."
   ]
  },
  {
   "cell_type": "code",
   "execution_count": 10,
   "metadata": {},
   "outputs": [
    {
     "data": {
      "text/plain": [
       "True"
      ]
     },
     "execution_count": 10,
     "metadata": {},
     "output_type": "execute_result"
    }
   ],
   "source": [
    "def contains_any(seq, aset):\n",
    "    \"\"\"\n",
    "    Check whether sequence seq contains ANY of the items in aset.\n",
    "    \"\"\"\n",
    "    for item in seq:\n",
    "        if item in aset:\n",
    "            return True\n",
    "        else:\n",
    "            return False\n",
    "\n",
    "contains_any(\"oni\", \"python\")\n"
   ]
  },
  {
   "cell_type": "code",
   "execution_count": 3,
   "metadata": {},
   "outputs": [
    {
     "data": {
      "text/plain": [
       "True"
      ]
     },
     "execution_count": 3,
     "metadata": {},
     "output_type": "execute_result"
    }
   ],
   "source": [
    "def contains_only(seq, aset):\n",
    "    \"\"\"\n",
    "    Check whether sequence seq contains ONLY items in aset.\n",
    "    \"\"\"\n",
    "    for item in seq:\n",
    "        if item not in aset:\n",
    "            return False\n",
    "        return True\n",
    "\n",
    "contains_only(\"pony\", \"python\")"
   ]
  },
  {
   "cell_type": "markdown",
   "metadata": {},
   "source": [
    "##  Simplifying Usage of Strings’ translate Method\n",
    "### Problem\n",
    "You often want to use the fast code in strings’ translate method, but find it hard to remember in detail how that method and the function string.maketrans work, so you want a handy facade to simplify their use in typical cases."
   ]
  },
  {
   "cell_type": "code",
   "execution_count": null,
   "metadata": {},
   "outputs": [],
   "source": []
  },
  {
   "cell_type": "code",
   "execution_count": 20,
   "metadata": {},
   "outputs": [
    {
     "ename": "AttributeError",
     "evalue": "'dict' object has no attribute 'translate'",
     "output_type": "error",
     "traceback": [
      "\u001b[0;31m---------------------------------------------------------------------------\u001b[0m",
      "\u001b[0;31mAttributeError\u001b[0m                            Traceback (most recent call last)",
      "Cell \u001b[0;32mIn[20], line 13\u001b[0m\n\u001b[1;32m     10\u001b[0m         \u001b[38;5;28;01mreturn\u001b[39;00m s\u001b[38;5;241m.\u001b[39mtranslate(trans, delete)\n\u001b[1;32m     11\u001b[0m     \u001b[38;5;28;01mreturn\u001b[39;00m translate\n\u001b[0;32m---> 13\u001b[0m digits_only \u001b[38;5;241m=\u001b[39m \u001b[43mtranslator\u001b[49m\u001b[43m(\u001b[49m\u001b[43mkeep\u001b[49m\u001b[38;5;241;43m=\u001b[39;49m\u001b[43mstring\u001b[49m\u001b[38;5;241;43m.\u001b[39;49m\u001b[43mdigits\u001b[49m\u001b[43m)\u001b[49m\n\u001b[1;32m     14\u001b[0m digits_only(\u001b[38;5;124m'\u001b[39m\u001b[38;5;124mChris Perkins : 224-7992\u001b[39m\u001b[38;5;124m'\u001b[39m)\n\u001b[1;32m     16\u001b[0m no_digits \u001b[38;5;241m=\u001b[39m translator(delete\u001b[38;5;241m=\u001b[39mstring\u001b[38;5;241m.\u001b[39mdigits)\n",
      "Cell \u001b[0;32mIn[20], line 8\u001b[0m, in \u001b[0;36mtranslator\u001b[0;34m(frm, to, delete, keep)\u001b[0m\n\u001b[1;32m      6\u001b[0m \u001b[38;5;28;01mif\u001b[39;00m keep \u001b[38;5;129;01mis\u001b[39;00m \u001b[38;5;129;01mnot\u001b[39;00m \u001b[38;5;28;01mNone\u001b[39;00m:\n\u001b[1;32m      7\u001b[0m     allchars \u001b[38;5;241m=\u001b[39m \u001b[38;5;28mstr\u001b[39m\u001b[38;5;241m.\u001b[39mmaketrans(\u001b[38;5;124m'\u001b[39m\u001b[38;5;124m'\u001b[39m, \u001b[38;5;124m'\u001b[39m\u001b[38;5;124m'\u001b[39m)\n\u001b[0;32m----> 8\u001b[0m     delete \u001b[38;5;241m=\u001b[39m \u001b[43mallchars\u001b[49m\u001b[38;5;241;43m.\u001b[39;49m\u001b[43mtranslate\u001b[49m(allchars, keep\u001b[38;5;241m.\u001b[39mtranslate(allchars, delete))\n\u001b[1;32m      9\u001b[0m \u001b[38;5;28;01mdef\u001b[39;00m \u001b[38;5;21mtranslate\u001b[39m(s):\n\u001b[1;32m     10\u001b[0m     \u001b[38;5;28;01mreturn\u001b[39;00m s\u001b[38;5;241m.\u001b[39mtranslate(trans, delete)\n",
      "\u001b[0;31mAttributeError\u001b[0m: 'dict' object has no attribute 'translate'"
     ]
    }
   ],
   "source": [
    "import string\n",
    "def translator(frm='', to='', delete='', keep=None):\n",
    "    if len(to) == 1:\n",
    "        to = to * len(frm)\n",
    "    trans = str.maketrans(frm, to)\n",
    "    if keep is not None:\n",
    "        allchars = str.maketrans('', '')\n",
    "        delete = allchars.translate(allchars, keep.translate(allchars, delete))\n",
    "    def translate(s):\n",
    "        return s.translate(trans, delete)\n",
    "    return translate\n",
    "\n",
    "digits_only = translator(keep=string.digits)\n",
    "digits_only('Chris Perkins : 224-7992')\n",
    "\n",
    "no_digits = translator(delete=string.digits)\n",
    "no_digits('Chris Perkins : 224-7992')"
   ]
  }
 ],
 "metadata": {
  "kernelspec": {
   "display_name": ".venv",
   "language": "python",
   "name": "python3"
  },
  "language_info": {
   "codemirror_mode": {
    "name": "ipython",
    "version": 3
   },
   "file_extension": ".py",
   "mimetype": "text/x-python",
   "name": "python",
   "nbconvert_exporter": "python",
   "pygments_lexer": "ipython3",
   "version": "3.11.4"
  }
 },
 "nbformat": 4,
 "nbformat_minor": 2
}
