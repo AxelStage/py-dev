{
 "cells": [
  {
   "attachments": {},
   "cell_type": "markdown",
   "metadata": {},
   "source": [
    "<h1>PART VI: Classes and OOP</h1>"
   ]
  },
  {
   "attachments": {},
   "cell_type": "markdown",
   "metadata": {},
   "source": [
    "<h2>Chapter 26: OOP: The Big Picture</h2>"
   ]
  },
  {
   "attachments": {},
   "cell_type": "markdown",
   "metadata": {},
   "source": [
    "<h3>1. What is the main point of OOP in Python?</h3>"
   ]
  },
  {
   "attachments": {},
   "cell_type": "markdown",
   "metadata": {},
   "source": [
    "<p>My answer:</p>\n",
    "<p>\n",
    "OOP main point is:\n",
    "</p>\n",
    "<ul>\n",
    "    <li>code reuse</li>\n",
    "</ul>"
   ]
  },
  {
   "attachments": {},
   "cell_type": "markdown",
   "metadata": {},
   "source": [
    "<details>\n",
    "    <summary>Expert answer:</summary>\n",
    "    OOP is about code reuse—you factor code to minimize redundancy and program by customizing what already exists instead of changing code in place or starting from scratch.\n",
    "</details>"
   ]
  },
  {
   "attachments": {},
   "cell_type": "markdown",
   "metadata": {},
   "source": [
    "<h3>2. Where does an inheritance search look for an attribute?</h3>"
   ]
  },
  {
   "attachments": {},
   "cell_type": "markdown",
   "metadata": {},
   "source": [
    "<p>My answer:</p>\n",
    "<p>\n",
    "Inheritans search in python looks for an attribute:\n",
    "</p>\n",
    "<ul>\n",
    "    <li>First in the instance of the opject</li>\n",
    "    <li>Then in the class the instance was created from</li>\n",
    "    <li>Then in all higher superclasses, if existing</li>\n",
    "    <li>Progressing from bottom to top of the object tree and left to right</li>\n",
    "    <li>instance search stops when first attribute is found</li>\n",
    "</ul>"
   ]
  },
  {
   "attachments": {},
   "cell_type": "markdown",
   "metadata": {},
   "source": [
    "<details>\n",
    "    <summary>Expert answer:</summary>\n",
    "    An inheritance search looks for an attribute first in the instance object, then in the class the instance was created from, then in all higher superclasses, progressing from the bottom to the top of the object tree, and from left to right (by default). The search stops at the first place the attribute is found. Because the lowest version of a name found along the way wins, class hierarchies naturally support customization by extension in new subclasses.\n",
    "</details>"
   ]
  },
  {
   "attachments": {},
   "cell_type": "markdown",
   "metadata": {},
   "source": [
    "<h3>3. What is the difference between a class object and an instance object?</h3>"
   ]
  },
  {
   "attachments": {},
   "cell_type": "markdown",
   "metadata": {},
   "source": [
    "<p>My answer:</p>\n",
    "<ul>\n",
    "    <li>both objects are namespaces</li>\n",
    "    <li>classes are a kind of factory for creating multiple instances</li>\n",
    "    <li>classes also support operator overloading methods, which instances inherit</li>\n",
    "    <li>treat any functions nested in the class as methods for processing instances</li>\n",
    "\n",
    "</ul>"
   ]
  },
  {
   "attachments": {},
   "cell_type": "markdown",
   "metadata": {},
   "source": [
    "<details>\n",
    "    <summary>Expert answer:</summary>\n",
    "    Both class and instance objects are namespaces (packages of variables that appear as attributes). The main difference between them is that classes are a kind of factory for creating multiple instances. Classes also support operator overloading methods, which instances inherit, and treat any functions nested in the class as methods for processing instances.\n",
    "</details>"
   ]
  },
  {
   "attachments": {},
   "cell_type": "markdown",
   "metadata": {},
   "source": [
    "<h3>4. Why is the first argument in a class’s method function special?</h3>"
   ]
  },
  {
   "attachments": {},
   "cell_type": "markdown",
   "metadata": {},
   "source": [
    "<p>My answer:</p>\n",
    "<ul>\n",
    "    <li>because it always receives the instance object that is the implied subject of the method call</li>\n",
    "    <li>usually called self by convention</li>\n",
    "    <li>method functions always have this implied subject and object context by default</li>\n",
    "</ul>"
   ]
  },
  {
   "attachments": {},
   "cell_type": "markdown",
   "metadata": {},
   "source": [
    "<details>\n",
    "    <summary>Expert answer:</summary>\n",
    "    The first argument in a class’s method function is special because it always receives the instance object that is the implied subject of the method call. It’s usually called self by convention. Because method functions always have this implied subject and object context by default, we say they are “object-oriented” (i.e., designed to process or change objects).\n",
    "</details>"
   ]
  },
  {
   "attachments": {},
   "cell_type": "markdown",
   "metadata": {},
   "source": [
    "<h3>5. What is the __init__ method used for?</h3>"
   ]
  },
  {
   "attachments": {},
   "cell_type": "markdown",
   "metadata": {},
   "source": [
    "<p>My answer:</p>\n",
    "<ul>\n",
    "    <li>Python calls the constructor method automatically each time an instance of that class is created</li>\n",
    "    <li>known as the constructor method</li>\n",
    "    <li>it is passed the new instance implicitly, as well as any arguments passed explicitly to the class name</li>\n",
    "    <li>most commonly used operator overloading method</li>\n",
    "    <li>if no __init__ method is present, instances simply begin life as empty namespaces</li>\n",
    "</ul>"
   ]
  },
  {
   "attachments": {},
   "cell_type": "markdown",
   "metadata": {},
   "source": [
    "<details>\n",
    "    <summary>Expert answer:</summary>\n",
    "    If the __init__ method is coded or inherited in a class, Python calls it automatically each time an instance of that class is created. It’s known as the constructor method; it is passed the new instance implicitly, as well as any arguments passed explicitly to the class name. It’s also the most commonly used operator overloading method. If no __init__ method is present, instances simply begin life as empty namespaces.\n",
    "</details>"
   ]
  },
  {
   "attachments": {},
   "cell_type": "markdown",
   "metadata": {},
   "source": [
    "<h3>6. How do you create a class instance?</h3>"
   ]
  },
  {
   "attachments": {},
   "cell_type": "markdown",
   "metadata": {},
   "source": [
    "<p>My answer:</p>\n",
    "<ul>\n",
    "    <li>calling the class name like a function</li>\n",
    "    <li>any arguments passed into the class name show up as arguments</li>\n",
    "    <li>the new instance remembers the class it was created from for inheritance purposes</li>\n",
    "</ul>"
   ]
  },
  {
   "attachments": {},
   "cell_type": "markdown",
   "metadata": {},
   "source": [
    "<details>\n",
    "    <summary>Expert answer:</summary>\n",
    "    You create a class instance by calling the class name as though it were a function; any arguments passed into the class name show up as arguments two and beyond in the __init__ constructor method. The new instance remembers the class it was created from for inheritance purposes.\n",
    "</details>"
   ]
  },
  {
   "attachments": {},
   "cell_type": "markdown",
   "metadata": {},
   "source": [
    "<h3>7. How do you create a class?</h3>"
   ]
  },
  {
   "attachments": {},
   "cell_type": "markdown",
   "metadata": {},
   "source": [
    "<p>My answer:</p>\n",
    "<ul>\n",
    "    <li>by running a class statement</li>\n",
    "    <li>these statements normally run when the enclosing module file is imported</li>\n",
    "</ul>"
   ]
  },
  {
   "attachments": {},
   "cell_type": "markdown",
   "metadata": {},
   "source": [
    "<details>\n",
    "    <summary>Expert answer:</summary>\n",
    "    You create a class by running a class statement; like function definitions, these statements normally run when the enclosing module file is imported (more on this in the next chapter).\n",
    "</details>"
   ]
  },
  {
   "attachments": {},
   "cell_type": "markdown",
   "metadata": {},
   "source": [
    "<h3>8. How do you specify a class’s superclasses?</h3>"
   ]
  },
  {
   "attachments": {},
   "cell_type": "markdown",
   "metadata": {},
   "source": [
    "<p>My answer:</p>\n",
    "<ul>\n",
    "    <li>superclasses are specified  by listing them in the parantheses of the new class header statement</li>\n",
    "    <li>the order from left to right gives the priority in the inheritance search in the class tree</li>\n",
    "</ul>"
   ]
  },
  {
   "attachments": {},
   "cell_type": "markdown",
   "metadata": {},
   "source": [
    "<details>\n",
    "    <summary>Expert answer:</summary>\n",
    "    You specify a class’s superclasses by listing them in parentheses in the class statement, after the new class’s name. The left-to-right order in which the classes are listed in the parentheses gives the left-to-right inheritance search order in the class tree.\n",
    "</details>"
   ]
  },
  {
   "attachments": {},
   "cell_type": "markdown",
   "metadata": {},
   "source": [
    "<h2>Chapter 27: Class Coding Basics</h2>"
   ]
  },
  {
   "attachments": {},
   "cell_type": "markdown",
   "metadata": {},
   "source": [
    "<h3>1. How are classes related to modules?</h3>"
   ]
  },
  {
   "attachments": {},
   "cell_type": "markdown",
   "metadata": {},
   "source": [
    "<p>My answer:</p>\n",
    "<ul>\n",
    "    <li>classes are always nested inside a module</li>\n",
    "    <li>they are attributes of the modules object</li>\n",
    "    <li>both are namespaces</li>\n",
    "    <li>modules correspond to entire files, do not support multiple instances, inheritance, and operator overloading</li>  \n",
    "    <li>classes correspond to statements</li>\n",
    "    <li>classes support OOP notation of multiple instances, inheritance, and operator overloading</li>\n",
    "</ul>"
   ]
  },
  {
   "attachments": {},
   "cell_type": "markdown",
   "metadata": {},
   "source": [
    "<details>\n",
    "    <summary>Expert answer:</summary>\n",
    "    Classes are always nested inside a module; they are attributes of a module object. Classes and modules are both namespaces, but classes correspond to statements (not entire files) and support the OOP notions of multiple instances, inheritance, and operator overloading (modules do not). In a sense, a module is like a single-instance class, without inheritance, which corresponds to an entire file of code.\n",
    "</details>"
   ]
  },
  {
   "attachments": {},
   "cell_type": "markdown",
   "metadata": {},
   "source": [
    "<h3>2. How are instances and classes created?</h3>"
   ]
  },
  {
   "attachments": {},
   "cell_type": "markdown",
   "metadata": {},
   "source": [
    "<p>My answer:</p>\n",
    "<ul>\n",
    "    <li>Class is created by running a class statement</li>\n",
    "    <li>Instance by calling the class statement with parenthesis</li>\n",
    "</ul>"
   ]
  },
  {
   "attachments": {},
   "cell_type": "markdown",
   "metadata": {},
   "source": [
    "<details>\n",
    "    <summary>Expert answer:</summary>\n",
    "    Classes are made by running class statements; instances are created by calling a class as though it were a function.\n",
    "</details>"
   ]
  },
  {
   "attachments": {},
   "cell_type": "markdown",
   "metadata": {},
   "source": [
    "<h3>3. Where and how are class attributes created?</h3>"
   ]
  },
  {
   "attachments": {},
   "cell_type": "markdown",
   "metadata": {},
   "source": [
    "<p>My answer:</p>\n",
    "<ul>\n",
    "    <li>created by assigning attributes to a class object</li>\n",
    "    <li>normally generated by top-level assignments nested in a class statement</li>\n",
    "    <li>anywhere where a reference to the class object exists</li>\n",
    "</ul>"
   ]
  },
  {
   "attachments": {},
   "cell_type": "markdown",
   "metadata": {},
   "source": [
    "<details>\n",
    "    <summary>Expert answer:</summary>\n",
    "    Class attributes are created by assigning attributes to a class object. They are normally generated by top-level assignments nested in a class statement—each name assigned in the class statement block becomes an attribute of the class object (technically, the class statement’s local scope morphs into the class object’s attribute namespace, much like a module). Class attributes can also be created, though, by assigning attributes to the class anywhere a reference to the class object exists—even outside the class statement.\n",
    "</details>"
   ]
  },
  {
   "attachments": {},
   "cell_type": "markdown",
   "metadata": {},
   "source": [
    "<h3>4. Where and how are instance attributes created?</h3>"
   ]
  },
  {
   "attachments": {},
   "cell_type": "markdown",
   "metadata": {},
   "source": [
    "<p>My answer:</p>\n",
    "<p>Instance attributes are created by assigning attributes to an instance object. They are normally created within a class’s method functions coded inside the class statement, by assigning attributes to the self argument (which is always the implied instance). Again, though, they may be created by assignment anywhere a reference to the instance appears, even outside the class statement. Normally, all\n",
    "instance attributes are initialized in the __init__ constructor method; that way, later method calls can assume the attributes already exist.</p>"
   ]
  },
  {
   "attachments": {},
   "cell_type": "markdown",
   "metadata": {},
   "source": [
    "<details>\n",
    "    <summary>Expert answer:</summary>\n",
    "    Instance attributes are created by assigning attributes to an instance object. They are normally created within a class’s method functions coded inside the class statement, by assigning attributes to the self argument (which is always the implied instance). Again, though, they may be created by assignment anywhere a reference to the instance appears, even outside the class statement. Normally, all instance attributes are initialized in the __init__ constructor method; that way, later method calls can assume the attributes already exist.\n",
    "</details>"
   ]
  },
  {
   "attachments": {},
   "cell_type": "markdown",
   "metadata": {},
   "source": [
    "<h3>5. What does self mean in a Python class?</h3>"
   ]
  },
  {
   "attachments": {},
   "cell_type": "markdown",
   "metadata": {},
   "source": [
    "<p>My answer:</p>\n",
    "<ul>\n",
    "    <li>self is the name commonly given to the first argument in a class’s method</li>\n",
    "    <li>Python automatically fills it in with the instance object that is the implied subject of the method call</li>\n",
    "    <li>This argument need not be called self; its position is what is significant</li>\n",
    "</ul>"
   ]
  },
  {
   "attachments": {},
   "cell_type": "markdown",
   "metadata": {},
   "source": [
    "<details>\n",
    "    <summary>Expert answer:</summary>\n",
    "    self is the name commonly given to the first (leftmost) argument in a class’s method function; Python automatically fills it in with the instance object that is the implied subject of the method call. This argument need not be called self (though this is a very strong convention); its position is what is significant. (Ex- C++ or Java programmers might prefer to call it this because in those languagesthat name reflects the same idea; in Python, though, this argument must always be explicit.)\n",
    "</details>"
   ]
  },
  {
   "attachments": {},
   "cell_type": "markdown",
   "metadata": {},
   "source": [
    "<h3>6. How is operator overloading coded in a Python class?</h3>"
   ]
  },
  {
   "attachments": {},
   "cell_type": "markdown",
   "metadata": {},
   "source": [
    "<p>My answer:</p>\n",
    "<ul>\n",
    "    <li>coded in a Python class with specially named methods</li>\n",
    "    <li>begin and end with double underscores</li>\n",
    "    <li>Python just runs them automatically when an instance appears in the corresponding operation</li>\n",
    "    <li>Python itself defines the mappings from operations to special method names</li>\n",
    "</ul>"
   ]
  },
  {
   "attachments": {},
   "cell_type": "markdown",
   "metadata": {},
   "source": [
    "<details>\n",
    "    <summary>Expert answer:</summary>\n",
    "    Operator overloading is coded in a Python class with specially named methods; they all begin and end with double underscores to make them unique. These are not built-in or reserved names; Python just runs them automatically when an instance appears in the corresponding operation. Python itself defines the mappings from operations to special method names.\n",
    "</details>"
   ]
  },
  {
   "attachments": {},
   "cell_type": "markdown",
   "metadata": {},
   "source": [
    "<h3>7. When might you want to support operator overloading in your classes?</h3>"
   ]
  },
  {
   "attachments": {},
   "cell_type": "markdown",
   "metadata": {},
   "source": [
    "<p>My answer:</p>\n",
    "<ul>\n",
    "    <li>Operator overloading is useful to implement objects that resemble built-in types and mimic the built-in type interface expected by a piece of code</li>\n",
    "    <li>Mimicking built-in type interfaces enables you to pass in class instances that also have state information</li>\n",
    "    <li>You shouldn’t use operator overloading when a simple named method will suffice</li>\n",
    "</ul>"
   ]
  },
  {
   "attachments": {},
   "cell_type": "markdown",
   "metadata": {},
   "source": [
    "<details>\n",
    "    <summary>Expert answer:</summary>\n",
    "    Operator overloading is useful to implement objects that resemble built-in types (e.g., sequences or numeric objects such as matrixes), and to mimic the built-in type interface expected by a piece of code. Mimicking built-in type interfaces enables you to pass in class instances that also have state information (i.e., attributes that remember data between operation calls). You shouldn’t use operator overloading when a simple named method will suffice, though.\n",
    "</details>"
   ]
  },
  {
   "attachments": {},
   "cell_type": "markdown",
   "metadata": {},
   "source": [
    "<h3>8. Which operator overloading method is most commonly used?</h3>"
   ]
  },
  {
   "attachments": {},
   "cell_type": "markdown",
   "metadata": {},
   "source": [
    "<p>My answer:</p>\n",
    "<p>\n",
    "Mainly used is:\n",
    "</p>\n",
    "<ul>\n",
    "    <li>the __init__ constructor method</li>\n",
    "    <li>set initial values for instance attributes</li>\n",
    "    <li>perform other startup tasks</li>\n",
    "</ul>"
   ]
  },
  {
   "attachments": {},
   "cell_type": "markdown",
   "metadata": {},
   "source": [
    "<details>\n",
    "    <summary>Expert answer:</summary>\n",
    "    The __init__ constructor method is the most commonly used; almost every class uses this method to set initial values for instance attributes and perform other startup tasks.\n",
    "</details>"
   ]
  },
  {
   "attachments": {},
   "cell_type": "markdown",
   "metadata": {},
   "source": [
    "<h3>9. What are two key concepts required to understand Python OOP code?</h3>"
   ]
  },
  {
   "attachments": {},
   "cell_type": "markdown",
   "metadata": {},
   "source": [
    "<p>My answer:</p>\n",
    "<ul>\n",
    "    <li>special self argument in method functions</li>\n",
    "    <li>the __init__ constructor method</li>\n",
    "</ul>"
   ]
  },
  {
   "attachments": {},
   "cell_type": "markdown",
   "metadata": {},
   "source": [
    "<details>\n",
    "    <summary>Expert answer:</summary>\n",
    "    The special self argument in method functions and the __init__ constructor method are the two cornerstones of OOP code in Python; if you get these, you should be able to read the text of most OOP Python code—apart from these, it’s largely just packages of functions. The inheritance search matters too, of course, but self represents the automatic object argument, and __init__ is widespread\n",
    "</details>"
   ]
  },
  {
   "attachments": {},
   "cell_type": "markdown",
   "metadata": {},
   "source": [
    "<h2>Chapter 28: A More Realistic Example</h2>"
   ]
  },
  {
   "attachments": {},
   "cell_type": "markdown",
   "metadata": {},
   "source": [
    "<h3>1. When we fetch a Manager object from the shelve and print it, where does the display format logic come from?</h3>"
   ]
  },
  {
   "attachments": {},
   "cell_type": "markdown",
   "metadata": {},
   "source": [
    "<p>My answer:</p>\n",
    "<ul>\n",
    "    <li>Manager ultimately inherits its __repr__ printing method from AttrDisplay in the separate classtools module and two levels up in the class tree</li>\n",
    "    <li>Manager doesn’t have one itself, so the inheritance search climbs to its Person superclass; because there is no __repr__ there either, the search climbs higher and finds it in AttrDisplay</li>\n",
    "</ul>"
   ]
  },
  {
   "attachments": {},
   "cell_type": "markdown",
   "metadata": {},
   "source": [
    "<details>\n",
    "    <summary>Expert answer:</summary>\n",
    "    In the final version of our classes, Manager ultimately inherits its __repr__ printing method from AttrDisplay in the separate classtools module and two levels up in the class tree. Manager doesn’t have one itself, so the inheritance search climbs to its Person superclass; because there is no __repr__ there either, the search climbs higher and finds it in AttrDisplay. The class names listed in parentheses in a class statement’s header line provide the links to higher superclasses.\n",
    "</details>"
   ]
  },
  {
   "attachments": {},
   "cell_type": "markdown",
   "metadata": {},
   "source": [
    "<h3>2. When we fetch a Person object from a shelve without importing its module, how does the object know that it has a giveRaise method that we can call?</h3>"
   ]
  },
  {
   "attachments": {},
   "cell_type": "markdown",
   "metadata": {},
   "source": [
    "<p>My answer:</p>\n",
    "<ul>\n",
    "    <li>Shelves automatically relink an instance to the class it was created from when that instance is later loaded back into memory</li>\n",
    "    <li>Python reimports the class from its module internally</li>\n",
    "    <li>creates an instance with its stored attributes</li>\n",
    "    <li>sets the instance’s __class__ link to point to its original class</li>\n",
    "</ul>"
   ]
  },
  {
   "attachments": {},
   "cell_type": "markdown",
   "metadata": {},
   "source": [
    "<details>\n",
    "    <summary>Expert answer:</summary>\n",
    "    Shelves (really, the pickle module they use) automatically relink an instance to the class it was created from when that instance is later loaded back into memory. Python reimports the class from its module internally, creates an instance with its stored attributes, and sets the instance’s __class__ link to point to its original class. This way, loaded instances automatically obtain all their original methods (like lastName, giveRaise, and __repr__), even if we have not imported the instance’s class into our scope.\n",
    "</details>"
   ]
  },
  {
   "attachments": {},
   "cell_type": "markdown",
   "metadata": {},
   "source": [
    "<h3>3. Why is it so important to move processing into methods, instead of hardcoding it outside the class?</h3>"
   ]
  },
  {
   "attachments": {},
   "cell_type": "markdown",
   "metadata": {},
   "source": [
    "<details>\n",
    "<summary>My answer:</summary>\n",
    "    <ul>\n",
    "        <li>Python’s notion of encapsulation up logic behind interfaces</li>\n",
    "        <li>so that there is only one copy to change in the future</li>\n",
    "        <li>so that the methods can be run on any instance</li>\n",
    "        <li>better support future code maintenance</li>\n",
    "    </ul>\n",
    "</details>"
   ]
  },
  {
   "attachments": {},
   "cell_type": "markdown",
   "metadata": {},
   "source": [
    "<details>\n",
    "    <summary>Expert answer:</summary>\n",
    "    It’s important to move processing into methods so that there is only one copy to change in the future, and so that the methods can be run on any instance. This is Python’s notion of encapsulation—wrapping up logic behind interfaces, to better support future code maintenance. If you don’t do so, you create code redundancy that can multiply your work effort as the code evolves in the future.\n",
    "</details>"
   ]
  },
  {
   "attachments": {},
   "cell_type": "markdown",
   "metadata": {},
   "source": [
    "<h3>4. Why is it better to customize by subclassing rather than copying the original and modifying?</h3>"
   ]
  },
  {
   "attachments": {},
   "cell_type": "markdown",
   "metadata": {},
   "source": [
    "<p>My answer:</p>\n",
    "<ul>\n",
    "    <li>customizing with subclasses reduces development effort</li>\n",
    "    <li>we can easily extend our prior work by coding new subclasses</li>\n",
    "    <li>copying builds up code redundancy, which is against the single source of truth principal</li>\n",
    "    <li>copying enhance maintenance time and update effords</li>\n",
    "</ul>"
   ]
  },
  {
   "attachments": {},
   "cell_type": "markdown",
   "metadata": {},
   "source": [
    "<details>\n",
    "    <summary>Expert answer:</summary>\n",
    "    Customizing with subclasses reduces development effort. In OOP, we code by customizing what has already been done, rather than copying or changing existing code. This is the real “big idea” in OOP—because we can easily extend our prior work by coding new subclasses, we can leverage what we’ve already done. This is much better than either starting from scratch each time, or introducing multiple redundant copies of code that may all have to be updated in the future.\n",
    "</details>"
   ]
  },
  {
   "attachments": {},
   "cell_type": "markdown",
   "metadata": {},
   "source": [
    "<h3>5. Why is it better to call back to a superclass method to run default actions, instead of copying and modifying its code in a subclass?</h3>"
   ]
  },
  {
   "attachments": {},
   "cell_type": "markdown",
   "metadata": {},
   "source": [
    "<p>My answer:</p>\n",
    "<ul>\n",
    "    <li>Copying and modifying code doubles your potential work effort in the future</li>\n",
    "    <li>If a subclass needs to perform default actions coded in a superclass method, it’s much better to call back to the original through the superclass’s name than to copy its code</li>\n",
    "    <li>This also holds true for superclass constructors</li>\n",
    "</ul>"
   ]
  },
  {
   "attachments": {},
   "cell_type": "markdown",
   "metadata": {},
   "source": [
    "<details>\n",
    "    <summary>Expert answer:</summary>\n",
    "    Copying and modifying code doubles your potential work effort in the future, regardless of the context. If a subclass needs to perform default actions coded in a superclass method, it’s much better to call back to the original through the superclass’s name than to copy its code. This also holds true for superclass constructors. Again, copying code creates redundancy, which is a major issue as code evolves.\n",
    "</details>"
   ]
  },
  {
   "attachments": {},
   "cell_type": "markdown",
   "metadata": {},
   "source": [
    "<h3>6. Why is it better to use tools like __dict__ that allow objects to be processed generically than to write more custom code for each type of class?</h3>"
   ]
  },
  {
   "attachments": {},
   "cell_type": "markdown",
   "metadata": {},
   "source": [
    "<p>My answer:</p>\n",
    "<ul>\n",
    "    <li>build in functionality comes for free</li>\n",
    "    <li>hardcoded solutions that must be kept in sync with the rest of the class as it evolves over time</li>\n",
    "    <li>generic print method inherited by all classes appears and need be modified in only one place—changes in the generic version\n",
    "are picked up by all classes that inherit from the generic class</li>\n",
    "</ul>"
   ]
  },
  {
   "attachments": {},
   "cell_type": "markdown",
   "metadata": {},
   "source": [
    "<details>\n",
    "    <summary>Expert answer:</summary>\n",
    "    Generic tools can avoid hardcoded solutions that must be kept in sync with the rest of the class as it evolves over time. A generic __repr__ print method, for example, need not be updated each time a new attribute is added to instances in an __init__ constructor. In addition, a generic print method inherited by all classes appears and need be modified in only one place—changes in the generic version are picked up by all classes that inherit from the generic class. Again, eliminating code redundancy cuts future development effort; that’s one of the primary assets classes bring to the table.\n",
    "</details>"
   ]
  },
  {
   "attachments": {},
   "cell_type": "markdown",
   "metadata": {},
   "source": [
    "<h3>7. In general terms, when might you choose to use object embedding and composition instead of inheritance?</h3>"
   ]
  },
  {
   "attachments": {},
   "cell_type": "markdown",
   "metadata": {},
   "source": [
    "<p>My answer:</p>\n",
    "<ul>\n",
    "    <li>inheritance is best at coding extensions based on direct customization</li>\n",
    "    <li>Inheritance passes calls up to reuse</li>\n",
    "    <li>Composition is well suited to scenarios where multiple objects are aggregated into a whole and directed by a controller layer class</li>\n",
    "    <li>composition passes down to delegate</li>\n",
    "</ul>"
   ]
  },
  {
   "attachments": {},
   "cell_type": "markdown",
   "metadata": {},
   "source": [
    "<details>\n",
    "    <summary>Expert answer:</summary>\n",
    "    Inheritance is best at coding extensions based on direct customization (like our Manager specialization of Person). Composition is well suited to scenarios where multiple objects are aggregated into a whole and directed by a controller layer class. Inheritance passes calls up to reuse, and composition passes down to delegate. Inheritance and composition are not mutually exclusive; often, the objects embedded in a controller are themselves customizations based upon inheritance.\n",
    "</details>"
   ]
  },
  {
   "attachments": {},
   "cell_type": "markdown",
   "metadata": {},
   "source": [
    "<h3>8. What would you have to change if the objects coded in this chapter used a dictionary for names and a list for jobs, as in similar examples earlier in this book?</h3>"
   ]
  },
  {
   "attachments": {},
   "cell_type": "markdown",
   "metadata": {},
   "source": [
    "<p>My answer:</p>\n",
    "<ul>\n",
    "    <li>the lastName method would need to be updated for the new name format</li>\n",
    "    <li>the Person constructor would have change the job default to an empty list</li>\n",
    "    <li>the Manager class would probably need to pass along a job list in its constructor instead of a single string</li>\n",
    "    <li>self-test code would change as well</li>\n",
    "</ul>"
   ]
  },
  {
   "attachments": {},
   "cell_type": "markdown",
   "metadata": {},
   "source": [
    "<details>\n",
    "    <summary>Expert answer:</summary>\n",
    "    Not much since this was really a first-cut prototype, but the lastName method would need to be updated for the new name format; the Person constructor would have change the job default to an empty list; and the Manager class would probably need to pass along a job list in its constructor instead of a single string (self-test code would change as well, of course). The good news is that these changes would need to be made in just one place—in our classes, where such details are encapsulated. The database scripts should work as is, as shelves support arbitrarily nested data.\n",
    "</details>"
   ]
  },
  {
   "attachments": {},
   "cell_type": "markdown",
   "metadata": {},
   "source": [
    "<h3>9. How might you modify the classes in this chapter to implement a personal contacts database in Python?</h3>"
   ]
  },
  {
   "attachments": {},
   "cell_type": "markdown",
   "metadata": {},
   "source": [
    "<p>My answer:</p>\n",
    "<ul>\n",
    "    <li>classes in this chapter could be used as boilerplate “template” code to implement a variety of types of databases</li>\n",
    "    <li>you might use attributes such as name, address, birthday, phone, email, and so on for a contacts database</li>\n",
    "    <li>methods appropriate for this purpose</li>\n",
    "    <li>Most of the shelve database code here can be used to store your objects, too, with minor changes</li>\n",
    "</ul>"
   ]
  },
  {
   "attachments": {},
   "cell_type": "markdown",
   "metadata": {},
   "source": [
    "<details>\n",
    "    <summary>Expert answer:</summary>\n",
    "    The classes in this chapter could be used as boilerplate “template” code to implement a variety of types of databases. Essentially, you can repurpose them by modifying the constructors to record different attributes and providing whatever methods are appropriate for the target application. For instance, you might use attributes such as name, address, birthday, phone, email, and so on for a contacts database, and methods appropriate for this purpose. A method named sendmail, for example, might use Python’s standard library smptlib module to send an email to one of the contacts automatically when called (see Python’s manuals or application-level books for more details on such tools). The AttrDisplay tool we wrote here could be used verbatim to print your objects, because it is intentionally generic. Most of the shelve database code here can be used to store your objects, too, with minor changes.\n",
    "</details>"
   ]
  },
  {
   "attachments": {},
   "cell_type": "markdown",
   "metadata": {},
   "source": [
    "<h2>Chapter 29: Class Coding Details</h2>"
   ]
  },
  {
   "attachments": {},
   "cell_type": "markdown",
   "metadata": {},
   "source": [
    "<h3>1. What is an abstract superclass?</h3>"
   ]
  },
  {
   "attachments": {},
   "cell_type": "markdown",
   "metadata": {},
   "source": [
    "<p>My answer:</p>\n",
    "<ul>\n",
    "    <li>superclass which expects parts of his behaviour by subclasses</li>\n",
    "    <li>superclass is a class that calls a method, but does not inherit or define it</li>\n",
    "    <li>it expects the method to be filled in by a subclass</li>\n",
    "    <li>often used as a way to generalize classes when behavior cannot be predicted until a more specific subclass is coded</li>\n",
    "    <li>OOP frameworks also use this as a way to dispatch to client-defined, customizable operations</li>\n",
    "</ul>"
   ]
  },
  {
   "attachments": {},
   "cell_type": "markdown",
   "metadata": {},
   "source": [
    "<details>\n",
    "    <summary>Expert answer:</summary>\n",
    "    An abstract superclass is a class that calls a method, but does not inherit or define it—it expects the method to be filled in by a subclass. This is often used as a way to generalize classes when behavior cannot be predicted until a more specific subclass is coded. OOP frameworks also use this as a way to dispatch to client-defined, customizable operations.\n",
    "</details>"
   ]
  },
  {
   "attachments": {},
   "cell_type": "markdown",
   "metadata": {},
   "source": [
    "<h3>2. What happens when a simple assignment statement appears at the top level of a class statement?</h3>"
   ]
  },
  {
   "attachments": {},
   "cell_type": "markdown",
   "metadata": {},
   "source": [
    "<p>My answer:</p>\n",
    "<ul>\n",
    "    <li>it attaches a data attribute to the class</li>\n",
    "    <li>it will be shared by all instances of the class</li>\n",
    "    <li>data attributes are not callable method functions</li>\n",
    "</ul>"
   ]
  },
  {
   "attachments": {},
   "cell_type": "markdown",
   "metadata": {},
   "source": [
    "<details>\n",
    "    <summary>Expert answer:</summary>\n",
    "    When a simple assignment statement (X = Y) appears at the top level of a class statement, it attaches a data attribute to the class (Class.X). Like all class attributes, this will be shared by all instances; data attributes are not callable method functions, though.\n",
    "</details>"
   ]
  },
  {
   "attachments": {},
   "cell_type": "markdown",
   "metadata": {},
   "source": [
    "<h3>3. Why might a class need to manually call the __init__ method in a superclass?</h3>"
   ]
  },
  {
   "attachments": {},
   "cell_type": "markdown",
   "metadata": {},
   "source": [
    "<p>My answer:</p>\n",
    "<ul>\n",
    "    <li>A class must manually call the __init__ method in a superclass if it defines an __init__ constructor of its own and still wants the superclass’s construction code to run</li>\n",
    "    <li>Python itself automatically runs just one constructor—the lowest one in the tree</li>\n",
    "    <li>Superclass constructors are usually called through the class name, passing in the self instance manually: Superclass.__init__(self, ...)</li>\n",
    "</ul>"
   ]
  },
  {
   "attachments": {},
   "cell_type": "markdown",
   "metadata": {},
   "source": [
    "<details>\n",
    "    <summary>Expert answer:</summary>\n",
    "    A class must manually call the __init__ method in a superclass if it defines an __init__ constructor of its own and still wants the superclass’s construction code to run. Python itself automatically runs just one constructor—the lowest one in the tree. Superclass constructors are usually called through the class name, passing in the self instance manually: Superclass.__init__(self, ...).\n",
    "</details>"
   ]
  },
  {
   "attachments": {},
   "cell_type": "markdown",
   "metadata": {},
   "source": [
    "<h3>4. How can you augment, instead of completely replacing, an inherited method?</h3>"
   ]
  },
  {
   "attachments": {},
   "cell_type": "markdown",
   "metadata": {},
   "source": [
    "<p>My answer:</p>\n",
    "<ul>\n",
    "    <li>redefine it in a subclass, but call back to the superclass’s version of the method manually from the new version of the method in the subclass.</li>\n",
    "    <li>pass the self instance to the superclass’s version of the method manually: Superclass.method(self, ...)</li>\n",
    "</ul>"
   ]
  },
  {
   "attachments": {},
   "cell_type": "markdown",
   "metadata": {},
   "source": [
    "<details>\n",
    "    <summary>Expert answer:</summary>\n",
    "    To augment instead of completely replacing an inherited method, redefine it in a subclass, but call back to the superclass’s version of the method manually from the new version of the method in the subclass. That is, pass the self instance to the superclass’s version of the method manually: Superclass.method(self, ...).\n",
    "</details>"
   ]
  },
  {
   "attachments": {},
   "cell_type": "markdown",
   "metadata": {},
   "source": [
    "<h3>5. How does a class’s local scope differ from that of a function?</h3>"
   ]
  },
  {
   "attachments": {},
   "cell_type": "markdown",
   "metadata": {},
   "source": [
    "<p>My answer:</p>\n",
    "<ul>\n",
    "    <li>A class is a local scope</li>\n",
    "    <li>has access to enclosing local scopes</li>\n",
    "    <li>but it does not serve as an enclosing local scope to further nested code</li>\n",
    "</ul>"
   ]
  },
  {
   "attachments": {},
   "cell_type": "markdown",
   "metadata": {},
   "source": [
    "<details>\n",
    "    <summary>Expert answer:</summary>\n",
    "    A class is a local scope and has access to enclosing local scopes, but it does not serve as an enclosing local scope to further nested code. Like modules, the class local scope morphs into an attribute namespace after the class statement is run.\n",
    "</details>"
   ]
  },
  {
   "attachments": {},
   "cell_type": "markdown",
   "metadata": {},
   "source": [
    "<h2>Chapter 30: Operator Overloading</h2>"
   ]
  },
  {
   "attachments": {},
   "cell_type": "markdown",
   "metadata": {},
   "source": [
    "<h3>1. ?</h3>"
   ]
  },
  {
   "attachments": {},
   "cell_type": "markdown",
   "metadata": {},
   "source": [
    "<details>\n",
    "    <summary>My answer:</summary>\n",
    "    <ul>\n",
    "    <li>a</li>\n",
    "    <li>b</li>\n",
    "    <li>c</li>\n",
    "</ul>\n",
    "</details>"
   ]
  },
  {
   "attachments": {},
   "cell_type": "markdown",
   "metadata": {},
   "source": [
    "<details>\n",
    "    <summary>Expert answer:</summary>\n",
    "    \n",
    "</details>"
   ]
  },
  {
   "attachments": {},
   "cell_type": "markdown",
   "metadata": {},
   "source": [
    "<h3>2. ?</h3>"
   ]
  },
  {
   "attachments": {},
   "cell_type": "markdown",
   "metadata": {},
   "source": [
    "<details>\n",
    "    <summary>My answer:</summary>\n",
    "    <ul>\n",
    "    <li>a</li>\n",
    "    <li>b</li>\n",
    "    <li>c</li>\n",
    "</ul>\n",
    "</details>"
   ]
  },
  {
   "attachments": {},
   "cell_type": "markdown",
   "metadata": {},
   "source": [
    "<details>\n",
    "    <summary>Expert answer:</summary>\n",
    "    \n",
    "</details>"
   ]
  },
  {
   "attachments": {},
   "cell_type": "markdown",
   "metadata": {},
   "source": [
    "<h3>3. ?</h3>"
   ]
  },
  {
   "attachments": {},
   "cell_type": "markdown",
   "metadata": {},
   "source": [
    "<details>\n",
    "    <summary>My answer:</summary>\n",
    "    <ul>\n",
    "    <li>a</li>\n",
    "    <li>b</li>\n",
    "    <li>c</li>\n",
    "</ul>\n",
    "</details>"
   ]
  },
  {
   "attachments": {},
   "cell_type": "markdown",
   "metadata": {},
   "source": [
    "<details>\n",
    "    <summary>Expert answer:</summary>\n",
    "    \n",
    "</details>"
   ]
  },
  {
   "attachments": {},
   "cell_type": "markdown",
   "metadata": {},
   "source": [
    "<h3>4. ?</h3>"
   ]
  },
  {
   "attachments": {},
   "cell_type": "markdown",
   "metadata": {},
   "source": [
    "<details>\n",
    "    <summary>My answer:</summary>\n",
    "    <ul>\n",
    "    <li>a</li>\n",
    "    <li>b</li>\n",
    "    <li>c</li>\n",
    "</ul>\n",
    "</details>"
   ]
  },
  {
   "attachments": {},
   "cell_type": "markdown",
   "metadata": {},
   "source": [
    "<details>\n",
    "    <summary>Expert answer:</summary>\n",
    "    \n",
    "</details>"
   ]
  }
 ],
 "metadata": {
  "kernelspec": {
   "display_name": "Python 3.8.10 ('.venv': venv)",
   "language": "python",
   "name": "python3"
  },
  "language_info": {
   "name": "python",
   "version": "3.10.7"
  },
  "orig_nbformat": 4,
  "vscode": {
   "interpreter": {
    "hash": "afa6b98459d80e05b4144fd479eac5a19142374dc66200d5898f2a74d54d80d3"
   }
  }
 },
 "nbformat": 4,
 "nbformat_minor": 2
}
