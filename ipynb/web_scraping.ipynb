{
 "cells": [
  {
   "cell_type": "markdown",
   "metadata": {},
   "source": [
    "# Web Scraping"
   ]
  },
  {
   "cell_type": "code",
   "execution_count": 19,
   "metadata": {},
   "outputs": [],
   "source": [
    "import requests\n",
    "from bs4 import BeautifulSoup"
   ]
  },
  {
   "cell_type": "code",
   "execution_count": 20,
   "metadata": {},
   "outputs": [],
   "source": [
    "URL = \"https://www.udemy.com/course/python-django-the-practical-guide/\""
   ]
  },
  {
   "cell_type": "code",
   "execution_count": 21,
   "metadata": {},
   "outputs": [],
   "source": [
    "webpage = requests.get(URL)\n",
    "bs = BeautifulSoup(webpage.content, \"html.parser\")"
   ]
  },
  {
   "cell_type": "code",
   "execution_count": null,
   "metadata": {},
   "outputs": [],
   "source": [
    "print(bs.prettify())"
   ]
  },
  {
   "cell_type": "code",
   "execution_count": 27,
   "metadata": {},
   "outputs": [
    {
     "data": {
      "text/plain": [
       "'python-django-the-practical-guide'"
      ]
     },
     "execution_count": 27,
     "metadata": {},
     "output_type": "execute_result"
    }
   ],
   "source": [
    "slug = URL.split(\"/\")[-2]\n",
    "slug"
   ]
  },
  {
   "cell_type": "markdown",
   "metadata": {},
   "source": [
    "## find\n",
    "find(tag, attributes, recursive, text, keywords)"
   ]
  },
  {
   "cell_type": "code",
   "execution_count": 22,
   "metadata": {},
   "outputs": [
    {
     "data": {
      "text/plain": [
       "'Python Django - The Practical Guide'"
      ]
     },
     "execution_count": 22,
     "metadata": {},
     "output_type": "execute_result"
    }
   ],
   "source": [
    "title = bs.find(\"h1\", attrs={'class':'clp-lead__title'}).text\n",
    "title"
   ]
  },
  {
   "cell_type": "code",
   "execution_count": 22,
   "metadata": {},
   "outputs": [
    {
     "data": {
      "text/plain": [
       "'Learn how to build web applications and websites with Python and the Django framework'"
      ]
     },
     "execution_count": 22,
     "metadata": {},
     "output_type": "execute_result"
    }
   ],
   "source": [
    "headline = bs.find(\"div\", attrs={'class':'clp-lead__headline'}).text\n",
    "headline"
   ]
  },
  {
   "cell_type": "code",
   "execution_count": 23,
   "metadata": {},
   "outputs": [
    {
     "data": {
      "text/plain": [
       "['Academind by Maximilian Schwarzmüller', 'Maximilian Schwarzmüller']"
      ]
     },
     "execution_count": 23,
     "metadata": {},
     "output_type": "execute_result"
    }
   ],
   "source": [
    "instructors = []\n",
    "creators = bs.find_all(\"a\", attrs={'class':'ud-instructor-links'})\n",
    "for creator in creators:\n",
    "    instructors.append(creator.text)\n",
    "instructors"
   ]
  },
  {
   "cell_type": "code",
   "execution_count": 60,
   "metadata": {},
   "outputs": [],
   "source": [
    "students_num = bs.find(\"div\", attrs={'class':'enrollment'}).text.split()[0]"
   ]
  },
  {
   "cell_type": "code",
   "execution_count": 25,
   "metadata": {},
   "outputs": [
    {
     "data": {
      "text/plain": [
       "'4.6'"
      ]
     },
     "execution_count": 25,
     "metadata": {},
     "output_type": "execute_result"
    }
   ],
   "source": [
    "rating = bs.find(\"span\", attrs={'data-purpose':'rating-number'}).text\n",
    "rating"
   ]
  },
  {
   "cell_type": "code",
   "execution_count": 15,
   "metadata": {},
   "outputs": [
    {
     "data": {
      "text/plain": [
       "['Development', 'Web Development', 'Django']"
      ]
     },
     "execution_count": 15,
     "metadata": {},
     "output_type": "execute_result"
    }
   ],
   "source": [
    "topics = []\n",
    "topic_tags = bs.find_all(\"a\", attrs={'class':'ud-heading-sm'})\n",
    "for item in topic_tags:\n",
    "    topics.append(item.text)\n",
    "topics"
   ]
  },
  {
   "cell_type": "code",
   "execution_count": null,
   "metadata": {},
   "outputs": [],
   "source": []
  },
  {
   "cell_type": "code",
   "execution_count": 79,
   "metadata": {},
   "outputs": [],
   "source": [
    "class UdemyCourseScraper:\n",
    "\n",
    "    import requests\n",
    "    from bs4 import BeautifulSoup\n",
    "\n",
    "    def __init__(self, url: str, _parsed_page: str = None) -> None:\n",
    "        self.url = url\n",
    "        self._parsed_page = _parsed_page\n",
    "\n",
    "    def get_slug(self) -> str:\n",
    "        return self.url.split(\"/\")[-2]\n",
    "\n",
    "    def parse_webpage(self) -> str:\n",
    "        webpage = requests.get(self.url)\n",
    "        self._parsed_page = BeautifulSoup(webpage.content, \"html.parser\")\n",
    "        return self._parsed_page\n",
    "\n",
    "    def scrape_title(self) -> str:\n",
    "        return self._parsed_page.find(\"h1\", attrs={'class':'clp-lead__title'}).text\n",
    "\n",
    "    def scrape_headline(self) -> str:\n",
    "        return self._parsed_page.find(\"div\", attrs={'class':'clp-lead__headline'}).text\n",
    "\n",
    "    def scrape_students_num(self) -> str:\n",
    "        return self._parsed_page.find(\"div\", attrs={'class':'enrollment'}).text.split()[0].replace(\",\",\"\")\n",
    "\n",
    "    def scrape_rating(self) -> str:\n",
    "        return self._parsed_page.find(\"span\", attrs={'data-purpose':'rating-number'}).text\n",
    "\n",
    "    def scrape_instructors(self) -> list[str]:\n",
    "        instructors = []\n",
    "        elements = self._parsed_page.find_all(\"a\", attrs={'class':'ud-instructor-links'})\n",
    "        for element in elements:\n",
    "            instructors.append(element.text)\n",
    "        return instructors\n",
    "\n",
    "    def scrape_topics(self) -> list[str]:\n",
    "        topics = []\n",
    "        elements = self._parsed_page.find_all(\"a\", attrs={'class':'ud-heading-sm'})\n",
    "        for element in elements:\n",
    "            topics.append(element.text)\n",
    "        return topics\n"
   ]
  },
  {
   "cell_type": "code",
   "execution_count": 82,
   "metadata": {},
   "outputs": [
    {
     "name": "stdout",
     "output_type": "stream",
     "text": [
      "{'url': 'https://www.udemy.com/course/python-django-the-practical-guide/', 'slug': 'python-django-the-practical-guide', 'title': 'Python Django - The Practical Guide', 'headline': 'Learn how to build web applications and websites with Python and the Django framework', 'instructors': ['Academind by Maximilian Schwarzmüller', 'Maximilian Schwarzmüller'], 'students_num': '38293', 'rating': '4.6', 'topics': ['Development', 'Web Development', 'Django']}\n"
     ]
    }
   ],
   "source": [
    "if __name__ == \"__main__\":\n",
    "    url = \"https://www.udemy.com/course/python-django-the-practical-guide/\"\n",
    "    django = UdemyCourseScraper(url)\n",
    "    django.parse_webpage()\n",
    "    parsed_data = {\n",
    "    \"url\": url,\n",
    "    \"slug\": django.get_slug(),\n",
    "    \"title\": django.scrape_title(),\n",
    "    \"headline\": django.scrape_headline(),\n",
    "    \"instructors\": django.scrape_instructors(),\n",
    "    \"students_num\": django.scrape_students_num(),\n",
    "    \"rating\": django.scrape_rating(),\n",
    "    \"topics\": django.scrape_topics(),\n",
    "    }\n",
    "    print(parsed_data)"
   ]
  },
  {
   "cell_type": "code",
   "execution_count": 1,
   "metadata": {},
   "outputs": [
    {
     "ename": "ModuleNotFoundError",
     "evalue": "No module named 'psycopg'",
     "output_type": "error",
     "traceback": [
      "\u001b[0;31m---------------------------------------------------------------------------\u001b[0m",
      "\u001b[0;31mModuleNotFoundError\u001b[0m                       Traceback (most recent call last)",
      "Cell \u001b[0;32mIn[1], line 1\u001b[0m\n\u001b[0;32m----> 1\u001b[0m \u001b[38;5;28;43;01mclass\u001b[39;49;00m\u001b[43m \u001b[49m\u001b[38;5;21;43;01mIngestPostgres\u001b[39;49;00m\u001b[43m:\u001b[49m\n\u001b[1;32m      3\u001b[0m \u001b[43m    \u001b[49m\u001b[38;5;28;43;01mimport\u001b[39;49;00m\u001b[43m \u001b[49m\u001b[38;5;21;43;01mconfigparser\u001b[39;49;00m\n\u001b[1;32m      4\u001b[0m \u001b[43m    \u001b[49m\u001b[38;5;28;43;01mimport\u001b[39;49;00m\u001b[43m \u001b[49m\u001b[38;5;21;43;01mpsycopg\u001b[39;49;00m\n",
      "Cell \u001b[0;32mIn[1], line 4\u001b[0m, in \u001b[0;36mIngestPostgres\u001b[0;34m()\u001b[0m\n\u001b[1;32m      1\u001b[0m \u001b[38;5;28;01mclass\u001b[39;00m \u001b[38;5;21;01mIngestPostgres\u001b[39;00m:\n\u001b[1;32m      3\u001b[0m     \u001b[38;5;28;01mimport\u001b[39;00m \u001b[38;5;21;01mconfigparser\u001b[39;00m\n\u001b[0;32m----> 4\u001b[0m     \u001b[38;5;28;01mimport\u001b[39;00m \u001b[38;5;21;01mpsycopg\u001b[39;00m\n\u001b[1;32m      6\u001b[0m     \u001b[38;5;66;03m#CONFIG_FILE = \"./dev.conf\"\u001b[39;00m\n\u001b[1;32m      7\u001b[0m     \u001b[38;5;66;03m#CONNECTION_CONFIG = \"rds-pg13\"\u001b[39;00m\n\u001b[1;32m      9\u001b[0m     \u001b[38;5;28;01mdef\u001b[39;00m \u001b[38;5;21m__init__\u001b[39m(\u001b[38;5;28mself\u001b[39m, config_file, connection_profile):\n",
      "\u001b[0;31mModuleNotFoundError\u001b[0m: No module named 'psycopg'"
     ]
    }
   ],
   "source": [
    "class IngestPostgres:\n",
    "\n",
    "    import configparser\n",
    "    import psycopg\n",
    "\n",
    "    #CONFIG_FILE = \"./dev.conf\"\n",
    "    #CONNECTION_CONFIG = \"rds-pg13\"\n",
    "\n",
    "    def __init__(self, config_file, connection_profile):\n",
    "        self.config_file = config_file\n",
    "        self.connection_profile = connection_profile\n",
    "\n",
    "    def insert_course_data(self) -> None:\n",
    "\n",
    "        pg_configuration = configparser.ConfigParser()\n",
    "        pg_configuration.read(self.config_file)\n",
    "\n",
    "        with psycopg.connect(\n",
    "            host=pg_configuration.get(self.connection_profile, \"host\"),\n",
    "            port=pg_configuration.get(self.connection_profile, \"port\"),\n",
    "            dbname=pg_configuration.get(self.connection_profile, \"database\"),\n",
    "            user=pg_configuration.get(self.connection_profile, \"username\"),\n",
    "            password=pg_configuration.get(self.connection_profile, \"password\")\n",
    "            ) as connection:\n",
    "\n",
    "            with connection.cursor() as db_cursor:\n",
    "\n",
    "                db_cursor.execute(\n",
    "                    \"INSERT INTO test (num, data) VALUES (%s, %s)\",\n",
    "                    (100, \"abc'def\")\n",
    "                )\n",
    "\n",
    "                connection.commit()"
   ]
  }
 ],
 "metadata": {
  "kernelspec": {
   "display_name": ".venv",
   "language": "python",
   "name": "python3"
  },
  "language_info": {
   "codemirror_mode": {
    "name": "ipython",
    "version": 3
   },
   "file_extension": ".py",
   "mimetype": "text/x-python",
   "name": "python",
   "nbconvert_exporter": "python",
   "pygments_lexer": "ipython3",
   "version": "3.11.4"
  }
 },
 "nbformat": 4,
 "nbformat_minor": 2
}
